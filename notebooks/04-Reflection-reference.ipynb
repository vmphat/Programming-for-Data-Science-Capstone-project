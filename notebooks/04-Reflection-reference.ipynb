{
 "cells": [
  {
   "cell_type": "markdown",
   "metadata": {},
   "source": [
    "<div style=\"text-align:center\">\n",
    "    <img title=\"Contest title\" alt=\"An image show Kaggle's contest title\" src=\"./figures/contest_title.png\">\n",
    "\n",
    "<!-- [image source](https://www.google.com/search?q=Google+Analytics+Customer+Revenue+Prediction+image&sca_esv=592634044&tbm=isch&sxsrf=AM9HkKlftHgD8SLQdTaxoZl26nouayB7dg:1703109603032&source=lnms&sa=X&ved=2ahUKEwi2ypvXgZ-DAxX_jGMGHRMoAUIQ_AUoAXoECAEQAw&biw=1707&bih=809&dpr=1.5#imgrc=uoakpuQba4-QtM) -->\n",
    "</div>"
   ]
  },
  {
   "cell_type": "markdown",
   "metadata": {},
   "source": [
    "<div style=\"text-align: center; background-color: #0A6EBD; font-family: 'Trebuchet MS', Arial, sans-serif; color: white; padding: 20px; font-size: 40px; font-weight: bold; border-radius: 0 0 0 0; box-shadow: 0px 6px 8px rgba(0, 0, 0, 0.2);\">\n",
    "  ĐỒ ÁN CUỐI KỲ - LẬP TRÌNH CHO KHOA HỌC DỮ LIỆU\n",
    "</div>"
   ]
  },
  {
   "cell_type": "markdown",
   "metadata": {},
   "source": [
    "<div style=\"text-align: center; background-color: #5A96E3; font-family: 'Trebuchet MS', Arial, sans-serif; color: white; padding: 20px; font-size: 40px; font-weight: bold; border-radius: 0 0 0 0; box-shadow: 0px 6px 8px rgba(0, 0, 0, 0.2);\">\n",
    "  <ins>Giai đoạn 4</ins>: Tổng kết đồ án\n",
    "</div>"
   ]
  },
  {
   "cell_type": "markdown",
   "metadata": {},
   "source": [
    "---"
   ]
  },
  {
   "cell_type": "markdown",
   "metadata": {},
   "source": [
    "<div style=\"font-family: american typewriter, serif; line-height: 1.5; word-spacing: 4px;\">\n",
    "\n",
    "## **Mục lục**\n",
    "[1. Nhìn lại toàn bộ quá trình làm đồ án](#1-nhìn-lại-toàn-bộ-quá-trình-làm-đồ-án)\n",
    "\n",
    "- [1.1. Những khó khăn gặp phải khi làm đồ án](#11-những-khó-khăn-gặp-phải-khi-làm-đồ-án)\n",
    "    - [1.1.a) Với sinh viên `Vũ Minh Phát` - `21127739`](#11a-với-sinh-viên-vũ-minh-phát---21127739)\n",
    "    - [1.1 b) Với sinh viên `Tran Dinh Quang` - `21127406`](#11b-với-sinh-viên-tran-dinh-quang---21127406)\n",
    "- [](#12-những-điều-học-được-sau-khi-làm-đồ-án)\n",
    "    - [1.2.a) Với sinh viên `Vũ Minh Phát` - `21127739`](#12a-với-sinh-viên-vũ-minh-phát---21127739)\n",
    "    - [1.2 b) Với sinh viên `Tran Dinh Quang` - `21127406`](#12b-với-sinh-viên-tran-dinh-quang---21127406)\n",
    "- [Những điều mà nhóm sẽ cải thiện nếu có thêm thời gian](#13-những-điều-mà-nhóm-sẽ-cải-thiện-nếu-có-thêm-thời-gian)\n",
    "\n",
    "[2. Các tài liệu tham khảo](#2-các-tài-liệu-tham-khảo)\n",
    "\n",
    "</div>"
   ]
  },
  {
   "cell_type": "markdown",
   "metadata": {},
   "source": [
    "---\n",
    "#"
   ]
  },
  {
   "cell_type": "markdown",
   "metadata": {},
   "source": [
    "<div style=\"font-family: american typewriter, serif; line-height: 1.5; word-spacing: 4px;\">\n",
    "\n",
    "# **1. NHÌN LẠI TOÀN BỘ QUÁ TRÌNH LÀM ĐỒ ÁN**\n",
    "\n",
    "</div>"
   ]
  },
  {
   "cell_type": "markdown",
   "metadata": {},
   "source": [
    "## **1.1. <ins>Những khó khăn gặp phải khi làm đồ án</ins>**"
   ]
  },
  {
   "cell_type": "markdown",
   "metadata": {},
   "source": [
    "##### **1.1.a) Với sinh viên**: `Vũ Minh Phát` - `21127739`"
   ]
  },
  {
   "cell_type": "markdown",
   "metadata": {},
   "source": [
    "- Do quá trình làm đồ án bắt đầu khá muộn nên các tập dữ liệu phổ biến như: phim ảnh, âm nhạc, bệnh, v.v. đều đã được chọn hết. Điều này buộc em phải tốn thêm thời gian và công sức để tìm ra một tập dữ liệu không bị trùng chủ đề với các nhóm khác. (Và em cảm thấy khá may mắn khi chọn được một tập dữ liệu rất hay là \"[Google Analytics Customer Revenue Prediction](https://www.kaggle.com/competitions/ga-customer-revenue-prediction)\".)\n",
    "\n",
    "- Vì đây là một tập dữ liệu khá lớn (khoảng **1.5 GB**) nên máy tính của em thường gặp tình trạng tràn bộ nhớ, \"Kernel crashes\" khi tiến hành **giai đoạn 2** của đồ án (\"`Khám phá và tiền xử lý dữ liệu`\"). Điều này gây ra khá nhiều khó khăn khi làm đồ án, vì: \n",
    "    + Khi gặp \"Kernel crashes\" thì buộc ta phải khởi động lại kernel rồi chạy code lại **TỪ ĐẦU**.\n",
    "    + Ngoài ra, việc có nhiều dữ liệu cũng làm tăng thời gian thực thi của các đoạn code.\n",
    "    \n",
    "    Do đó, em có nhờ [Google Colab](https://colab.google/) hỗ trợ mình ở các bước đầu tiên. Chỉ đến khi đã \"loại bỏ các thuộc tính không có nhiều ý nghĩa\" thì em mới có thể hoàn thiện notebook trên máy tính cá nhân của mình. Điều này được thể hiện rất rõ thông qua các đề mục mà em trình bày trong notebook `02-*`.\n",
    "\n",
    "- Phần lớn các thuộc tính trong tập dữ liệu được cung cấp đều là dữ liệu phân loại nên quá trình xử lý dữ liệu bị thiếu đòi hỏi rất nhiều công sức. Em phải dành phần lớn thời gian để tìm hiểu về dữ liệu, bổ sung các kiến thức nghiệp vụ (\"Domain Knowledge\") mà trước đây em chưa biết đến để có thể tiền xử lý dữ liệu tốt hơn.\n",
    "\n",
    "- Việc chọn được loại biểu đồ thích hợp để thể hiện phân bố của các cột có thể xem là một công việc không quá khó khăn. Nhưng việc tinh chỉnh biểu đồ để có thể diễn đạt được nhiều tầng ý nghĩa hơn (như: chỉ ra các giá trị đặc biệt trong cột mà ta đang quan tâm, v.v.) thường chiếm rất nhiều thời gian và buộc em phải tìm cách can thiệp sâu hơn vào quá trình vẽ biểu đồ của thư viện `Matplotlib`.\n",
    "\n",
    "- Việc tìm ra các câu hỏi giàu ý nghĩa để phân tích trong **giai đoạn 3** cũng là khoảng thời gian khá vất vả đối với em. Em phải thử nghiệm trên nhiều ý tưởng khác nhau rồi mới so sánh, đánh giá nhằm chọn được các câu hỏi tốt nhất để mình dành toàn bộ tâm huyết đi phân tích dữ liệu và trả lời cho câu hỏi đó.\n",
    "\n",
    "- ..."
   ]
  },
  {
   "cell_type": "markdown",
   "metadata": {},
   "source": [
    "##### **b) Với sinh viên**: `Name` - `ID`"
   ]
  },
  {
   "cell_type": "markdown",
   "metadata": {},
   "source": []
  },
  {
   "cell_type": "markdown",
   "metadata": {},
   "source": [
    "## **1.2. <ins>Những điều học được sau khi làm đồ án</ins>**"
   ]
  },
  {
   "cell_type": "markdown",
   "metadata": {},
   "source": [
    "##### **1.2.a) Với sinh viên**: `Vũ Minh Phát` - `21127739`"
   ]
  },
  {
   "cell_type": "markdown",
   "metadata": {},
   "source": [
    "Qua đồ án lần này, em đã có thể cải thiện rất nhiều kỹ năng của bản thân:\n",
    "\n",
    "- Nâng cao kỹ năng tìm kiếm tài liệu trên mạng để bổ sung các kiến thức cần thiết khi phân tích dữ liệu từ \"Google Analytics\", một công cụ rất mạnh và được sử dụng rộng rãi trên toàn thế giới.\n",
    "\n",
    "- Nâng cao kỹ năng trực quan hóa dữ liệu, giúp các biểu đồ của mình biểu đạt được nhiều lớp ý nghĩa hơn thông qua việc can thiệp sâu hơn vào các thư viện phổ biến như `Matplotlib`. \n",
    "\n",
    "- Cải thiện kỹ năng sử dụng `GitHub` để quản lý source code cho toàn bộ đồ án để dễ dàng làm việc với thành viên khác trong nhóm.\n",
    "\n",
    "- Kỹ năng xử lý các dạng dữ liệu phức tạp và khá gần gũi với các dữ liệu trong thực tế.\n",
    "\n",
    "- Cải thiện kỹ năng diễn đạt, trình bày ý tưởng của đoạn code thông qua các cell markdown đề người đọc (giảng viên và các bạn sinh viên khác) dễ dàng nắm bắt được ý nghĩa của đoạn code mà không cần phải đọc code.\n",
    "\n",
    "- Nâng cao tinh thần trách nhiệm của bản thân với công việc công việc của mình nói riêng và của tập thể nói chung. Không để những vấn đề của mình làm ảnh hưởng đến tiến độ làm việc của tập thể.\n",
    "\n",
    "Và đồng thời em cũng học được thêm rất nhiều bài học, kỹ năng mới:\n",
    "\n",
    "- Trong giai đoạn 2, em đã học cách cài đặt một mô hình phân cụm và dùng nó như công cụ hỗ trợ mình tiền xử lý dữ liệu một cách hiệu quả hơn.\n",
    "\n",
    "- Trong giai đoạn 3, em đã học được cách sử dụng một thư viện \"mới\" giúp trực quan hóa dữ liệu là `Plotly`. Dù có tuổi đời khá trẻ nhưng đây là một thư viện rất mạnh và được sử dụng rộng rãi trong thực tế vì nó cho phép người xem tương tác với biểu đồ. Tuy nhiên, các bài giảng trên trường thường không đề cập đến thư viện này. Nên em đã học nó bằng cách \"ép\" mình phải sử dụng thư viện `Plotly` để vẽ toàn bộ biểu đồ trong các câu trả lời của mình.\n"
   ]
  },
  {
   "cell_type": "markdown",
   "metadata": {},
   "source": [
    "##### **b) Với sinh viên**: `Name` - `ID`"
   ]
  },
  {
   "cell_type": "markdown",
   "metadata": {},
   "source": []
  },
  {
   "cell_type": "markdown",
   "metadata": {},
   "source": [
    "## **1.3. <ins>Những điều mà nhóm sẽ cải thiện nếu có thêm thời gian</ins>**"
   ]
  },
  {
   "cell_type": "markdown",
   "metadata": {},
   "source": [
    "- Nếu có thêm thời gian thì nhóm em sẽ thử nghiệm, tìm hiểu thêm các cách tiền xử lý dữ liệu hay hơn.\n",
    "\n",
    "- Nếu có thêm thời gian thì nhóm em sẽ đặt thêm nhiều câu hỏi khác để có cái nhìn đa chiều hơn vào tập dữ liệu hiện có.\n",
    "\n",
    "- Ngoài ra, nhóm em cũng sẽ thực hiện quá trình \"Mô hình hóa dữ liệu\" để giải quyết bài toán đã đề cập ban đầu và dùng kết quả dự đoán nộp lên Kaggle để xem quy trình khoa học dữ liệu của mình có đủ tốt hay chưa và nên cải thiện ở khâu nào."
   ]
  },
  {
   "cell_type": "markdown",
   "metadata": {},
   "source": [
    "---\n",
    "#"
   ]
  },
  {
   "cell_type": "markdown",
   "metadata": {},
   "source": [
    "<div style=\"font-family: american typewriter, serif; line-height: 1.5; word-spacing: 4px;\">\n",
    "\n",
    "# **2. CÁC TÀI LIỆU THAM KHẢO**\n",
    "\n",
    "</div>"
   ]
  },
  {
   "cell_type": "markdown",
   "metadata": {},
   "source": [
    "> __Ghi chú__: Tất cả tài liệu tham khảo được đề cập bên dưới đều xuất phát từ file `list_references.md` trong folder `references`."
   ]
  },
  {
   "cell_type": "markdown",
   "metadata": {},
   "source": [
    "## Tham khảo cách mô tả bài toán\n",
    "\n",
    "- Google Analytics Customer Revenue Prediction Description - [kaggle.com](https://www.kaggle.com/competitions/ga-customer-revenue-prediction#:~:text=Merger%20%26%20Entry-,Description,-link)\n",
    "\n",
    "- Notebook của tác giả **pavansvn** - [github.com/pavansvn](https://github.com/pavansvn/Google-Analytics-Customer-Revenue-Prediction/blob/master/Google%20Analytics%20Customer%20Revenue%20Prediction%20%2B%20Baseline%20Model.ipynb)\n",
    "\n",
    "## Tìm hiểu ý nghĩa của các trường dữ liệu (các cột)\n",
    "\n",
    "- [UA] BigQuery Export schema - [support.google.com/analytics](https://support.google.com/analytics/answer/3437719?hl=en-GBanswer=1686200)\n",
    "\n",
    "- Google Analytics Customer Revenue Prediction Dataset Description - [kaggle.com](https://www.kaggle.com/competitions/ga-customer-revenue-prediction/data)\n",
    "\n",
    "## Cách \"làm phẳng\" các trường dữ liệu chứa giá trị JSON\n",
    "\n",
    "- Quick start: read csv and flatten json fields - [kaggle.com/code/julian3833](https://www.kaggle.com/code/julian3833/1-quick-start-read-csv-and-flatten-json-fields/notebook)\n",
    "\n",
    "## Tham khảo về ý tưởng tiền xử lý dữ liệu\n",
    "\n",
    "- Các notebook được cung cấp trong hai môn học \"Nhập môn KHDL\" và \"Lập trình cho KHDL\".\n",
    "\n",
    "- Notebook của tác giả **abdkumar** - [github.com/abdkumar](https://github.com/abdkumar/Google-Analytics-Customer-Revenue-Prediction/blob/master/customer%20revenue%20prediction.ipynb)\n",
    "\n",
    "- Notebook của tác giả **kireeti-kunam** - [github.com/kireeti-kunam](https://github.com/kireeti-kunam/Google-Analytics-Customer-Revenue-Prediction/blob/master/case_study.ipynb)\n",
    "\n",
    "## Tham khảo về ý tưởng phân tích khám phá dữ liệu (EDA)\n",
    "\n",
    "- Complete Exploratory analysis (all columns) - [kaggle.com/code/jsaguiar](https://www.kaggle.com/code/jsaguiar/complete-exploratory-analysis-all-columns/notebook)\n",
    "\n",
    "- Simple Exploration+Baseline - GA Customer Revenue - [kaggle.com/code/sudalairajkumar](https://www.kaggle.com/code/sudalairajkumar/simple-exploration-baseline-ga-customer-revenue)\n",
    "\n",
    "## Các tài liệu về trực quan hóa dữ liệu\n",
    "\n",
    "- Updating code that uses `seaborn.distplot` - [gist.github.com/mwaskom](https://gist.github.com/mwaskom/de44147ed2974457ad6372750bbe5751)\n",
    "\n",
    "- Adding symbols to some variables in matplotlib bar plots - [stackoverflow.com](https://stackoverflow.com/questions/73189636/adding-symbols-to-some-variables-in-matplotlib-bar-plots)\n",
    "\n",
    "- Assign specific colours to data in Matplotlib pie chart - [stackoverflow.com](https://stackoverflow.com/questions/35206282/assign-specific-colours-to-data-in-matplotlib-pie-chart)\n",
    "\n",
    "- How to set the labels size on a pie chart - [stackoverflow.com](https://stackoverflow.com/questions/7082345/how-to-set-the-labels-size-on-a-pie-chart)\n",
    "\n",
    "- Generating WordClouds in Python Tutorial - [datacamp.com](https://www.datacamp.com/tutorial/wordcloud-python)\n",
    "\n",
    "- Plotly document - [plotly.com](https://plotly.com/python/)\n",
    "\n",
    "- How to present a rich view of the notebook - [https://nbviewer.org/](https://nbviewer.org/)\n",
    "\n",
    "## Các tài liệu tham khảo về sử dụng markdown\n",
    "\n",
    "- How To Add Images in Markdown - [digitalocean.com](https://www.digitalocean.com/community/tutorials/markdown-markdown-images)\n",
    "\n",
    "- How do I center an image in the README.md file on GitHub? - [stackoverflow.com](https://stackoverflow.com/questions/12090472/how-do-i-center-an-image-in-the-readme-md-file-on-github)\n",
    "\n",
    "- Get underlined text with Markdown - [stackoverflow.com](https://stackoverflow.com/questions/3003476/get-underlined-text-with-markdown)\n",
    "\n",
    "- How to center text with Markdown? - [stackoverflow.com](https://stackoverflow.com/questions/53419155/how-to-center-text-with-markdown)\n",
    "\n",
    "- Copperplate CSS Font Stack - [cssfontstack.com/Copperplate](https://www.cssfontstack.com/Copperplate)\n",
    "\n",
    "- CSS Text Spacing - [w3schools.com](https://www.w3schools.com/css/css_text_spacing.asp)\n",
    "\n",
    "## Các tài liệu tham khảo về sử dụng Git/GitHub để quản lý source code\n",
    "\n",
    "- How to \"git pull\" from master into the development branch - [stackoverflow.com](https://stackoverflow.com/questions/20101994/how-to-git-pull-from-master-into-the-development-branch)\n"
   ]
  }
 ],
 "metadata": {
  "language_info": {
   "name": "python"
  }
 },
 "nbformat": 4,
 "nbformat_minor": 2
}
