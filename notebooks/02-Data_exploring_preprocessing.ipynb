{
 "cells": [
  {
   "cell_type": "markdown",
   "metadata": {},
   "source": [
    "<link rel=\"stylesheet\" href=\"https://fonts.googleapis.com/css?family=Sofia\">\n",
    "<style>\n",
    "  @import url('https://fonts.googleapis.com/css2?family=Concert+One&display=swap');\n",
    "  .topic {\n",
    "    text-align: center;\n",
    "    font-weight: 900;\n",
    "    font-size: 50px;\n",
    "    text-shadow: 3px 3px 3px #ababab;\n",
    "    font-family: 'Concert One', sans-serif;\n",
    "  }\n",
    "  @import url('https://fonts.googleapis.com/css2?family=Lobster&display=swap');\n",
    "  .info {\n",
    "    text-align: center;\n",
    "    font-weight: 800;\n",
    "    font-size: 40px;\n",
    "    font-family: 'Lobster', sans-serif;\n",
    "  }\n",
    "</style>\n",
    "\n",
    "<h1 class=topic>Google Analytics Customer Revenue Prediction</h1>\n",
    "<h2 class=info>Vũ Minh Phát - 21127739</h2>"
   ]
  },
  {
   "cell_type": "markdown",
   "metadata": {},
   "source": [
    "---"
   ]
  },
  {
   "cell_type": "markdown",
   "metadata": {},
   "source": [
    "# **<u>Các thư viện cần sử dụng</u>**"
   ]
  },
  {
   "cell_type": "code",
   "execution_count": 1,
   "metadata": {},
   "outputs": [
    {
     "data": {
      "text/html": [
       "        <script type=\"text/javascript\">\n",
       "        window.PlotlyConfig = {MathJaxConfig: 'local'};\n",
       "        if (window.MathJax && window.MathJax.Hub && window.MathJax.Hub.Config) {window.MathJax.Hub.Config({SVG: {font: \"STIX-Web\"}});}\n",
       "        if (typeof require !== 'undefined') {\n",
       "        require.undef(\"plotly\");\n",
       "        requirejs.config({\n",
       "            paths: {\n",
       "                'plotly': ['https://cdn.plot.ly/plotly-2.26.0.min']\n",
       "            }\n",
       "        });\n",
       "        require(['plotly'], function(Plotly) {\n",
       "            window._Plotly = Plotly;\n",
       "        });\n",
       "        }\n",
       "        </script>\n",
       "        "
      ]
     },
     "metadata": {},
     "output_type": "display_data"
    }
   ],
   "source": [
    "# Import Section\n",
    "import numpy as np\n",
    "import pandas as pd\n",
    "from pandas import json_normalize\n",
    "import json\n",
    "from zipfile import ZipFile\n",
    "import tqdm\n",
    "import datetime as dt\n",
    "import re\n",
    "pd.set_option('display.max_columns', None)\n",
    "\n",
    "# Import matplotlib & seaborn for visualisation\n",
    "import seaborn as sns\n",
    "from plotly.offline import init_notebook_mode, iplot\n",
    "import plotly.graph_objs as go\n",
    "from plotly import tools\n",
    "\n",
    "init_notebook_mode(connected=True)\n",
    "import matplotlib.pyplot as plt\n",
    "%matplotlib inline"
   ]
  },
  {
   "cell_type": "markdown",
   "metadata": {},
   "source": [
    "---"
   ]
  },
  {
   "cell_type": "markdown",
   "metadata": {},
   "source": [
    "# **<u>Đọc dữ liệu thô từ file</u>**"
   ]
  },
  {
   "cell_type": "markdown",
   "metadata": {},
   "source": [
    "## 1. Xây dựng hàm đọc dữ liệu"
   ]
  },
  {
   "cell_type": "code",
   "execution_count": 2,
   "metadata": {},
   "outputs": [],
   "source": [
    "# ********** A USEFUL WAY TO READ VERY LARGE DATASETS COMPRESSED IN ZIP FILES **********\n",
    "#\n",
    "#   1.  After downloading the data from Kaggle, we will have a zip file\n",
    "#           which contain our dataset in csv format.\n",
    "#\n",
    "#   2.  Because of (very) large size of the dataset, we will not extract the zip file\n",
    "#           which help us to save our disk space.\n",
    "#\n",
    "#   3.  To read file csv in size the zip file, we will use ZipFile library.\n",
    "#           so we need to define the path to the zip file.\n",
    "#\n",
    "#   4.  After that, we can use pandas to read the csv file like normal.\n",
    "#\n",
    "# Read more at: https://favtutor.com/blogs/zipfile-python#:~:text=How%20to%20read%20a%20zip,that%20we%20want%20to%20read.\n",
    "# **************************************************************************************\n",
    "ZIP_FILE_PATH = '../data/raw/ga-customer-revenue-prediction.zip'"
   ]
  },
  {
   "cell_type": "code",
   "execution_count": 3,
   "metadata": {},
   "outputs": [],
   "source": [
    "def read_data_inside_zip_file(filename: str, zip_file_path: str = ZIP_FILE_PATH) -> pd.DataFrame:\n",
    "    \"\"\"Read the csv file inside the zip file\n",
    "    \n",
    "    Notes:\n",
    "        zip_file_path is the path to the zip file containing the csv file\n",
    "\n",
    "    Returns:\n",
    "        pd.DataFrame: dataframe of 'filename' inside the zip file\n",
    "    \"\"\"\n",
    "    with ZipFile(zip_file_path) as zf:      # Open the zip file with mode 'r'\n",
    "        with zf.open(filename) as file:     # Open 'filename' inside the zip file\n",
    "            df = pd.read_csv(file)          # Read data from 'filename'\n",
    "                                            #   => Q: Why NOT set low_memory=False to solve DtypeWarning?\n",
    "                                            #      A: Read at: https://stackoverflow.com/questions/24251219/pandas-read-csv-low-memory-and-dtype-options\n",
    "\n",
    "    return df"
   ]
  },
  {
   "cell_type": "markdown",
   "metadata": {},
   "source": [
    "## 2. Đọc dữ liệu"
   ]
  },
  {
   "cell_type": "code",
   "execution_count": 4,
   "metadata": {},
   "outputs": [
    {
     "name": "stderr",
     "output_type": "stream",
     "text": [
      "/tmp/ipykernel_30755/1298650587.py:12: DtypeWarning:\n",
      "\n",
      "Columns (3) have mixed types. Specify dtype option on import or set low_memory=False.\n",
      "\n"
     ]
    }
   ],
   "source": [
    "# Read the data\n",
    "raw_df = read_data_inside_zip_file('train.csv')"
   ]
  },
  {
   "cell_type": "markdown",
   "metadata": {},
   "source": [
    "> Khi sử dụng `read_csv()` từ `Pandas`, thông báo `DtypeWarning` xuất hiện \n",
    "> đồng nghĩa với việc file dữ liệu có (ít nhất) 1 cột bao gồm nhiều kiểu dữ liệu (dtype)."
   ]
  },
  {
   "cell_type": "markdown",
   "metadata": {},
   "source": [
    "Cột gây ra thông báo là:"
   ]
  },
  {
   "cell_type": "code",
   "execution_count": 5,
   "metadata": {},
   "outputs": [
    {
     "name": "stdout",
     "output_type": "stream",
     "text": [
      "=> Column give DtypeWarning: fullVisitorId\n"
     ]
    }
   ],
   "source": [
    "# Columns (3) give DtypeWarning -> corresponding index is 3\n",
    "print(f\"=> Column give DtypeWarning: {raw_df.columns[3]}\")"
   ]
  },
  {
   "cell_type": "markdown",
   "metadata": {},
   "source": [
    "> Trong trường hợp này, cột `fullVisitorId` là nguyên nhân của thông báo trên. Ta sẽ quan sát toàn bộ dữ liệu đã đọc và tìm cách xử lý."
   ]
  },
  {
   "cell_type": "markdown",
   "metadata": {},
   "source": [
    "Ta xem một vài mẫu có trong tập dữ liệu:"
   ]
  },
  {
   "cell_type": "code",
   "execution_count": 6,
   "metadata": {},
   "outputs": [
    {
     "data": {
      "text/html": [
       "<div>\n",
       "<style scoped>\n",
       "    .dataframe tbody tr th:only-of-type {\n",
       "        vertical-align: middle;\n",
       "    }\n",
       "\n",
       "    .dataframe tbody tr th {\n",
       "        vertical-align: top;\n",
       "    }\n",
       "\n",
       "    .dataframe thead th {\n",
       "        text-align: right;\n",
       "    }\n",
       "</style>\n",
       "<table border=\"1\" class=\"dataframe\">\n",
       "  <thead>\n",
       "    <tr style=\"text-align: right;\">\n",
       "      <th></th>\n",
       "      <th>channelGrouping</th>\n",
       "      <th>date</th>\n",
       "      <th>device</th>\n",
       "      <th>fullVisitorId</th>\n",
       "      <th>geoNetwork</th>\n",
       "      <th>sessionId</th>\n",
       "      <th>socialEngagementType</th>\n",
       "      <th>totals</th>\n",
       "      <th>trafficSource</th>\n",
       "      <th>visitId</th>\n",
       "      <th>visitNumber</th>\n",
       "      <th>visitStartTime</th>\n",
       "    </tr>\n",
       "  </thead>\n",
       "  <tbody>\n",
       "    <tr>\n",
       "      <th>0</th>\n",
       "      <td>Organic Search</td>\n",
       "      <td>20160902</td>\n",
       "      <td>{\"browser\": \"Chrome\", \"browserVersion\": \"not a...</td>\n",
       "      <td>1131660440785968503</td>\n",
       "      <td>{\"continent\": \"Asia\", \"subContinent\": \"Western...</td>\n",
       "      <td>1131660440785968503_1472830385</td>\n",
       "      <td>Not Socially Engaged</td>\n",
       "      <td>{\"visits\": \"1\", \"hits\": \"1\", \"pageviews\": \"1\",...</td>\n",
       "      <td>{\"campaign\": \"(not set)\", \"source\": \"google\", ...</td>\n",
       "      <td>1472830385</td>\n",
       "      <td>1</td>\n",
       "      <td>1472830385</td>\n",
       "    </tr>\n",
       "    <tr>\n",
       "      <th>1</th>\n",
       "      <td>Organic Search</td>\n",
       "      <td>20160902</td>\n",
       "      <td>{\"browser\": \"Firefox\", \"browserVersion\": \"not ...</td>\n",
       "      <td>377306020877927890</td>\n",
       "      <td>{\"continent\": \"Oceania\", \"subContinent\": \"Aust...</td>\n",
       "      <td>377306020877927890_1472880147</td>\n",
       "      <td>Not Socially Engaged</td>\n",
       "      <td>{\"visits\": \"1\", \"hits\": \"1\", \"pageviews\": \"1\",...</td>\n",
       "      <td>{\"campaign\": \"(not set)\", \"source\": \"google\", ...</td>\n",
       "      <td>1472880147</td>\n",
       "      <td>1</td>\n",
       "      <td>1472880147</td>\n",
       "    </tr>\n",
       "    <tr>\n",
       "      <th>2</th>\n",
       "      <td>Organic Search</td>\n",
       "      <td>20160902</td>\n",
       "      <td>{\"browser\": \"Chrome\", \"browserVersion\": \"not a...</td>\n",
       "      <td>3895546263509774583</td>\n",
       "      <td>{\"continent\": \"Europe\", \"subContinent\": \"South...</td>\n",
       "      <td>3895546263509774583_1472865386</td>\n",
       "      <td>Not Socially Engaged</td>\n",
       "      <td>{\"visits\": \"1\", \"hits\": \"1\", \"pageviews\": \"1\",...</td>\n",
       "      <td>{\"campaign\": \"(not set)\", \"source\": \"google\", ...</td>\n",
       "      <td>1472865386</td>\n",
       "      <td>1</td>\n",
       "      <td>1472865386</td>\n",
       "    </tr>\n",
       "    <tr>\n",
       "      <th>3</th>\n",
       "      <td>Organic Search</td>\n",
       "      <td>20160902</td>\n",
       "      <td>{\"browser\": \"UC Browser\", \"browserVersion\": \"n...</td>\n",
       "      <td>4763447161404445595</td>\n",
       "      <td>{\"continent\": \"Asia\", \"subContinent\": \"Southea...</td>\n",
       "      <td>4763447161404445595_1472881213</td>\n",
       "      <td>Not Socially Engaged</td>\n",
       "      <td>{\"visits\": \"1\", \"hits\": \"1\", \"pageviews\": \"1\",...</td>\n",
       "      <td>{\"campaign\": \"(not set)\", \"source\": \"google\", ...</td>\n",
       "      <td>1472881213</td>\n",
       "      <td>1</td>\n",
       "      <td>1472881213</td>\n",
       "    </tr>\n",
       "    <tr>\n",
       "      <th>4</th>\n",
       "      <td>Organic Search</td>\n",
       "      <td>20160902</td>\n",
       "      <td>{\"browser\": \"Chrome\", \"browserVersion\": \"not a...</td>\n",
       "      <td>27294437909732085</td>\n",
       "      <td>{\"continent\": \"Europe\", \"subContinent\": \"North...</td>\n",
       "      <td>27294437909732085_1472822600</td>\n",
       "      <td>Not Socially Engaged</td>\n",
       "      <td>{\"visits\": \"1\", \"hits\": \"1\", \"pageviews\": \"1\",...</td>\n",
       "      <td>{\"campaign\": \"(not set)\", \"source\": \"google\", ...</td>\n",
       "      <td>1472822600</td>\n",
       "      <td>2</td>\n",
       "      <td>1472822600</td>\n",
       "    </tr>\n",
       "  </tbody>\n",
       "</table>\n",
       "</div>"
      ],
      "text/plain": [
       "  channelGrouping      date  \\\n",
       "0  Organic Search  20160902   \n",
       "1  Organic Search  20160902   \n",
       "2  Organic Search  20160902   \n",
       "3  Organic Search  20160902   \n",
       "4  Organic Search  20160902   \n",
       "\n",
       "                                              device        fullVisitorId  \\\n",
       "0  {\"browser\": \"Chrome\", \"browserVersion\": \"not a...  1131660440785968503   \n",
       "1  {\"browser\": \"Firefox\", \"browserVersion\": \"not ...   377306020877927890   \n",
       "2  {\"browser\": \"Chrome\", \"browserVersion\": \"not a...  3895546263509774583   \n",
       "3  {\"browser\": \"UC Browser\", \"browserVersion\": \"n...  4763447161404445595   \n",
       "4  {\"browser\": \"Chrome\", \"browserVersion\": \"not a...    27294437909732085   \n",
       "\n",
       "                                          geoNetwork  \\\n",
       "0  {\"continent\": \"Asia\", \"subContinent\": \"Western...   \n",
       "1  {\"continent\": \"Oceania\", \"subContinent\": \"Aust...   \n",
       "2  {\"continent\": \"Europe\", \"subContinent\": \"South...   \n",
       "3  {\"continent\": \"Asia\", \"subContinent\": \"Southea...   \n",
       "4  {\"continent\": \"Europe\", \"subContinent\": \"North...   \n",
       "\n",
       "                        sessionId  socialEngagementType  \\\n",
       "0  1131660440785968503_1472830385  Not Socially Engaged   \n",
       "1   377306020877927890_1472880147  Not Socially Engaged   \n",
       "2  3895546263509774583_1472865386  Not Socially Engaged   \n",
       "3  4763447161404445595_1472881213  Not Socially Engaged   \n",
       "4    27294437909732085_1472822600  Not Socially Engaged   \n",
       "\n",
       "                                              totals  \\\n",
       "0  {\"visits\": \"1\", \"hits\": \"1\", \"pageviews\": \"1\",...   \n",
       "1  {\"visits\": \"1\", \"hits\": \"1\", \"pageviews\": \"1\",...   \n",
       "2  {\"visits\": \"1\", \"hits\": \"1\", \"pageviews\": \"1\",...   \n",
       "3  {\"visits\": \"1\", \"hits\": \"1\", \"pageviews\": \"1\",...   \n",
       "4  {\"visits\": \"1\", \"hits\": \"1\", \"pageviews\": \"1\",...   \n",
       "\n",
       "                                       trafficSource     visitId  visitNumber  \\\n",
       "0  {\"campaign\": \"(not set)\", \"source\": \"google\", ...  1472830385            1   \n",
       "1  {\"campaign\": \"(not set)\", \"source\": \"google\", ...  1472880147            1   \n",
       "2  {\"campaign\": \"(not set)\", \"source\": \"google\", ...  1472865386            1   \n",
       "3  {\"campaign\": \"(not set)\", \"source\": \"google\", ...  1472881213            1   \n",
       "4  {\"campaign\": \"(not set)\", \"source\": \"google\", ...  1472822600            2   \n",
       "\n",
       "   visitStartTime  \n",
       "0      1472830385  \n",
       "1      1472880147  \n",
       "2      1472865386  \n",
       "3      1472881213  \n",
       "4      1472822600  "
      ]
     },
     "execution_count": 6,
     "metadata": {},
     "output_type": "execute_result"
    }
   ],
   "source": [
    "raw_df.head(5)"
   ]
  },
  {
   "cell_type": "markdown",
   "metadata": {},
   "source": [
    "## 📌 Dữ liệu thô có bao nhiêu dòng và bao nhiêu cột?"
   ]
  },
  {
   "cell_type": "markdown",
   "metadata": {},
   "source": [
    "Mô tả tổng quát dữ liệu"
   ]
  },
  {
   "cell_type": "code",
   "execution_count": 7,
   "metadata": {},
   "outputs": [
    {
     "name": "stdout",
     "output_type": "stream",
     "text": [
      "<class 'pandas.core.frame.DataFrame'>\n",
      "RangeIndex: 903653 entries, 0 to 903652\n",
      "Data columns (total 12 columns):\n",
      " #   Column                Non-Null Count   Dtype \n",
      "---  ------                --------------   ----- \n",
      " 0   channelGrouping       903653 non-null  object\n",
      " 1   date                  903653 non-null  int64 \n",
      " 2   device                903653 non-null  object\n",
      " 3   fullVisitorId         903653 non-null  object\n",
      " 4   geoNetwork            903653 non-null  object\n",
      " 5   sessionId             903653 non-null  object\n",
      " 6   socialEngagementType  903653 non-null  object\n",
      " 7   totals                903653 non-null  object\n",
      " 8   trafficSource         903653 non-null  object\n",
      " 9   visitId               903653 non-null  int64 \n",
      " 10  visitNumber           903653 non-null  int64 \n",
      " 11  visitStartTime        903653 non-null  int64 \n",
      "dtypes: int64(4), object(8)\n",
      "memory usage: 82.7+ MB\n"
     ]
    }
   ],
   "source": [
    "raw_df.info()"
   ]
  },
  {
   "cell_type": "markdown",
   "metadata": {},
   "source": [
    "Ta tìm số lượng dòng và cột của tập dữ liệu để trả lời câu hỏi"
   ]
  },
  {
   "cell_type": "code",
   "execution_count": 8,
   "metadata": {},
   "outputs": [
    {
     "name": "stdout",
     "output_type": "stream",
     "text": [
      ">> Number of rows: 903653\n",
      ">> Number of columns: 12\n"
     ]
    }
   ],
   "source": [
    "# Calculate the number of rows and columns\n",
    "nrows, ncols = raw_df.shape\n",
    "\n",
    "# Answer the question\n",
    "print(f\">> Number of rows: {nrows}\")\n",
    "print(f\">> Number of columns: {ncols}\")"
   ]
  },
  {
   "cell_type": "markdown",
   "metadata": {},
   "source": [
    "> 💭 Dữ liệu thô có `903653 dòng` và `12 cột`."
   ]
  },
  {
   "cell_type": "markdown",
   "metadata": {},
   "source": [
    "## 📌 Mỗi dòng có ý nghĩa là gì? Dữ liệu có gặp phải vấn đề các dòng có ý nghĩa khác nhau hay không?"
   ]
  },
  {
   "cell_type": "markdown",
   "metadata": {},
   "source": [
    "> 🖋️ <u>*Trả lời:*</u>\n",
    ">   * Mỗi dòng sẽ lưu các thông tin trong một phiên truy cập tới GStore từ người dùng. Cụ thể hơn, mỗi dòng cho ta biết *12* thông tin ứng với *12* trường dữ liệu (còn ý nghĩa của mỗi trường dữ liệu thì ta sẽ đề cập sau).\n",
    ">\n",
    ">   * Nhìn sơ qua toàn bộ bảng dữ liệu trong file `train.csv` được cung cấp bởi [Kaggle](https://www.kaggle.com/competitions/ga-customer-revenue-prediction/data?select=train.csv) thì có vẻ không thấy có dòng nào bất thường. Các dòng đều có cấu trúc giống nhau, thể hiện thông qua <u>thứ tự</u> và <u>kiểu dữ liệu</u> mà nó lưu trữ. (Và điều này được thể hiện rất rõ khi quan sát hình bên dưới, ta thấy thứ tự lưu trữ của mỗi dòng đều giống nhau: đầu tiên là đoạn văn bản, kế tiếp là 8 chữ số, sau đó đến 1 dữ liệu hỗn hợp khá giống `dictionay`, v.v.)\n",
    ">\n",
    "> ![Demo `train.csv`](./figures/demo_train_csv.png \"Demo `train.csv`\")"
   ]
  },
  {
   "cell_type": "markdown",
   "metadata": {},
   "source": [
    "## 📌 Dữ liệu có các dòng bị lặp không?"
   ]
  },
  {
   "cell_type": "markdown",
   "metadata": {},
   "source": [
    "Ta tính số lượng các dòng bị trùng `index`. Trong số các dòng có `index` giống nhau, thì dòng đầu tiên không được tính là lặp lại."
   ]
  },
  {
   "cell_type": "code",
   "execution_count": 9,
   "metadata": {},
   "outputs": [
    {
     "name": "stdout",
     "output_type": "stream",
     "text": [
      ">> Your raw data have no duplicated line!\n"
     ]
    }
   ],
   "source": [
    "# Calculate the number of duplicated rows\n",
    "index = raw_df.index\n",
    "detectDupSeries = index.duplicated(keep='first')\n",
    "num_duplicated_rows = detectDupSeries.sum()\n",
    "\n",
    "# Show the result\n",
    "if num_duplicated_rows == 0: \n",
    "    print(f\">> Your raw data have no duplicated line!\")\n",
    "else:\n",
    "    ext = \"lines\" if num_duplicated_rows > 1 else \"line\"\n",
    "    print(f\">> Your raw data have {num_duplicated_rows} duplicated \" + ext + \". Please de-deduplicate your raw data!\")"
   ]
  },
  {
   "cell_type": "markdown",
   "metadata": {},
   "source": [
    "> 💭 <u>*Nhận xét:*</u> Dữ liệu của chúng ta không có dòng nào bị lặp lại nên ta không cần xử lý gì thêm. Tiếp theo, ta sẽ chuyển sang tìm hiểu về các cột."
   ]
  },
  {
   "cell_type": "markdown",
   "metadata": {},
   "source": [
    "## 📌 Mỗi cột có ý nghĩa là gì?"
   ]
  },
  {
   "cell_type": "markdown",
   "metadata": {},
   "source": [
    "<class style=\"font-size: 18px;\">\n",
    "\n",
    "> Ý nghĩa của từng cột:\n",
    "> * **`channelGrouping`** - Cho biết kênh mà người dùng đã truy cập đến GStore (Google swag online store).\n",
    "> \n",
    "> * **`date`** - Cho biết Ngày mà người dùng truy cập vào GStore.\n",
    "> \n",
    "> * **`device`** - Chứa thông số kỹ thuật của thiết bị được sử dụng để truy cập vào GStore và thể hiện dưới dạng <u>giá trị tổng hợp</u>. (Ví dụ: tên và phiên bản của `browser`; hệ điều hành của thiết bị; v.v.)\n",
    "> \n",
    "> * **`fullVisitorId`** - Cho biết mã định danh riêng cho mỗi người dùng của Google Merchandise Store.\n",
    "> \n",
    "> * **`geoNetwork`** - Cho biết thông tin vị trí địa lý của người dùng được thể hiện dưới dạng <u>giá trị tổng hợp</u>. (Chẳng hạn như tên của: `city`, `continent`, `country`, v.v.)\n",
    "> \n",
    "> * **`sessionId`** - Được tạo thành từ **`fullVisitorId`** và **`visitId`**.\n",
    "> \n",
    "> * **`socialEngagementType`** - Chứa một trong hai giá trị: \"Socially Engaged\" hoặc \"Not Socially Engaged\".\n",
    "> \n",
    "> * **`totals`** - Chứa các <u>giá trị tổng hợp</u> trong suốt phiên ghé thăm của mỗi người dùng. (Ví dụ như: số lượng trang đã xem; tổng thời gian của phiên được tính bằng giây; v.v.)\n",
    "> \n",
    "> * **`trafficSource`** - Cho biết thông tin về Traffic Source mà phiên bắt đầu, được thể hiện dưới dạng <u>giá trị tổng hợp</u>. (Chẳng hạn như: `keyword` hay chuỗi đường dẫn đưa người dùng đến trang web, v.v.)\n",
    "> \n",
    "> * **`visitId`** - Cho biết mã định danh của mỗi phiên (giá trị này có thể giống nhau ở các người dùng khác nhau). Đây là một phần của giá trị thường được lưu trữ dưới dạng cookie `_utmb`.\n",
    "> \n",
    "> * **`visitNumber`** - Lưu trữ số lượng phiên truy cập của từng người dùng. Nếu đây là phiên đầu tiên thì giá trị này được đặt thành *1*. Giá trị này tăng dần sau mỗi lần người dùng truy cập đến trang web.\n",
    "> \n",
    "> * **`visitStartTime`** - Timestamp (được biểu thị bằng thời gian POSIX) cho biết thời gian người dùng bắt đầu truy cập đến trang web.\n",
    ">\n",
    "> <i>(Những thông tin mô tả bên trên đã được tham khảo từ 2 nguồn tài liệu là: [Kaggle - Dataset Description](https://www.kaggle.com/competitions/ga-customer-revenue-prediction/data) và [[UA] BigQuery Export schema](https://support.google.com/analytics/answer/3437719?hl=en-GBanswer=1686200))</i>\n",
    "\n",
    "</class>"
   ]
  },
  {
   "cell_type": "markdown",
   "metadata": {},
   "source": [
    "## 📌 Cách thức lưu trữ dữ liệu trong các cột như hiện tại có phù hợp để có thể xử lý tiếp hay không?"
   ]
  },
  {
   "cell_type": "markdown",
   "metadata": {},
   "source": [
    "- Dữ liệu ban đầu có 12 cột. Sau khi tìm hiểu về ý nghĩa của chúng thì ta phát hiện có 4 thuộc tính là: `device`, `geoNetwork`, `totals` và `trafficSource` đang lưu trữ dữ liệu dưới dạng `JSON` (dữ liệu hỗn hợp) rất khó để phân tích.\n",
    "\n",
    "- Vậy ta đề ra giải pháp là cần *\"làm phẳng\"* dữ liệu, tức là: biến đổi dữ liệu thô từ trong file `train.csv` thành một bảng dữ liệu, sao cho mỗi cột chỉ thể hiện một thông tin duy nhất (và không thể chia nhỏ hơn nữa)."
   ]
  },
  {
   "cell_type": "markdown",
   "metadata": {},
   "source": [
    "## 🚧 Tiền xử lý: Đọc dữ liệu và làm phẳng"
   ]
  },
  {
   "cell_type": "markdown",
   "metadata": {},
   "source": [
    "Ta có thể sử dụng đoạn code của [DATAISTA0 (JULIÁN PELLER)](https://www.kaggle.com/code/julian3833/1-quick-start-read-csv-and-flatten-json-fields/notebook) để thực hiện việc này."
   ]
  },
  {
   "cell_type": "code",
   "execution_count": 3,
   "metadata": {},
   "outputs": [],
   "source": [
    "# From: https://www.kaggle.com/julian3833/1-quick-start-read-csv-and-flatten-json-fields\n",
    "def read_data_and_flatten(filename: str, nrows: int = None, \n",
    "                          zip_file_path: str = ZIP_FILE_PATH) -> pd.DataFrame:\n",
    "    \"\"\"Read the csv file inside the zip file and flatten json columns\"\"\"\n",
    "    JSON_COLUMNS = ['device', 'geoNetwork', 'totals', 'trafficSource']\n",
    "    \n",
    "    with ZipFile(zip_file_path) as zf:\n",
    "        with zf.open(filename) as file:\n",
    "            df = pd.read_csv(file,\n",
    "                             # Create JSON object for every json column\n",
    "                             converters={col: json.loads for col in JSON_COLUMNS},\n",
    "                             # Important!! Considering 'fullvisitor id as string'\n",
    "                             dtype={'fullVisitorId': 'str'},\n",
    "                             nrows=nrows)\n",
    "            \n",
    "    with tqdm.tqdm(total=len(JSON_COLUMNS)) as pbar:\n",
    "        pbar.set_description(f\"Flattening process\")\n",
    "        for column in JSON_COLUMNS:\n",
    "            # json_normalize will return a flatten dataframe of json columns\n",
    "            column_as_df = json_normalize(df[column])\n",
    "            # Get column names\n",
    "            column_as_df.columns = [f\"{column}.{subcolumn}\" for subcolumn in column_as_df.columns]\n",
    "            # Drop JSON columns and merge data frame with parsed columns\n",
    "            df = df.drop(column, axis=1).merge(column_as_df, right_index=True, left_index=True)\n",
    "            \n",
    "            pbar.update(1)\n",
    "    \n",
    "    print(f\">> Loaded '{filename}' with shape: {df.shape}\")\n",
    "    return df"
   ]
  },
  {
   "cell_type": "code",
   "execution_count": 4,
   "metadata": {},
   "outputs": [
    {
     "name": "stderr",
     "output_type": "stream",
     "text": [
      "Flattening process: 100%|██████████| 4/4 [00:33<00:00,  8.49s/it]\n"
     ]
    },
    {
     "name": "stdout",
     "output_type": "stream",
     "text": [
      ">> Loaded 'train.csv' with shape: (903653, 55)\n"
     ]
    }
   ],
   "source": [
    "# Read the data and flatten json columns\n",
    "flattened_df = read_data_and_flatten('train.csv')"
   ]
  },
  {
   "cell_type": "markdown",
   "metadata": {},
   "source": [
    "> Ta thấy tham số `dtype={'fullVisitorId': 'str'}` trong hàm `read_csv()` giúp\n",
    "> thông báo `DtypeWarning` không còn xuất hiện."
   ]
  },
  {
   "cell_type": "markdown",
   "metadata": {},
   "source": [
    "Bây giờ ta sẽ quan sát dữ liệu sau khi biến đổi:"
   ]
  },
  {
   "cell_type": "code",
   "execution_count": 5,
   "metadata": {},
   "outputs": [
    {
     "data": {
      "text/html": [
       "<div>\n",
       "<style scoped>\n",
       "    .dataframe tbody tr th:only-of-type {\n",
       "        vertical-align: middle;\n",
       "    }\n",
       "\n",
       "    .dataframe tbody tr th {\n",
       "        vertical-align: top;\n",
       "    }\n",
       "\n",
       "    .dataframe thead th {\n",
       "        text-align: right;\n",
       "    }\n",
       "</style>\n",
       "<table border=\"1\" class=\"dataframe\">\n",
       "  <thead>\n",
       "    <tr style=\"text-align: right;\">\n",
       "      <th></th>\n",
       "      <th>channelGrouping</th>\n",
       "      <th>date</th>\n",
       "      <th>fullVisitorId</th>\n",
       "      <th>sessionId</th>\n",
       "      <th>socialEngagementType</th>\n",
       "      <th>visitId</th>\n",
       "      <th>visitNumber</th>\n",
       "      <th>visitStartTime</th>\n",
       "      <th>device.browser</th>\n",
       "      <th>device.browserVersion</th>\n",
       "      <th>device.browserSize</th>\n",
       "      <th>device.operatingSystem</th>\n",
       "      <th>device.operatingSystemVersion</th>\n",
       "      <th>device.isMobile</th>\n",
       "      <th>device.mobileDeviceBranding</th>\n",
       "      <th>device.mobileDeviceModel</th>\n",
       "      <th>device.mobileInputSelector</th>\n",
       "      <th>device.mobileDeviceInfo</th>\n",
       "      <th>device.mobileDeviceMarketingName</th>\n",
       "      <th>device.flashVersion</th>\n",
       "      <th>device.language</th>\n",
       "      <th>device.screenColors</th>\n",
       "      <th>device.screenResolution</th>\n",
       "      <th>device.deviceCategory</th>\n",
       "      <th>geoNetwork.continent</th>\n",
       "      <th>geoNetwork.subContinent</th>\n",
       "      <th>geoNetwork.country</th>\n",
       "      <th>geoNetwork.region</th>\n",
       "      <th>geoNetwork.metro</th>\n",
       "      <th>geoNetwork.city</th>\n",
       "      <th>geoNetwork.cityId</th>\n",
       "      <th>geoNetwork.networkDomain</th>\n",
       "      <th>geoNetwork.latitude</th>\n",
       "      <th>geoNetwork.longitude</th>\n",
       "      <th>geoNetwork.networkLocation</th>\n",
       "      <th>totals.visits</th>\n",
       "      <th>totals.hits</th>\n",
       "      <th>totals.pageviews</th>\n",
       "      <th>totals.bounces</th>\n",
       "      <th>totals.newVisits</th>\n",
       "      <th>totals.transactionRevenue</th>\n",
       "      <th>trafficSource.campaign</th>\n",
       "      <th>trafficSource.source</th>\n",
       "      <th>trafficSource.medium</th>\n",
       "      <th>trafficSource.keyword</th>\n",
       "      <th>trafficSource.adwordsClickInfo.criteriaParameters</th>\n",
       "      <th>trafficSource.isTrueDirect</th>\n",
       "      <th>trafficSource.referralPath</th>\n",
       "      <th>trafficSource.adwordsClickInfo.page</th>\n",
       "      <th>trafficSource.adwordsClickInfo.slot</th>\n",
       "      <th>trafficSource.adwordsClickInfo.gclId</th>\n",
       "      <th>trafficSource.adwordsClickInfo.adNetworkType</th>\n",
       "      <th>trafficSource.adwordsClickInfo.isVideoAd</th>\n",
       "      <th>trafficSource.adContent</th>\n",
       "      <th>trafficSource.campaignCode</th>\n",
       "    </tr>\n",
       "  </thead>\n",
       "  <tbody>\n",
       "    <tr>\n",
       "      <th>0</th>\n",
       "      <td>Organic Search</td>\n",
       "      <td>20160902</td>\n",
       "      <td>1131660440785968503</td>\n",
       "      <td>1131660440785968503_1472830385</td>\n",
       "      <td>Not Socially Engaged</td>\n",
       "      <td>1472830385</td>\n",
       "      <td>1</td>\n",
       "      <td>1472830385</td>\n",
       "      <td>Chrome</td>\n",
       "      <td>not available in demo dataset</td>\n",
       "      <td>not available in demo dataset</td>\n",
       "      <td>Windows</td>\n",
       "      <td>not available in demo dataset</td>\n",
       "      <td>False</td>\n",
       "      <td>not available in demo dataset</td>\n",
       "      <td>not available in demo dataset</td>\n",
       "      <td>not available in demo dataset</td>\n",
       "      <td>not available in demo dataset</td>\n",
       "      <td>not available in demo dataset</td>\n",
       "      <td>not available in demo dataset</td>\n",
       "      <td>not available in demo dataset</td>\n",
       "      <td>not available in demo dataset</td>\n",
       "      <td>not available in demo dataset</td>\n",
       "      <td>desktop</td>\n",
       "      <td>Asia</td>\n",
       "      <td>Western Asia</td>\n",
       "      <td>Turkey</td>\n",
       "      <td>Izmir</td>\n",
       "      <td>(not set)</td>\n",
       "      <td>Izmir</td>\n",
       "      <td>not available in demo dataset</td>\n",
       "      <td>ttnet.com.tr</td>\n",
       "      <td>not available in demo dataset</td>\n",
       "      <td>not available in demo dataset</td>\n",
       "      <td>not available in demo dataset</td>\n",
       "      <td>1</td>\n",
       "      <td>1</td>\n",
       "      <td>1</td>\n",
       "      <td>1</td>\n",
       "      <td>1</td>\n",
       "      <td>NaN</td>\n",
       "      <td>(not set)</td>\n",
       "      <td>google</td>\n",
       "      <td>organic</td>\n",
       "      <td>(not provided)</td>\n",
       "      <td>not available in demo dataset</td>\n",
       "      <td>NaN</td>\n",
       "      <td>NaN</td>\n",
       "      <td>NaN</td>\n",
       "      <td>NaN</td>\n",
       "      <td>NaN</td>\n",
       "      <td>NaN</td>\n",
       "      <td>NaN</td>\n",
       "      <td>NaN</td>\n",
       "      <td>NaN</td>\n",
       "    </tr>\n",
       "    <tr>\n",
       "      <th>1</th>\n",
       "      <td>Organic Search</td>\n",
       "      <td>20160902</td>\n",
       "      <td>377306020877927890</td>\n",
       "      <td>377306020877927890_1472880147</td>\n",
       "      <td>Not Socially Engaged</td>\n",
       "      <td>1472880147</td>\n",
       "      <td>1</td>\n",
       "      <td>1472880147</td>\n",
       "      <td>Firefox</td>\n",
       "      <td>not available in demo dataset</td>\n",
       "      <td>not available in demo dataset</td>\n",
       "      <td>Macintosh</td>\n",
       "      <td>not available in demo dataset</td>\n",
       "      <td>False</td>\n",
       "      <td>not available in demo dataset</td>\n",
       "      <td>not available in demo dataset</td>\n",
       "      <td>not available in demo dataset</td>\n",
       "      <td>not available in demo dataset</td>\n",
       "      <td>not available in demo dataset</td>\n",
       "      <td>not available in demo dataset</td>\n",
       "      <td>not available in demo dataset</td>\n",
       "      <td>not available in demo dataset</td>\n",
       "      <td>not available in demo dataset</td>\n",
       "      <td>desktop</td>\n",
       "      <td>Oceania</td>\n",
       "      <td>Australasia</td>\n",
       "      <td>Australia</td>\n",
       "      <td>not available in demo dataset</td>\n",
       "      <td>not available in demo dataset</td>\n",
       "      <td>not available in demo dataset</td>\n",
       "      <td>not available in demo dataset</td>\n",
       "      <td>dodo.net.au</td>\n",
       "      <td>not available in demo dataset</td>\n",
       "      <td>not available in demo dataset</td>\n",
       "      <td>not available in demo dataset</td>\n",
       "      <td>1</td>\n",
       "      <td>1</td>\n",
       "      <td>1</td>\n",
       "      <td>1</td>\n",
       "      <td>1</td>\n",
       "      <td>NaN</td>\n",
       "      <td>(not set)</td>\n",
       "      <td>google</td>\n",
       "      <td>organic</td>\n",
       "      <td>(not provided)</td>\n",
       "      <td>not available in demo dataset</td>\n",
       "      <td>NaN</td>\n",
       "      <td>NaN</td>\n",
       "      <td>NaN</td>\n",
       "      <td>NaN</td>\n",
       "      <td>NaN</td>\n",
       "      <td>NaN</td>\n",
       "      <td>NaN</td>\n",
       "      <td>NaN</td>\n",
       "      <td>NaN</td>\n",
       "    </tr>\n",
       "    <tr>\n",
       "      <th>2</th>\n",
       "      <td>Organic Search</td>\n",
       "      <td>20160902</td>\n",
       "      <td>3895546263509774583</td>\n",
       "      <td>3895546263509774583_1472865386</td>\n",
       "      <td>Not Socially Engaged</td>\n",
       "      <td>1472865386</td>\n",
       "      <td>1</td>\n",
       "      <td>1472865386</td>\n",
       "      <td>Chrome</td>\n",
       "      <td>not available in demo dataset</td>\n",
       "      <td>not available in demo dataset</td>\n",
       "      <td>Windows</td>\n",
       "      <td>not available in demo dataset</td>\n",
       "      <td>False</td>\n",
       "      <td>not available in demo dataset</td>\n",
       "      <td>not available in demo dataset</td>\n",
       "      <td>not available in demo dataset</td>\n",
       "      <td>not available in demo dataset</td>\n",
       "      <td>not available in demo dataset</td>\n",
       "      <td>not available in demo dataset</td>\n",
       "      <td>not available in demo dataset</td>\n",
       "      <td>not available in demo dataset</td>\n",
       "      <td>not available in demo dataset</td>\n",
       "      <td>desktop</td>\n",
       "      <td>Europe</td>\n",
       "      <td>Southern Europe</td>\n",
       "      <td>Spain</td>\n",
       "      <td>Community of Madrid</td>\n",
       "      <td>(not set)</td>\n",
       "      <td>Madrid</td>\n",
       "      <td>not available in demo dataset</td>\n",
       "      <td>unknown.unknown</td>\n",
       "      <td>not available in demo dataset</td>\n",
       "      <td>not available in demo dataset</td>\n",
       "      <td>not available in demo dataset</td>\n",
       "      <td>1</td>\n",
       "      <td>1</td>\n",
       "      <td>1</td>\n",
       "      <td>1</td>\n",
       "      <td>1</td>\n",
       "      <td>NaN</td>\n",
       "      <td>(not set)</td>\n",
       "      <td>google</td>\n",
       "      <td>organic</td>\n",
       "      <td>(not provided)</td>\n",
       "      <td>not available in demo dataset</td>\n",
       "      <td>NaN</td>\n",
       "      <td>NaN</td>\n",
       "      <td>NaN</td>\n",
       "      <td>NaN</td>\n",
       "      <td>NaN</td>\n",
       "      <td>NaN</td>\n",
       "      <td>NaN</td>\n",
       "      <td>NaN</td>\n",
       "      <td>NaN</td>\n",
       "    </tr>\n",
       "    <tr>\n",
       "      <th>3</th>\n",
       "      <td>Organic Search</td>\n",
       "      <td>20160902</td>\n",
       "      <td>4763447161404445595</td>\n",
       "      <td>4763447161404445595_1472881213</td>\n",
       "      <td>Not Socially Engaged</td>\n",
       "      <td>1472881213</td>\n",
       "      <td>1</td>\n",
       "      <td>1472881213</td>\n",
       "      <td>UC Browser</td>\n",
       "      <td>not available in demo dataset</td>\n",
       "      <td>not available in demo dataset</td>\n",
       "      <td>Linux</td>\n",
       "      <td>not available in demo dataset</td>\n",
       "      <td>False</td>\n",
       "      <td>not available in demo dataset</td>\n",
       "      <td>not available in demo dataset</td>\n",
       "      <td>not available in demo dataset</td>\n",
       "      <td>not available in demo dataset</td>\n",
       "      <td>not available in demo dataset</td>\n",
       "      <td>not available in demo dataset</td>\n",
       "      <td>not available in demo dataset</td>\n",
       "      <td>not available in demo dataset</td>\n",
       "      <td>not available in demo dataset</td>\n",
       "      <td>desktop</td>\n",
       "      <td>Asia</td>\n",
       "      <td>Southeast Asia</td>\n",
       "      <td>Indonesia</td>\n",
       "      <td>not available in demo dataset</td>\n",
       "      <td>not available in demo dataset</td>\n",
       "      <td>not available in demo dataset</td>\n",
       "      <td>not available in demo dataset</td>\n",
       "      <td>unknown.unknown</td>\n",
       "      <td>not available in demo dataset</td>\n",
       "      <td>not available in demo dataset</td>\n",
       "      <td>not available in demo dataset</td>\n",
       "      <td>1</td>\n",
       "      <td>1</td>\n",
       "      <td>1</td>\n",
       "      <td>1</td>\n",
       "      <td>1</td>\n",
       "      <td>NaN</td>\n",
       "      <td>(not set)</td>\n",
       "      <td>google</td>\n",
       "      <td>organic</td>\n",
       "      <td>google + online</td>\n",
       "      <td>not available in demo dataset</td>\n",
       "      <td>NaN</td>\n",
       "      <td>NaN</td>\n",
       "      <td>NaN</td>\n",
       "      <td>NaN</td>\n",
       "      <td>NaN</td>\n",
       "      <td>NaN</td>\n",
       "      <td>NaN</td>\n",
       "      <td>NaN</td>\n",
       "      <td>NaN</td>\n",
       "    </tr>\n",
       "    <tr>\n",
       "      <th>4</th>\n",
       "      <td>Organic Search</td>\n",
       "      <td>20160902</td>\n",
       "      <td>27294437909732085</td>\n",
       "      <td>27294437909732085_1472822600</td>\n",
       "      <td>Not Socially Engaged</td>\n",
       "      <td>1472822600</td>\n",
       "      <td>2</td>\n",
       "      <td>1472822600</td>\n",
       "      <td>Chrome</td>\n",
       "      <td>not available in demo dataset</td>\n",
       "      <td>not available in demo dataset</td>\n",
       "      <td>Android</td>\n",
       "      <td>not available in demo dataset</td>\n",
       "      <td>True</td>\n",
       "      <td>not available in demo dataset</td>\n",
       "      <td>not available in demo dataset</td>\n",
       "      <td>not available in demo dataset</td>\n",
       "      <td>not available in demo dataset</td>\n",
       "      <td>not available in demo dataset</td>\n",
       "      <td>not available in demo dataset</td>\n",
       "      <td>not available in demo dataset</td>\n",
       "      <td>not available in demo dataset</td>\n",
       "      <td>not available in demo dataset</td>\n",
       "      <td>mobile</td>\n",
       "      <td>Europe</td>\n",
       "      <td>Northern Europe</td>\n",
       "      <td>United Kingdom</td>\n",
       "      <td>not available in demo dataset</td>\n",
       "      <td>not available in demo dataset</td>\n",
       "      <td>not available in demo dataset</td>\n",
       "      <td>not available in demo dataset</td>\n",
       "      <td>unknown.unknown</td>\n",
       "      <td>not available in demo dataset</td>\n",
       "      <td>not available in demo dataset</td>\n",
       "      <td>not available in demo dataset</td>\n",
       "      <td>1</td>\n",
       "      <td>1</td>\n",
       "      <td>1</td>\n",
       "      <td>1</td>\n",
       "      <td>NaN</td>\n",
       "      <td>NaN</td>\n",
       "      <td>(not set)</td>\n",
       "      <td>google</td>\n",
       "      <td>organic</td>\n",
       "      <td>(not provided)</td>\n",
       "      <td>not available in demo dataset</td>\n",
       "      <td>True</td>\n",
       "      <td>NaN</td>\n",
       "      <td>NaN</td>\n",
       "      <td>NaN</td>\n",
       "      <td>NaN</td>\n",
       "      <td>NaN</td>\n",
       "      <td>NaN</td>\n",
       "      <td>NaN</td>\n",
       "      <td>NaN</td>\n",
       "    </tr>\n",
       "  </tbody>\n",
       "</table>\n",
       "</div>"
      ],
      "text/plain": [
       "  channelGrouping      date        fullVisitorId  \\\n",
       "0  Organic Search  20160902  1131660440785968503   \n",
       "1  Organic Search  20160902   377306020877927890   \n",
       "2  Organic Search  20160902  3895546263509774583   \n",
       "3  Organic Search  20160902  4763447161404445595   \n",
       "4  Organic Search  20160902    27294437909732085   \n",
       "\n",
       "                        sessionId  socialEngagementType     visitId  \\\n",
       "0  1131660440785968503_1472830385  Not Socially Engaged  1472830385   \n",
       "1   377306020877927890_1472880147  Not Socially Engaged  1472880147   \n",
       "2  3895546263509774583_1472865386  Not Socially Engaged  1472865386   \n",
       "3  4763447161404445595_1472881213  Not Socially Engaged  1472881213   \n",
       "4    27294437909732085_1472822600  Not Socially Engaged  1472822600   \n",
       "\n",
       "   visitNumber  visitStartTime device.browser          device.browserVersion  \\\n",
       "0            1      1472830385         Chrome  not available in demo dataset   \n",
       "1            1      1472880147        Firefox  not available in demo dataset   \n",
       "2            1      1472865386         Chrome  not available in demo dataset   \n",
       "3            1      1472881213     UC Browser  not available in demo dataset   \n",
       "4            2      1472822600         Chrome  not available in demo dataset   \n",
       "\n",
       "              device.browserSize device.operatingSystem  \\\n",
       "0  not available in demo dataset                Windows   \n",
       "1  not available in demo dataset              Macintosh   \n",
       "2  not available in demo dataset                Windows   \n",
       "3  not available in demo dataset                  Linux   \n",
       "4  not available in demo dataset                Android   \n",
       "\n",
       "   device.operatingSystemVersion  device.isMobile  \\\n",
       "0  not available in demo dataset            False   \n",
       "1  not available in demo dataset            False   \n",
       "2  not available in demo dataset            False   \n",
       "3  not available in demo dataset            False   \n",
       "4  not available in demo dataset             True   \n",
       "\n",
       "     device.mobileDeviceBranding       device.mobileDeviceModel  \\\n",
       "0  not available in demo dataset  not available in demo dataset   \n",
       "1  not available in demo dataset  not available in demo dataset   \n",
       "2  not available in demo dataset  not available in demo dataset   \n",
       "3  not available in demo dataset  not available in demo dataset   \n",
       "4  not available in demo dataset  not available in demo dataset   \n",
       "\n",
       "      device.mobileInputSelector        device.mobileDeviceInfo  \\\n",
       "0  not available in demo dataset  not available in demo dataset   \n",
       "1  not available in demo dataset  not available in demo dataset   \n",
       "2  not available in demo dataset  not available in demo dataset   \n",
       "3  not available in demo dataset  not available in demo dataset   \n",
       "4  not available in demo dataset  not available in demo dataset   \n",
       "\n",
       "  device.mobileDeviceMarketingName            device.flashVersion  \\\n",
       "0    not available in demo dataset  not available in demo dataset   \n",
       "1    not available in demo dataset  not available in demo dataset   \n",
       "2    not available in demo dataset  not available in demo dataset   \n",
       "3    not available in demo dataset  not available in demo dataset   \n",
       "4    not available in demo dataset  not available in demo dataset   \n",
       "\n",
       "                 device.language            device.screenColors  \\\n",
       "0  not available in demo dataset  not available in demo dataset   \n",
       "1  not available in demo dataset  not available in demo dataset   \n",
       "2  not available in demo dataset  not available in demo dataset   \n",
       "3  not available in demo dataset  not available in demo dataset   \n",
       "4  not available in demo dataset  not available in demo dataset   \n",
       "\n",
       "         device.screenResolution device.deviceCategory geoNetwork.continent  \\\n",
       "0  not available in demo dataset               desktop                 Asia   \n",
       "1  not available in demo dataset               desktop              Oceania   \n",
       "2  not available in demo dataset               desktop               Europe   \n",
       "3  not available in demo dataset               desktop                 Asia   \n",
       "4  not available in demo dataset                mobile               Europe   \n",
       "\n",
       "  geoNetwork.subContinent geoNetwork.country              geoNetwork.region  \\\n",
       "0            Western Asia             Turkey                          Izmir   \n",
       "1             Australasia          Australia  not available in demo dataset   \n",
       "2         Southern Europe              Spain            Community of Madrid   \n",
       "3          Southeast Asia          Indonesia  not available in demo dataset   \n",
       "4         Northern Europe     United Kingdom  not available in demo dataset   \n",
       "\n",
       "                geoNetwork.metro                geoNetwork.city  \\\n",
       "0                      (not set)                          Izmir   \n",
       "1  not available in demo dataset  not available in demo dataset   \n",
       "2                      (not set)                         Madrid   \n",
       "3  not available in demo dataset  not available in demo dataset   \n",
       "4  not available in demo dataset  not available in demo dataset   \n",
       "\n",
       "               geoNetwork.cityId geoNetwork.networkDomain  \\\n",
       "0  not available in demo dataset             ttnet.com.tr   \n",
       "1  not available in demo dataset              dodo.net.au   \n",
       "2  not available in demo dataset          unknown.unknown   \n",
       "3  not available in demo dataset          unknown.unknown   \n",
       "4  not available in demo dataset          unknown.unknown   \n",
       "\n",
       "             geoNetwork.latitude           geoNetwork.longitude  \\\n",
       "0  not available in demo dataset  not available in demo dataset   \n",
       "1  not available in demo dataset  not available in demo dataset   \n",
       "2  not available in demo dataset  not available in demo dataset   \n",
       "3  not available in demo dataset  not available in demo dataset   \n",
       "4  not available in demo dataset  not available in demo dataset   \n",
       "\n",
       "      geoNetwork.networkLocation totals.visits totals.hits totals.pageviews  \\\n",
       "0  not available in demo dataset             1           1                1   \n",
       "1  not available in demo dataset             1           1                1   \n",
       "2  not available in demo dataset             1           1                1   \n",
       "3  not available in demo dataset             1           1                1   \n",
       "4  not available in demo dataset             1           1                1   \n",
       "\n",
       "  totals.bounces totals.newVisits totals.transactionRevenue  \\\n",
       "0              1                1                       NaN   \n",
       "1              1                1                       NaN   \n",
       "2              1                1                       NaN   \n",
       "3              1                1                       NaN   \n",
       "4              1              NaN                       NaN   \n",
       "\n",
       "  trafficSource.campaign trafficSource.source trafficSource.medium  \\\n",
       "0              (not set)               google              organic   \n",
       "1              (not set)               google              organic   \n",
       "2              (not set)               google              organic   \n",
       "3              (not set)               google              organic   \n",
       "4              (not set)               google              organic   \n",
       "\n",
       "  trafficSource.keyword trafficSource.adwordsClickInfo.criteriaParameters  \\\n",
       "0        (not provided)                     not available in demo dataset   \n",
       "1        (not provided)                     not available in demo dataset   \n",
       "2        (not provided)                     not available in demo dataset   \n",
       "3       google + online                     not available in demo dataset   \n",
       "4        (not provided)                     not available in demo dataset   \n",
       "\n",
       "  trafficSource.isTrueDirect trafficSource.referralPath  \\\n",
       "0                        NaN                        NaN   \n",
       "1                        NaN                        NaN   \n",
       "2                        NaN                        NaN   \n",
       "3                        NaN                        NaN   \n",
       "4                       True                        NaN   \n",
       "\n",
       "  trafficSource.adwordsClickInfo.page trafficSource.adwordsClickInfo.slot  \\\n",
       "0                                 NaN                                 NaN   \n",
       "1                                 NaN                                 NaN   \n",
       "2                                 NaN                                 NaN   \n",
       "3                                 NaN                                 NaN   \n",
       "4                                 NaN                                 NaN   \n",
       "\n",
       "  trafficSource.adwordsClickInfo.gclId  \\\n",
       "0                                  NaN   \n",
       "1                                  NaN   \n",
       "2                                  NaN   \n",
       "3                                  NaN   \n",
       "4                                  NaN   \n",
       "\n",
       "  trafficSource.adwordsClickInfo.adNetworkType  \\\n",
       "0                                          NaN   \n",
       "1                                          NaN   \n",
       "2                                          NaN   \n",
       "3                                          NaN   \n",
       "4                                          NaN   \n",
       "\n",
       "  trafficSource.adwordsClickInfo.isVideoAd trafficSource.adContent  \\\n",
       "0                                      NaN                     NaN   \n",
       "1                                      NaN                     NaN   \n",
       "2                                      NaN                     NaN   \n",
       "3                                      NaN                     NaN   \n",
       "4                                      NaN                     NaN   \n",
       "\n",
       "  trafficSource.campaignCode  \n",
       "0                        NaN  \n",
       "1                        NaN  \n",
       "2                        NaN  \n",
       "3                        NaN  \n",
       "4                        NaN  "
      ]
     },
     "execution_count": 5,
     "metadata": {},
     "output_type": "execute_result"
    }
   ],
   "source": [
    "flattened_df.head()"
   ]
  },
  {
   "cell_type": "markdown",
   "metadata": {},
   "source": [
    "## 📌 Dữ liệu sau khi làm phẳng có bao nhiêu dòng và bao nhiêu cột?"
   ]
  },
  {
   "cell_type": "markdown",
   "metadata": {},
   "source": [
    "Danh sách các cột dữ liệu:"
   ]
  },
  {
   "cell_type": "code",
   "execution_count": 6,
   "metadata": {},
   "outputs": [
    {
     "name": "stdout",
     "output_type": "stream",
     "text": [
      "<class 'pandas.core.frame.DataFrame'>\n",
      "RangeIndex: 903653 entries, 0 to 903652\n",
      "Data columns (total 55 columns):\n",
      " #   Column                                             Non-Null Count   Dtype \n",
      "---  ------                                             --------------   ----- \n",
      " 0   channelGrouping                                    903653 non-null  object\n",
      " 1   date                                               903653 non-null  int64 \n",
      " 2   fullVisitorId                                      903653 non-null  object\n",
      " 3   sessionId                                          903653 non-null  object\n",
      " 4   socialEngagementType                               903653 non-null  object\n",
      " 5   visitId                                            903653 non-null  int64 \n",
      " 6   visitNumber                                        903653 non-null  int64 \n",
      " 7   visitStartTime                                     903653 non-null  int64 \n",
      " 8   device.browser                                     903653 non-null  object\n",
      " 9   device.browserVersion                              903653 non-null  object\n",
      " 10  device.browserSize                                 903653 non-null  object\n",
      " 11  device.operatingSystem                             903653 non-null  object\n",
      " 12  device.operatingSystemVersion                      903653 non-null  object\n",
      " 13  device.isMobile                                    903653 non-null  bool  \n",
      " 14  device.mobileDeviceBranding                        903653 non-null  object\n",
      " 15  device.mobileDeviceModel                           903653 non-null  object\n",
      " 16  device.mobileInputSelector                         903653 non-null  object\n",
      " 17  device.mobileDeviceInfo                            903653 non-null  object\n",
      " 18  device.mobileDeviceMarketingName                   903653 non-null  object\n",
      " 19  device.flashVersion                                903653 non-null  object\n",
      " 20  device.language                                    903653 non-null  object\n",
      " 21  device.screenColors                                903653 non-null  object\n",
      " 22  device.screenResolution                            903653 non-null  object\n",
      " 23  device.deviceCategory                              903653 non-null  object\n",
      " 24  geoNetwork.continent                               903653 non-null  object\n",
      " 25  geoNetwork.subContinent                            903653 non-null  object\n",
      " 26  geoNetwork.country                                 903653 non-null  object\n",
      " 27  geoNetwork.region                                  903653 non-null  object\n",
      " 28  geoNetwork.metro                                   903653 non-null  object\n",
      " 29  geoNetwork.city                                    903653 non-null  object\n",
      " 30  geoNetwork.cityId                                  903653 non-null  object\n",
      " 31  geoNetwork.networkDomain                           903653 non-null  object\n",
      " 32  geoNetwork.latitude                                903653 non-null  object\n",
      " 33  geoNetwork.longitude                               903653 non-null  object\n",
      " 34  geoNetwork.networkLocation                         903653 non-null  object\n",
      " 35  totals.visits                                      903653 non-null  object\n",
      " 36  totals.hits                                        903653 non-null  object\n",
      " 37  totals.pageviews                                   903553 non-null  object\n",
      " 38  totals.bounces                                     450630 non-null  object\n",
      " 39  totals.newVisits                                   703060 non-null  object\n",
      " 40  totals.transactionRevenue                          11515 non-null   object\n",
      " 41  trafficSource.campaign                             903653 non-null  object\n",
      " 42  trafficSource.source                               903653 non-null  object\n",
      " 43  trafficSource.medium                               903653 non-null  object\n",
      " 44  trafficSource.keyword                              400724 non-null  object\n",
      " 45  trafficSource.adwordsClickInfo.criteriaParameters  903653 non-null  object\n",
      " 46  trafficSource.isTrueDirect                         274005 non-null  object\n",
      " 47  trafficSource.referralPath                         330941 non-null  object\n",
      " 48  trafficSource.adwordsClickInfo.page                21460 non-null   object\n",
      " 49  trafficSource.adwordsClickInfo.slot                21460 non-null   object\n",
      " 50  trafficSource.adwordsClickInfo.gclId               21561 non-null   object\n",
      " 51  trafficSource.adwordsClickInfo.adNetworkType       21460 non-null   object\n",
      " 52  trafficSource.adwordsClickInfo.isVideoAd           21460 non-null   object\n",
      " 53  trafficSource.adContent                            10946 non-null   object\n",
      " 54  trafficSource.campaignCode                         1 non-null       object\n",
      "dtypes: bool(1), int64(4), object(50)\n",
      "memory usage: 373.2+ MB\n"
     ]
    }
   ],
   "source": [
    "flattened_df.info()"
   ]
  },
  {
   "cell_type": "markdown",
   "metadata": {},
   "source": [
    "Số dòng và số cột:"
   ]
  },
  {
   "cell_type": "code",
   "execution_count": 7,
   "metadata": {},
   "outputs": [
    {
     "name": "stdout",
     "output_type": "stream",
     "text": [
      ">> Number of rows: 903653\n",
      ">> Number of columns: 55\n"
     ]
    }
   ],
   "source": [
    "# Calculate the number of rows and columns\n",
    "nrows, ncols = flattened_df.shape\n",
    "\n",
    "# Answer the question\n",
    "print(f\">> Number of rows: {nrows}\")\n",
    "print(f\">> Number of columns: {ncols}\")"
   ]
  },
  {
   "cell_type": "markdown",
   "metadata": {},
   "source": [
    "> 💭 <u>*Quan sát:*</u>\n",
    ">\n",
    "> * Sau quá trình làm phẳng, số dòng của dữ liệu vẫn không đổi là `903653` đúng như ta mong đợi. Tuy nhiên, số cột đã được nâng lên con số `55`. \n",
    ">\n",
    "> * Ta thấy `12` cột ban đầu đã được xử lý bằng cách:\n",
    ">   * 4 cột: `device`, `geoNetwork`, `totals` và `trafficSource` đã được tách thành các cột nhỏ hơn và có thể dễ dàng nhận biết thông qua định dạng `<JSON_Column_Names>.<Keys_In_JSON_Object>[.<Keys_In_Sub_JSON_Object>]` (tức là dùng ký tự `.` để phân tách). Khi này sự xuất hiện của 4 cột ban đầu là không cần thiết nên ta đã loại bỏ ngay từ khâu xử lý bên trên.\n",
    ">\n",
    ">   * Các cột còn lại thì không cần thay đổi nên chúng được giữ nguyên.\n",
    ">\n",
    "> * Nếu quan sát kỹ hơn vào bảng mô tả bên trên thì ta phát hiện có rất nhiều cột bị thiếu dữ liệu. Đồng thời `55` là con số tương đối lớn, nếu được thì ta có thể giảm bớt độ rộng của dữ liệu để tiết kiệm chi phí lưu trữ và thời gian ở các bước phân tích tiếp theo."
   ]
  },
  {
   "cell_type": "markdown",
   "metadata": {},
   "source": [
    "## 🚧 Tiền xử lý: Loại bỏ các cột không có nhiều ý nghĩa trong quá trình phân tích"
   ]
  },
  {
   "cell_type": "markdown",
   "metadata": {},
   "source": [
    "##### ⁂ Các cột mang tính chất nhận diện (`*ID`)"
   ]
  },
  {
   "cell_type": "code",
   "execution_count": 8,
   "metadata": {},
   "outputs": [
    {
     "data": {
      "text/html": [
       "<div>\n",
       "<style scoped>\n",
       "    .dataframe tbody tr th:only-of-type {\n",
       "        vertical-align: middle;\n",
       "    }\n",
       "\n",
       "    .dataframe tbody tr th {\n",
       "        vertical-align: top;\n",
       "    }\n",
       "\n",
       "    .dataframe thead th {\n",
       "        text-align: right;\n",
       "    }\n",
       "</style>\n",
       "<table border=\"1\" class=\"dataframe\">\n",
       "  <thead>\n",
       "    <tr style=\"text-align: right;\">\n",
       "      <th></th>\n",
       "      <th>fullVisitorId</th>\n",
       "      <th>sessionId</th>\n",
       "      <th>visitId</th>\n",
       "      <th>visitStartTime</th>\n",
       "    </tr>\n",
       "  </thead>\n",
       "  <tbody>\n",
       "    <tr>\n",
       "      <th>0</th>\n",
       "      <td>1131660440785968503</td>\n",
       "      <td>1131660440785968503_1472830385</td>\n",
       "      <td>1472830385</td>\n",
       "      <td>1472830385</td>\n",
       "    </tr>\n",
       "    <tr>\n",
       "      <th>1</th>\n",
       "      <td>377306020877927890</td>\n",
       "      <td>377306020877927890_1472880147</td>\n",
       "      <td>1472880147</td>\n",
       "      <td>1472880147</td>\n",
       "    </tr>\n",
       "    <tr>\n",
       "      <th>2</th>\n",
       "      <td>3895546263509774583</td>\n",
       "      <td>3895546263509774583_1472865386</td>\n",
       "      <td>1472865386</td>\n",
       "      <td>1472865386</td>\n",
       "    </tr>\n",
       "    <tr>\n",
       "      <th>3</th>\n",
       "      <td>4763447161404445595</td>\n",
       "      <td>4763447161404445595_1472881213</td>\n",
       "      <td>1472881213</td>\n",
       "      <td>1472881213</td>\n",
       "    </tr>\n",
       "    <tr>\n",
       "      <th>4</th>\n",
       "      <td>27294437909732085</td>\n",
       "      <td>27294437909732085_1472822600</td>\n",
       "      <td>1472822600</td>\n",
       "      <td>1472822600</td>\n",
       "    </tr>\n",
       "  </tbody>\n",
       "</table>\n",
       "</div>"
      ],
      "text/plain": [
       "         fullVisitorId                       sessionId     visitId  \\\n",
       "0  1131660440785968503  1131660440785968503_1472830385  1472830385   \n",
       "1   377306020877927890   377306020877927890_1472880147  1472880147   \n",
       "2  3895546263509774583  3895546263509774583_1472865386  1472865386   \n",
       "3  4763447161404445595  4763447161404445595_1472881213  1472881213   \n",
       "4    27294437909732085    27294437909732085_1472822600  1472822600   \n",
       "\n",
       "   visitStartTime  \n",
       "0      1472830385  \n",
       "1      1472880147  \n",
       "2      1472865386  \n",
       "3      1472881213  \n",
       "4      1472822600  "
      ]
     },
     "execution_count": 8,
     "metadata": {},
     "output_type": "execute_result"
    }
   ],
   "source": [
    "id_cols = ['fullVisitorId', 'sessionId', 'visitId', 'visitStartTime']\n",
    "flattened_df.loc[:4, id_cols]"
   ]
  },
  {
   "cell_type": "markdown",
   "metadata": {},
   "source": [
    "> *Ghi chú:*\n",
    ">   * `sessionId` = `fullVisitorId` + `visitId`\n",
    ">   * `visitId` ~ `visitStartTime` (thực ra là bé hơn hoặc bằng)"
   ]
  },
  {
   "cell_type": "markdown",
   "metadata": {},
   "source": [
    "Mức độ tương đồng giữa 2 thuộc tính `visitId` và `visitStartTime`"
   ]
  },
  {
   "cell_type": "code",
   "execution_count": 9,
   "metadata": {},
   "outputs": [
    {
     "data": {
      "text/plain": [
       "99.47889289362178"
      ]
     },
     "execution_count": 9,
     "metadata": {},
     "output_type": "execute_result"
    }
   ],
   "source": [
    "# Calculate similarity between 'visitId' and 'visitStartTime'\n",
    "np.sum(flattened_df['visitId'] == flattened_df['visitStartTime']) / flattened_df.shape[0] * 100"
   ]
  },
  {
   "cell_type": "markdown",
   "metadata": {},
   "source": [
    "> 💡 <u>Nhận xét</u>: Về mặt lý thuyết, các cột trong `id_cols` thường mang các giá trị phân loại (`categorical data`) có tính chất tính định danh, giúp xác định mỗi người dùng và các phiên truy cập khác nhau. Các dữ liệu này sẽ không giúp ích quá nhiều khi phân tích dữ liệu nên ta có thể xóa chúng."
   ]
  },
  {
   "cell_type": "markdown",
   "metadata": {},
   "source": [
    "🔨 Bỏ các cột `id_cols` khỏi tập dữ liệu"
   ]
  },
  {
   "cell_type": "code",
   "execution_count": 11,
   "metadata": {},
   "outputs": [],
   "source": [
    "flattened_df.drop(id_cols, axis=1, inplace=True)"
   ]
  },
  {
   "cell_type": "markdown",
   "metadata": {},
   "source": [
    "##### ⁂ Các cột thiếu dữ liệu HOÀN TOÀN"
   ]
  },
  {
   "cell_type": "code",
   "execution_count": 12,
   "metadata": {},
   "outputs": [
    {
     "data": {
      "text/plain": [
       "[]"
      ]
     },
     "execution_count": 12,
     "metadata": {},
     "output_type": "execute_result"
    }
   ],
   "source": [
    "cols_with_completely_missing = [col \n",
    "                                for col in flattened_df.columns \n",
    "                                if flattened_df[col].isnull().all()]\n",
    "cols_with_completely_missing"
   ]
  },
  {
   "cell_type": "markdown",
   "metadata": {},
   "source": [
    "> Suy ra, không có cột nào hoàn toàn thiếu dữ liệu.\n",
    "> Nghĩa là, không có cột nào chỉ chứa giá trị `NaN`."
   ]
  },
  {
   "cell_type": "markdown",
   "metadata": {},
   "source": [
    "##### ⁂ Các cột chỉ có duy nhất 1 giá trị"
   ]
  },
  {
   "cell_type": "code",
   "execution_count": 13,
   "metadata": {},
   "outputs": [
    {
     "data": {
      "text/plain": [
       "['socialEngagementType',\n",
       " 'device.browserVersion',\n",
       " 'device.browserSize',\n",
       " 'device.operatingSystemVersion',\n",
       " 'device.mobileDeviceBranding',\n",
       " 'device.mobileDeviceModel',\n",
       " 'device.mobileInputSelector',\n",
       " 'device.mobileDeviceInfo',\n",
       " 'device.mobileDeviceMarketingName',\n",
       " 'device.flashVersion',\n",
       " 'device.language',\n",
       " 'device.screenColors',\n",
       " 'device.screenResolution',\n",
       " 'geoNetwork.cityId',\n",
       " 'geoNetwork.latitude',\n",
       " 'geoNetwork.longitude',\n",
       " 'geoNetwork.networkLocation',\n",
       " 'totals.visits',\n",
       " 'totals.bounces',\n",
       " 'totals.newVisits',\n",
       " 'trafficSource.adwordsClickInfo.criteriaParameters',\n",
       " 'trafficSource.isTrueDirect',\n",
       " 'trafficSource.adwordsClickInfo.isVideoAd',\n",
       " 'trafficSource.campaignCode']"
      ]
     },
     "execution_count": 13,
     "metadata": {},
     "output_type": "execute_result"
    }
   ],
   "source": [
    "cols_with_unique_value = [col \n",
    "                          for col in flattened_df.columns \n",
    "                          if flattened_df[col].nunique(dropna=True) == 1]\n",
    "cols_with_unique_value"
   ]
  },
  {
   "cell_type": "markdown",
   "metadata": {},
   "source": [
    "> * Trên lý thuyết, các cột chỉ có DUY NHẤT 1 giá trị (khác `NaN`) thì cũng không có ý nghĩa gì khi dùng để dự đoán kết quả.\n",
    ">\n",
    "> * Do đó, ta có thể xóa các cột này để thu hẹp phạm vi dữ liệu."
   ]
  },
  {
   "cell_type": "markdown",
   "metadata": {},
   "source": [
    "🔨 Xóa các cột chỉ có 1 giá trị duy nhất"
   ]
  },
  {
   "cell_type": "code",
   "execution_count": 14,
   "metadata": {},
   "outputs": [],
   "source": [
    "# Drop columns with unique value\n",
    "flattened_df.drop(cols_with_unique_value, axis='columns', inplace=True)"
   ]
  },
  {
   "cell_type": "markdown",
   "metadata": {},
   "source": [
    "Khi này dữ liệu còn lại:"
   ]
  },
  {
   "cell_type": "code",
   "execution_count": 15,
   "metadata": {},
   "outputs": [
    {
     "data": {
      "text/html": [
       "<div>\n",
       "<style scoped>\n",
       "    .dataframe tbody tr th:only-of-type {\n",
       "        vertical-align: middle;\n",
       "    }\n",
       "\n",
       "    .dataframe tbody tr th {\n",
       "        vertical-align: top;\n",
       "    }\n",
       "\n",
       "    .dataframe thead th {\n",
       "        text-align: right;\n",
       "    }\n",
       "</style>\n",
       "<table border=\"1\" class=\"dataframe\">\n",
       "  <thead>\n",
       "    <tr style=\"text-align: right;\">\n",
       "      <th></th>\n",
       "      <th>channelGrouping</th>\n",
       "      <th>date</th>\n",
       "      <th>visitNumber</th>\n",
       "      <th>device.browser</th>\n",
       "      <th>device.operatingSystem</th>\n",
       "      <th>device.isMobile</th>\n",
       "      <th>device.deviceCategory</th>\n",
       "      <th>geoNetwork.continent</th>\n",
       "      <th>geoNetwork.subContinent</th>\n",
       "      <th>geoNetwork.country</th>\n",
       "      <th>geoNetwork.region</th>\n",
       "      <th>geoNetwork.metro</th>\n",
       "      <th>geoNetwork.city</th>\n",
       "      <th>geoNetwork.networkDomain</th>\n",
       "      <th>totals.hits</th>\n",
       "      <th>totals.pageviews</th>\n",
       "      <th>totals.transactionRevenue</th>\n",
       "      <th>trafficSource.campaign</th>\n",
       "      <th>trafficSource.source</th>\n",
       "      <th>trafficSource.medium</th>\n",
       "      <th>trafficSource.keyword</th>\n",
       "      <th>trafficSource.referralPath</th>\n",
       "      <th>trafficSource.adwordsClickInfo.page</th>\n",
       "      <th>trafficSource.adwordsClickInfo.slot</th>\n",
       "      <th>trafficSource.adwordsClickInfo.gclId</th>\n",
       "      <th>trafficSource.adwordsClickInfo.adNetworkType</th>\n",
       "      <th>trafficSource.adContent</th>\n",
       "    </tr>\n",
       "  </thead>\n",
       "  <tbody>\n",
       "    <tr>\n",
       "      <th>0</th>\n",
       "      <td>Organic Search</td>\n",
       "      <td>20160902</td>\n",
       "      <td>1</td>\n",
       "      <td>Chrome</td>\n",
       "      <td>Windows</td>\n",
       "      <td>False</td>\n",
       "      <td>desktop</td>\n",
       "      <td>Asia</td>\n",
       "      <td>Western Asia</td>\n",
       "      <td>Turkey</td>\n",
       "      <td>Izmir</td>\n",
       "      <td>(not set)</td>\n",
       "      <td>Izmir</td>\n",
       "      <td>ttnet.com.tr</td>\n",
       "      <td>1</td>\n",
       "      <td>1</td>\n",
       "      <td>NaN</td>\n",
       "      <td>(not set)</td>\n",
       "      <td>google</td>\n",
       "      <td>organic</td>\n",
       "      <td>(not provided)</td>\n",
       "      <td>NaN</td>\n",
       "      <td>NaN</td>\n",
       "      <td>NaN</td>\n",
       "      <td>NaN</td>\n",
       "      <td>NaN</td>\n",
       "      <td>NaN</td>\n",
       "    </tr>\n",
       "    <tr>\n",
       "      <th>1</th>\n",
       "      <td>Organic Search</td>\n",
       "      <td>20160902</td>\n",
       "      <td>1</td>\n",
       "      <td>Firefox</td>\n",
       "      <td>Macintosh</td>\n",
       "      <td>False</td>\n",
       "      <td>desktop</td>\n",
       "      <td>Oceania</td>\n",
       "      <td>Australasia</td>\n",
       "      <td>Australia</td>\n",
       "      <td>not available in demo dataset</td>\n",
       "      <td>not available in demo dataset</td>\n",
       "      <td>not available in demo dataset</td>\n",
       "      <td>dodo.net.au</td>\n",
       "      <td>1</td>\n",
       "      <td>1</td>\n",
       "      <td>NaN</td>\n",
       "      <td>(not set)</td>\n",
       "      <td>google</td>\n",
       "      <td>organic</td>\n",
       "      <td>(not provided)</td>\n",
       "      <td>NaN</td>\n",
       "      <td>NaN</td>\n",
       "      <td>NaN</td>\n",
       "      <td>NaN</td>\n",
       "      <td>NaN</td>\n",
       "      <td>NaN</td>\n",
       "    </tr>\n",
       "    <tr>\n",
       "      <th>2</th>\n",
       "      <td>Organic Search</td>\n",
       "      <td>20160902</td>\n",
       "      <td>1</td>\n",
       "      <td>Chrome</td>\n",
       "      <td>Windows</td>\n",
       "      <td>False</td>\n",
       "      <td>desktop</td>\n",
       "      <td>Europe</td>\n",
       "      <td>Southern Europe</td>\n",
       "      <td>Spain</td>\n",
       "      <td>Community of Madrid</td>\n",
       "      <td>(not set)</td>\n",
       "      <td>Madrid</td>\n",
       "      <td>unknown.unknown</td>\n",
       "      <td>1</td>\n",
       "      <td>1</td>\n",
       "      <td>NaN</td>\n",
       "      <td>(not set)</td>\n",
       "      <td>google</td>\n",
       "      <td>organic</td>\n",
       "      <td>(not provided)</td>\n",
       "      <td>NaN</td>\n",
       "      <td>NaN</td>\n",
       "      <td>NaN</td>\n",
       "      <td>NaN</td>\n",
       "      <td>NaN</td>\n",
       "      <td>NaN</td>\n",
       "    </tr>\n",
       "    <tr>\n",
       "      <th>3</th>\n",
       "      <td>Organic Search</td>\n",
       "      <td>20160902</td>\n",
       "      <td>1</td>\n",
       "      <td>UC Browser</td>\n",
       "      <td>Linux</td>\n",
       "      <td>False</td>\n",
       "      <td>desktop</td>\n",
       "      <td>Asia</td>\n",
       "      <td>Southeast Asia</td>\n",
       "      <td>Indonesia</td>\n",
       "      <td>not available in demo dataset</td>\n",
       "      <td>not available in demo dataset</td>\n",
       "      <td>not available in demo dataset</td>\n",
       "      <td>unknown.unknown</td>\n",
       "      <td>1</td>\n",
       "      <td>1</td>\n",
       "      <td>NaN</td>\n",
       "      <td>(not set)</td>\n",
       "      <td>google</td>\n",
       "      <td>organic</td>\n",
       "      <td>google + online</td>\n",
       "      <td>NaN</td>\n",
       "      <td>NaN</td>\n",
       "      <td>NaN</td>\n",
       "      <td>NaN</td>\n",
       "      <td>NaN</td>\n",
       "      <td>NaN</td>\n",
       "    </tr>\n",
       "    <tr>\n",
       "      <th>4</th>\n",
       "      <td>Organic Search</td>\n",
       "      <td>20160902</td>\n",
       "      <td>2</td>\n",
       "      <td>Chrome</td>\n",
       "      <td>Android</td>\n",
       "      <td>True</td>\n",
       "      <td>mobile</td>\n",
       "      <td>Europe</td>\n",
       "      <td>Northern Europe</td>\n",
       "      <td>United Kingdom</td>\n",
       "      <td>not available in demo dataset</td>\n",
       "      <td>not available in demo dataset</td>\n",
       "      <td>not available in demo dataset</td>\n",
       "      <td>unknown.unknown</td>\n",
       "      <td>1</td>\n",
       "      <td>1</td>\n",
       "      <td>NaN</td>\n",
       "      <td>(not set)</td>\n",
       "      <td>google</td>\n",
       "      <td>organic</td>\n",
       "      <td>(not provided)</td>\n",
       "      <td>NaN</td>\n",
       "      <td>NaN</td>\n",
       "      <td>NaN</td>\n",
       "      <td>NaN</td>\n",
       "      <td>NaN</td>\n",
       "      <td>NaN</td>\n",
       "    </tr>\n",
       "  </tbody>\n",
       "</table>\n",
       "</div>"
      ],
      "text/plain": [
       "  channelGrouping      date  visitNumber device.browser  \\\n",
       "0  Organic Search  20160902            1         Chrome   \n",
       "1  Organic Search  20160902            1        Firefox   \n",
       "2  Organic Search  20160902            1         Chrome   \n",
       "3  Organic Search  20160902            1     UC Browser   \n",
       "4  Organic Search  20160902            2         Chrome   \n",
       "\n",
       "  device.operatingSystem  device.isMobile device.deviceCategory  \\\n",
       "0                Windows            False               desktop   \n",
       "1              Macintosh            False               desktop   \n",
       "2                Windows            False               desktop   \n",
       "3                  Linux            False               desktop   \n",
       "4                Android             True                mobile   \n",
       "\n",
       "  geoNetwork.continent geoNetwork.subContinent geoNetwork.country  \\\n",
       "0                 Asia            Western Asia             Turkey   \n",
       "1              Oceania             Australasia          Australia   \n",
       "2               Europe         Southern Europe              Spain   \n",
       "3                 Asia          Southeast Asia          Indonesia   \n",
       "4               Europe         Northern Europe     United Kingdom   \n",
       "\n",
       "               geoNetwork.region               geoNetwork.metro  \\\n",
       "0                          Izmir                      (not set)   \n",
       "1  not available in demo dataset  not available in demo dataset   \n",
       "2            Community of Madrid                      (not set)   \n",
       "3  not available in demo dataset  not available in demo dataset   \n",
       "4  not available in demo dataset  not available in demo dataset   \n",
       "\n",
       "                 geoNetwork.city geoNetwork.networkDomain totals.hits  \\\n",
       "0                          Izmir             ttnet.com.tr           1   \n",
       "1  not available in demo dataset              dodo.net.au           1   \n",
       "2                         Madrid          unknown.unknown           1   \n",
       "3  not available in demo dataset          unknown.unknown           1   \n",
       "4  not available in demo dataset          unknown.unknown           1   \n",
       "\n",
       "  totals.pageviews totals.transactionRevenue trafficSource.campaign  \\\n",
       "0                1                       NaN              (not set)   \n",
       "1                1                       NaN              (not set)   \n",
       "2                1                       NaN              (not set)   \n",
       "3                1                       NaN              (not set)   \n",
       "4                1                       NaN              (not set)   \n",
       "\n",
       "  trafficSource.source trafficSource.medium trafficSource.keyword  \\\n",
       "0               google              organic        (not provided)   \n",
       "1               google              organic        (not provided)   \n",
       "2               google              organic        (not provided)   \n",
       "3               google              organic       google + online   \n",
       "4               google              organic        (not provided)   \n",
       "\n",
       "  trafficSource.referralPath trafficSource.adwordsClickInfo.page  \\\n",
       "0                        NaN                                 NaN   \n",
       "1                        NaN                                 NaN   \n",
       "2                        NaN                                 NaN   \n",
       "3                        NaN                                 NaN   \n",
       "4                        NaN                                 NaN   \n",
       "\n",
       "  trafficSource.adwordsClickInfo.slot trafficSource.adwordsClickInfo.gclId  \\\n",
       "0                                 NaN                                  NaN   \n",
       "1                                 NaN                                  NaN   \n",
       "2                                 NaN                                  NaN   \n",
       "3                                 NaN                                  NaN   \n",
       "4                                 NaN                                  NaN   \n",
       "\n",
       "  trafficSource.adwordsClickInfo.adNetworkType trafficSource.adContent  \n",
       "0                                          NaN                     NaN  \n",
       "1                                          NaN                     NaN  \n",
       "2                                          NaN                     NaN  \n",
       "3                                          NaN                     NaN  \n",
       "4                                          NaN                     NaN  "
      ]
     },
     "execution_count": 15,
     "metadata": {},
     "output_type": "execute_result"
    }
   ],
   "source": [
    "flattened_df.head()"
   ]
  },
  {
   "cell_type": "code",
   "execution_count": 16,
   "metadata": {},
   "outputs": [
    {
     "name": "stdout",
     "output_type": "stream",
     "text": [
      "<class 'pandas.core.frame.DataFrame'>\n",
      "RangeIndex: 903653 entries, 0 to 903652\n",
      "Data columns (total 27 columns):\n",
      " #   Column                                        Non-Null Count   Dtype \n",
      "---  ------                                        --------------   ----- \n",
      " 0   channelGrouping                               903653 non-null  object\n",
      " 1   date                                          903653 non-null  int64 \n",
      " 2   visitNumber                                   903653 non-null  int64 \n",
      " 3   device.browser                                903653 non-null  object\n",
      " 4   device.operatingSystem                        903653 non-null  object\n",
      " 5   device.isMobile                               903653 non-null  bool  \n",
      " 6   device.deviceCategory                         903653 non-null  object\n",
      " 7   geoNetwork.continent                          903653 non-null  object\n",
      " 8   geoNetwork.subContinent                       903653 non-null  object\n",
      " 9   geoNetwork.country                            903653 non-null  object\n",
      " 10  geoNetwork.region                             903653 non-null  object\n",
      " 11  geoNetwork.metro                              903653 non-null  object\n",
      " 12  geoNetwork.city                               903653 non-null  object\n",
      " 13  geoNetwork.networkDomain                      903653 non-null  object\n",
      " 14  totals.hits                                   903653 non-null  object\n",
      " 15  totals.pageviews                              903553 non-null  object\n",
      " 16  totals.transactionRevenue                     11515 non-null   object\n",
      " 17  trafficSource.campaign                        903653 non-null  object\n",
      " 18  trafficSource.source                          903653 non-null  object\n",
      " 19  trafficSource.medium                          903653 non-null  object\n",
      " 20  trafficSource.keyword                         400724 non-null  object\n",
      " 21  trafficSource.referralPath                    330941 non-null  object\n",
      " 22  trafficSource.adwordsClickInfo.page           21460 non-null   object\n",
      " 23  trafficSource.adwordsClickInfo.slot           21460 non-null   object\n",
      " 24  trafficSource.adwordsClickInfo.gclId          21561 non-null   object\n",
      " 25  trafficSource.adwordsClickInfo.adNetworkType  21460 non-null   object\n",
      " 26  trafficSource.adContent                       10946 non-null   object\n",
      "dtypes: bool(1), int64(2), object(24)\n",
      "memory usage: 180.1+ MB\n"
     ]
    }
   ],
   "source": [
    "flattened_df.info()"
   ]
  },
  {
   "cell_type": "markdown",
   "metadata": {},
   "source": [
    "> Khi này, số dòng không đổi nhưng dữ liệu chỉ còn `27 cột` và có 1 vài `cell` bị thiếu dữ liệu."
   ]
  },
  {
   "cell_type": "markdown",
   "metadata": {},
   "source": [
    "##### 💾 Ta lưu lại dữ liệu này để backup"
   ]
  },
  {
   "cell_type": "code",
   "execution_count": 17,
   "metadata": {},
   "outputs": [],
   "source": [
    "flattened_df.to_csv('../data/processed/train_reduced.csv', index=False, na_rep='None')"
   ]
  },
  {
   "cell_type": "code",
   "execution_count": 18,
   "metadata": {},
   "outputs": [],
   "source": [
    "# Đọc dữ liệu đã được làm phẳng và giảm số lượng cột (nếu cần)\n",
    "reduced_df = pd.read_csv('../data/processed/train_reduced.csv')"
   ]
  },
  {
   "cell_type": "markdown",
   "metadata": {},
   "source": [
    "___"
   ]
  },
  {
   "cell_type": "markdown",
   "metadata": {},
   "source": [
    "##### Ta phân tích tình trạng thiếu dữ liệu của các cột còn lại"
   ]
  },
  {
   "cell_type": "code",
   "execution_count": 4,
   "metadata": {},
   "outputs": [
    {
     "data": {
      "text/html": [
       "<div>\n",
       "<style scoped>\n",
       "    .dataframe tbody tr th:only-of-type {\n",
       "        vertical-align: middle;\n",
       "    }\n",
       "\n",
       "    .dataframe tbody tr th {\n",
       "        vertical-align: top;\n",
       "    }\n",
       "\n",
       "    .dataframe thead th {\n",
       "        text-align: right;\n",
       "    }\n",
       "</style>\n",
       "<table border=\"1\" class=\"dataframe\">\n",
       "  <thead>\n",
       "    <tr style=\"text-align: right;\">\n",
       "      <th></th>\n",
       "      <th>column_name</th>\n",
       "      <th>percent_missing</th>\n",
       "    </tr>\n",
       "  </thead>\n",
       "  <tbody>\n",
       "    <tr>\n",
       "      <th>26</th>\n",
       "      <td>trafficSource.adContent</td>\n",
       "      <td>98.788694</td>\n",
       "    </tr>\n",
       "    <tr>\n",
       "      <th>16</th>\n",
       "      <td>totals.transactionRevenue</td>\n",
       "      <td>98.725728</td>\n",
       "    </tr>\n",
       "    <tr>\n",
       "      <th>22</th>\n",
       "      <td>trafficSource.adwordsClickInfo.page</td>\n",
       "      <td>97.625195</td>\n",
       "    </tr>\n",
       "    <tr>\n",
       "      <th>23</th>\n",
       "      <td>trafficSource.adwordsClickInfo.slot</td>\n",
       "      <td>97.625195</td>\n",
       "    </tr>\n",
       "    <tr>\n",
       "      <th>25</th>\n",
       "      <td>trafficSource.adwordsClickInfo.adNetworkType</td>\n",
       "      <td>97.625195</td>\n",
       "    </tr>\n",
       "    <tr>\n",
       "      <th>24</th>\n",
       "      <td>trafficSource.adwordsClickInfo.gclId</td>\n",
       "      <td>97.614018</td>\n",
       "    </tr>\n",
       "    <tr>\n",
       "      <th>21</th>\n",
       "      <td>trafficSource.referralPath</td>\n",
       "      <td>63.377425</td>\n",
       "    </tr>\n",
       "    <tr>\n",
       "      <th>20</th>\n",
       "      <td>trafficSource.keyword</td>\n",
       "      <td>55.655102</td>\n",
       "    </tr>\n",
       "    <tr>\n",
       "      <th>15</th>\n",
       "      <td>totals.pageviews</td>\n",
       "      <td>0.011066</td>\n",
       "    </tr>\n",
       "    <tr>\n",
       "      <th>1</th>\n",
       "      <td>date</td>\n",
       "      <td>0.000000</td>\n",
       "    </tr>\n",
       "    <tr>\n",
       "      <th>0</th>\n",
       "      <td>channelGrouping</td>\n",
       "      <td>0.000000</td>\n",
       "    </tr>\n",
       "    <tr>\n",
       "      <th>10</th>\n",
       "      <td>geoNetwork.region</td>\n",
       "      <td>0.000000</td>\n",
       "    </tr>\n",
       "  </tbody>\n",
       "</table>\n",
       "</div>"
      ],
      "text/plain": [
       "                                     column_name  percent_missing\n",
       "26                       trafficSource.adContent        98.788694\n",
       "16                     totals.transactionRevenue        98.725728\n",
       "22           trafficSource.adwordsClickInfo.page        97.625195\n",
       "23           trafficSource.adwordsClickInfo.slot        97.625195\n",
       "25  trafficSource.adwordsClickInfo.adNetworkType        97.625195\n",
       "24          trafficSource.adwordsClickInfo.gclId        97.614018\n",
       "21                    trafficSource.referralPath        63.377425\n",
       "20                         trafficSource.keyword        55.655102\n",
       "15                              totals.pageviews         0.011066\n",
       "1                                           date         0.000000\n",
       "0                                channelGrouping         0.000000\n",
       "10                             geoNetwork.region         0.000000"
      ]
     },
     "execution_count": 4,
     "metadata": {},
     "output_type": "execute_result"
    }
   ],
   "source": [
    "# From: https://stackoverflow.com/questions/51070985/find-out-the-percentage-of-missing-values-in-each-column-in-the-given-dataset\n",
    "def _create_missing_value_df(df: pd.DataFrame) -> pd.DataFrame:\n",
    "    \"\"\"Create a dataframe containing information about missing values in df\"\"\"\n",
    "    percent_missing = df.isnull().sum() * 100 / df.shape[0]\n",
    "    missing_value_df = pd.DataFrame({'column_name': df.columns,\n",
    "                                     'percent_missing': percent_missing})\n",
    "    missing_value_df.reset_index(drop=True, inplace=True)\n",
    "    missing_value_df.sort_values(by='percent_missing', ascending=False, inplace=True)\n",
    "    return missing_value_df\n",
    "\n",
    "# Check how much percentage of missing data in each colummn:\n",
    "missing_value_df = _create_missing_value_df(train_df)\n",
    "missing_value_df.head(12)"
   ]
  },
  {
   "cell_type": "markdown",
   "metadata": {},
   "source": [
    "Ta có thể biễu diễn dưới dạng đồ thị để dễ quan sát hơn"
   ]
  },
  {
   "cell_type": "code",
   "execution_count": 5,
   "metadata": {},
   "outputs": [
    {
     "data": {
      "image/png": "[encoded data removed]",
      "text/plain": [
       "<Figure size 600x800 with 1 Axes>"
      ]
     },
     "metadata": {},
     "output_type": "display_data"
    }
   ],
   "source": [
    "missing_value_df.sort_values(by='percent_missing', ascending=True)\\\n",
    "                    .plot.barh(x='column_name',\n",
    "                               y='percent_missing',\n",
    "                               figsize=(6, 8),\n",
    "                               title='Percentage of missing data in each column');"
   ]
  },
  {
   "cell_type": "markdown",
   "metadata": {},
   "source": [
    "## 4.5. Phân tích cụ thể từng cột bị thiếu giá trị"
   ]
  },
  {
   "cell_type": "markdown",
   "metadata": {},
   "source": [
    "#### 🎯 `totals.transactionRevenue`"
   ]
  },
  {
   "cell_type": "markdown",
   "metadata": {},
   "source": [
    "🔭 Ta xem các giá trị có trong cột này"
   ]
  },
  {
   "cell_type": "code",
   "execution_count": 6,
   "metadata": {},
   "outputs": [
    {
     "data": {
      "text/plain": [
       "count    1.151500e+04\n",
       "mean     1.337448e+08\n",
       "std      4.482852e+08\n",
       "min      1.000000e+04\n",
       "25%      2.493000e+07\n",
       "50%      4.945000e+07\n",
       "75%      1.076550e+08\n",
       "max      2.312950e+10\n",
       "Name: totals.transactionRevenue, dtype: float64"
      ]
     },
     "execution_count": 6,
     "metadata": {},
     "output_type": "execute_result"
    }
   ],
   "source": [
    "train_df['totals.transactionRevenue'].describe()"
   ]
  },
  {
   "cell_type": "code",
   "execution_count": 7,
   "metadata": {},
   "outputs": [
    {
     "data": {
      "text/plain": [
       "array([       nan, 3.7860e+07, 3.0667e+08, ..., 3.3526e+08, 3.0750e+07,\n",
       "       6.9390e+07])"
      ]
     },
     "execution_count": 7,
     "metadata": {},
     "output_type": "execute_result"
    }
   ],
   "source": [
    "train_df['totals.transactionRevenue'].unique()"
   ]
  },
  {
   "cell_type": "markdown",
   "metadata": {},
   "source": [
    "> Cột này thể hiện tổng giá trị giao dịch trong phiên nên ta chỉ cần \n",
    "> thay các giá trị `NaN` bằng `0`."
   ]
  },
  {
   "cell_type": "markdown",
   "metadata": {},
   "source": [
    "🔨 Điền giá trị `0` vào các ô bị trống"
   ]
  },
  {
   "cell_type": "code",
   "execution_count": 8,
   "metadata": {},
   "outputs": [],
   "source": [
    "train_df['totals.transactionRevenue'].fillna(0, inplace=True)"
   ]
  },
  {
   "cell_type": "markdown",
   "metadata": {},
   "source": [
    "#### ✂️ Với các cột bị thiếu nhiều dữ liệu"
   ]
  },
  {
   "cell_type": "markdown",
   "metadata": {},
   "source": [
    "Các thuộc tính bị thiếu quá nhiều dữ liệu (trừ giá trị mục tiêu) thường không quá hữu ích khi dùng trong phân tích. Với từng tập dữ liệu khác nhau thì ngưỡng đặt ra cũng khác nhau. Thông thường, nếu 1 cột có hơn `75%` dữ liệu bị thiếu thì đây cột này được xem là thiếu dữ liệu trầm trọng ta sẽ ưu tiên loại bỏ nó khỏi tập dữ liệu."
   ]
  },
  {
   "cell_type": "code",
   "execution_count": 9,
   "metadata": {},
   "outputs": [],
   "source": [
    "def drop_missing_features(df: pd.DataFrame, missing_lst: dict, threshold: float = 75.0) -> pd.DataFrame:\n",
    "    \"\"\"Drop missing features from Pandas dataframe base on given threshold.\n",
    "\n",
    "    Args:\n",
    "        df (pd.DataFrame): Input dataframe for processing.\n",
    "        missing_lst (dict, optional): Dict missing value rate which calculated from previous stage. Defaults to dict(num_col_info_df.iloc[0]).\n",
    "        threshold (float, optional): User threshold for dropping. Defaults to 75.0.\n",
    "\n",
    "    Returns:\n",
    "        pd.DataFrame: Updated dataframe\n",
    "    \"\"\"\n",
    "    # YOUR CODE HERE\n",
    "    # raise NotImplementedError()\n",
    "    if (df is None) or (missing_lst is None) or (threshold is None):\n",
    "        print(f\"[LOG] Invalid.\")\n",
    "        raise ValueError\n",
    "    \n",
    "    # Create a copy of the dataframe to avoid changing the original\n",
    "    df_cp = df.copy()\n",
    "    \n",
    "    # List to maintain the columns to drop\n",
    "    cols_to_trim = []\n",
    "    \n",
    "    for key, value in missing_lst.items():\n",
    "        if float(value) > threshold:\n",
    "            cols_to_trim.append(key)\n",
    "            \n",
    "    if len(cols_to_trim) > 0:\n",
    "        # drop the columns identified using the dataframe drop() method\n",
    "        df_cp = df_cp.drop(columns=cols_to_trim)\n",
    "        print(\"[LOG] Dropped column(s): \" + \"\\n + \".join([\"\"]+cols_to_trim))\n",
    "    else:\n",
    "        print(\"[LOG] Have no column(s) to trim.\")\n",
    "        \n",
    "    return df_cp"
   ]
  },
  {
   "cell_type": "code",
   "execution_count": 10,
   "metadata": {},
   "outputs": [
    {
     "name": "stdout",
     "output_type": "stream",
     "text": [
      "[LOG] Dropped column(s): \n",
      " + trafficSource.adContent\n",
      " + totals.transactionRevenue\n",
      " + trafficSource.adwordsClickInfo.page\n",
      " + trafficSource.adwordsClickInfo.slot\n",
      " + trafficSource.adwordsClickInfo.adNetworkType\n",
      " + trafficSource.adwordsClickInfo.gclId\n"
     ]
    }
   ],
   "source": [
    "train_df = drop_missing_features(\n",
    "    train_df, \n",
    "    {col_name: percent_missing\n",
    "     for col_name, percent_missing in zip(missing_value_df['column_name'],\n",
    "                                          missing_value_df['percent_missing'])}\n",
    ")"
   ]
  },
  {
   "cell_type": "code",
   "execution_count": 11,
   "metadata": {},
   "outputs": [
    {
     "data": {
      "text/plain": [
       "(903653, 21)"
      ]
     },
     "execution_count": 11,
     "metadata": {},
     "output_type": "execute_result"
    }
   ],
   "source": [
    "train_df.shape"
   ]
  },
  {
   "cell_type": "markdown",
   "metadata": {},
   "source": [
    "> Sau khi loại bỏ các cột bị thiếu nhiều giá trị, dữ liệu của chúng ta chỉ còn `21` cột."
   ]
  },
  {
   "cell_type": "markdown",
   "metadata": {},
   "source": [
    "❓ Tình trạng thiếu dữ liệu của các cột còn lại"
   ]
  },
  {
   "cell_type": "code",
   "execution_count": 12,
   "metadata": {},
   "outputs": [
    {
     "data": {
      "text/html": [
       "<div>\n",
       "<style scoped>\n",
       "    .dataframe tbody tr th:only-of-type {\n",
       "        vertical-align: middle;\n",
       "    }\n",
       "\n",
       "    .dataframe tbody tr th {\n",
       "        vertical-align: top;\n",
       "    }\n",
       "\n",
       "    .dataframe thead th {\n",
       "        text-align: right;\n",
       "    }\n",
       "</style>\n",
       "<table border=\"1\" class=\"dataframe\">\n",
       "  <thead>\n",
       "    <tr style=\"text-align: right;\">\n",
       "      <th></th>\n",
       "      <th>column_name</th>\n",
       "      <th>percent_missing</th>\n",
       "    </tr>\n",
       "  </thead>\n",
       "  <tbody>\n",
       "    <tr>\n",
       "      <th>20</th>\n",
       "      <td>trafficSource.referralPath</td>\n",
       "      <td>63.377425</td>\n",
       "    </tr>\n",
       "    <tr>\n",
       "      <th>19</th>\n",
       "      <td>trafficSource.keyword</td>\n",
       "      <td>55.655102</td>\n",
       "    </tr>\n",
       "    <tr>\n",
       "      <th>15</th>\n",
       "      <td>totals.pageviews</td>\n",
       "      <td>0.011066</td>\n",
       "    </tr>\n",
       "    <tr>\n",
       "      <th>1</th>\n",
       "      <td>date</td>\n",
       "      <td>0.000000</td>\n",
       "    </tr>\n",
       "    <tr>\n",
       "      <th>0</th>\n",
       "      <td>channelGrouping</td>\n",
       "      <td>0.000000</td>\n",
       "    </tr>\n",
       "  </tbody>\n",
       "</table>\n",
       "</div>"
      ],
      "text/plain": [
       "                   column_name  percent_missing\n",
       "20  trafficSource.referralPath        63.377425\n",
       "19       trafficSource.keyword        55.655102\n",
       "15            totals.pageviews         0.011066\n",
       "1                         date         0.000000\n",
       "0              channelGrouping         0.000000"
      ]
     },
     "execution_count": 12,
     "metadata": {},
     "output_type": "execute_result"
    }
   ],
   "source": [
    "missing_value_df = _create_missing_value_df(train_df)\n",
    "missing_value_df.head(5)"
   ]
  },
  {
   "cell_type": "markdown",
   "metadata": {},
   "source": [
    "#### 🔍 Ta quan sát các cột còn bị thiếu giá trị"
   ]
  },
  {
   "cell_type": "markdown",
   "metadata": {},
   "source": [
    "##### 🤔 `trafficSource.referralPath`"
   ]
  },
  {
   "cell_type": "markdown",
   "metadata": {},
   "source": [
    "Ta quan sát một vài giá trị trong cột này"
   ]
  },
  {
   "cell_type": "code",
   "execution_count": 13,
   "metadata": {},
   "outputs": [
    {
     "data": {
      "text/plain": [
       "trafficSource.referralPath\n",
       "NaN                                                                                                                                                                                                                 572712\n",
       "/                                                                                                                                                                                                                    75523\n",
       "/yt/about/                                                                                                                                                                                                           71036\n",
       "/analytics/web/                                                                                                                                                                                                      14620\n",
       "/yt/about/tr/                                                                                                                                                                                                        14599\n",
       "                                                                                                                                                                                                                     ...  \n",
       "/ads/richmedia/studio/pv2/45679610/dirty/index.html                                                                                                                                                                      1\n",
       "/ads/richmedia/studio/pv2/45529016/dirty/index.html                                                                                                                                                                      1\n",
       "/from=1015785e/bd_page_type=1/ssid=0/uid=0/pu=usm%402%2Csz%401320_2001%2Cta%40iphone_1_9.3_3_601/baiduid=39801B0966F60CD0C5500E77C58B1AE1/w=0_10_google+store/t=iphone/l=3/tc                                            1\n",
       "/from=2001a/bd_page_type=1/ssid=a7666b796e6b616e6779696e696e67b903/uid=0/pu=usm%400%2Csz%401320_1003%2Cta%40iphone_2_6.0_1_11.0/baiduid=835BE70DC9630E6554653F182F315509/w=0_10_google+app+store/t=iphone/l=3/tc         1\n",
       "/class_sections/14064/modules/9450/activities/99087                                                                                                                                                                      1\n",
       "Name: count, Length: 1476, dtype: int64"
      ]
     },
     "execution_count": 13,
     "metadata": {},
     "output_type": "execute_result"
    }
   ],
   "source": [
    "train_df['trafficSource.referralPath'].value_counts(dropna=False)"
   ]
  },
  {
   "cell_type": "markdown",
   "metadata": {},
   "source": [
    "> * [Referral Path](https://neilpatel.com/blog/referral-paths-in-google-analytics/) đề cập\n",
    "> đến đường dẫn hoặc chuỗi các trang web mà người dùng đã truy cập để đến trang web hiện tại.\n",
    ">\n",
    "> * Trong Google Analytics, `Referral Path` cho phép chúng ta xem các trang web khác đã \n",
    "> giới thiệu người dùng đến trang web của mình.\n",
    ">\n",
    "> * Thuộc tính này có hơn `60%` dữ liệu bị thiếu và các giá trị có trong cột cũng tương đối và khó phân tích nên ta có thể bỏ cột này khỏi tập dữ liệu"
   ]
  },
  {
   "cell_type": "markdown",
   "metadata": {},
   "source": [
    "🔨 Loại bỏ cột `trafficSource.referralPath` khỏi tập dữ liệu"
   ]
  },
  {
   "cell_type": "code",
   "execution_count": 14,
   "metadata": {},
   "outputs": [],
   "source": [
    "if 'trafficSource.referralPath' in train_df.columns:\n",
    "    train_df.drop('trafficSource.referralPath', axis=1, inplace=True)"
   ]
  },
  {
   "cell_type": "markdown",
   "metadata": {},
   "source": [
    "##### 🤔 `trafficSource.keyword`"
   ]
  },
  {
   "cell_type": "markdown",
   "metadata": {},
   "source": [
    "Ta xem một vài giá trị có trong cột này"
   ]
  },
  {
   "cell_type": "code",
   "execution_count": 15,
   "metadata": {},
   "outputs": [
    {
     "data": {
      "text/plain": [
       "trafficSource.keyword\n",
       "NaN                                502929\n",
       "(not provided)                     366363\n",
       "6qEhsCssdK0z36ri                    11503\n",
       "(Remarketing/Content targeting)      2298\n",
       "1hZbAqLCbjwfgOH7                     2264\n",
       "google merchandise store             2209\n",
       "Google Merchandise                   1648\n",
       "google store                         1277\n",
       "youtube                               568\n",
       "(User vertical targeting)             489\n",
       "Name: count, dtype: int64"
      ]
     },
     "execution_count": 15,
     "metadata": {},
     "output_type": "execute_result"
    }
   ],
   "source": [
    "keyword_val_counts = train_df['trafficSource.keyword'].value_counts(dropna=False)\n",
    "keyword_val_counts[:10]"
   ]
  },
  {
   "cell_type": "code",
   "execution_count": 16,
   "metadata": {},
   "outputs": [
    {
     "name": "stdout",
     "output_type": "stream",
     "text": [
      "Proportion of meaningless value in `trafficSource.keyword`: 96.20%\n"
     ]
    }
   ],
   "source": [
    "# Propotion of meaningless value in 'trafficSource.keyword'\n",
    "meaningless_keyword_prop = keyword_val_counts[:2].values.sum() \\\n",
    "                            / keyword_val_counts.values.sum() * 100\n",
    "print(f\"Proportion of meaningless value in `trafficSource.keyword`: {meaningless_keyword_prop:.2f}%\")"
   ]
  },
  {
   "cell_type": "markdown",
   "metadata": {},
   "source": [
    "> * Về mặt lý thuyết thì thuộc tính này chỉ có khoảng *55%* dữ liệu bị thiếu. Nhưng trên thực tế có đến khoảng *96%* dữ liệu trong cột này là chưa thể sử dụng được.\n",
    "> * Do đó, ta sẽ loại bỏ cột này khỏi tập dữ liệu."
   ]
  },
  {
   "cell_type": "markdown",
   "metadata": {},
   "source": [
    "❗ Loại bỏ cột `trafficSource.keyword` khỏi tập dữ liệu"
   ]
  },
  {
   "cell_type": "code",
   "execution_count": 17,
   "metadata": {},
   "outputs": [],
   "source": [
    "# Drop 'trafficSource.keyword' column\n",
    "if 'trafficSource.keyword' in train_df.columns:\n",
    "    train_df.drop('trafficSource.keyword', axis=1, inplace=True)"
   ]
  },
  {
   "cell_type": "markdown",
   "metadata": {},
   "source": [
    "##### ⌘ `totals.pageviews`"
   ]
  },
  {
   "cell_type": "markdown",
   "metadata": {},
   "source": [
    "Ta xem mô tả của cột `totals.pageviews`"
   ]
  },
  {
   "cell_type": "code",
   "execution_count": 18,
   "metadata": {},
   "outputs": [
    {
     "data": {
      "text/plain": [
       "count    903553.000000\n",
       "mean          3.849764\n",
       "std           7.025274\n",
       "min           1.000000\n",
       "25%           1.000000\n",
       "50%           1.000000\n",
       "75%           4.000000\n",
       "max         469.000000\n",
       "Name: totals.pageviews, dtype: float64"
      ]
     },
     "execution_count": 18,
     "metadata": {},
     "output_type": "execute_result"
    }
   ],
   "source": [
    "train_df['totals.pageviews'].describe()"
   ]
  },
  {
   "cell_type": "markdown",
   "metadata": {},
   "source": [
    "> <u>*Nhận xét:*</u> \n",
    ">   * Vì cột này bị thiếu dữ liệu nên ta có thể thay thế giá trị `NaN` thành giá trị `median` của cột. \n",
    ">\n",
    ">   * Cũng chính giá trị `NaN` đã làm cho cột này có kiểu dữ liệu `float64`. Do đó ta cũng cần chuyển đổi kiểu dữ liệu của cột này thành `int`."
   ]
  },
  {
   "cell_type": "markdown",
   "metadata": {},
   "source": [
    "❗ Thay giá trị bị thiếu bằng `median` của cột `totals.pageviews` và chuyển đổi kiểu dữ liệu của cột này thành `int`"
   ]
  },
  {
   "cell_type": "code",
   "execution_count": 19,
   "metadata": {},
   "outputs": [
    {
     "name": "stdout",
     "output_type": "stream",
     "text": [
      "Number of missing values: 0\n",
      "totals.pageviews's dtype: int64\n"
     ]
    }
   ],
   "source": [
    "# Fill `nan` with median value\n",
    "train_df['totals.pageviews'].fillna(train_df['totals.pageviews'].median(), inplace=True)\n",
    "\n",
    "# Change datatype of column to `int`\n",
    "train_df['totals.pageviews'] = train_df['totals.pageviews'].astype(np.int_)\n",
    "\n",
    "# Display result\n",
    "print(f\"Number of missing values: {train_df['totals.pageviews'].isnull().sum()}\")\n",
    "print(f\"totals.pageviews's dtype: {train_df['totals.pageviews'].dtype}\")"
   ]
  },
  {
   "cell_type": "markdown",
   "metadata": {},
   "source": [
    "#### 🔍 Ta quan sát các cột không thiếu giá trị"
   ]
  },
  {
   "cell_type": "markdown",
   "metadata": {},
   "source": [
    "##### ⌘ `date` "
   ]
  },
  {
   "cell_type": "markdown",
   "metadata": {},
   "source": [
    "✍ Ta quan sát một vài giá trị và kiểu dữ liệu của thuộc tính này"
   ]
  },
  {
   "cell_type": "code",
   "execution_count": 20,
   "metadata": {},
   "outputs": [
    {
     "data": {
      "text/plain": [
       "100000    20161030\n",
       "100001    20161030\n",
       "100002    20161030\n",
       "100003    20161030\n",
       "100004    20161030\n",
       "Name: date, dtype: int64"
      ]
     },
     "execution_count": 20,
     "metadata": {},
     "output_type": "execute_result"
    }
   ],
   "source": [
    "train_df[\"date\"][100000:100005]"
   ]
  },
  {
   "cell_type": "markdown",
   "metadata": {},
   "source": [
    "> 💡 <u>*Quan sát*</u>: \n",
    "> * Cột `date` đang có kiểu dữ liệu là `int` và mỗi giá trị trong cột có định dạng \"YYYY_MM_DD\". Ta sẽ chuyển các giá trị trong cột này sang kiểu `datetime`."
   ]
  },
  {
   "cell_type": "markdown",
   "metadata": {},
   "source": [
    "🔨 Chuyển các giá trị trong cột `date` sang kiểu `datetime`"
   ]
  },
  {
   "cell_type": "code",
   "execution_count": 21,
   "metadata": {},
   "outputs": [
    {
     "data": {
      "text/plain": [
       "100000   2016-10-30\n",
       "100001   2016-10-30\n",
       "100002   2016-10-30\n",
       "100003   2016-10-30\n",
       "100004   2016-10-30\n",
       "Name: date, dtype: datetime64[ns]"
      ]
     },
     "execution_count": 21,
     "metadata": {},
     "output_type": "execute_result"
    }
   ],
   "source": [
    "# Convert date to datetime type\n",
    "train_df['date'] = pd.to_datetime(train_df['date'], format='%Y%m%d')\n",
    "\n",
    "# Check the result\n",
    "train_df['date'][100000:100005]"
   ]
  },
  {
   "cell_type": "markdown",
   "metadata": {},
   "source": [
    "✨ Vì cột `date` chỉ mang giá trị tổng quát nên ta có thể trích xuất ra các thông tin hữu ích hơn từ dữ liệu này. Sau đó, ta có thể bỏ cột `date` khỏi tập dữ liệu để tiết kiệm không gian lưu trữ."
   ]
  },
  {
   "cell_type": "code",
   "execution_count": 22,
   "metadata": {},
   "outputs": [],
   "source": [
    "if 'date' in train_df.columns:\n",
    "    # Extract time features from `date` column\n",
    "    train_df['date.day']        = train_df['date'].dt.day\n",
    "    train_df['date.year']       = train_df['date'].dt.year\n",
    "    train_df['date.month']      = train_df['date'].dt.month\n",
    "    train_df['date.weekDay']    = train_df['date'].dt.weekday\n",
    "    train_df['date.weekOfYear'] = train_df['date'].dt.isocalendar().week\n",
    "\n",
    "    # Drop `date` column\n",
    "    train_df.drop('date', axis=1, inplace=True)"
   ]
  },
  {
   "cell_type": "markdown",
   "metadata": {},
   "source": [
    "##### `visitNumber` ✅"
   ]
  },
  {
   "cell_type": "markdown",
   "metadata": {},
   "source": [
    "Ta quan sát kiểu dữ liệu và phân bố của cột này"
   ]
  },
  {
   "cell_type": "code",
   "execution_count": 23,
   "metadata": {},
   "outputs": [
    {
     "name": "stdout",
     "output_type": "stream",
     "text": [
      ">> `visitNumber` column datatype: int64\n"
     ]
    },
    {
     "data": {
      "text/plain": [
       "count    903653.000000\n",
       "mean          2.264897\n",
       "std           9.283735\n",
       "min           1.000000\n",
       "25%           1.000000\n",
       "50%           1.000000\n",
       "75%           1.000000\n",
       "max         395.000000\n",
       "Name: visitNumber, dtype: float64"
      ]
     },
     "execution_count": 23,
     "metadata": {},
     "output_type": "execute_result"
    }
   ],
   "source": [
    "print(f\">> `visitNumber` column datatype: {train_df['visitNumber'].dtype}\")\n",
    "train_df['visitNumber'].describe()"
   ]
  },
  {
   "cell_type": "markdown",
   "metadata": {},
   "source": [
    "> Kiểu dữ liệu của cột này là `int64` cũng là kiểu dữ liệu mà ta mong đợi nên ta không cần xử lý thêm."
   ]
  },
  {
   "cell_type": "markdown",
   "metadata": {},
   "source": [
    "##### `channelGrouping` ✅"
   ]
  },
  {
   "cell_type": "markdown",
   "metadata": {},
   "source": [
    "✍ Phân loại `channelGrouping`:"
   ]
  },
  {
   "cell_type": "code",
   "execution_count": 24,
   "metadata": {},
   "outputs": [
    {
     "data": {
      "text/plain": [
       "channelGrouping\n",
       "Organic Search    381561\n",
       "Social            226117\n",
       "Direct            143026\n",
       "Referral          104838\n",
       "Paid Search        25326\n",
       "Affiliates         16403\n",
       "Display             6262\n",
       "(Other)              120\n",
       "Name: count, dtype: int64"
      ]
     },
     "execution_count": 24,
     "metadata": {},
     "output_type": "execute_result"
    }
   ],
   "source": [
    "train_df[\"channelGrouping\"].value_counts(dropna=False)"
   ]
  },
  {
   "cell_type": "markdown",
   "metadata": {},
   "source": [
    "> 💡 <u>*Quan sát*</u>: Thuộc tính này không bị thiếu dữ liệu và tất cả giá trị đều không cần chỉnh sửa."
   ]
  },
  {
   "cell_type": "markdown",
   "metadata": {},
   "source": [
    "##### ⌘ `device.operatingSystem`"
   ]
  },
  {
   "cell_type": "markdown",
   "metadata": {},
   "source": [
    "❓ Có bao nhiêu loại *hệ điều hành* được người dùng sử dụng và số lượng của từng loại?"
   ]
  },
  {
   "cell_type": "code",
   "execution_count": 25,
   "metadata": {},
   "outputs": [
    {
     "data": {
      "text/plain": [
       "device.operatingSystem\n",
       "Windows          350072\n",
       "Macintosh        253938\n",
       "Android          123892\n",
       "iOS              107665\n",
       "Linux             35034\n",
       "Chrome OS         26337\n",
       "(not set)          4695\n",
       "Windows Phone      1216\n",
       "Samsung             280\n",
       "BlackBerry          218\n",
       "Nintendo Wii        100\n",
       "Firefox OS           89\n",
       "Xbox                 66\n",
       "Nintendo WiiU        35\n",
       "FreeBSD               9\n",
       "Nokia                 2\n",
       "OpenBSD               2\n",
       "NTT DoCoMo            1\n",
       "Nintendo 3DS          1\n",
       "SunOS                 1\n",
       "Name: count, dtype: int64"
      ]
     },
     "execution_count": 25,
     "metadata": {},
     "output_type": "execute_result"
    }
   ],
   "source": [
    "train_df[\"device.operatingSystem\"].value_counts(dropna=False)"
   ]
  },
  {
   "cell_type": "code",
   "execution_count": 26,
   "metadata": {},
   "outputs": [
    {
     "data": {
      "image/png": "[encoded data removed]",
      "text/plain": [
       "<Figure size 640x480 with 1 Axes>"
      ]
     },
     "metadata": {},
     "output_type": "display_data"
    }
   ],
   "source": [
    "device_os = train_df[\"device.operatingSystem\"].value_counts()\n",
    "plt.pie(device_os, radius=1.2, labels=device_os.index, \n",
    "        autopct='%1.0f%%', explode=[0.01]*device_os.size);"
   ]
  },
  {
   "cell_type": "markdown",
   "metadata": {},
   "source": [
    "> 💡 <u>*Quan sát*</u>: \n",
    "> * Ta có thể kể tên một vài hệ điều hành được sử dụng phổ biến là: Windows, Macintosh, Android, v.v. \n",
    "> * Đối với các hệ điều hành không được cung cấp thông tin (not set) hoặc ít được sử dụng thì ta sẽ gom chúng thành 1 nhóm để dữ liệu ít phân tán hơn."
   ]
  },
  {
   "cell_type": "markdown",
   "metadata": {},
   "source": [
    "🔨 Gom các hệ điều hành không được cung cấp thông tin và ít được sử dụng thành 1 nhóm"
   ]
  },
  {
   "cell_type": "code",
   "execution_count": 27,
   "metadata": {},
   "outputs": [
    {
     "data": {
      "text/plain": [
       "device.operatingSystem\n",
       "Windows      350072\n",
       "Macintosh    253938\n",
       "Android      123892\n",
       "iOS          107665\n",
       "Linux         35034\n",
       "Chrome OS     26337\n",
       "Others         6715\n",
       "Name: count, dtype: int64"
      ]
     },
     "execution_count": 27,
     "metadata": {},
     "output_type": "execute_result"
    }
   ],
   "source": [
    "# List of frequent operating systems\n",
    "freq_os = ['Windows', 'Macintosh', 'Android', 'iOS', 'Linux', 'Chrome OS']\n",
    "\n",
    "# Replace the operating systems other than the frequent ones with 'Others'\n",
    "train_df.loc[\n",
    "    ~train_df['device.operatingSystem'].isin(freq_os),\n",
    "    'device.operatingSystem'\n",
    "] = 'Others'\n",
    "\n",
    "# Check the result\n",
    "train_df['device.operatingSystem'].value_counts(dropna=False)"
   ]
  },
  {
   "cell_type": "markdown",
   "metadata": {},
   "source": [
    "##### ⌘ `device.browser`"
   ]
  },
  {
   "cell_type": "markdown",
   "metadata": {},
   "source": [
    "❗ Theo như quan sát thì cột này có 2 loại giá trị đặc biệt là `(not set)` và `0`, chúng không có ý nghĩa gì cả. Đầu tiên ta sẽ xem tỉ trọng của 2 loại giá trị trên trong cột này."
   ]
  },
  {
   "cell_type": "code",
   "execution_count": 28,
   "metadata": {},
   "outputs": [
    {
     "name": "stdout",
     "output_type": "stream",
     "text": [
      "Proportion of meaningless values in the column: 0.0017%\n"
     ]
    }
   ],
   "source": [
    "# Get browser column\n",
    "device_browser = train_df[\"device.browser\"]\n",
    "\n",
    "# Number of meaningless values\n",
    "n_meaningless_browser_val = device_browser[(device_browser == \"(not set)\") | (device_browser == \"0\")].size\n",
    "\n",
    "# Proportion of meaningless values in the column\n",
    "print(f\"Proportion of meaningless values in the column: {n_meaningless_browser_val / device_browser.size * 100:.4f}%\")"
   ]
  },
  {
   "cell_type": "markdown",
   "metadata": {},
   "source": [
    "🔨 Vì 2 giá trị này chiếm tỉ trọng quá nhỏ trong cột mà ta đang quan sát nên ta có thể thực hiện xử lý cơ bản: thay 2 giá trị này thành giá trị `mode` của cột `device.browser`"
   ]
  },
  {
   "cell_type": "code",
   "execution_count": 29,
   "metadata": {},
   "outputs": [],
   "source": [
    "# Mode value of the column\n",
    "most_common_browser = device_browser.mode()[0]\n",
    "\n",
    "# Replace meaningless values with the mode value\n",
    "train_df[\"device.browser\"].replace(\n",
    "    {\"(not set)\": most_common_browser, \"0\": most_common_browser}, \n",
    "    inplace=True\n",
    ")"
   ]
  },
  {
   "cell_type": "markdown",
   "metadata": {},
   "source": [
    "🎨 Ta quan sát phân bố các giá trị trong cột này"
   ]
  },
  {
   "cell_type": "code",
   "execution_count": 30,
   "metadata": {},
   "outputs": [
    {
     "data": {
      "text/plain": [
       "Text(0.5, 0, 'Proportion (%)')"
      ]
     },
     "execution_count": 30,
     "metadata": {},
     "output_type": "execute_result"
    },
    {
     "data": {
      "image/png": "[encoded data removed]",
      "text/plain": [
       "<Figure size 640x480 with 1 Axes>"
      ]
     },
     "metadata": {},
     "output_type": "display_data"
    }
   ],
   "source": [
    "# Count the number of each browser\n",
    "browser_val_counts = train_df[\"device.browser\"].value_counts(dropna=False)\n",
    "# Calculate the proportion of each browser\n",
    "browser_val_proportions = browser_val_counts / browser_val_counts.sum() * 100\n",
    "# Get small proportion browsers\n",
    "top_5_common_browser = browser_val_proportions.head(5)\n",
    "\n",
    "# Viz.\n",
    "ax = sns.barplot(x=top_5_common_browser.values, \n",
    "                 y=top_5_common_browser.index,\n",
    "                 hue=top_5_common_browser.index,\n",
    "                 palette=sns.color_palette(\"husl\")[:5]);\n",
    "ax.set_xlabel(\"Proportion (%)\")"
   ]
  },
  {
   "cell_type": "markdown",
   "metadata": {},
   "source": [
    "> 💭<u>*Thông tin quan sát được:*</u>\n",
    ">   * `Chrome` là web-browser được người dùng sử dụng nhiều nhất, chiếm khoảng *70%* tổng số lượt truy cập. Xếp thứ hai là `Safari` với khoảng *20%* tổng số lượt truy cập. Tức là số lượng truy cập từ `Chrome` gấp hơn 3 lần so với số lượng truy cập từ `Safari`.\n",
    ">\n",
    ">   * Có thể thấy rằng `Chrome` và `Safari` là 2 browser được sử dụng phổ biến nhất, chỉ 2 browser này đã chiếm khoảng *90%* giá trị trong cột này.\n",
    ">\n",
    ">   * Các browser khác như `Firefox`, `IE`, `Edge` cũng được sử dụng tương đối phổ biến nhưng tỷ trọng của chúng không quá lớn như `Chrome` và `Safari`."
   ]
  },
  {
   "cell_type": "markdown",
   "metadata": {},
   "source": [
    "##### `device.isMobile` ✅"
   ]
  },
  {
   "cell_type": "markdown",
   "metadata": {},
   "source": [
    "✍ Phân loại `device.isMobile`:"
   ]
  },
  {
   "cell_type": "code",
   "execution_count": 31,
   "metadata": {},
   "outputs": [
    {
     "data": {
      "text/plain": [
       "device.isMobile\n",
       "False    664530\n",
       "True     239123\n",
       "Name: count, dtype: int64"
      ]
     },
     "execution_count": 31,
     "metadata": {},
     "output_type": "execute_result"
    }
   ],
   "source": [
    "train_df[\"device.isMobile\"].value_counts(dropna=False)"
   ]
  },
  {
   "cell_type": "markdown",
   "metadata": {},
   "source": [
    "> 💡 <u>*Quan sát*</u>: Thuộc tính này không bị thiếu dữ liệu và tất cả giá trị đều \"dễ hiểu\" nên ta không cần chỉnh sửa."
   ]
  },
  {
   "cell_type": "markdown",
   "metadata": {},
   "source": [
    "##### ⌘ `geoNetwork.country`"
   ]
  },
  {
   "cell_type": "markdown",
   "metadata": {},
   "source": [
    "❗ Trong cột này có một vài giá trị rỗng là `(not set)`. Ta cần xem tỉ trọng của giá trị này trên toàn bộ cột dữ liệu để quyết định bước xử lý tiếp theo."
   ]
  },
  {
   "cell_type": "code",
   "execution_count": 32,
   "metadata": {},
   "outputs": [
    {
     "name": "stdout",
     "output_type": "stream",
     "text": [
      "Proportion of empty values in the column: 0.16%\n"
     ]
    }
   ],
   "source": [
    "# Get `country` column\n",
    "country = train_df[\"geoNetwork.country\"]\n",
    "\n",
    "print(f\"Proportion of empty values in the column: {country[country == '(not set)'].size / country.size * 100:.2f}%\")"
   ]
  },
  {
   "cell_type": "markdown",
   "metadata": {},
   "source": [
    "🔨 Vì giá trị này không chiếm tỉ trọng quá lớn nên ta có thể xử lý bằng cách thay thế chúng bằng `mode` của cột này"
   ]
  },
  {
   "cell_type": "code",
   "execution_count": 33,
   "metadata": {},
   "outputs": [],
   "source": [
    "# Get most common value\n",
    "most_common_country = country.mode()[0]\n",
    "\n",
    "# Replace empty values with the most common value\n",
    "train_df[\"geoNetwork.country\"].replace(\n",
    "    {\"(not set)\": most_common_country},\n",
    "    inplace=True\n",
    ")"
   ]
  },
  {
   "cell_type": "markdown",
   "metadata": {},
   "source": [
    "🎨 Xem phân bố của các giá trị trong thuộc tính này"
   ]
  },
  {
   "cell_type": "code",
   "execution_count": 34,
   "metadata": {},
   "outputs": [
    {
     "data": {
      "image/png": "[encoded data removed]",
      "text/plain": [
       "<Figure size 640x480 with 1 Axes>"
      ]
     },
     "metadata": {},
     "output_type": "display_data"
    }
   ],
   "source": [
    "# Get number of each `country` in the column\n",
    "country_val_counts = train_df[\"geoNetwork.country\"].value_counts(dropna=False)\n",
    "# Calculate the proportion of each `country`\n",
    "country_val_proportions = country_val_counts / country_val_counts.sum() * 100\n",
    "# Get small proportion `country`\n",
    "top_8_common_country = country_val_proportions.head(8)\n",
    "\n",
    "# Viz.\n",
    "ax = sns.barplot(y=top_8_common_country.values, \n",
    "                 x=top_8_common_country.index,\n",
    "                 hue=top_8_common_country.index,\n",
    "                 palette=sns.color_palette(\"husl\",10)[:8],\n",
    "                 orient='v');\n",
    "\n",
    "ax.set_ylabel(\"Proportion (%)\")\n",
    "ax.xaxis.set_tick_params(rotation=30)\n",
    "plt.show();"
   ]
  },
  {
   "cell_type": "markdown",
   "metadata": {},
   "source": [
    "> 💭<u>*Thông tin quan sát được:*</u>\n",
    ">   * `US` là quốc gia có nhiều lượt truy cập cửa hàng của Google nhất, chiếm khoảng *40%* tổng số lượng truy cập ghi nhận được. \n",
    ">\n",
    ">   * `India` là quốc gia xếp thứ 2 với khoảng *6%* tổng số lượt truy cập, ít hơn khoảng *7* lần so với `US`.\n",
    ">\n",
    ">   * Ngoài `US` - `India`, thì các quốc gia còn lại có số lượng truy cập chênh lệch không quá nhiều so với quốc gia xếp ngay bên trên."
   ]
  },
  {
   "cell_type": "markdown",
   "metadata": {},
   "source": [
    "##### `device.deviceCategory` ✅"
   ]
  },
  {
   "cell_type": "markdown",
   "metadata": {},
   "source": [
    "✍ Phân loại `device.deviceCategory`:"
   ]
  },
  {
   "cell_type": "code",
   "execution_count": 35,
   "metadata": {},
   "outputs": [
    {
     "data": {
      "text/plain": [
       "device.deviceCategory\n",
       "desktop    664479\n",
       "mobile     208725\n",
       "tablet      30449\n",
       "Name: count, dtype: int64"
      ]
     },
     "execution_count": 35,
     "metadata": {},
     "output_type": "execute_result"
    }
   ],
   "source": [
    "train_df[\"device.deviceCategory\"].value_counts(dropna=False)"
   ]
  },
  {
   "cell_type": "markdown",
   "metadata": {},
   "source": [
    "> 💡 <u>*Quan sát*</u>: Thuộc tính này không bị thiếu dữ liệu và tất cả giá trị đều \"dễ hiểu\" nên ta không cần chỉnh sửa."
   ]
  },
  {
   "cell_type": "markdown",
   "metadata": {},
   "source": [
    "##### ⌘ `geoNetwork.continent`"
   ]
  },
  {
   "cell_type": "markdown",
   "metadata": {},
   "source": [
    "🎨 Quan sát các giá trị (phân loại) khác nhau và tỉ trọng của chúng"
   ]
  },
  {
   "cell_type": "code",
   "execution_count": 36,
   "metadata": {},
   "outputs": [
    {
     "data": {
      "image/png": "[encoded data removed]",
      "text/plain": [
       "<Figure size 640x480 with 1 Axes>"
      ]
     },
     "metadata": {},
     "output_type": "display_data"
    }
   ],
   "source": [
    "geoNetwork_continent = train_df[\"geoNetwork.continent\"].value_counts(dropna=False)\n",
    "plt.pie(geoNetwork_continent, radius=1.1, labels=geoNetwork_continent.index, \n",
    "        autopct='%1.01f%%', explode=[0.01]*geoNetwork_continent.size,\n",
    "        pctdistance=1.2, labeldistance=1.4);"
   ]
  },
  {
   "cell_type": "markdown",
   "metadata": {},
   "source": [
    "> 📝 <u>*Nhận xét:*</u> \n",
    "> * Giá trị `Americas` chiếm khoảng *50%* tổng số giá trị (và đồng thời là yếu vị) của thuộc tính này.\n",
    "> * Ngoài ra, thuộc tính này có khoảng *0.2%* giá trị trống `(not set)`. Do số lượng giá trị bị thiếu là không đáng kể nên ta sẽ thay chúng bằng giá trị `mode` của cột này."
   ]
  },
  {
   "cell_type": "markdown",
   "metadata": {},
   "source": [
    "🔨 Thay các giá trị `(not set)` bằng mode của thuộc tính này "
   ]
  },
  {
   "cell_type": "code",
   "execution_count": 37,
   "metadata": {},
   "outputs": [
    {
     "data": {
      "text/plain": [
       "geoNetwork.continent\n",
       "Americas    451845\n",
       "Asia        223698\n",
       "Europe      198311\n",
       "Oceania      15054\n",
       "Africa       14745\n",
       "Name: count, dtype: int64"
      ]
     },
     "execution_count": 37,
     "metadata": {},
     "output_type": "execute_result"
    }
   ],
   "source": [
    "# Find mode of 'geoNetwork.continent'\n",
    "geo_continent_mode = train_df['geoNetwork.continent'].mode()[0]\n",
    "\n",
    "# Replace '(not set)' with mode\n",
    "train_df['geoNetwork.continent'].replace(\n",
    "    to_replace='(not set)',\n",
    "    value=geo_continent_mode,\n",
    "    inplace=True\n",
    ")\n",
    "\n",
    "# Check the result\n",
    "train_df['geoNetwork.continent'].value_counts(dropna=False)"
   ]
  },
  {
   "cell_type": "markdown",
   "metadata": {},
   "source": [
    "##### ⌘ `geoNetwork.subContinent`"
   ]
  },
  {
   "cell_type": "markdown",
   "metadata": {},
   "source": [
    "🔨 Thay giá trị bị trống `(not set)` bằng giá trị `mode` của cột đang xem xét"
   ]
  },
  {
   "cell_type": "code",
   "execution_count": 38,
   "metadata": {},
   "outputs": [],
   "source": [
    "train_df[\"geoNetwork.subContinent\"].replace(\n",
    "    {\"(not set)\": train_df[\"geoNetwork.subContinent\"].mode()[0]},\n",
    "    inplace=True\n",
    ")"
   ]
  },
  {
   "cell_type": "markdown",
   "metadata": {},
   "source": [
    "🎨 Ta quan sát phân bố của một vài giá trị trong cột"
   ]
  },
  {
   "cell_type": "code",
   "execution_count": 39,
   "metadata": {},
   "outputs": [
    {
     "data": {
      "image/png": "[encoded data removed]",
      "text/plain": [
       "<Figure size 640x480 with 1 Axes>"
      ]
     },
     "metadata": {},
     "output_type": "display_data"
    }
   ],
   "source": [
    "# Get number of each `geoNetwork.subContinent` in the column\n",
    "sub_continent = train_df[\"geoNetwork.subContinent\"].value_counts(dropna=False)\n",
    "# Calculate the proportion of each `geoNetwork.subContinent`\n",
    "sub_continent_proportions = sub_continent / sub_continent.sum() * 100\n",
    "# Get small proportion `geoNetwork.subContinent`\n",
    "sub_continent_proportions = sub_continent_proportions.head(10)\n",
    "\n",
    "# Viz.\n",
    "ax = sns.barplot(y=sub_continent_proportions.index,\n",
    "                 x=sub_continent_proportions.values,\n",
    "                 hue=sub_continent_proportions.index,\n",
    "                 palette=\"mako_r\",\n",
    "                 orient='h')\n",
    "ax.set_xlabel(\"Proportion (%)\");"
   ]
  },
  {
   "cell_type": "markdown",
   "metadata": {},
   "source": [
    "> 💭<u>*Thông tin quan sát được:*</u>\n",
    ">   * `Northern America` là tiểu lục địa có nhiều lượt truy cập nhất đến website của Google. Con số này có thể đến phần nhiều từ quốc gia `US` đã đề cập bên trên."
   ]
  },
  {
   "cell_type": "markdown",
   "metadata": {},
   "source": [
    "##### 🤔 `geoNetwork.city`"
   ]
  },
  {
   "cell_type": "markdown",
   "metadata": {},
   "source": [
    "🎨 Ta quan sát phân bố của các giá trị trong cột này"
   ]
  },
  {
   "cell_type": "code",
   "execution_count": 40,
   "metadata": {},
   "outputs": [
    {
     "data": {
      "image/png": "[encoded data removed]",
      "text/plain": [
       "<Figure size 640x480 with 1 Axes>"
      ]
     },
     "metadata": {},
     "output_type": "display_data"
    }
   ],
   "source": [
    "# Calculate proportion of each city\n",
    "city_proportions = train_df[\"geoNetwork.city\"].value_counts(dropna=False) \\\n",
    "                    / train_df[\"geoNetwork.city\"].size * 100\n",
    "city_proportions = city_proportions.head(10)\n",
    "\n",
    "# Color palette to highlight meaningless values\n",
    "colors = ['orange' if (\"not\" in x) else 'skyblue' \n",
    "          for x in city_proportions.index]\n",
    "# Visualize\n",
    "ax = sns.barplot(x=city_proportions.values, \n",
    "                 y=city_proportions.index, \n",
    "                 hue=city_proportions.index,\n",
    "                 orient='h',\n",
    "                 palette=colors)\n",
    "ax.set_xlabel(\"Proportion (%)\");"
   ]
  },
  {
   "cell_type": "markdown",
   "metadata": {},
   "source": [
    "> 📝 <u>*Nhận xét:*</u> \n",
    "> * Hai giá trị không có nhiều ý nghĩa là `not available in demo dataset` và `(not set)` chiếm khoảng *60%* giá trị của thuộc tính này. Đây là con số có độ lớn trung bình: không quá nhiều nhưng cũng không quá ít.\n",
    ">\n",
    "> * Khi này ta có 2 hướng xử lý:\n",
    ">   1. Ta loại bỏ thuộc tính này ra khỏi tập dữ liệu.\n",
    ">   2. Gom 2 giá trị bên trên thành 1 nhóm và tiếp tục phân tích khoảng *40%* giá trị có ý nghĩa còn lại."
   ]
  },
  {
   "cell_type": "code",
   "execution_count": 41,
   "metadata": {},
   "outputs": [],
   "source": [
    "# TODO:"
   ]
  },
  {
   "cell_type": "markdown",
   "metadata": {},
   "source": [
    "##### 🤔 `geoNetwork.metro`"
   ]
  },
  {
   "cell_type": "markdown",
   "metadata": {},
   "source": [
    "🎨 Quan sát các giá trị (phân loại) khác nhau và tỉ trọng của chúng "
   ]
  },
  {
   "cell_type": "code",
   "execution_count": 42,
   "metadata": {},
   "outputs": [
    {
     "data": {
      "image/png": "[encoded data removed]",
      "text/plain": [
       "<Figure size 640x480 with 1 Axes>"
      ]
     },
     "metadata": {},
     "output_type": "display_data"
    }
   ],
   "source": [
    "train_df[\"geoNetwork.metro\"].value_counts(dropna=False)\\\n",
    "    .plot.pie(radius=1.2, autopct='%1.0f%%',\n",
    "              ylabel='');"
   ]
  },
  {
   "cell_type": "markdown",
   "metadata": {},
   "source": [
    "> 📝 <u>*Nhận xét:*</u>\n",
    "> * Hai giá trị xuất hiện nhiều nhất là `not available in demo dataset` và `(not set)`. Trên lý thuyết thì cả hai giá trị này đều không đóng góp quá nhiều vào việc giúp ta hiểu hơn về dữ liệu.\n",
    ">\n",
    "> * Hơn thế nữa, tổng tỉ trọng của 2 giá trị trên chiếm khoảng *78%* giá trị trong thuộc tính ta đang xem xét, đây là con số khá lớn. \n",
    ">\n",
    "> * Với việc có khoảng 80% giá trị của một cột không có quá nhiều ý nghĩa thì ta có thể <u><i>**cân nhắc**</i></u> việc bỏ cột này khỏi tập dữ liệu."
   ]
  },
  {
   "cell_type": "code",
   "execution_count": 43,
   "metadata": {},
   "outputs": [],
   "source": [
    "# TODO:"
   ]
  },
  {
   "cell_type": "markdown",
   "metadata": {},
   "source": [
    "##### 🤔 `geoNetwork.region`"
   ]
  },
  {
   "cell_type": "markdown",
   "metadata": {},
   "source": [
    "🎨 Ta quan sát phân bố của các giá trị trong cột này"
   ]
  },
  {
   "cell_type": "code",
   "execution_count": 44,
   "metadata": {},
   "outputs": [
    {
     "data": {
      "image/png": "[encoded data removed]",
      "text/plain": [
       "<Figure size 640x480 with 1 Axes>"
      ]
     },
     "metadata": {},
     "output_type": "display_data"
    }
   ],
   "source": [
    "# Calculate proportion of each region\n",
    "region_proportions = train_df[\"geoNetwork.region\"].value_counts(dropna=False) \\\n",
    "                    / train_df[\"geoNetwork.region\"].size * 100\n",
    "region_proportions = region_proportions.head(10)\n",
    "\n",
    "# Color palette to highlight meaningless values\n",
    "colors = ['coral' if (\"not\" in x) else 'lightskyblue' \n",
    "          for x in region_proportions.index]\n",
    "# Visualize\n",
    "ax = sns.barplot(x=region_proportions.values, \n",
    "                 y=region_proportions.index, \n",
    "                 hue=region_proportions.index,\n",
    "                 orient='h',\n",
    "                 palette=colors)\n",
    "ax.set_xlabel(\"Proportion (%)\");"
   ]
  },
  {
   "cell_type": "markdown",
   "metadata": {},
   "source": [
    "> 📝 <u>*Nhận xét:*</u> \n",
    "> * Cột này có phân bố khá tương đồng với thuộc tính `geoNetwork.city` mà ta đã phân tích bên trên: Hai giá trị không có nhiều ý nghĩa là `not available in demo dataset` và `(not set)` chiếm khoảng *60%* giá trị của thuộc tính này. \n",
    ">\n",
    "> * Do đó, ta sẽ xử lý cột này tương tự như cách đã thực hiện đối với thuộc tính `geoNetwork.city`."
   ]
  },
  {
   "cell_type": "code",
   "execution_count": 45,
   "metadata": {},
   "outputs": [],
   "source": [
    "# TODO:"
   ]
  },
  {
   "cell_type": "markdown",
   "metadata": {},
   "source": [
    "##### ⌘ `geoNetwork.networkDomain`"
   ]
  },
  {
   "cell_type": "markdown",
   "metadata": {},
   "source": [
    ">   Theo [thông tin tìm kiếm được](https://support.google.com/analytics/answer/3437719?hl=en-GBanswer=1686200#:~:text=geoNetwork.networkDomain) thì `geoNetwork.networkDomain` là tên miền của `ISP` (nhà cung cấp dịch vụ mạng) cho người dùng, xuất phát từ tên miền được đăng ký theo địa chỉ IP của `ISP`. Thuộc tính này không chứa nhiều thông tin hữu ích cho việc phân tích dữ liệu nên nó không còn được hỗ trợ bởi các phiên bản `Google Analytics` sau này. \n",
    ">\n",
    "> **⇨** Từ thông tin thu thập được, ta quyết định loại bỏ cột `geoNetwork.networkDomain` ra khỏi tập dữ liệu."
   ]
  },
  {
   "cell_type": "markdown",
   "metadata": {},
   "source": [
    "🔨 Loại bỏ thuộc tính này khỏi tập dữ liệu"
   ]
  },
  {
   "cell_type": "code",
   "execution_count": 46,
   "metadata": {},
   "outputs": [],
   "source": [
    "# Drop column from the dataframe\n",
    "if \"geoNetwork.networkDomain\" in train_df.columns:\n",
    "    train_df.drop(\"geoNetwork.networkDomain\", axis=1, inplace=True)"
   ]
  },
  {
   "cell_type": "markdown",
   "metadata": {},
   "source": [
    "##### 🤔 `trafficSource.campaign`"
   ]
  },
  {
   "cell_type": "markdown",
   "metadata": {},
   "source": [
    "✍ Phân loại `trafficSource.campaign`:"
   ]
  },
  {
   "cell_type": "code",
   "execution_count": 47,
   "metadata": {},
   "outputs": [
    {
     "data": {
      "text/plain": [
       "trafficSource.campaign\n",
       "(not set)                                          865347\n",
       "Data Share Promo                                    16403\n",
       "AW - Dynamic Search Ads Whole Site                  14244\n",
       "AW - Accessories                                     7070\n",
       "test-liyuhz                                           392\n",
       "AW - Electronics                                       96\n",
       "Retail (DO NOT EDIT owners nophakun and tianyu)        50\n",
       "AW - Apparel                                           46\n",
       "All Products                                            4\n",
       "Data Share                                              1\n",
       "Name: count, dtype: int64"
      ]
     },
     "execution_count": 47,
     "metadata": {},
     "output_type": "execute_result"
    }
   ],
   "source": [
    "traffic_campaign = train_df[\"trafficSource.campaign\"].value_counts(dropna=False)\n",
    "traffic_campaign"
   ]
  },
  {
   "cell_type": "code",
   "execution_count": 48,
   "metadata": {},
   "outputs": [
    {
     "data": {
      "image/png": "[encoded data removed]",
      "text/plain": [
       "<Figure size 640x480 with 1 Axes>"
      ]
     },
     "metadata": {},
     "output_type": "display_data"
    }
   ],
   "source": [
    "traffic_campaign.plot.pie(\n",
    "    radius=1., autopct='%1.1f%%',\n",
    "    pctdistance=1.2, labeldistance=1.4,\n",
    "    ylabel='',\n",
    "    explode=[0.2]*len(traffic_campaign)\n",
    ");"
   ]
  },
  {
   "cell_type": "markdown",
   "metadata": {},
   "source": [
    "> 📝 <u>*Nhận xét:*</u>\n",
    "> * Hơn *95%* giá trị trong cột này là `(not set)`, đây là giá trị không có quá nhiều ý nghĩa khi phân tích dữ liệu.\n",
    "> \n",
    "> * Đồng thời, chỉ có 3 chiến dịch quảng cáo: `Data Share Promo`, `AW - Dynamic Search Ads Whole Site` và `AW - Accessories` là có ý nghĩa khi phân tích, các chiến dịch còn lại có số lượng không đáng kể nên ta cũng không cần quan tâm.\n",
    ">\n",
    "> * Khi này, ta có 2 hướng xử lý:\n",
    ">   1. Loại bỏ cột này khỏi tập dữ liệu.\n",
    ">   2. Gom `(not set)` và một vài giá trị không quan trọng thành 1 nhóm."
   ]
  },
  {
   "cell_type": "code",
   "execution_count": 49,
   "metadata": {},
   "outputs": [],
   "source": [
    "# TODO:"
   ]
  },
  {
   "cell_type": "markdown",
   "metadata": {},
   "source": [
    "##### `totals.hits` ✅"
   ]
  },
  {
   "cell_type": "markdown",
   "metadata": {},
   "source": [
    "Ta quan sát kiểu giá trị của cột này"
   ]
  },
  {
   "cell_type": "code",
   "execution_count": 50,
   "metadata": {},
   "outputs": [
    {
     "data": {
      "text/plain": [
       "dtype('int64')"
      ]
     },
     "execution_count": 50,
     "metadata": {},
     "output_type": "execute_result"
    }
   ],
   "source": [
    "train_df['totals.hits'].dtype"
   ]
  },
  {
   "cell_type": "markdown",
   "metadata": {},
   "source": [
    "> Vì kiểu dữ liệu của cột này đã chính xác nên ta không cần xử lý thêm"
   ]
  },
  {
   "cell_type": "markdown",
   "metadata": {},
   "source": [
    "Ta có thể xem phân bố của cột này"
   ]
  },
  {
   "cell_type": "code",
   "execution_count": 51,
   "metadata": {},
   "outputs": [
    {
     "data": {
      "text/plain": [
       "count    903653.000000\n",
       "mean          4.596538\n",
       "std           9.641437\n",
       "min           1.000000\n",
       "25%           1.000000\n",
       "50%           2.000000\n",
       "75%           4.000000\n",
       "max         500.000000\n",
       "Name: totals.hits, dtype: float64"
      ]
     },
     "execution_count": 51,
     "metadata": {},
     "output_type": "execute_result"
    }
   ],
   "source": [
    "train_df['totals.hits'].describe()"
   ]
  },
  {
   "cell_type": "code",
   "execution_count": 52,
   "metadata": {},
   "outputs": [
    {
     "data": {
      "image/png": "[encoded data removed]",
      "text/plain": [
       "<Figure size 640x480 with 1 Axes>"
      ]
     },
     "metadata": {},
     "output_type": "display_data"
    }
   ],
   "source": [
    "sns.histplot(x=train_df['totals.hits'], bins=50);"
   ]
  },
  {
   "cell_type": "markdown",
   "metadata": {},
   "source": [
    "##### ⌘ `trafficSource.medium`"
   ]
  },
  {
   "cell_type": "markdown",
   "metadata": {},
   "source": [
    "✍ Phân loại `trafficSource.medium`:"
   ]
  },
  {
   "cell_type": "code",
   "execution_count": 53,
   "metadata": {},
   "outputs": [
    {
     "data": {
      "text/plain": [
       "trafficSource.medium\n",
       "organic      381561\n",
       "referral     330955\n",
       "(none)       143026\n",
       "cpc           25326\n",
       "affiliate     16403\n",
       "cpm            6262\n",
       "(not set)       120\n",
       "Name: count, dtype: int64"
      ]
     },
     "execution_count": 53,
     "metadata": {},
     "output_type": "execute_result"
    }
   ],
   "source": [
    "train_df[\"trafficSource.medium\"].value_counts(dropna=False)"
   ]
  },
  {
   "cell_type": "markdown",
   "metadata": {},
   "source": [
    "> 💡 <u>Quan sát</u>:\n",
    "> * Ban đầu ta sẽ nghĩ `(none)` và `(not set)` là giống nhau, nhưng theo bài viết [Direct/None Traffic in Google Analytics 4](https://www.optizent.com/blog/direct-none-traffic-in-google-analytics-4-understanding-the-different-types/): \n",
    ">   * \"None/Direct web traffic\" là thuật ngữ chỉ lượng truy cập của người dùng vào một trang web mà không qua bất kỳ website trung gian (referral source) nào. \"Direct traffic\" gồm 2 hình thức phổ biến nhất là: nhập URL vào thanh tìm kiếm và dùng bookmarks, và một vài hình thức khác.\n",
    ">   * Theo một [bài viết khác](https://social.colostate.edu/best-practices/understanding-traffic-source-and-medium-in-google-analytics/#:~:text=If%20Google%20Analytics%20is%20unable%20to%20bucket%20your%20traffic%20into%20any%20of%20the%20above%2Dmentioned%20media%2C%20it%20will%20be%20categorized%20as%20Direct%20traffic.%20SEO%20research%20over%20the%20years%20has%20indicated%20that%20up%20to%2060%25%20of%20the%20traffic%20reported%20as%20Direct%20could%20actually%20be%20organic%20traffic.), có tới 60% lưu lượng truy cập được phân loại \"Direct\" thì thực sự là \"organic\". Nhưng trong bài tập này ta chỉ (đơn giản) xem chúng là 2 nhóm khác nhau. \n",
    ">\n",
    "> * Như vậy, ta sẽ đổi giá trị `(none)` trong cột này sang một cái tên có ý nghĩa hơn là `direct` và đổi giá trị `(not set)` thành `others`."
   ]
  },
  {
   "cell_type": "markdown",
   "metadata": {},
   "source": [
    "🔨 Chuyển giá trị `(none)` $\\to$ `direct` và `(not set)` $\\to$ `others`"
   ]
  },
  {
   "cell_type": "code",
   "execution_count": 54,
   "metadata": {},
   "outputs": [],
   "source": [
    "# Change some trafficSource.medium column's names\n",
    "train_df[\"trafficSource.medium\"].replace({\n",
    "    \"(none)\": \"direct\",\n",
    "    \"(not set)\": \"others\"\n",
    "}, inplace=True)"
   ]
  },
  {
   "cell_type": "code",
   "execution_count": 55,
   "metadata": {},
   "outputs": [
    {
     "data": {
      "image/png": "[encoded data removed]",
      "text/plain": [
       "<Figure size 640x480 with 1 Axes>"
      ]
     },
     "metadata": {},
     "output_type": "display_data"
    }
   ],
   "source": [
    "train_df[\"trafficSource.medium\"].value_counts(dropna=False)\\\n",
    "    .plot.pie(radius=1.2, autopct='%1.0f%%', ylabel='', pctdistance=0.8,\n",
    "              explode=[0.01]*train_df[\"trafficSource.medium\"].nunique());"
   ]
  },
  {
   "cell_type": "markdown",
   "metadata": {},
   "source": [
    "##### ⌘ `trafficSource.source`"
   ]
  },
  {
   "cell_type": "markdown",
   "metadata": {},
   "source": [
    "🔨 Vì cột này có rất nhiều dữ liệu tương đồng nên ta sẽ gom cụm chúng thông qua kết quả của mô hình `KMeans`."
   ]
  },
  {
   "cell_type": "code",
   "execution_count": 56,
   "metadata": {},
   "outputs": [],
   "source": [
    "def _clustering_traffic_source(x):\n",
    "    if   'direct'           in x: return 'direct'\n",
    "    elif 'googleplex'       in x: return 'googleplex'\n",
    "    elif 'partners'         in x: return 'partners'\n",
    "    elif 'siliconvalley'    in x: return 'siliconvalley'\n",
    "    elif 'dfa'              in x: return 'DoubleClick for Advertisers'\n",
    "    elif 'bing'             in x: return 'bing'\n",
    "    elif 'yahoo'            in x: return 'yahoo'\n",
    "    elif 'search'           in x: return 'other search engines'\n",
    "    elif 'ask'              in x: return 'other search engines'\n",
    "    elif 'pinterest'        in x: return 'pinterest'\n",
    "    elif 'youtube'          in x: return 'youtube'\n",
    "    elif 'images.google'    in x: return 'google images'\n",
    "    elif 'baidu'            in x: return 'baidu'\n",
    "    elif 'github'           in x: return 'github'\n",
    "    elif 'facebook'         in x: return 'facebook'\n",
    "    elif 'twitter'          in x: return 'twitter'\n",
    "    elif 't.co'             in x: return 'twitter'\n",
    "    elif 'telegram'         in x: return 'telegram'\n",
    "    elif 'whatsapp'         in x: return 'whatsapp'\n",
    "    elif 'reddit'           in x: return 'reddit'\n",
    "    elif 'qiita'            in x: return 'qiita'\n",
    "    elif 'quora'            in x: return 'quora'\n",
    "    elif 'linkedin'         in x: return 'linkedin'\n",
    "    elif 'amazon'           in x: return 'amazon'\n",
    "    elif 'messenger'        in x: return 'messenger'\n",
    "    elif 'yandex'           in x: return 'yandex'\n",
    "    elif 'direct'           in x: return 'direct'\n",
    "    elif 'adwords'          in x: return 'adwords'\n",
    "    elif 'adz'              in x: return 'adwords'\n",
    "    elif 'ads'              in x: return 'adwords'\n",
    "    elif 'businessinsider'  in x: return 'businessinsider'\n",
    "    elif 'google'           in x: return 'google'\n",
    "    else: return 'others'"
   ]
  },
  {
   "cell_type": "code",
   "execution_count": 57,
   "metadata": {},
   "outputs": [],
   "source": [
    "# Get trafficSource.source column\n",
    "traffic_source = train_df['trafficSource.source'].copy()\n",
    "\n",
    "# Standardize trafficSource.source column\n",
    "traffic_source = traffic_source.apply(lambda x: x.lower())\n",
    "traffic_source = traffic_source.apply(lambda x: re.sub(r\":[\\d]*$\", '', x))\n",
    "traffic_source = traffic_source.apply(lambda x: re.sub(r\"\\.com[\\w\\.]*$\", '', x))\n",
    "traffic_source = traffic_source.apply(_clustering_traffic_source)\n",
    "\n",
    "# Reassign trafficSource.source column\n",
    "train_df['trafficSource.source'] = traffic_source"
   ]
  },
  {
   "cell_type": "markdown",
   "metadata": {},
   "source": [
    "🎨 Ta quan sát phân bố của các giá trị trong cột sau khi biến đổi "
   ]
  },
  {
   "cell_type": "code",
   "execution_count": 58,
   "metadata": {},
   "outputs": [
    {
     "data": {
      "image/png": "[encoded data removed]",
      "text/plain": [
       "<Figure size 640x480 with 1 Axes>"
      ]
     },
     "metadata": {},
     "output_type": "display_data"
    }
   ],
   "source": [
    "# Get number of each `trafficSource.source` in the column\n",
    "traffic_source_val_counts = train_df[\"trafficSource.source\"].value_counts(dropna=False)\n",
    "# traffic_source_val_counts = traffic_source.value_counts(dropna=False)\n",
    "\n",
    "# Viz.\n",
    "ax = sns.barplot(x=traffic_source_val_counts.index,\n",
    "                 y=traffic_source_val_counts.values,\n",
    "                 hue=traffic_source_val_counts.index,\n",
    "                 palette=\"viridis\",\n",
    "                 orient='x')\n",
    "\n",
    "# Set x-axis, y-axis and title\n",
    "ax.xaxis.set_tick_params(rotation=90)\n",
    "ax.set_xlabel(\"\");\n",
    "ax.set_ylabel(\"# Number of visits\");\n",
    "ax.set_title(\"Traffic source distribution\");\n",
    "\n",
    "plt.yscale('log')\n",
    "plt.show();"
   ]
  },
  {
   "cell_type": "markdown",
   "metadata": {},
   "source": [
    "#### 💾 Ta lưu lại dữ liệu này để backup"
   ]
  },
  {
   "cell_type": "code",
   "execution_count": 59,
   "metadata": {},
   "outputs": [],
   "source": [
    "train_df.to_csv('../data/processed/train_preprocessed.csv', index=False, na_rep='None')"
   ]
  },
  {
   "cell_type": "code",
   "execution_count": 60,
   "metadata": {},
   "outputs": [],
   "source": [
    "train_df = pd.read_csv('../data/processed/train_preprocessed.csv')"
   ]
  },
  {
   "cell_type": "markdown",
   "metadata": {},
   "source": [
    "# ---------- BREAK ----------"
   ]
  },
  {
   "cell_type": "code",
   "execution_count": 61,
   "metadata": {},
   "outputs": [
    {
     "name": "stdout",
     "output_type": "stream",
     "text": [
      "<class 'pandas.core.frame.DataFrame'>\n",
      "RangeIndex: 903653 entries, 0 to 903652\n",
      "Data columns (total 22 columns):\n",
      " #   Column                   Non-Null Count   Dtype \n",
      "---  ------                   --------------   ----- \n",
      " 0   channelGrouping          903653 non-null  object\n",
      " 1   visitNumber              903653 non-null  int64 \n",
      " 2   device.browser           903653 non-null  object\n",
      " 3   device.operatingSystem   903653 non-null  object\n",
      " 4   device.isMobile          903653 non-null  bool  \n",
      " 5   device.deviceCategory    903653 non-null  object\n",
      " 6   geoNetwork.continent     903653 non-null  object\n",
      " 7   geoNetwork.subContinent  903653 non-null  object\n",
      " 8   geoNetwork.country       903653 non-null  object\n",
      " 9   geoNetwork.region        903653 non-null  object\n",
      " 10  geoNetwork.metro         903653 non-null  object\n",
      " 11  geoNetwork.city          903653 non-null  object\n",
      " 12  totals.hits              903653 non-null  int64 \n",
      " 13  totals.pageviews         903653 non-null  int64 \n",
      " 14  trafficSource.campaign   903653 non-null  object\n",
      " 15  trafficSource.source     903653 non-null  object\n",
      " 16  trafficSource.medium     903653 non-null  object\n",
      " 17  date.day                 903653 non-null  int64 \n",
      " 18  date.year                903653 non-null  int64 \n",
      " 19  date.month               903653 non-null  int64 \n",
      " 20  date.weekDay             903653 non-null  int64 \n",
      " 21  date.weekOfYear          903653 non-null  int64 \n",
      "dtypes: bool(1), int64(8), object(13)\n",
      "memory usage: 145.6+ MB\n"
     ]
    }
   ],
   "source": [
    "train_df.info()"
   ]
  },
  {
   "cell_type": "code",
   "execution_count": 62,
   "metadata": {},
   "outputs": [
    {
     "data": {
      "text/plain": [
       "(903653, 22)"
      ]
     },
     "execution_count": 62,
     "metadata": {},
     "output_type": "execute_result"
    }
   ],
   "source": [
    "train_df.shape"
   ]
  },
  {
   "cell_type": "code",
   "execution_count": 63,
   "metadata": {},
   "outputs": [],
   "source": [
    "# train_df['geoNetwork.networkDomain'].value_counts(dropna=False).plot.pie(\n",
    "#     radius=1.2, autopct='%1.0f%%', ylabel='', pctdistance=0.8,\n",
    "#     )"
   ]
  },
  {
   "cell_type": "code",
   "execution_count": 64,
   "metadata": {},
   "outputs": [],
   "source": [
    "# from sklearn.feature_extraction.text import TfidfVectorizer\n",
    "# from sklearn.cluster import KMeans\n",
    "# import numpy as np\n",
    "\n",
    "# # Your list of text values\n",
    "# text_values = [\n",
    "#     # ... (paste your list here)\n",
    "# ]\n",
    "# text_values = s.value_counts().index\n",
    "# # Convert text to numerical data using TF-IDF\n",
    "# vectorizer = TfidfVectorizer(stop_words='english')\n",
    "# X = vectorizer.fit_transform(text_values)\n",
    "\n",
    "# # Choose the number of clusters (you may need to adjust this based on your data)\n",
    "# num_clusters = 15\n",
    "\n",
    "# # Apply K-Means clustering\n",
    "# kmeans = KMeans(n_clusters=num_clusters, random_state=42)\n",
    "# kmeans.fit(X)\n",
    "\n",
    "# # Get cluster labels\n",
    "# cluster_labels = kmeans.labels_\n",
    "\n",
    "# # Print the clusters\n",
    "# for i in range(num_clusters):\n",
    "#     print(f\"Cluster {i + 1}:\")\n",
    "#     cluster_texts = np.array(text_values)[cluster_labels == i]\n",
    "#     for text in cluster_texts:\n",
    "#         print(f\"  - {text}\")\n",
    "#     print(\"\\n\")"
   ]
  },
  {
   "cell_type": "code",
   "execution_count": 65,
   "metadata": {},
   "outputs": [],
   "source": [
    "# def _clustering_keyword(x):\n",
    "#     if 'tube'       in x: return \"youtube\"\n",
    "#     if 'tub'        in x: return \"youtube\"\n",
    "#     if 'you'        in x: return \"youtube\"\n",
    "#     if 'yot'        in x: return \"youtube\"\n",
    "#     if 'yu'         in x: return \"youtube\"\n",
    "#     if 'yt'         in x: return \"youtube\"\n",
    "#     if 'ypu'        in x: return \"youtube\"\n",
    "#     if 'ube'        in x: return \"youtube\"\n",
    "#     if 'tbe'        in x: return \"youtube\"\n",
    "#     if 'tobe'       in x: return \"youtube\"\n",
    "#     if 'yoo'        in x: return \"youtube\"\n",
    "#     if 'υουτυβε'    in x: return \"youtube\"\n",
    "#     if 'yoiu'       in x: return \"youtube\"\n",
    "#     if 'tuibe'      in x: return \"youtube\"\n",
    "#     if 'tbue'       in x: return \"youtube\"\n",
    "    \n",
    "#     if 'buy'    in x and 'google'   in x: return \"buy + google\"\n",
    "#     if 'shirt'  in x and 'google'   in x: return \"google + (t-)shirt\"\n",
    "#     if 'shirt'  in x and 'goog'     in x: return \"google + (t-)shirt\"\n",
    "#     if 'lava'   in x and 'lamp'     in x: return \"lava + lamp\"\n",
    "    \n",
    "    \n",
    "#     if (\"goog\" in x or \"goof\" in x or \"geogle\" in x or \"geogle\" in x or \"oolge\" in x) \\\n",
    "#         and ('mer' in x or 'mar' in x or 'chandise' in x or 'sto' in x or 'ore' in x \\\n",
    "#                 or 'stroe' in x or 'shop' in x):\n",
    "#         return \"google + merchandise/store/shop\"\n",
    "    \n",
    "#     if 'bottle' in x or 'boottle' in x or 'botl' in x: \n",
    "#         return \"(water) bottle\"\n",
    "#     if 'bag' in x and 'google' not in x: \n",
    "#         return \"bag\"\n",
    "    \n",
    "#     if 'google' in x or 'goog' in x or 'oogle' in x: \n",
    "#         return \"google (brand)\"\n",
    "    \n",
    "#     if (\"android\" in x) and ('mer' in x or 'mar' in x or 'chandise' in x \\\n",
    "#         or 'sto' in x or 'ore' in x  or 'stroe' in x or 'shop' in x):\n",
    "#         return \"android + merchandise/store/shop\"\n",
    "#     if \"android\" in x or \"andriod\" in x: \n",
    "#         return \"android (brand)\"\n",
    "    \n",
    "#     if ('chandise' in x or 'mer' in x or 'mar' in x or 'shop' in x or 'store' in x):\n",
    "#         return \"other merchandise/store/shop\"\n",
    "    \n",
    "#     if \"sunglasses\" in x: return \"sunglasses\"\n",
    "#     if \"shirt\" in x or \"shart\" in x or \"shert\" in x or \"shi\" in x or \"shrit\" in x \\\n",
    "#         or \"shrt\" in x or \"shet\" in x or \"sirt\" in x: \n",
    "#         return \"(t-)shirt\"\n",
    "    \n",
    "#     if \"pen\"        in x: return \"pen\"\n",
    "#     if \"nest\"       in x: return \"pen\"\n",
    "#     if \"mug\"        in x: return \"mug\"\n",
    "#     if \"stickers\"   in x: return \"stickers\"\n",
    "#     if \"bluetooth\"  in x: return \"bluetooth\"\n",
    "#     if \"tumblers\"   in x: return \"tumblers\"\n",
    "#     if \"apparel\"    in x: return \"apparel\"\n",
    "#     if \"backpack\"   in x: return \"backpack\"\n",
    "#     if \"hoodie\"     in x: return \"hoodie\"\n",
    "    \n",
    "#     if \"journal\" in x or \"notebook\" in x: \n",
    "#         return \"notebooks + journals\"\n",
    "    \n",
    "#     return \"others\""
   ]
  },
  {
   "cell_type": "code",
   "execution_count": 66,
   "metadata": {},
   "outputs": [],
   "source": [
    "# s = train_df['trafficSource.keyword'].copy()\n",
    "# s = s.apply(lambda x: str(x).replace('+', ''))\n",
    "# s = s.apply(lambda x: str(x).lower())\n",
    "# s = s.apply(lambda x: re.sub(r\"goo[oh]gle?\", 'google', x))\n",
    "# s = s.apply(lambda x: re.sub(r\"gog[g]?le\", 'google', x))\n",
    "# s = s.apply(lambda x: re.sub(r\"goole\", 'google', x))\n",
    "# s = s.apply(lambda x: re.sub(r\"goo[l]?gel\", 'google', x))\n",
    "# s = s.apply(lambda x: re.sub(r\"gog[oa]le\", 'google', x))\n",
    "# s = s.apply(lambda x: re.sub(r\"\\.?g[ou]gel\\.?\", 'google', x))\n",
    "# s = s.apply(lambda x: re.sub(r\"gtoogle\", 'google', x))\n",
    "# s = s.apply(lambda x: re.sub(r\"g(ò|po|\\.\\.|oi|aa|ol|ood|ou|ool|opp)g(le|al)\", 'google', x))\n",
    "# s = s.apply(lambda x: re.sub(r\"\\woo[gh]le\", 'google', x))\n",
    "# s = s.apply(_my_func)\n",
    "# s.value_counts(dropna=False).shape"
   ]
  },
  {
   "cell_type": "code",
   "execution_count": null,
   "metadata": {},
   "outputs": [],
   "source": []
  }
 ],
 "metadata": {
  "kernelspec": {
   "display_name": "min_ds-env",
   "language": "python",
   "name": "python3"
  },
  "language_info": {
   "codemirror_mode": {
    "name": "ipython",
    "version": 3
   },
   "file_extension": ".py",
   "mimetype": "text/x-python",
   "name": "python",
   "nbconvert_exporter": "python",
   "pygments_lexer": "ipython3",
   "version": "3.11.6"
  }
 },
 "nbformat": 4,
 "nbformat_minor": 2
}
