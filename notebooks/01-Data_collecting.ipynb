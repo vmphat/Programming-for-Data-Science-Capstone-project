{
 "cells": [
  {
   "cell_type": "markdown",
   "metadata": {},
   "source": [
    "<link rel=\"stylesheet\" href=\"https://fonts.googleapis.com/css?family=Sofia\">\n",
    "<style>\n",
    "  @import url('https://fonts.googleapis.com/css2?family=Concert+One&display=swap');\n",
    "  .topic {\n",
    "    text-align: center;\n",
    "    font-weight: 900;\n",
    "    font-size: 50px;\n",
    "    text-shadow: 3px 3px 3px #ababab;\n",
    "    font-family: 'Concert One', sans-serif;\n",
    "  }\n",
    "  @import url('https://fonts.googleapis.com/css2?family=Lobster&display=swap');\n",
    "  .info {\n",
    "    text-align: center;\n",
    "    font-weight: 800;\n",
    "    font-size: 40px;\n",
    "    font-family: 'Lobster', sans-serif;\n",
    "  }\n",
    "</style>\n",
    "\n",
    "<h1 class=topic>Google Analytics Customer Revenue Prediction</h1>\n",
    "<h2 class=info>Vũ Minh Phát - 21127739</h2>\n",
    "\n",
    "___"
   ]
  },
  {
   "cell_type": "markdown",
   "metadata": {},
   "source": [
    "<class style=\"font-family: 'Pacifico', cursive;\">\n",
    "\n",
    "# **1. <u>GIỚI THIỆU BÀI TOÁN</u>**\n",
    "\n",
    "</class>"
   ]
  },
  {
   "cell_type": "markdown",
   "metadata": {},
   "source": [
    "<class style=\"font-size: 20px;\">\n",
    "\n",
    "* Nguyên tắc 80/20 (còn được gọi là **`\"Pareto Principle\"`**) khẳng định rằng 80% các kết quả (hoặc kết quả đầu ra) là kết quả của 20% của tất cả các nguyên nhân (hoặc đầu vào) cho một sự kiện nhất định. Nguyên tắc này được chứng minh là đúng trong hầu hết lĩnh vực kinh doanh, nghĩa là khoảng 80% doanh thu của chúng ta sẽ chỉ được tạo ra bởi 20% lượng khách hàng tiềm năng.\n",
    "\n",
    "* Vì vậy, mục tiêu của chúng ta là dự đoán doanh thu sẽ được tạo ra bởi những khách hàng tiềm năng trong tương lai gần. Điều này giúp cho các nhóm marketing đầu tư một khoản tiền phù hợp vào các chiến lược quảng cáo để thu hút các khách hàng tiềm năng.\n",
    "\n",
    "* Đơn giản mà nói, chúng ta được cung cấp dữ liệu và giao dịch trong quá khứ của một số người dùng (khi họ đăng nhập vào GStore). Và, bằng cách sử dụng dữ liệu này, chúng ta cần dự đoán doanh thu tương lai sẽ được tạo ra bởi những khách hàng đó.\n",
    "\n",
    "* Google đã cung cấp bộ dữ liệu khách hàng và số lượng giao dịch cho mỗi khách hàng. Chúng ta sẽ xây dựng một mô hình dự đoán sử dụng bộ dữ liệu GStore để dự đoán tổng doanh thu trên mỗi khách hàng giúp cho việc sử dụng ngân sách tiếp thị tốt hơn và chúng ta cũng sẽ giải thích yếu tố ảnh hưởng nhất đến dự đoán tổng doanh thu bằng các mô hình khác nhau.\n",
    "\n",
    "</class>"
   ]
  },
  {
   "cell_type": "markdown",
   "metadata": {},
   "source": [
    "___"
   ]
  },
  {
   "cell_type": "markdown",
   "metadata": {},
   "source": [
    "<class style=\"font-family: 'Comic Sans MS', 'Comic Sans', cursive;\">\n",
    "\n",
    "# **2. <u>GIỚI THIỆU VỀ TẬP DỮ LIỆU ĐƯỢC CUNG CẤP</u>**\n",
    "\n",
    "</class>"
   ]
  },
  {
   "cell_type": "markdown",
   "metadata": {},
   "source": [
    "## **2.1. Tổng quan**"
   ]
  },
  {
   "cell_type": "markdown",
   "metadata": {},
   "source": [
    "<class style=\"font-size: 20px;\">\n",
    "\n",
    "* Đường dẫn tới tập dữ liệu: https://www.kaggle.com/competitions/ga-customer-revenue-prediction/data\n",
    "\n",
    "* Ta sẽ chỉ sử dụng 1 file: `train.csv`. Vì:\n",
    "    * Nhìn chung, các tập dữ liệu phiên bản 2 (*_v2.csv) gần như giống hoàn toàn với phiên bản đang sử dụng nên việc phân tích dữ liệu trên 2 phiên bản cũng không quá khác biệt.\n",
    "    \n",
    "    * Do những hạn chế về phần cứng máy tính nên việc thao tác với ~25GB dữ liệu từ `train_v2.csv` sẽ mất rất nhiều thời gian so với ~1.5GB dữ liệu từ `train.csv`.\n",
    "\n",
    "* Trên lý thuyết, ta cần dự đoán giá trị mục tiêu cho mỗi người dùng trong `test.csv`. Nhưng đây không phải cuộc thi nên ta sẽ KHÔNG dùng tập dữ liệu này để đánh giá kết quả của mô hình học máy.\n",
    "\n",
    "* Mỗi dòng trong tập dữ liệu thể hiện cho 1 lần mà người dùng truy cập vào GStore, chúng được phân biệt với nhau thông qua mã định danh. Nghĩa là, để xác định tổng giá trị giao dịch của họ ta cần gom nhóm các người dùng dựa trên mã định danh riêng của họ.\n",
    "\n",
    "</class>"
   ]
  },
  {
   "cell_type": "markdown",
   "metadata": {},
   "source": [
    "## **2.2. Thời gian thu thập dữ liệu**"
   ]
  },
  {
   "cell_type": "markdown",
   "metadata": {},
   "source": [
    "<class style=\"font-size: 20px;\">\n",
    "\n",
    "* Tập `train.csv`: chứa các giao dịch từ ngày 01/08/2016 đến 01/08/2017.\n",
    "\n",
    "</class>"
   ]
  },
  {
   "cell_type": "markdown",
   "metadata": {},
   "source": [
    "## **2.3. Các trường (cột) trong tập dữ liệu**"
   ]
  },
  {
   "cell_type": "markdown",
   "metadata": {},
   "source": [
    "<class style=\"font-size: 20px;\">\n",
    "\n",
    "Reference: https://support.google.com/analytics/answer/3437719?hl=en-GBanswer=1686200\n",
    "\n",
    "* **`channelGrouping`** - Kênh mà người dùng đã truy cập đến GStore.\n",
    "\n",
    "* **`date`** - Ngày mà người dùng truy cập vào GStore.\n",
    "\n",
    "* **`device`** - Thông số kỹ thuật của thiết bị được sử dụng để truy cập GStore.\n",
    "\n",
    "* **`fullVisitorId`** - Mã định danh riêng của mỗi người dùng của Google Merchandise Store.\n",
    "\n",
    "* **`geoNetwork`** - Thông tin vị trí địa lý của người dùng.\n",
    "\n",
    "* **`sessionId`** - Được tạo thành từ **`fullVisitorId`** và **`visitId`**.\n",
    "\n",
    "* **`socialEngagementType`** - \"Socially Engaged\" hoặc \"Not Socially Engaged\".\n",
    "\n",
    "* **`totals`** - Chứa giá trị tổng hợp trong suốt phiên ghé thăm.\n",
    "\n",
    "* **`trafficSource`** - Thông tin về Traffic Source mà phiên bắt đầu.\n",
    "\n",
    "* **`visitId`** - Mã định danh của mỗi phiên, chỉ dành riêng cho người dùng.\n",
    "\n",
    "* **`visitNumber`** - Số lượng phiên của từng người dùng. Nếu đây là phiên đầu tiên thì giá trị này được đặt thành 1. Giá trị này tăng dần sau mỗi lần người dùng truy cập đến trang web.\n",
    "\n",
    "* **`visitStartTime`** - Timestamp (được biểu thị bằng thời gian POSIX).\n",
    "\n",
    "</class>"
   ]
  },
  {
   "cell_type": "markdown",
   "metadata": {},
   "source": [
    "___"
   ]
  },
  {
   "cell_type": "markdown",
   "metadata": {},
   "source": [
    "# ----- END CHAPTER 01 -----"
   ]
  },
  {
   "cell_type": "markdown",
   "metadata": {},
   "source": [
    "<class style=\"font-family: 'Comic Sans MS', 'Comic Sans', cursive;\">\n",
    "\n",
    "# **3. <u>Các thư viện cần sử dụng</u>**\n",
    "\n",
    "</class>"
   ]
  },
  {
   "cell_type": "code",
   "execution_count": 11,
   "metadata": {},
   "outputs": [
    {
     "data": {
      "text/html": [
       "        <script type=\"text/javascript\">\n",
       "        window.PlotlyConfig = {MathJaxConfig: 'local'};\n",
       "        if (window.MathJax && window.MathJax.Hub && window.MathJax.Hub.Config) {window.MathJax.Hub.Config({SVG: {font: \"STIX-Web\"}});}\n",
       "        if (typeof require !== 'undefined') {\n",
       "        require.undef(\"plotly\");\n",
       "        requirejs.config({\n",
       "            paths: {\n",
       "                'plotly': ['https://cdn.plot.ly/plotly-2.26.0.min']\n",
       "            }\n",
       "        });\n",
       "        require(['plotly'], function(Plotly) {\n",
       "            window._Plotly = Plotly;\n",
       "        });\n",
       "        }\n",
       "        </script>\n",
       "        "
      ]
     },
     "metadata": {},
     "output_type": "display_data"
    }
   ],
   "source": [
    "# Import Section\n",
    "import numpy as np\n",
    "import pandas as pd\n",
    "from pandas import json_normalize\n",
    "import json\n",
    "from zipfile import ZipFile\n",
    "import tqdm\n",
    "import datetime\n",
    "import re\n",
    "\n",
    "# Import matplotlib & seaborn for visualisation\n",
    "import seaborn as sns\n",
    "from plotly.offline import init_notebook_mode, iplot\n",
    "import plotly.graph_objs as go\n",
    "from plotly import tools\n",
    "\n",
    "init_notebook_mode(connected=True)\n",
    "import matplotlib.pyplot as plt\n",
    "%matplotlib inline"
   ]
  },
  {
   "cell_type": "markdown",
   "metadata": {},
   "source": [
    "<class style=\"font-family: 'Comic Sans MS', 'Comic Sans', cursive;\">\n",
    "\n",
    "# **4. <u>Đọc dữ liệu từ file</u>**\n",
    "\n",
    "</class>"
   ]
  },
  {
   "cell_type": "markdown",
   "metadata": {},
   "source": [
    "## 4.1. Xây dựng hàm đọc dữ liệu"
   ]
  },
  {
   "cell_type": "code",
   "execution_count": 2,
   "metadata": {},
   "outputs": [],
   "source": [
    "# ********** A USEFUL WAY TO READ VERY LARGE DATASETS COMPRESSED IN ZIP FILES **********\n",
    "#\n",
    "#   1.  After downloading the data from Kaggle, we will have a zip file\n",
    "#           which contain our dataset in csv format.\n",
    "#\n",
    "#   2.  Because of (very) large size of the dataset, we will not extract the zip file\n",
    "#           which help us to save our disk space.\n",
    "#\n",
    "#   3.  To read file csv in size the zip file, we will use ZipFile library.\n",
    "#           so we need to define the path to the zip file.\n",
    "#\n",
    "#   4.  After that, we can use pandas to read the csv file like normal.\n",
    "#\n",
    "# Read more at: https://favtutor.com/blogs/zipfile-python#:~:text=How%20to%20read%20a%20zip,that%20we%20want%20to%20read.\n",
    "# **************************************************************************************\n",
    "ZIP_FILE_PATH = '../data/raw/ga-customer-revenue-prediction.zip'"
   ]
  },
  {
   "cell_type": "code",
   "execution_count": 6,
   "metadata": {},
   "outputs": [],
   "source": [
    "def read_data_inside_zip_file(filename: str, zip_file_path: str = ZIP_FILE_PATH) -> pd.DataFrame:\n",
    "    \"\"\"Read the csv file inside the zip file\n",
    "    \n",
    "    Notes:\n",
    "        zip_file_path is the path to the zip file containing the csv file\n",
    "\n",
    "    Returns:\n",
    "        pd.DataFrame: dataframe of 'filename' inside the zip file\n",
    "    \"\"\"\n",
    "    with ZipFile(zip_file_path) as zf:      # Open the zip file with mode 'r'\n",
    "        with zf.open(filename) as file:     # Open 'filename' inside the zip file\n",
    "            df = pd.read_csv(file)          # Read data from 'filename'\n",
    "                                            #   => Q: Why NOT set low_memory=False to solve DtypeWarning?\n",
    "                                            #      A: Read at: https://stackoverflow.com/questions/24251219/pandas-read-csv-low-memory-and-dtype-options\n",
    "\n",
    "    return df"
   ]
  },
  {
   "cell_type": "markdown",
   "metadata": {},
   "source": [
    "## 4.2. Đọc dữ liệu"
   ]
  },
  {
   "cell_type": "code",
   "execution_count": 6,
   "metadata": {},
   "outputs": [
    {
     "name": "stderr",
     "output_type": "stream",
     "text": [
      "/tmp/ipykernel_1220/1298650587.py:12: DtypeWarning: Columns (3) have mixed types. Specify dtype option on import or set low_memory=False.\n",
      "  df = pd.read_csv(file)          # Read data from 'filename'\n"
     ]
    }
   ],
   "source": [
    "# Read the data\n",
    "train_df = read_data_inside_zip_file('train.csv')"
   ]
  },
  {
   "cell_type": "markdown",
   "metadata": {},
   "source": [
    "> Khi sử dụng `read_csv()` từ `Pandas`, thông báo `DtypeWarning` xuất hiện \n",
    "> đồng nghĩa với việc file dữ liệu có (ít nhất) 1 cột bao gồm nhiều kiểu dữ liệu (dtype)."
   ]
  },
  {
   "cell_type": "markdown",
   "metadata": {},
   "source": [
    "Cột gây ra thông báo là:"
   ]
  },
  {
   "cell_type": "code",
   "execution_count": 20,
   "metadata": {},
   "outputs": [
    {
     "name": "stdout",
     "output_type": "stream",
     "text": [
      "=> Column give DtypeWarning: fullVisitorId\n"
     ]
    }
   ],
   "source": [
    "# Columns (3) give DtypeWarning -> corresponding index is 3\n",
    "print(f\"=> Column give DtypeWarning: {train_df.columns[3]}\")"
   ]
  },
  {
   "cell_type": "markdown",
   "metadata": {},
   "source": [
    "> Trong trường hợp này, cột `fullVisitorId` là nguyên nhân của thông báo trên. Ta sẽ quan sát toàn bộ dữ liệu đã đọc và tìm cách xử lý."
   ]
  },
  {
   "cell_type": "markdown",
   "metadata": {},
   "source": [
    "Ta xem một vài thông tin về tập dữ liệu:"
   ]
  },
  {
   "cell_type": "code",
   "execution_count": 18,
   "metadata": {},
   "outputs": [
    {
     "data": {
      "text/html": [
       "<div>\n",
       "<style scoped>\n",
       "    .dataframe tbody tr th:only-of-type {\n",
       "        vertical-align: middle;\n",
       "    }\n",
       "\n",
       "    .dataframe tbody tr th {\n",
       "        vertical-align: top;\n",
       "    }\n",
       "\n",
       "    .dataframe thead th {\n",
       "        text-align: right;\n",
       "    }\n",
       "</style>\n",
       "<table border=\"1\" class=\"dataframe\">\n",
       "  <thead>\n",
       "    <tr style=\"text-align: right;\">\n",
       "      <th></th>\n",
       "      <th>channelGrouping</th>\n",
       "      <th>date</th>\n",
       "      <th>device</th>\n",
       "      <th>fullVisitorId</th>\n",
       "      <th>geoNetwork</th>\n",
       "      <th>sessionId</th>\n",
       "      <th>socialEngagementType</th>\n",
       "      <th>totals</th>\n",
       "      <th>trafficSource</th>\n",
       "      <th>visitId</th>\n",
       "      <th>visitNumber</th>\n",
       "      <th>visitStartTime</th>\n",
       "    </tr>\n",
       "  </thead>\n",
       "  <tbody>\n",
       "    <tr>\n",
       "      <th>0</th>\n",
       "      <td>Organic Search</td>\n",
       "      <td>20160902</td>\n",
       "      <td>{\"browser\": \"Chrome\", \"browserVersion\": \"not a...</td>\n",
       "      <td>1131660440785968503</td>\n",
       "      <td>{\"continent\": \"Asia\", \"subContinent\": \"Western...</td>\n",
       "      <td>1131660440785968503_1472830385</td>\n",
       "      <td>Not Socially Engaged</td>\n",
       "      <td>{\"visits\": \"1\", \"hits\": \"1\", \"pageviews\": \"1\",...</td>\n",
       "      <td>{\"campaign\": \"(not set)\", \"source\": \"google\", ...</td>\n",
       "      <td>1472830385</td>\n",
       "      <td>1</td>\n",
       "      <td>1472830385</td>\n",
       "    </tr>\n",
       "    <tr>\n",
       "      <th>1</th>\n",
       "      <td>Organic Search</td>\n",
       "      <td>20160902</td>\n",
       "      <td>{\"browser\": \"Firefox\", \"browserVersion\": \"not ...</td>\n",
       "      <td>377306020877927890</td>\n",
       "      <td>{\"continent\": \"Oceania\", \"subContinent\": \"Aust...</td>\n",
       "      <td>377306020877927890_1472880147</td>\n",
       "      <td>Not Socially Engaged</td>\n",
       "      <td>{\"visits\": \"1\", \"hits\": \"1\", \"pageviews\": \"1\",...</td>\n",
       "      <td>{\"campaign\": \"(not set)\", \"source\": \"google\", ...</td>\n",
       "      <td>1472880147</td>\n",
       "      <td>1</td>\n",
       "      <td>1472880147</td>\n",
       "    </tr>\n",
       "    <tr>\n",
       "      <th>2</th>\n",
       "      <td>Organic Search</td>\n",
       "      <td>20160902</td>\n",
       "      <td>{\"browser\": \"Chrome\", \"browserVersion\": \"not a...</td>\n",
       "      <td>3895546263509774583</td>\n",
       "      <td>{\"continent\": \"Europe\", \"subContinent\": \"South...</td>\n",
       "      <td>3895546263509774583_1472865386</td>\n",
       "      <td>Not Socially Engaged</td>\n",
       "      <td>{\"visits\": \"1\", \"hits\": \"1\", \"pageviews\": \"1\",...</td>\n",
       "      <td>{\"campaign\": \"(not set)\", \"source\": \"google\", ...</td>\n",
       "      <td>1472865386</td>\n",
       "      <td>1</td>\n",
       "      <td>1472865386</td>\n",
       "    </tr>\n",
       "    <tr>\n",
       "      <th>3</th>\n",
       "      <td>Organic Search</td>\n",
       "      <td>20160902</td>\n",
       "      <td>{\"browser\": \"UC Browser\", \"browserVersion\": \"n...</td>\n",
       "      <td>4763447161404445595</td>\n",
       "      <td>{\"continent\": \"Asia\", \"subContinent\": \"Southea...</td>\n",
       "      <td>4763447161404445595_1472881213</td>\n",
       "      <td>Not Socially Engaged</td>\n",
       "      <td>{\"visits\": \"1\", \"hits\": \"1\", \"pageviews\": \"1\",...</td>\n",
       "      <td>{\"campaign\": \"(not set)\", \"source\": \"google\", ...</td>\n",
       "      <td>1472881213</td>\n",
       "      <td>1</td>\n",
       "      <td>1472881213</td>\n",
       "    </tr>\n",
       "    <tr>\n",
       "      <th>4</th>\n",
       "      <td>Organic Search</td>\n",
       "      <td>20160902</td>\n",
       "      <td>{\"browser\": \"Chrome\", \"browserVersion\": \"not a...</td>\n",
       "      <td>27294437909732085</td>\n",
       "      <td>{\"continent\": \"Europe\", \"subContinent\": \"North...</td>\n",
       "      <td>27294437909732085_1472822600</td>\n",
       "      <td>Not Socially Engaged</td>\n",
       "      <td>{\"visits\": \"1\", \"hits\": \"1\", \"pageviews\": \"1\",...</td>\n",
       "      <td>{\"campaign\": \"(not set)\", \"source\": \"google\", ...</td>\n",
       "      <td>1472822600</td>\n",
       "      <td>2</td>\n",
       "      <td>1472822600</td>\n",
       "    </tr>\n",
       "  </tbody>\n",
       "</table>\n",
       "</div>"
      ],
      "text/plain": [
       "  channelGrouping      date  \\\n",
       "0  Organic Search  20160902   \n",
       "1  Organic Search  20160902   \n",
       "2  Organic Search  20160902   \n",
       "3  Organic Search  20160902   \n",
       "4  Organic Search  20160902   \n",
       "\n",
       "                                              device        fullVisitorId  \\\n",
       "0  {\"browser\": \"Chrome\", \"browserVersion\": \"not a...  1131660440785968503   \n",
       "1  {\"browser\": \"Firefox\", \"browserVersion\": \"not ...   377306020877927890   \n",
       "2  {\"browser\": \"Chrome\", \"browserVersion\": \"not a...  3895546263509774583   \n",
       "3  {\"browser\": \"UC Browser\", \"browserVersion\": \"n...  4763447161404445595   \n",
       "4  {\"browser\": \"Chrome\", \"browserVersion\": \"not a...    27294437909732085   \n",
       "\n",
       "                                          geoNetwork  \\\n",
       "0  {\"continent\": \"Asia\", \"subContinent\": \"Western...   \n",
       "1  {\"continent\": \"Oceania\", \"subContinent\": \"Aust...   \n",
       "2  {\"continent\": \"Europe\", \"subContinent\": \"South...   \n",
       "3  {\"continent\": \"Asia\", \"subContinent\": \"Southea...   \n",
       "4  {\"continent\": \"Europe\", \"subContinent\": \"North...   \n",
       "\n",
       "                        sessionId  socialEngagementType  \\\n",
       "0  1131660440785968503_1472830385  Not Socially Engaged   \n",
       "1   377306020877927890_1472880147  Not Socially Engaged   \n",
       "2  3895546263509774583_1472865386  Not Socially Engaged   \n",
       "3  4763447161404445595_1472881213  Not Socially Engaged   \n",
       "4    27294437909732085_1472822600  Not Socially Engaged   \n",
       "\n",
       "                                              totals  \\\n",
       "0  {\"visits\": \"1\", \"hits\": \"1\", \"pageviews\": \"1\",...   \n",
       "1  {\"visits\": \"1\", \"hits\": \"1\", \"pageviews\": \"1\",...   \n",
       "2  {\"visits\": \"1\", \"hits\": \"1\", \"pageviews\": \"1\",...   \n",
       "3  {\"visits\": \"1\", \"hits\": \"1\", \"pageviews\": \"1\",...   \n",
       "4  {\"visits\": \"1\", \"hits\": \"1\", \"pageviews\": \"1\",...   \n",
       "\n",
       "                                       trafficSource     visitId  visitNumber  \\\n",
       "0  {\"campaign\": \"(not set)\", \"source\": \"google\", ...  1472830385            1   \n",
       "1  {\"campaign\": \"(not set)\", \"source\": \"google\", ...  1472880147            1   \n",
       "2  {\"campaign\": \"(not set)\", \"source\": \"google\", ...  1472865386            1   \n",
       "3  {\"campaign\": \"(not set)\", \"source\": \"google\", ...  1472881213            1   \n",
       "4  {\"campaign\": \"(not set)\", \"source\": \"google\", ...  1472822600            2   \n",
       "\n",
       "   visitStartTime  \n",
       "0      1472830385  \n",
       "1      1472880147  \n",
       "2      1472865386  \n",
       "3      1472881213  \n",
       "4      1472822600  "
      ]
     },
     "execution_count": 18,
     "metadata": {},
     "output_type": "execute_result"
    }
   ],
   "source": [
    "train_df.head()"
   ]
  },
  {
   "cell_type": "code",
   "execution_count": 19,
   "metadata": {},
   "outputs": [
    {
     "name": "stdout",
     "output_type": "stream",
     "text": [
      "<class 'pandas.core.frame.DataFrame'>\n",
      "RangeIndex: 903653 entries, 0 to 903652\n",
      "Data columns (total 12 columns):\n",
      " #   Column                Non-Null Count   Dtype \n",
      "---  ------                --------------   ----- \n",
      " 0   channelGrouping       903653 non-null  object\n",
      " 1   date                  903653 non-null  int64 \n",
      " 2   device                903653 non-null  object\n",
      " 3   fullVisitorId         903653 non-null  object\n",
      " 4   geoNetwork            903653 non-null  object\n",
      " 5   sessionId             903653 non-null  object\n",
      " 6   socialEngagementType  903653 non-null  object\n",
      " 7   totals                903653 non-null  object\n",
      " 8   trafficSource         903653 non-null  object\n",
      " 9   visitId               903653 non-null  int64 \n",
      " 10  visitNumber           903653 non-null  int64 \n",
      " 11  visitStartTime        903653 non-null  int64 \n",
      "dtypes: int64(4), object(8)\n",
      "memory usage: 82.7+ MB\n"
     ]
    }
   ],
   "source": [
    "train_df.info()"
   ]
  },
  {
   "cell_type": "markdown",
   "metadata": {},
   "source": [
    "> * Dữ liệu có `903653 dòng` và `12 cột`:\n",
    ">   * Mỗi dòng ứng với 1 phiên truy cập tới GStore từ người dùng.\n",
    ">\n",
    ">   * Mỗi cột tương ứng 1 thuộc tính đã được đề cập bên trên.\n",
    ">\n",
    ">   * Hơn thế nữa, ta không thấy `cell` nào bị thiếu dữ liệu.\n",
    ">\n",
    "> * Các cột: `device`, `geoNetwork`, `totals` và `trafficSource` \n",
    "> hiện đang lưu trữ dữ liệu dưới dạng `JSON` nên ta có thể \n",
    "> *\"làm phẳng\"* chúng để thuận tiện thao tác."
   ]
  },
  {
   "cell_type": "markdown",
   "metadata": {},
   "source": [
    "## 4.3. Đọc dữ liệu và làm phẳng"
   ]
  },
  {
   "cell_type": "markdown",
   "metadata": {},
   "source": [
    "Ta có thể sử dụng đoạn code của [DATAISTA0 (JULIÁN PELLER)](https://www.kaggle.com/code/julian3833/1-quick-start-read-csv-and-flatten-json-fields/notebook) để thực hiện việc này."
   ]
  },
  {
   "cell_type": "code",
   "execution_count": 3,
   "metadata": {},
   "outputs": [],
   "source": [
    "# From: https://www.kaggle.com/julian3833/1-quick-start-read-csv-and-flatten-json-fields\n",
    "def read_data_and_flatten(filename: str, nrows: int = None, \n",
    "                          zip_file_path: str = ZIP_FILE_PATH) -> pd.DataFrame:\n",
    "    \"\"\"Read the csv file inside the zip file and flatten json columns\"\"\"\n",
    "    JSON_COLUMNS = ['device', 'geoNetwork', 'totals', 'trafficSource']\n",
    "    \n",
    "    with ZipFile(zip_file_path) as zf:\n",
    "        with zf.open(filename) as file:\n",
    "            df = pd.read_csv(file,\n",
    "                             # Create JSON object for every json column\n",
    "                             converters={col: json.loads for col in JSON_COLUMNS},\n",
    "                             # Important!! Considering 'fullvisitor id as string'\n",
    "                             dtype={'fullVisitorId': 'str'},\n",
    "                             nrows=nrows)\n",
    "            \n",
    "    with tqdm.tqdm(total=len(JSON_COLUMNS)) as pbar:\n",
    "        pbar.set_description(f\"Flattening process\")\n",
    "        for column in JSON_COLUMNS:\n",
    "            # json_normalize will return a flatten dataframe of json columns\n",
    "            column_as_df = json_normalize(df[column])\n",
    "            # Get column names\n",
    "            column_as_df.columns = [f\"{column}.{subcolumn}\" for subcolumn in column_as_df.columns]\n",
    "            # Drop JSON columns and merge data frame with parsed columns\n",
    "            df = df.drop(column, axis=1).merge(column_as_df, right_index=True, left_index=True)\n",
    "            \n",
    "            pbar.update(1)\n",
    "    \n",
    "    print(f\">> Loaded '{filename}' with shape: {df.shape}\")\n",
    "    return df"
   ]
  },
  {
   "cell_type": "code",
   "execution_count": 4,
   "metadata": {},
   "outputs": [
    {
     "name": "stderr",
     "output_type": "stream",
     "text": [
      "Flattening process: 100%|██████████| 4/4 [00:48<00:00, 12.16s/it]"
     ]
    },
    {
     "name": "stdout",
     "output_type": "stream",
     "text": [
      ">> Loaded 'train.csv' with shape: (903653, 55)\n"
     ]
    },
    {
     "name": "stderr",
     "output_type": "stream",
     "text": [
      "\n"
     ]
    }
   ],
   "source": [
    "# Read the data\n",
    "train_df = read_data_and_flatten('train.csv')"
   ]
  },
  {
   "cell_type": "markdown",
   "metadata": {},
   "source": [
    "> Ta thấy tham số `dtype={'fullVisitorId': 'str'}` trong hàm `read_csv()` giúp\n",
    "> thông báo `DtypeWarning` không còn xuất hiện."
   ]
  },
  {
   "cell_type": "markdown",
   "metadata": {},
   "source": [
    "Bây giờ ta sẽ quan sát dữ liệu sau khi biến đổi:"
   ]
  },
  {
   "cell_type": "code",
   "execution_count": 5,
   "metadata": {},
   "outputs": [
    {
     "data": {
      "text/html": [
       "<div>\n",
       "<style scoped>\n",
       "    .dataframe tbody tr th:only-of-type {\n",
       "        vertical-align: middle;\n",
       "    }\n",
       "\n",
       "    .dataframe tbody tr th {\n",
       "        vertical-align: top;\n",
       "    }\n",
       "\n",
       "    .dataframe thead th {\n",
       "        text-align: right;\n",
       "    }\n",
       "</style>\n",
       "<table border=\"1\" class=\"dataframe\">\n",
       "  <thead>\n",
       "    <tr style=\"text-align: right;\">\n",
       "      <th></th>\n",
       "      <th>channelGrouping</th>\n",
       "      <th>date</th>\n",
       "      <th>fullVisitorId</th>\n",
       "      <th>sessionId</th>\n",
       "      <th>socialEngagementType</th>\n",
       "      <th>visitId</th>\n",
       "      <th>visitNumber</th>\n",
       "      <th>visitStartTime</th>\n",
       "      <th>device.browser</th>\n",
       "      <th>device.browserVersion</th>\n",
       "      <th>...</th>\n",
       "      <th>trafficSource.adwordsClickInfo.criteriaParameters</th>\n",
       "      <th>trafficSource.isTrueDirect</th>\n",
       "      <th>trafficSource.referralPath</th>\n",
       "      <th>trafficSource.adwordsClickInfo.page</th>\n",
       "      <th>trafficSource.adwordsClickInfo.slot</th>\n",
       "      <th>trafficSource.adwordsClickInfo.gclId</th>\n",
       "      <th>trafficSource.adwordsClickInfo.adNetworkType</th>\n",
       "      <th>trafficSource.adwordsClickInfo.isVideoAd</th>\n",
       "      <th>trafficSource.adContent</th>\n",
       "      <th>trafficSource.campaignCode</th>\n",
       "    </tr>\n",
       "  </thead>\n",
       "  <tbody>\n",
       "    <tr>\n",
       "      <th>0</th>\n",
       "      <td>Organic Search</td>\n",
       "      <td>20160902</td>\n",
       "      <td>1131660440785968503</td>\n",
       "      <td>1131660440785968503_1472830385</td>\n",
       "      <td>Not Socially Engaged</td>\n",
       "      <td>1472830385</td>\n",
       "      <td>1</td>\n",
       "      <td>1472830385</td>\n",
       "      <td>Chrome</td>\n",
       "      <td>not available in demo dataset</td>\n",
       "      <td>...</td>\n",
       "      <td>not available in demo dataset</td>\n",
       "      <td>NaN</td>\n",
       "      <td>NaN</td>\n",
       "      <td>NaN</td>\n",
       "      <td>NaN</td>\n",
       "      <td>NaN</td>\n",
       "      <td>NaN</td>\n",
       "      <td>NaN</td>\n",
       "      <td>NaN</td>\n",
       "      <td>NaN</td>\n",
       "    </tr>\n",
       "    <tr>\n",
       "      <th>1</th>\n",
       "      <td>Organic Search</td>\n",
       "      <td>20160902</td>\n",
       "      <td>377306020877927890</td>\n",
       "      <td>377306020877927890_1472880147</td>\n",
       "      <td>Not Socially Engaged</td>\n",
       "      <td>1472880147</td>\n",
       "      <td>1</td>\n",
       "      <td>1472880147</td>\n",
       "      <td>Firefox</td>\n",
       "      <td>not available in demo dataset</td>\n",
       "      <td>...</td>\n",
       "      <td>not available in demo dataset</td>\n",
       "      <td>NaN</td>\n",
       "      <td>NaN</td>\n",
       "      <td>NaN</td>\n",
       "      <td>NaN</td>\n",
       "      <td>NaN</td>\n",
       "      <td>NaN</td>\n",
       "      <td>NaN</td>\n",
       "      <td>NaN</td>\n",
       "      <td>NaN</td>\n",
       "    </tr>\n",
       "    <tr>\n",
       "      <th>2</th>\n",
       "      <td>Organic Search</td>\n",
       "      <td>20160902</td>\n",
       "      <td>3895546263509774583</td>\n",
       "      <td>3895546263509774583_1472865386</td>\n",
       "      <td>Not Socially Engaged</td>\n",
       "      <td>1472865386</td>\n",
       "      <td>1</td>\n",
       "      <td>1472865386</td>\n",
       "      <td>Chrome</td>\n",
       "      <td>not available in demo dataset</td>\n",
       "      <td>...</td>\n",
       "      <td>not available in demo dataset</td>\n",
       "      <td>NaN</td>\n",
       "      <td>NaN</td>\n",
       "      <td>NaN</td>\n",
       "      <td>NaN</td>\n",
       "      <td>NaN</td>\n",
       "      <td>NaN</td>\n",
       "      <td>NaN</td>\n",
       "      <td>NaN</td>\n",
       "      <td>NaN</td>\n",
       "    </tr>\n",
       "    <tr>\n",
       "      <th>3</th>\n",
       "      <td>Organic Search</td>\n",
       "      <td>20160902</td>\n",
       "      <td>4763447161404445595</td>\n",
       "      <td>4763447161404445595_1472881213</td>\n",
       "      <td>Not Socially Engaged</td>\n",
       "      <td>1472881213</td>\n",
       "      <td>1</td>\n",
       "      <td>1472881213</td>\n",
       "      <td>UC Browser</td>\n",
       "      <td>not available in demo dataset</td>\n",
       "      <td>...</td>\n",
       "      <td>not available in demo dataset</td>\n",
       "      <td>NaN</td>\n",
       "      <td>NaN</td>\n",
       "      <td>NaN</td>\n",
       "      <td>NaN</td>\n",
       "      <td>NaN</td>\n",
       "      <td>NaN</td>\n",
       "      <td>NaN</td>\n",
       "      <td>NaN</td>\n",
       "      <td>NaN</td>\n",
       "    </tr>\n",
       "    <tr>\n",
       "      <th>4</th>\n",
       "      <td>Organic Search</td>\n",
       "      <td>20160902</td>\n",
       "      <td>27294437909732085</td>\n",
       "      <td>27294437909732085_1472822600</td>\n",
       "      <td>Not Socially Engaged</td>\n",
       "      <td>1472822600</td>\n",
       "      <td>2</td>\n",
       "      <td>1472822600</td>\n",
       "      <td>Chrome</td>\n",
       "      <td>not available in demo dataset</td>\n",
       "      <td>...</td>\n",
       "      <td>not available in demo dataset</td>\n",
       "      <td>True</td>\n",
       "      <td>NaN</td>\n",
       "      <td>NaN</td>\n",
       "      <td>NaN</td>\n",
       "      <td>NaN</td>\n",
       "      <td>NaN</td>\n",
       "      <td>NaN</td>\n",
       "      <td>NaN</td>\n",
       "      <td>NaN</td>\n",
       "    </tr>\n",
       "  </tbody>\n",
       "</table>\n",
       "<p>5 rows × 55 columns</p>\n",
       "</div>"
      ],
      "text/plain": [
       "  channelGrouping      date        fullVisitorId  \\\n",
       "0  Organic Search  20160902  1131660440785968503   \n",
       "1  Organic Search  20160902   377306020877927890   \n",
       "2  Organic Search  20160902  3895546263509774583   \n",
       "3  Organic Search  20160902  4763447161404445595   \n",
       "4  Organic Search  20160902    27294437909732085   \n",
       "\n",
       "                        sessionId  socialEngagementType     visitId  \\\n",
       "0  1131660440785968503_1472830385  Not Socially Engaged  1472830385   \n",
       "1   377306020877927890_1472880147  Not Socially Engaged  1472880147   \n",
       "2  3895546263509774583_1472865386  Not Socially Engaged  1472865386   \n",
       "3  4763447161404445595_1472881213  Not Socially Engaged  1472881213   \n",
       "4    27294437909732085_1472822600  Not Socially Engaged  1472822600   \n",
       "\n",
       "   visitNumber  visitStartTime device.browser          device.browserVersion  \\\n",
       "0            1      1472830385         Chrome  not available in demo dataset   \n",
       "1            1      1472880147        Firefox  not available in demo dataset   \n",
       "2            1      1472865386         Chrome  not available in demo dataset   \n",
       "3            1      1472881213     UC Browser  not available in demo dataset   \n",
       "4            2      1472822600         Chrome  not available in demo dataset   \n",
       "\n",
       "   ... trafficSource.adwordsClickInfo.criteriaParameters  \\\n",
       "0  ...                     not available in demo dataset   \n",
       "1  ...                     not available in demo dataset   \n",
       "2  ...                     not available in demo dataset   \n",
       "3  ...                     not available in demo dataset   \n",
       "4  ...                     not available in demo dataset   \n",
       "\n",
       "  trafficSource.isTrueDirect trafficSource.referralPath  \\\n",
       "0                        NaN                        NaN   \n",
       "1                        NaN                        NaN   \n",
       "2                        NaN                        NaN   \n",
       "3                        NaN                        NaN   \n",
       "4                       True                        NaN   \n",
       "\n",
       "   trafficSource.adwordsClickInfo.page trafficSource.adwordsClickInfo.slot  \\\n",
       "0                                  NaN                                 NaN   \n",
       "1                                  NaN                                 NaN   \n",
       "2                                  NaN                                 NaN   \n",
       "3                                  NaN                                 NaN   \n",
       "4                                  NaN                                 NaN   \n",
       "\n",
       "  trafficSource.adwordsClickInfo.gclId  \\\n",
       "0                                  NaN   \n",
       "1                                  NaN   \n",
       "2                                  NaN   \n",
       "3                                  NaN   \n",
       "4                                  NaN   \n",
       "\n",
       "  trafficSource.adwordsClickInfo.adNetworkType  \\\n",
       "0                                          NaN   \n",
       "1                                          NaN   \n",
       "2                                          NaN   \n",
       "3                                          NaN   \n",
       "4                                          NaN   \n",
       "\n",
       "  trafficSource.adwordsClickInfo.isVideoAd trafficSource.adContent  \\\n",
       "0                                      NaN                     NaN   \n",
       "1                                      NaN                     NaN   \n",
       "2                                      NaN                     NaN   \n",
       "3                                      NaN                     NaN   \n",
       "4                                      NaN                     NaN   \n",
       "\n",
       "  trafficSource.campaignCode  \n",
       "0                        NaN  \n",
       "1                        NaN  \n",
       "2                        NaN  \n",
       "3                        NaN  \n",
       "4                        NaN  \n",
       "\n",
       "[5 rows x 55 columns]"
      ]
     },
     "execution_count": 5,
     "metadata": {},
     "output_type": "execute_result"
    }
   ],
   "source": [
    "train_df.head()"
   ]
  },
  {
   "cell_type": "code",
   "execution_count": 46,
   "metadata": {},
   "outputs": [
    {
     "name": "stdout",
     "output_type": "stream",
     "text": [
      "<class 'pandas.core.frame.DataFrame'>\n",
      "RangeIndex: 903653 entries, 0 to 903652\n",
      "Data columns (total 31 columns):\n",
      " #   Column                                        Non-Null Count   Dtype \n",
      "---  ------                                        --------------   ----- \n",
      " 0   channelGrouping                               903653 non-null  object\n",
      " 1   date                                          903653 non-null  int64 \n",
      " 2   fullVisitorId                                 903653 non-null  object\n",
      " 3   sessionId                                     903653 non-null  object\n",
      " 4   visitId                                       903653 non-null  int64 \n",
      " 5   visitNumber                                   903653 non-null  int64 \n",
      " 6   visitStartTime                                903653 non-null  int64 \n",
      " 7   device.browser                                903653 non-null  object\n",
      " 8   device.operatingSystem                        903653 non-null  object\n",
      " 9   device.isMobile                               903653 non-null  bool  \n",
      " 10  device.deviceCategory                         903653 non-null  object\n",
      " 11  geoNetwork.continent                          903653 non-null  object\n",
      " 12  geoNetwork.subContinent                       903653 non-null  object\n",
      " 13  geoNetwork.country                            903653 non-null  object\n",
      " 14  geoNetwork.region                             903653 non-null  object\n",
      " 15  geoNetwork.metro                              903653 non-null  object\n",
      " 16  geoNetwork.city                               903653 non-null  object\n",
      " 17  geoNetwork.networkDomain                      903653 non-null  object\n",
      " 18  totals.hits                                   903653 non-null  object\n",
      " 19  totals.pageviews                              903553 non-null  object\n",
      " 20  totals.transactionRevenue                     11515 non-null   object\n",
      " 21  trafficSource.campaign                        903653 non-null  object\n",
      " 22  trafficSource.source                          903653 non-null  object\n",
      " 23  trafficSource.medium                          903653 non-null  object\n",
      " 24  trafficSource.keyword                         400724 non-null  object\n",
      " 25  trafficSource.referralPath                    330941 non-null  object\n",
      " 26  trafficSource.adwordsClickInfo.page           21460 non-null   object\n",
      " 27  trafficSource.adwordsClickInfo.slot           21460 non-null   object\n",
      " 28  trafficSource.adwordsClickInfo.gclId          21561 non-null   object\n",
      " 29  trafficSource.adwordsClickInfo.adNetworkType  21460 non-null   object\n",
      " 30  trafficSource.adContent                       10946 non-null   object\n",
      "dtypes: bool(1), int64(4), object(26)\n",
      "memory usage: 207.7+ MB\n"
     ]
    }
   ],
   "source": [
    "train_df.info()"
   ]
  },
  {
   "cell_type": "markdown",
   "metadata": {},
   "source": [
    "> * Hiện tai, dữ liệu được mở rộng thành `903653 dòng` và `55 cột`:\n",
    ">   * Các cột: `device`, `geoNetwork`, `totals` và `trafficSource`\n",
    "> đạ được tách thành các cột nhỏ hơn và có thể phân biệt thông\n",
    "> qua ký hiệu `*.*`\n",
    ">\n",
    ">   * Tuy nhiên, `55 cột` là quá nhiều nên ta cần giảm bớt độ \n",
    "> rộng của dữ liệu.\n",
    ">\n",
    ">   **⇨** Ta quan sát thấy 1 vài `entry` bị thiếu dữ liệu và sẽ tìm cách xử lý."
   ]
  },
  {
   "cell_type": "markdown",
   "metadata": {},
   "source": [
    "## 4.4. Phân tích tổng quát kết quả"
   ]
  },
  {
   "cell_type": "markdown",
   "metadata": {},
   "source": [
    "Các cột thiếu dữ liệu HOÀN TOÀN"
   ]
  },
  {
   "cell_type": "code",
   "execution_count": 8,
   "metadata": {},
   "outputs": [
    {
     "data": {
      "text/plain": [
       "[]"
      ]
     },
     "execution_count": 8,
     "metadata": {},
     "output_type": "execute_result"
    }
   ],
   "source": [
    "cols_with_completely_missing = [col \n",
    "                                for col in train_df.columns \n",
    "                                if train_df[col].isnull().all()]\n",
    "cols_with_completely_missing"
   ]
  },
  {
   "cell_type": "markdown",
   "metadata": {},
   "source": [
    "> Suy ra, không có cột nào hoàn toàn thiếu dữ liệu .\n",
    "> Nghĩa là, không có cột nào chỉ chứa \"giá trị\" `NaN`."
   ]
  },
  {
   "cell_type": "markdown",
   "metadata": {},
   "source": [
    "Các cột chỉ có duy nhất 1 giá trị"
   ]
  },
  {
   "cell_type": "code",
   "execution_count": 5,
   "metadata": {},
   "outputs": [
    {
     "data": {
      "text/plain": [
       "['socialEngagementType',\n",
       " 'device.browserVersion',\n",
       " 'device.browserSize',\n",
       " 'device.operatingSystemVersion',\n",
       " 'device.mobileDeviceBranding',\n",
       " 'device.mobileDeviceModel',\n",
       " 'device.mobileInputSelector',\n",
       " 'device.mobileDeviceInfo',\n",
       " 'device.mobileDeviceMarketingName',\n",
       " 'device.flashVersion',\n",
       " 'device.language',\n",
       " 'device.screenColors',\n",
       " 'device.screenResolution',\n",
       " 'geoNetwork.cityId',\n",
       " 'geoNetwork.latitude',\n",
       " 'geoNetwork.longitude',\n",
       " 'geoNetwork.networkLocation',\n",
       " 'totals.visits',\n",
       " 'totals.bounces',\n",
       " 'totals.newVisits',\n",
       " 'trafficSource.adwordsClickInfo.criteriaParameters',\n",
       " 'trafficSource.isTrueDirect',\n",
       " 'trafficSource.adwordsClickInfo.isVideoAd',\n",
       " 'trafficSource.campaignCode']"
      ]
     },
     "execution_count": 5,
     "metadata": {},
     "output_type": "execute_result"
    }
   ],
   "source": [
    "cols_with_unique_value = [col \n",
    "                          for col in train_df.columns \n",
    "                          if train_df[col].nunique(dropna=True) == 1]\n",
    "cols_with_unique_value"
   ]
  },
  {
   "cell_type": "markdown",
   "metadata": {},
   "source": [
    "> * Trên lý thuyết, các cột chỉ có DUY NHẤT 1 giá trị (khác NaN) \n",
    "> thì cũng không có ý nghĩa gì khi dùng để dự đoán kết quả.\n",
    ">\n",
    "> * Do đó, ta có thể xóa các cột này để thu hẹp phạm vi dữ liệu."
   ]
  },
  {
   "cell_type": "markdown",
   "metadata": {},
   "source": [
    "Xóa các cột chỉ có 1 giá trị duy nhất"
   ]
  },
  {
   "cell_type": "code",
   "execution_count": 6,
   "metadata": {},
   "outputs": [],
   "source": [
    "# Drop columns with unique value\n",
    "train_df.drop(cols_with_unique_value, axis='columns', inplace=True)"
   ]
  },
  {
   "cell_type": "markdown",
   "metadata": {},
   "source": [
    "Khi này dữ liệu còn lại:"
   ]
  },
  {
   "cell_type": "code",
   "execution_count": 11,
   "metadata": {},
   "outputs": [
    {
     "data": {
      "text/html": [
       "<div>\n",
       "<style scoped>\n",
       "    .dataframe tbody tr th:only-of-type {\n",
       "        vertical-align: middle;\n",
       "    }\n",
       "\n",
       "    .dataframe tbody tr th {\n",
       "        vertical-align: top;\n",
       "    }\n",
       "\n",
       "    .dataframe thead th {\n",
       "        text-align: right;\n",
       "    }\n",
       "</style>\n",
       "<table border=\"1\" class=\"dataframe\">\n",
       "  <thead>\n",
       "    <tr style=\"text-align: right;\">\n",
       "      <th></th>\n",
       "      <th>channelGrouping</th>\n",
       "      <th>date</th>\n",
       "      <th>fullVisitorId</th>\n",
       "      <th>sessionId</th>\n",
       "      <th>visitId</th>\n",
       "      <th>visitNumber</th>\n",
       "      <th>visitStartTime</th>\n",
       "      <th>device.browser</th>\n",
       "      <th>device.operatingSystem</th>\n",
       "      <th>device.isMobile</th>\n",
       "      <th>...</th>\n",
       "      <th>trafficSource.campaign</th>\n",
       "      <th>trafficSource.source</th>\n",
       "      <th>trafficSource.medium</th>\n",
       "      <th>trafficSource.keyword</th>\n",
       "      <th>trafficSource.referralPath</th>\n",
       "      <th>trafficSource.adwordsClickInfo.page</th>\n",
       "      <th>trafficSource.adwordsClickInfo.slot</th>\n",
       "      <th>trafficSource.adwordsClickInfo.gclId</th>\n",
       "      <th>trafficSource.adwordsClickInfo.adNetworkType</th>\n",
       "      <th>trafficSource.adContent</th>\n",
       "    </tr>\n",
       "  </thead>\n",
       "  <tbody>\n",
       "    <tr>\n",
       "      <th>0</th>\n",
       "      <td>Organic Search</td>\n",
       "      <td>20160902</td>\n",
       "      <td>1131660440785968503</td>\n",
       "      <td>1131660440785968503_1472830385</td>\n",
       "      <td>1472830385</td>\n",
       "      <td>1</td>\n",
       "      <td>1472830385</td>\n",
       "      <td>Chrome</td>\n",
       "      <td>Windows</td>\n",
       "      <td>False</td>\n",
       "      <td>...</td>\n",
       "      <td>(not set)</td>\n",
       "      <td>google</td>\n",
       "      <td>organic</td>\n",
       "      <td>(not provided)</td>\n",
       "      <td>NaN</td>\n",
       "      <td>NaN</td>\n",
       "      <td>NaN</td>\n",
       "      <td>NaN</td>\n",
       "      <td>NaN</td>\n",
       "      <td>NaN</td>\n",
       "    </tr>\n",
       "    <tr>\n",
       "      <th>1</th>\n",
       "      <td>Organic Search</td>\n",
       "      <td>20160902</td>\n",
       "      <td>377306020877927890</td>\n",
       "      <td>377306020877927890_1472880147</td>\n",
       "      <td>1472880147</td>\n",
       "      <td>1</td>\n",
       "      <td>1472880147</td>\n",
       "      <td>Firefox</td>\n",
       "      <td>Macintosh</td>\n",
       "      <td>False</td>\n",
       "      <td>...</td>\n",
       "      <td>(not set)</td>\n",
       "      <td>google</td>\n",
       "      <td>organic</td>\n",
       "      <td>(not provided)</td>\n",
       "      <td>NaN</td>\n",
       "      <td>NaN</td>\n",
       "      <td>NaN</td>\n",
       "      <td>NaN</td>\n",
       "      <td>NaN</td>\n",
       "      <td>NaN</td>\n",
       "    </tr>\n",
       "    <tr>\n",
       "      <th>2</th>\n",
       "      <td>Organic Search</td>\n",
       "      <td>20160902</td>\n",
       "      <td>3895546263509774583</td>\n",
       "      <td>3895546263509774583_1472865386</td>\n",
       "      <td>1472865386</td>\n",
       "      <td>1</td>\n",
       "      <td>1472865386</td>\n",
       "      <td>Chrome</td>\n",
       "      <td>Windows</td>\n",
       "      <td>False</td>\n",
       "      <td>...</td>\n",
       "      <td>(not set)</td>\n",
       "      <td>google</td>\n",
       "      <td>organic</td>\n",
       "      <td>(not provided)</td>\n",
       "      <td>NaN</td>\n",
       "      <td>NaN</td>\n",
       "      <td>NaN</td>\n",
       "      <td>NaN</td>\n",
       "      <td>NaN</td>\n",
       "      <td>NaN</td>\n",
       "    </tr>\n",
       "    <tr>\n",
       "      <th>3</th>\n",
       "      <td>Organic Search</td>\n",
       "      <td>20160902</td>\n",
       "      <td>4763447161404445595</td>\n",
       "      <td>4763447161404445595_1472881213</td>\n",
       "      <td>1472881213</td>\n",
       "      <td>1</td>\n",
       "      <td>1472881213</td>\n",
       "      <td>UC Browser</td>\n",
       "      <td>Linux</td>\n",
       "      <td>False</td>\n",
       "      <td>...</td>\n",
       "      <td>(not set)</td>\n",
       "      <td>google</td>\n",
       "      <td>organic</td>\n",
       "      <td>google + online</td>\n",
       "      <td>NaN</td>\n",
       "      <td>NaN</td>\n",
       "      <td>NaN</td>\n",
       "      <td>NaN</td>\n",
       "      <td>NaN</td>\n",
       "      <td>NaN</td>\n",
       "    </tr>\n",
       "    <tr>\n",
       "      <th>4</th>\n",
       "      <td>Organic Search</td>\n",
       "      <td>20160902</td>\n",
       "      <td>27294437909732085</td>\n",
       "      <td>27294437909732085_1472822600</td>\n",
       "      <td>1472822600</td>\n",
       "      <td>2</td>\n",
       "      <td>1472822600</td>\n",
       "      <td>Chrome</td>\n",
       "      <td>Android</td>\n",
       "      <td>True</td>\n",
       "      <td>...</td>\n",
       "      <td>(not set)</td>\n",
       "      <td>google</td>\n",
       "      <td>organic</td>\n",
       "      <td>(not provided)</td>\n",
       "      <td>NaN</td>\n",
       "      <td>NaN</td>\n",
       "      <td>NaN</td>\n",
       "      <td>NaN</td>\n",
       "      <td>NaN</td>\n",
       "      <td>NaN</td>\n",
       "    </tr>\n",
       "  </tbody>\n",
       "</table>\n",
       "<p>5 rows × 31 columns</p>\n",
       "</div>"
      ],
      "text/plain": [
       "  channelGrouping      date        fullVisitorId  \\\n",
       "0  Organic Search  20160902  1131660440785968503   \n",
       "1  Organic Search  20160902   377306020877927890   \n",
       "2  Organic Search  20160902  3895546263509774583   \n",
       "3  Organic Search  20160902  4763447161404445595   \n",
       "4  Organic Search  20160902    27294437909732085   \n",
       "\n",
       "                        sessionId     visitId  visitNumber  visitStartTime  \\\n",
       "0  1131660440785968503_1472830385  1472830385            1      1472830385   \n",
       "1   377306020877927890_1472880147  1472880147            1      1472880147   \n",
       "2  3895546263509774583_1472865386  1472865386            1      1472865386   \n",
       "3  4763447161404445595_1472881213  1472881213            1      1472881213   \n",
       "4    27294437909732085_1472822600  1472822600            2      1472822600   \n",
       "\n",
       "  device.browser device.operatingSystem  device.isMobile  ...  \\\n",
       "0         Chrome                Windows            False  ...   \n",
       "1        Firefox              Macintosh            False  ...   \n",
       "2         Chrome                Windows            False  ...   \n",
       "3     UC Browser                  Linux            False  ...   \n",
       "4         Chrome                Android             True  ...   \n",
       "\n",
       "  trafficSource.campaign trafficSource.source trafficSource.medium  \\\n",
       "0              (not set)               google              organic   \n",
       "1              (not set)               google              organic   \n",
       "2              (not set)               google              organic   \n",
       "3              (not set)               google              organic   \n",
       "4              (not set)               google              organic   \n",
       "\n",
       "  trafficSource.keyword trafficSource.referralPath  \\\n",
       "0        (not provided)                        NaN   \n",
       "1        (not provided)                        NaN   \n",
       "2        (not provided)                        NaN   \n",
       "3       google + online                        NaN   \n",
       "4        (not provided)                        NaN   \n",
       "\n",
       "  trafficSource.adwordsClickInfo.page trafficSource.adwordsClickInfo.slot  \\\n",
       "0                                 NaN                                 NaN   \n",
       "1                                 NaN                                 NaN   \n",
       "2                                 NaN                                 NaN   \n",
       "3                                 NaN                                 NaN   \n",
       "4                                 NaN                                 NaN   \n",
       "\n",
       "  trafficSource.adwordsClickInfo.gclId  \\\n",
       "0                                  NaN   \n",
       "1                                  NaN   \n",
       "2                                  NaN   \n",
       "3                                  NaN   \n",
       "4                                  NaN   \n",
       "\n",
       "  trafficSource.adwordsClickInfo.adNetworkType trafficSource.adContent  \n",
       "0                                          NaN                     NaN  \n",
       "1                                          NaN                     NaN  \n",
       "2                                          NaN                     NaN  \n",
       "3                                          NaN                     NaN  \n",
       "4                                          NaN                     NaN  \n",
       "\n",
       "[5 rows x 31 columns]"
      ]
     },
     "execution_count": 11,
     "metadata": {},
     "output_type": "execute_result"
    }
   ],
   "source": [
    "train_df.head()"
   ]
  },
  {
   "cell_type": "code",
   "execution_count": 7,
   "metadata": {},
   "outputs": [
    {
     "name": "stdout",
     "output_type": "stream",
     "text": [
      "<class 'pandas.core.frame.DataFrame'>\n",
      "RangeIndex: 903653 entries, 0 to 903652\n",
      "Data columns (total 31 columns):\n",
      " #   Column                                        Non-Null Count   Dtype \n",
      "---  ------                                        --------------   ----- \n",
      " 0   channelGrouping                               903653 non-null  object\n",
      " 1   date                                          903653 non-null  int64 \n",
      " 2   fullVisitorId                                 903653 non-null  object\n",
      " 3   sessionId                                     903653 non-null  object\n",
      " 4   visitId                                       903653 non-null  int64 \n",
      " 5   visitNumber                                   903653 non-null  int64 \n",
      " 6   visitStartTime                                903653 non-null  int64 \n",
      " 7   device.browser                                903653 non-null  object\n",
      " 8   device.operatingSystem                        903653 non-null  object\n",
      " 9   device.isMobile                               903653 non-null  bool  \n",
      " 10  device.deviceCategory                         903653 non-null  object\n",
      " 11  geoNetwork.continent                          903653 non-null  object\n",
      " 12  geoNetwork.subContinent                       903653 non-null  object\n",
      " 13  geoNetwork.country                            903653 non-null  object\n",
      " 14  geoNetwork.region                             903653 non-null  object\n",
      " 15  geoNetwork.metro                              903653 non-null  object\n",
      " 16  geoNetwork.city                               903653 non-null  object\n",
      " 17  geoNetwork.networkDomain                      903653 non-null  object\n",
      " 18  totals.hits                                   903653 non-null  object\n",
      " 19  totals.pageviews                              903553 non-null  object\n",
      " 20  totals.transactionRevenue                     11515 non-null   object\n",
      " 21  trafficSource.campaign                        903653 non-null  object\n",
      " 22  trafficSource.source                          903653 non-null  object\n",
      " 23  trafficSource.medium                          903653 non-null  object\n",
      " 24  trafficSource.keyword                         400724 non-null  object\n",
      " 25  trafficSource.referralPath                    330941 non-null  object\n",
      " 26  trafficSource.adwordsClickInfo.page           21460 non-null   object\n",
      " 27  trafficSource.adwordsClickInfo.slot           21460 non-null   object\n",
      " 28  trafficSource.adwordsClickInfo.gclId          21561 non-null   object\n",
      " 29  trafficSource.adwordsClickInfo.adNetworkType  21460 non-null   object\n",
      " 30  trafficSource.adContent                       10946 non-null   object\n",
      "dtypes: bool(1), int64(4), object(26)\n",
      "memory usage: 207.7+ MB\n"
     ]
    }
   ],
   "source": [
    "train_df.info()"
   ]
  },
  {
   "cell_type": "markdown",
   "metadata": {},
   "source": [
    "> Khi này, số dòng không đổi nhưng dữ liệu chỉ còn `31 cột` và có 1 vài `entry` bị thiếu dữ liệu."
   ]
  },
  {
   "cell_type": "markdown",
   "metadata": {},
   "source": [
    "Ta lưu lại dữ liệu này để backup"
   ]
  },
  {
   "cell_type": "code",
   "execution_count": 8,
   "metadata": {},
   "outputs": [],
   "source": [
    "train_df.to_csv('../data/interim/flat_reduced_train_.csv', index=False, na_rep='None')"
   ]
  },
  {
   "cell_type": "code",
   "execution_count": 9,
   "metadata": {},
   "outputs": [],
   "source": [
    "# Đọc dữ liệu đã được làm phẳng và giảm số lượng cột (nếu cần)\n",
    "train_df = pd.read_csv('../data/interim/flat_reduced_train_.csv', dtype={'fullVisitorId': 'str'})"
   ]
  },
  {
   "cell_type": "code",
   "execution_count": 11,
   "metadata": {},
   "outputs": [
    {
     "name": "stdout",
     "output_type": "stream",
     "text": [
      "<class 'pandas.core.frame.DataFrame'>\n",
      "RangeIndex: 903653 entries, 0 to 903652\n",
      "Data columns (total 31 columns):\n",
      " #   Column                                        Non-Null Count   Dtype  \n",
      "---  ------                                        --------------   -----  \n",
      " 0   channelGrouping                               903653 non-null  object \n",
      " 1   date                                          903653 non-null  int64  \n",
      " 2   fullVisitorId                                 903653 non-null  object \n",
      " 3   sessionId                                     903653 non-null  object \n",
      " 4   visitId                                       903653 non-null  int64  \n",
      " 5   visitNumber                                   903653 non-null  int64  \n",
      " 6   visitStartTime                                903653 non-null  int64  \n",
      " 7   device.browser                                903653 non-null  object \n",
      " 8   device.operatingSystem                        903653 non-null  object \n",
      " 9   device.isMobile                               903653 non-null  bool   \n",
      " 10  device.deviceCategory                         903653 non-null  object \n",
      " 11  geoNetwork.continent                          903653 non-null  object \n",
      " 12  geoNetwork.subContinent                       903653 non-null  object \n",
      " 13  geoNetwork.country                            903653 non-null  object \n",
      " 14  geoNetwork.region                             903653 non-null  object \n",
      " 15  geoNetwork.metro                              903653 non-null  object \n",
      " 16  geoNetwork.city                               903653 non-null  object \n",
      " 17  geoNetwork.networkDomain                      903653 non-null  object \n",
      " 18  totals.hits                                   903653 non-null  int64  \n",
      " 19  totals.pageviews                              903553 non-null  float64\n",
      " 20  totals.transactionRevenue                     11515 non-null   float64\n",
      " 21  trafficSource.campaign                        903653 non-null  object \n",
      " 22  trafficSource.source                          903653 non-null  object \n",
      " 23  trafficSource.medium                          903653 non-null  object \n",
      " 24  trafficSource.keyword                         400724 non-null  object \n",
      " 25  trafficSource.referralPath                    330941 non-null  object \n",
      " 26  trafficSource.adwordsClickInfo.page           21460 non-null   float64\n",
      " 27  trafficSource.adwordsClickInfo.slot           21460 non-null   object \n",
      " 28  trafficSource.adwordsClickInfo.gclId          21561 non-null   object \n",
      " 29  trafficSource.adwordsClickInfo.adNetworkType  21460 non-null   object \n",
      " 30  trafficSource.adContent                       10946 non-null   object \n",
      "dtypes: bool(1), float64(3), int64(5), object(22)\n",
      "memory usage: 207.7+ MB\n"
     ]
    }
   ],
   "source": [
    "train_df.info()"
   ]
  },
  {
   "cell_type": "markdown",
   "metadata": {},
   "source": [
    "___"
   ]
  },
  {
   "cell_type": "markdown",
   "metadata": {},
   "source": [
    "Ta phân tích tình trạng thiếu dữ liệu của các cột còn lại"
   ]
  },
  {
   "cell_type": "code",
   "execution_count": 12,
   "metadata": {},
   "outputs": [
    {
     "data": {
      "text/html": [
       "<div>\n",
       "<style scoped>\n",
       "    .dataframe tbody tr th:only-of-type {\n",
       "        vertical-align: middle;\n",
       "    }\n",
       "\n",
       "    .dataframe tbody tr th {\n",
       "        vertical-align: top;\n",
       "    }\n",
       "\n",
       "    .dataframe thead th {\n",
       "        text-align: right;\n",
       "    }\n",
       "</style>\n",
       "<table border=\"1\" class=\"dataframe\">\n",
       "  <thead>\n",
       "    <tr style=\"text-align: right;\">\n",
       "      <th></th>\n",
       "      <th>column_name</th>\n",
       "      <th>percent_missing</th>\n",
       "    </tr>\n",
       "  </thead>\n",
       "  <tbody>\n",
       "    <tr>\n",
       "      <th>trafficSource.adContent</th>\n",
       "      <td>trafficSource.adContent</td>\n",
       "      <td>98.788694</td>\n",
       "    </tr>\n",
       "    <tr>\n",
       "      <th>totals.transactionRevenue</th>\n",
       "      <td>totals.transactionRevenue</td>\n",
       "      <td>98.725728</td>\n",
       "    </tr>\n",
       "    <tr>\n",
       "      <th>trafficSource.adwordsClickInfo.page</th>\n",
       "      <td>trafficSource.adwordsClickInfo.page</td>\n",
       "      <td>97.625195</td>\n",
       "    </tr>\n",
       "    <tr>\n",
       "      <th>trafficSource.adwordsClickInfo.slot</th>\n",
       "      <td>trafficSource.adwordsClickInfo.slot</td>\n",
       "      <td>97.625195</td>\n",
       "    </tr>\n",
       "    <tr>\n",
       "      <th>trafficSource.adwordsClickInfo.adNetworkType</th>\n",
       "      <td>trafficSource.adwordsClickInfo.adNetworkType</td>\n",
       "      <td>97.625195</td>\n",
       "    </tr>\n",
       "    <tr>\n",
       "      <th>trafficSource.adwordsClickInfo.gclId</th>\n",
       "      <td>trafficSource.adwordsClickInfo.gclId</td>\n",
       "      <td>97.614018</td>\n",
       "    </tr>\n",
       "    <tr>\n",
       "      <th>trafficSource.referralPath</th>\n",
       "      <td>trafficSource.referralPath</td>\n",
       "      <td>63.377425</td>\n",
       "    </tr>\n",
       "    <tr>\n",
       "      <th>trafficSource.keyword</th>\n",
       "      <td>trafficSource.keyword</td>\n",
       "      <td>55.655102</td>\n",
       "    </tr>\n",
       "    <tr>\n",
       "      <th>totals.pageviews</th>\n",
       "      <td>totals.pageviews</td>\n",
       "      <td>0.011066</td>\n",
       "    </tr>\n",
       "    <tr>\n",
       "      <th>date</th>\n",
       "      <td>date</td>\n",
       "      <td>0.000000</td>\n",
       "    </tr>\n",
       "    <tr>\n",
       "      <th>channelGrouping</th>\n",
       "      <td>channelGrouping</td>\n",
       "      <td>0.000000</td>\n",
       "    </tr>\n",
       "    <tr>\n",
       "      <th>sessionId</th>\n",
       "      <td>sessionId</td>\n",
       "      <td>0.000000</td>\n",
       "    </tr>\n",
       "    <tr>\n",
       "      <th>visitId</th>\n",
       "      <td>visitId</td>\n",
       "      <td>0.000000</td>\n",
       "    </tr>\n",
       "    <tr>\n",
       "      <th>visitNumber</th>\n",
       "      <td>visitNumber</td>\n",
       "      <td>0.000000</td>\n",
       "    </tr>\n",
       "    <tr>\n",
       "      <th>fullVisitorId</th>\n",
       "      <td>fullVisitorId</td>\n",
       "      <td>0.000000</td>\n",
       "    </tr>\n",
       "    <tr>\n",
       "      <th>geoNetwork.region</th>\n",
       "      <td>geoNetwork.region</td>\n",
       "      <td>0.000000</td>\n",
       "    </tr>\n",
       "    <tr>\n",
       "      <th>geoNetwork.country</th>\n",
       "      <td>geoNetwork.country</td>\n",
       "      <td>0.000000</td>\n",
       "    </tr>\n",
       "    <tr>\n",
       "      <th>geoNetwork.subContinent</th>\n",
       "      <td>geoNetwork.subContinent</td>\n",
       "      <td>0.000000</td>\n",
       "    </tr>\n",
       "    <tr>\n",
       "      <th>geoNetwork.continent</th>\n",
       "      <td>geoNetwork.continent</td>\n",
       "      <td>0.000000</td>\n",
       "    </tr>\n",
       "    <tr>\n",
       "      <th>device.deviceCategory</th>\n",
       "      <td>device.deviceCategory</td>\n",
       "      <td>0.000000</td>\n",
       "    </tr>\n",
       "    <tr>\n",
       "      <th>device.isMobile</th>\n",
       "      <td>device.isMobile</td>\n",
       "      <td>0.000000</td>\n",
       "    </tr>\n",
       "    <tr>\n",
       "      <th>device.operatingSystem</th>\n",
       "      <td>device.operatingSystem</td>\n",
       "      <td>0.000000</td>\n",
       "    </tr>\n",
       "    <tr>\n",
       "      <th>device.browser</th>\n",
       "      <td>device.browser</td>\n",
       "      <td>0.000000</td>\n",
       "    </tr>\n",
       "    <tr>\n",
       "      <th>visitStartTime</th>\n",
       "      <td>visitStartTime</td>\n",
       "      <td>0.000000</td>\n",
       "    </tr>\n",
       "    <tr>\n",
       "      <th>trafficSource.campaign</th>\n",
       "      <td>trafficSource.campaign</td>\n",
       "      <td>0.000000</td>\n",
       "    </tr>\n",
       "    <tr>\n",
       "      <th>trafficSource.source</th>\n",
       "      <td>trafficSource.source</td>\n",
       "      <td>0.000000</td>\n",
       "    </tr>\n",
       "    <tr>\n",
       "      <th>totals.hits</th>\n",
       "      <td>totals.hits</td>\n",
       "      <td>0.000000</td>\n",
       "    </tr>\n",
       "    <tr>\n",
       "      <th>geoNetwork.city</th>\n",
       "      <td>geoNetwork.city</td>\n",
       "      <td>0.000000</td>\n",
       "    </tr>\n",
       "    <tr>\n",
       "      <th>geoNetwork.metro</th>\n",
       "      <td>geoNetwork.metro</td>\n",
       "      <td>0.000000</td>\n",
       "    </tr>\n",
       "    <tr>\n",
       "      <th>geoNetwork.networkDomain</th>\n",
       "      <td>geoNetwork.networkDomain</td>\n",
       "      <td>0.000000</td>\n",
       "    </tr>\n",
       "    <tr>\n",
       "      <th>trafficSource.medium</th>\n",
       "      <td>trafficSource.medium</td>\n",
       "      <td>0.000000</td>\n",
       "    </tr>\n",
       "  </tbody>\n",
       "</table>\n",
       "</div>"
      ],
      "text/plain": [
       "                                                                               column_name  \\\n",
       "trafficSource.adContent                                            trafficSource.adContent   \n",
       "totals.transactionRevenue                                        totals.transactionRevenue   \n",
       "trafficSource.adwordsClickInfo.page                    trafficSource.adwordsClickInfo.page   \n",
       "trafficSource.adwordsClickInfo.slot                    trafficSource.adwordsClickInfo.slot   \n",
       "trafficSource.adwordsClickInfo.adNetworkType  trafficSource.adwordsClickInfo.adNetworkType   \n",
       "trafficSource.adwordsClickInfo.gclId                  trafficSource.adwordsClickInfo.gclId   \n",
       "trafficSource.referralPath                                      trafficSource.referralPath   \n",
       "trafficSource.keyword                                                trafficSource.keyword   \n",
       "totals.pageviews                                                          totals.pageviews   \n",
       "date                                                                                  date   \n",
       "channelGrouping                                                            channelGrouping   \n",
       "sessionId                                                                        sessionId   \n",
       "visitId                                                                            visitId   \n",
       "visitNumber                                                                    visitNumber   \n",
       "fullVisitorId                                                                fullVisitorId   \n",
       "geoNetwork.region                                                        geoNetwork.region   \n",
       "geoNetwork.country                                                      geoNetwork.country   \n",
       "geoNetwork.subContinent                                            geoNetwork.subContinent   \n",
       "geoNetwork.continent                                                  geoNetwork.continent   \n",
       "device.deviceCategory                                                device.deviceCategory   \n",
       "device.isMobile                                                            device.isMobile   \n",
       "device.operatingSystem                                              device.operatingSystem   \n",
       "device.browser                                                              device.browser   \n",
       "visitStartTime                                                              visitStartTime   \n",
       "trafficSource.campaign                                              trafficSource.campaign   \n",
       "trafficSource.source                                                  trafficSource.source   \n",
       "totals.hits                                                                    totals.hits   \n",
       "geoNetwork.city                                                            geoNetwork.city   \n",
       "geoNetwork.metro                                                          geoNetwork.metro   \n",
       "geoNetwork.networkDomain                                          geoNetwork.networkDomain   \n",
       "trafficSource.medium                                                  trafficSource.medium   \n",
       "\n",
       "                                              percent_missing  \n",
       "trafficSource.adContent                             98.788694  \n",
       "totals.transactionRevenue                           98.725728  \n",
       "trafficSource.adwordsClickInfo.page                 97.625195  \n",
       "trafficSource.adwordsClickInfo.slot                 97.625195  \n",
       "trafficSource.adwordsClickInfo.adNetworkType        97.625195  \n",
       "trafficSource.adwordsClickInfo.gclId                97.614018  \n",
       "trafficSource.referralPath                          63.377425  \n",
       "trafficSource.keyword                               55.655102  \n",
       "totals.pageviews                                     0.011066  \n",
       "date                                                 0.000000  \n",
       "channelGrouping                                      0.000000  \n",
       "sessionId                                            0.000000  \n",
       "visitId                                              0.000000  \n",
       "visitNumber                                          0.000000  \n",
       "fullVisitorId                                        0.000000  \n",
       "geoNetwork.region                                    0.000000  \n",
       "geoNetwork.country                                   0.000000  \n",
       "geoNetwork.subContinent                              0.000000  \n",
       "geoNetwork.continent                                 0.000000  \n",
       "device.deviceCategory                                0.000000  \n",
       "device.isMobile                                      0.000000  \n",
       "device.operatingSystem                               0.000000  \n",
       "device.browser                                       0.000000  \n",
       "visitStartTime                                       0.000000  \n",
       "trafficSource.campaign                               0.000000  \n",
       "trafficSource.source                                 0.000000  \n",
       "totals.hits                                          0.000000  \n",
       "geoNetwork.city                                      0.000000  \n",
       "geoNetwork.metro                                     0.000000  \n",
       "geoNetwork.networkDomain                             0.000000  \n",
       "trafficSource.medium                                 0.000000  "
      ]
     },
     "execution_count": 12,
     "metadata": {},
     "output_type": "execute_result"
    }
   ],
   "source": [
    "# From: https://stackoverflow.com/questions/51070985/find-out-the-percentage-of-missing-values-in-each-column-in-the-given-dataset\n",
    "\n",
    "# Check how much percentage of missing data in each colummn:\n",
    "percent_missing = train_df.isnull().sum() * 100 / train_df.shape[0]\n",
    "missing_value_df = pd.DataFrame({'column_name': train_df.columns,\n",
    "                                 'percent_missing': percent_missing})\n",
    "\n",
    "missing_value_df.sort_values(by='percent_missing', ascending=False)"
   ]
  },
  {
   "cell_type": "markdown",
   "metadata": {},
   "source": [
    "Ta có thể biễu diễn dưới dạng đồ thị để dễ quan sát hơn"
   ]
  },
  {
   "cell_type": "code",
   "execution_count": 21,
   "metadata": {},
   "outputs": [
    {
     "data": {
      "image/png": "[encoded data removed]",
      "text/plain": [
       "<Figure size 600x800 with 1 Axes>"
      ]
     },
     "metadata": {},
     "output_type": "display_data"
    }
   ],
   "source": [
    "missing_value_df.sort_values(by='percent_missing', ascending=True)\\\n",
    "                    .plot.barh(x='column_name',\n",
    "                               y='percent_missing',\n",
    "                               figsize=(6, 8),\n",
    "                               title='Percentage of missing data in each column');"
   ]
  },
  {
   "cell_type": "markdown",
   "metadata": {},
   "source": [
    "## 4.5. Phân tích cụ thể từng cột bị thiếu giá trị"
   ]
  },
  {
   "cell_type": "markdown",
   "metadata": {},
   "source": [
    "trafficSource.adContent\ttrafficSource.adContent\t98.788694\n",
    "totals.transactionRevenue\ttotals.transactionRevenue\t98.725728\n",
    "trafficSource.adwordsClickInfo.page\ttrafficSource.adwordsClickInfo.page\t97.625195\n",
    "trafficSource.adwordsClickInfo.slot\ttrafficSource.adwordsClickInfo.slot\t97.625195\n",
    "trafficSource.adwordsClickInfo.adNetworkType\ttrafficSource.adwordsClickInfo.adNetworkType\t97.625195\n",
    "trafficSource.adwordsClickInfo.gclId\ttrafficSource.adwordsClickInfo.gclId\t97.614018\n",
    "trafficSource.referralPath\ttrafficSource.referralPath\t63.377425\n",
    "trafficSource.keyword\ttrafficSource.keyword\t55.655102\n",
    "totals.pageviews\ttotals.pageviews\t0.011066"
   ]
  },
  {
   "cell_type": "markdown",
   "metadata": {},
   "source": [
    "* `trafficSource.adContent`"
   ]
  },
  {
   "cell_type": "markdown",
   "metadata": {},
   "source": [
    "Definition: Traffic source in the simplest form can be defined as the origin through which people found your site. Every session or visit to your website has origin or source of the hit. Whenever someone visits your website through desktop, mobile or any Internet-enabled device, the Web & Google Analytics track its source or origin, which is classified as traffic source."
   ]
  },
  {
   "cell_type": "markdown",
   "metadata": {},
   "source": [
    "Ta quan sát các giá trị khác nhau có trong cột này"
   ]
  },
  {
   "cell_type": "code",
   "execution_count": 22,
   "metadata": {},
   "outputs": [
    {
     "data": {
      "text/plain": [
       "array([nan, 'Full auto ad IMAGE ONLY', 'First Full Auto Template Test Ad',\n",
       "       '{KeyWord:Google Brand Items}', 'Display Ad created 3/11/14',\n",
       "       'Ad from 11/7/16', 'Display Ad created 3/11/15',\n",
       "       'Ad from 12/13/16', 'Ad from 11/3/16', 'Google Online Store',\n",
       "       'Google Merchandise Collection', '{KeyWord:Want Google Stickers?}',\n",
       "       '{KeyWord:Google Merchandise}', 'Display Ad created 11/17/14',\n",
       "       '{KeyWord:Google Drinkware}', \"{KeyWord:Google Men's T-Shirts}\",\n",
       "       '{KeyWord:Google Branded Gear}',\n",
       "       '{KeyWord:Google Branded Apparel}', 'Google Paraphernalia',\n",
       "       'Swag with Google Logos', '{KeyWord:Google Branded Kit}',\n",
       "       'Want Google Sunglasses', '{KeyWord:Looking for Google Bags?}',\n",
       "       'Full auto ad TEXT ONLY', 'Google Merchandise', 'google store',\n",
       "       'LeEco_1a', 'Full auto ad TEXT/NATIVE',\n",
       "       '{KeyWord:Want Google Pet Toys?}', 'Google Store',\n",
       "       \"Men's-Outerwear Google Apparel\", '20% discount',\n",
       "       'Full auto ad with Primary Color', 'JD_5a_v1',\n",
       "       '{KeyWord:Google Branded Outerwear}', 'Full auto ad NATIVE ONLY',\n",
       "       'url_builder', 'Google store', 'free shipping',\n",
       "       'Official Google Merchandise - Fast Shipping', 'GA Help Center',\n",
       "       'Free Shipping!', 'Swag w/ Google Logos', 'visit us again',\n",
       "       'Ad from 2/17/17'], dtype=object)"
      ]
     },
     "execution_count": 22,
     "metadata": {},
     "output_type": "execute_result"
    }
   ],
   "source": [
    "train_df['trafficSource.adContent'].unique()"
   ]
  },
  {
   "cell_type": "markdown",
   "metadata": {},
   "source": [
    "> * Tuy cột này có hơn `98%` lượng dữ liệu bị thiếu, nhưng \n",
    "> các dữ liệu quan sát được dường như có vẻ hữu ích về\n",
    "> loại quảng cáo mà người dùng thấy và khiến họ truy \n",
    "> cập đến cửa hàng.\n",
    ">\n",
    "> * Ngoài ra, ta còn thấy một vài giá trị giống nhau về mặt\n",
    "> ngữ nghĩa nhưng chỉ khác nhau về cách viết như: `'Google Store'`, \n",
    "> `'Google store'`, `'google store'`. Ta sẽ tìm cách gom nhóm\n",
    "> các cụm từ đồng nghĩa để hạn chế sự phân tán dữ liệu.\n",
    ">\n",
    "> * Với một số giá trị xuất hiện quá ít hoặc bị thiếu,\n",
    "> ta có thể gom chúng thành 1 nhóm `'Other'`."
   ]
  },
  {
   "cell_type": "markdown",
   "metadata": {},
   "source": [
    "* `totals.transactionRevenue`"
   ]
  },
  {
   "cell_type": "markdown",
   "metadata": {},
   "source": [
    "Ta xem các giá trị có trong cột này"
   ]
  },
  {
   "cell_type": "code",
   "execution_count": 29,
   "metadata": {},
   "outputs": [
    {
     "data": {
      "text/plain": [
       "count    1.151500e+04\n",
       "mean     1.337448e+08\n",
       "std      4.482852e+08\n",
       "min      1.000000e+04\n",
       "25%      2.493000e+07\n",
       "50%      4.945000e+07\n",
       "75%      1.076550e+08\n",
       "max      2.312950e+10\n",
       "Name: totals.transactionRevenue, dtype: float64"
      ]
     },
     "execution_count": 29,
     "metadata": {},
     "output_type": "execute_result"
    }
   ],
   "source": [
    "train_df['totals.transactionRevenue'].describe()"
   ]
  },
  {
   "cell_type": "code",
   "execution_count": 27,
   "metadata": {},
   "outputs": [
    {
     "data": {
      "text/plain": [
       "array([       nan, 3.7860e+07, 3.0667e+08, ..., 3.3526e+08, 3.0750e+07,\n",
       "       6.9390e+07])"
      ]
     },
     "execution_count": 27,
     "metadata": {},
     "output_type": "execute_result"
    }
   ],
   "source": [
    "train_df['totals.transactionRevenue'].unique()"
   ]
  },
  {
   "cell_type": "markdown",
   "metadata": {},
   "source": [
    "> Cột này thể hiện tổng giá trị giao dịch trong phiên nên ta chỉ cần \n",
    "> thay các giá trị `NaN` bằng `0`."
   ]
  },
  {
   "cell_type": "markdown",
   "metadata": {},
   "source": [
    "Điền giá trị `0` vào các entry bị trống"
   ]
  },
  {
   "cell_type": "code",
   "execution_count": 30,
   "metadata": {},
   "outputs": [],
   "source": [
    "train_df['totals.transactionRevenue'].fillna(0, inplace=True)"
   ]
  },
  {
   "cell_type": "markdown",
   "metadata": {},
   "source": [
    "* `trafficSource.adwordsClickInfo.page`"
   ]
  },
  {
   "cell_type": "markdown",
   "metadata": {},
   "source": [
    "Ta xem thông tin mô tả của thuộc tính này"
   ]
  },
  {
   "cell_type": "code",
   "execution_count": 124,
   "metadata": {},
   "outputs": [
    {
     "data": {
      "text/plain": [
       "count    21460.000000\n",
       "mean         1.008108\n",
       "std          0.173584\n",
       "min          1.000000\n",
       "25%          1.000000\n",
       "50%          1.000000\n",
       "75%          1.000000\n",
       "max         14.000000\n",
       "Name: trafficSource.adwordsClickInfo.page, dtype: float64"
      ]
     },
     "execution_count": 124,
     "metadata": {},
     "output_type": "execute_result"
    }
   ],
   "source": [
    "train_df['trafficSource.adwordsClickInfo.page'].describe()"
   ]
  },
  {
   "cell_type": "markdown",
   "metadata": {},
   "source": [
    "> Ta thấy giá trị `std` khá nhỏ và `mean ~ median` nên ta sẽ thay thế các giá trị bị thiếu bằng `mean`  "
   ]
  },
  {
   "cell_type": "code",
   "execution_count": 126,
   "metadata": {},
   "outputs": [],
   "source": [
    "page_mean = train_df['trafficSource.adwordsClickInfo.page'].mean()\n",
    "train_df['trafficSource.adwordsClickInfo.page'].fillna(page_mean, inplace=True)"
   ]
  },
  {
   "cell_type": "markdown",
   "metadata": {},
   "source": [
    "* `trafficSource.adwordsClickInfo.slot`"
   ]
  },
  {
   "cell_type": "markdown",
   "metadata": {},
   "source": [
    "Ta xem các giá trị có trong cột dữ liệu này"
   ]
  },
  {
   "cell_type": "code",
   "execution_count": 35,
   "metadata": {},
   "outputs": [
    {
     "data": {
      "text/plain": [
       "array([nan, 'Top', 'RHS'], dtype=object)"
      ]
     },
     "execution_count": 35,
     "metadata": {},
     "output_type": "execute_result"
    }
   ],
   "source": [
    "train_df['trafficSource.adwordsClickInfo.slot'].unique()"
   ]
  },
  {
   "cell_type": "code",
   "execution_count": 43,
   "metadata": {},
   "outputs": [
    {
     "data": {
      "image/png": "[encoded data removed]",
      "text/plain": [
       "<Figure size 640x480 with 1 Axes>"
      ]
     },
     "metadata": {},
     "output_type": "display_data"
    }
   ],
   "source": [
    "train_df['trafficSource.adwordsClickInfo.slot']\\\n",
    "    .value_counts(dropna=False, ascending=True)\\\n",
    "        .plot.barh();"
   ]
  },
  {
   "cell_type": "markdown",
   "metadata": {},
   "source": [
    "> - Nếu sử dụng cột dữ liệu này thì ta phải chuyển nó sang kiểu `Categorical`\n",
    "> và các giá trị bị thiếu sẽ được gom thành 1 nhóm `\"other\"`.\n",
    ">\n",
    "> - Tuy nhiên, các giá trị quan sát được không quá đa dạng và hơn `97%` \n",
    "> entry là thiếu dữ liệu nên ta sẽ ưu tiên loại bỏ cột này. "
   ]
  },
  {
   "cell_type": "markdown",
   "metadata": {},
   "source": [
    "* `trafficSource.adwordsClickInfo.adNetworkType`"
   ]
  },
  {
   "cell_type": "code",
   "execution_count": 45,
   "metadata": {},
   "outputs": [
    {
     "data": {
      "text/plain": [
       "array([nan, 'Google Search', 'Search partners'], dtype=object)"
      ]
     },
     "execution_count": 45,
     "metadata": {},
     "output_type": "execute_result"
    }
   ],
   "source": [
    "train_df['trafficSource.adwordsClickInfo.adNetworkType'].unique()"
   ]
  },
  {
   "cell_type": "code",
   "execution_count": 47,
   "metadata": {},
   "outputs": [
    {
     "data": {
      "image/png": "[encoded data removed]",
      "text/plain": [
       "<Figure size 640x480 with 1 Axes>"
      ]
     },
     "metadata": {},
     "output_type": "display_data"
    }
   ],
   "source": [
    "train_df['trafficSource.adwordsClickInfo.adNetworkType']\\\n",
    "    .value_counts(dropna=False, ascending=True)\\\n",
    "        .plot.barh();"
   ]
  },
  {
   "cell_type": "markdown",
   "metadata": {},
   "source": [
    "> Ta cũng loại bỏ cột này với lý do tương tự như `trafficSource.adwordsClickInfo.slot`"
   ]
  },
  {
   "cell_type": "markdown",
   "metadata": {},
   "source": [
    "* `trafficSource.adwordsClickInfo.gclId`"
   ]
  },
  {
   "cell_type": "markdown",
   "metadata": {},
   "source": [
    "Ta quan sát một vài giá trị trong cột này"
   ]
  },
  {
   "cell_type": "code",
   "execution_count": 55,
   "metadata": {},
   "outputs": [
    {
     "data": {
      "text/plain": [
       "array([nan,\n",
       "       'Cj0KEQjwxqS-BRDRgPLp0q2t0IUBEiQAgfMXRBVDYwnFawcmsrhs02pjO7FXPLhzHyvJFv53h1H4QJ8aAhtw8P8HAQ',\n",
       "       'Cj0KEQjwxqS-BRDRgPLp0q2t0IUBEiQAgfMXRAq0D2zir1iAiqwgFU0lcMGVY6qaqhBTOFSAIW7gM8saAiku8P8HAQ',\n",
       "       ...,\n",
       "       'CjwKEAiA17LDBRDElqOGq8vR7m8SJAA1AC0_F8I700U-81N2_1WVZF0O31tFIIq0ZrkCf2QJTXTgHRoCaxXw_wcB',\n",
       "       'CjwKEAiA17LDBRDElqOGq8vR7m8SJAA1AC0_HT9qtS8geJzhbHcNi9P0HfV_VqljevGJkARlqcV0GxoCkbPw_wcB',\n",
       "       'CjwKEAiA17LDBRDElqOGq8vR7m8SJAA1AC0_0wzbDX0fd-gzNVm4iuZRBFQ6id5RBK7XQZGOS1kIHRoCXJPw_wcB'],\n",
       "      dtype=object)"
      ]
     },
     "execution_count": 55,
     "metadata": {},
     "output_type": "execute_result"
    }
   ],
   "source": [
    "train_df['trafficSource.adwordsClickInfo.gclId'].unique()"
   ]
  },
  {
   "cell_type": "markdown",
   "metadata": {},
   "source": [
    "> * [Google Click Identifier (GCLID)](https://support.google.com/google-ads/answer/9744275?hl=en) là một tham số được truyền trong URL với các nhấp chuột quảng cáo, để xác định chiến dịch và các thuộc tính khác liên quan đến quảng cáo. Tham số này cũng được sử dụng để liên kết dữ liệu giữa Google Ads và Google Analytics.\n",
    ">\n",
    "> * Do đó, ta sẽ không dùng cột dữ liệu này."
   ]
  },
  {
   "cell_type": "markdown",
   "metadata": {},
   "source": [
    "* `trafficSource.referralPath`"
   ]
  },
  {
   "cell_type": "markdown",
   "metadata": {},
   "source": [
    "Ta quan sát một vài giá trị trong cột này"
   ]
  },
  {
   "cell_type": "code",
   "execution_count": 60,
   "metadata": {},
   "outputs": [
    {
     "data": {
      "text/plain": [
       "trafficSource.referralPath\n",
       "/                                                                                                                                                                                                                   75523\n",
       "/yt/about/                                                                                                                                                                                                          71036\n",
       "/analytics/web/                                                                                                                                                                                                     14620\n",
       "/yt/about/tr/                                                                                                                                                                                                       14599\n",
       "/yt/about/vi/                                                                                                                                                                                                       13753\n",
       "                                                                                                                                                                                                                    ...  \n",
       "/ads/richmedia/studio/pv2/45679610/dirty/index.html                                                                                                                                                                     1\n",
       "/ads/richmedia/studio/pv2/45529016/dirty/index.html                                                                                                                                                                     1\n",
       "/from=1015785e/bd_page_type=1/ssid=0/uid=0/pu=usm%402%2Csz%401320_2001%2Cta%40iphone_1_9.3_3_601/baiduid=39801B0966F60CD0C5500E77C58B1AE1/w=0_10_google+store/t=iphone/l=3/tc                                           1\n",
       "/from=2001a/bd_page_type=1/ssid=a7666b796e6b616e6779696e696e67b903/uid=0/pu=usm%400%2Csz%401320_1003%2Cta%40iphone_2_6.0_1_11.0/baiduid=835BE70DC9630E6554653F182F315509/w=0_10_google+app+store/t=iphone/l=3/tc        1\n",
       "/class_sections/14064/modules/9450/activities/99087                                                                                                                                                                     1\n",
       "Name: count, Length: 1475, dtype: int64"
      ]
     },
     "execution_count": 60,
     "metadata": {},
     "output_type": "execute_result"
    }
   ],
   "source": [
    "train_df['trafficSource.referralPath'].value_counts()"
   ]
  },
  {
   "cell_type": "markdown",
   "metadata": {},
   "source": [
    "> * [Referral Path](https://neilpatel.com/blog/referral-paths-in-google-analytics/) đề cập\n",
    "> đến đường dẫn hoặc chuỗi các trang web mà người dùng đã truy cập để đến trang web hiện tại.\n",
    ">\n",
    "> * Trong Google Analytics, `Referral Path` cho phép chúng ta xem các trang web khác đã \n",
    "> giới thiệu người dùng đến trang web của mình.\n",
    ">\n",
    "> * Ta sẽ giữ lại thuộc tính này, vì chỉ có hơn `60%` dữ liệu bị thiếu và ta có \n",
    "> thể gom chúng lại thành 1 nhóm."
   ]
  },
  {
   "cell_type": "markdown",
   "metadata": {},
   "source": [
    "* `trafficSource.keyword`"
   ]
  },
  {
   "cell_type": "markdown",
   "metadata": {},
   "source": [
    "Ta quan sát dữ liệu"
   ]
  },
  {
   "cell_type": "code",
   "execution_count": 93,
   "metadata": {},
   "outputs": [
    {
     "data": {
      "text/plain": [
       "trafficSource.keyword\n",
       "NaN                                502929\n",
       "(not provided)                     366363\n",
       "6qEhsCssdK0z36ri                    11503\n",
       "(Remarketing/Content targeting)      2298\n",
       "1hZbAqLCbjwfgOH7                     2264\n",
       "                                    ...  \n",
       "youtubeou tube                          1\n",
       "bottle image                            1\n",
       "free google back pack                   1\n",
       "Google man shirts                       1\n",
       "Googl store backpack uk                 1\n",
       "Name: count, Length: 3660, dtype: int64"
      ]
     },
     "execution_count": 93,
     "metadata": {},
     "output_type": "execute_result"
    }
   ],
   "source": [
    "train_df['trafficSource.keyword'].value_counts(ascending=False, dropna=False)"
   ]
  },
  {
   "cell_type": "markdown",
   "metadata": {},
   "source": [
    "> Ta thấy tuy dữ liệu hơi lộn xộn nhưng chúng vẫn có ý nghĩa nhất định. \n",
    "> \n",
    "> ⇨ Do đó ta sẽ giữ lại cột dữ liệu này và cố gắng tìm cách gom nhóm \n",
    "> các dữ liệu giống nhau."
   ]
  },
  {
   "cell_type": "markdown",
   "metadata": {},
   "source": [
    "Nhưng trước hết, ta có thể gom `NaN` và `(not provided)` thành 1 nhóm `other` vì chúng có ý nghĩa gần giống nhau"
   ]
  },
  {
   "cell_type": "code",
   "execution_count": 97,
   "metadata": {},
   "outputs": [],
   "source": [
    "train_df['trafficSource.keyword'].replace(['(not provided)', np.NaN], 'other', inplace=True)"
   ]
  },
  {
   "cell_type": "markdown",
   "metadata": {},
   "source": [
    "* `totals.pageviews`"
   ]
  },
  {
   "cell_type": "markdown",
   "metadata": {},
   "source": [
    "Ta quan sát một số thông tin của cột này"
   ]
  },
  {
   "cell_type": "code",
   "execution_count": 102,
   "metadata": {},
   "outputs": [
    {
     "data": {
      "text/plain": [
       "count    903553.000000\n",
       "mean          3.849764\n",
       "std           7.025274\n",
       "min           1.000000\n",
       "25%           1.000000\n",
       "50%           1.000000\n",
       "75%           4.000000\n",
       "max         469.000000\n",
       "Name: totals.pageviews, dtype: float64"
      ]
     },
     "execution_count": 102,
     "metadata": {},
     "output_type": "execute_result"
    }
   ],
   "source": [
    "train_df['totals.pageviews'].describe()"
   ]
  },
  {
   "cell_type": "markdown",
   "metadata": {},
   "source": [
    "Ta có thể thay `NaN` bằng giá trị trung bình"
   ]
  },
  {
   "cell_type": "code",
   "execution_count": 115,
   "metadata": {},
   "outputs": [],
   "source": [
    "# replace NaN with mean value\n",
    "train_df['totals.pageviews'].replace(np.NaN, train_df['totals.pageviews'].mean(), inplace=True)"
   ]
  },
  {
   "cell_type": "markdown",
   "metadata": {},
   "source": [
    "# **CHECKPOINT**"
   ]
  },
  {
   "cell_type": "code",
   "execution_count": 116,
   "metadata": {},
   "outputs": [],
   "source": [
    "train_df.to_csv('../data/interim/last_checkpoint.csv', index=False, na_rep='None')"
   ]
  },
  {
   "cell_type": "code",
   "execution_count": 110,
   "metadata": {},
   "outputs": [],
   "source": [
    "train_df = pd.read_csv('../data/interim/last_checkpoint.csv', dtype={'fullVisitorId': 'str'})"
   ]
  },
  {
   "cell_type": "markdown",
   "metadata": {},
   "source": [
    "## 4.6. Phân tích các cột KHÔNG bị thiếu dữ liệu"
   ]
  },
  {
   "cell_type": "markdown",
   "metadata": {},
   "source": [
    "* `date`"
   ]
  },
  {
   "cell_type": "code",
   "execution_count": 146,
   "metadata": {},
   "outputs": [
    {
     "data": {
      "text/plain": [
       "0    20160902\n",
       "1    20160902\n",
       "2    20160902\n",
       "3    20160902\n",
       "4    20160902\n",
       "Name: date, dtype: int64"
      ]
     },
     "execution_count": 146,
     "metadata": {},
     "output_type": "execute_result"
    }
   ],
   "source": [
    "train_df['date'].head()"
   ]
  },
  {
   "cell_type": "markdown",
   "metadata": {},
   "source": [
    "Ngày đang được viết dưới dạng `YYYYMMDD` ta sẽ chuyển nó về định dạng chuẩn `YYYY-MM-DD`"
   ]
  },
  {
   "cell_type": "code",
   "execution_count": 147,
   "metadata": {},
   "outputs": [],
   "source": [
    "train_df['date'] = pd.to_datetime(train_df['date'], format='%Y%m%d')"
   ]
  },
  {
   "cell_type": "markdown",
   "metadata": {},
   "source": [
    "* Chuyển những dữ liệu \"không tồn tại\" thảnh \"Others\" "
   ]
  },
  {
   "cell_type": "code",
   "execution_count": 112,
   "metadata": {},
   "outputs": [],
   "source": [
    "pattern = r'\\(?.*(not available|not set|none|unknown|0|other).*\\)?'\n",
    "cols_to_modify = [\n",
    "    'geoNetwork.region', 'geoNetwork.country',\n",
    "    'geoNetwork.region', 'geoNetwork.subContinent',\n",
    "    'geoNetwork.continent', 'geoNetwork.city', \n",
    "    'geoNetwork.metro', 'geoNetwork.networkDomain',\n",
    "    'trafficSource.campaign', 'trafficSource.source',\n",
    "    'trafficSource.medium', 'device.operatingSystem',\n",
    "    'device.browser',\n",
    "]\n",
    "\n",
    "# Replace unknown values with Other\n",
    "for col in cols_to_modify:\n",
    "    train_df[col] = train_df[col]\\\n",
    "                        .apply(lambda word: \"Others\" \n",
    "                               if re.match(pattern, word) else word)"
   ]
  },
  {
   "cell_type": "markdown",
   "metadata": {},
   "source": [
    "---"
   ]
  },
  {
   "cell_type": "code",
   "execution_count": 114,
   "metadata": {},
   "outputs": [],
   "source": [
    "cols_to_drop = [\n",
    "    'trafficSource.adwordsClickInfo.slot',\n",
    "    'trafficSource.adwordsClickInfo.adNetworkType',\n",
    "    'trafficSource.adwordsClickInfo.gclId',\n",
    "]\n",
    "train_df.drop(cols_to_drop, axis='columns', inplace=True)"
   ]
  },
  {
   "cell_type": "code",
   "execution_count": 131,
   "metadata": {},
   "outputs": [
    {
     "data": {
      "text/plain": [
       "Index(['channelGrouping', 'date', 'fullVisitorId', 'sessionId', 'visitId',\n",
       "       'visitNumber', 'visitStartTime', 'device.browser',\n",
       "       'device.operatingSystem', 'device.isMobile', 'device.deviceCategory',\n",
       "       'geoNetwork.continent', 'geoNetwork.subContinent', 'geoNetwork.country',\n",
       "       'geoNetwork.region', 'geoNetwork.metro', 'geoNetwork.city',\n",
       "       'geoNetwork.networkDomain', 'totals.hits', 'totals.pageviews',\n",
       "       'totals.transactionRevenue', 'trafficSource.campaign',\n",
       "       'trafficSource.source', 'trafficSource.medium', 'trafficSource.keyword',\n",
       "       'trafficSource.referralPath', 'trafficSource.adwordsClickInfo.page',\n",
       "       'trafficSource.adContent'],\n",
       "      dtype='object')"
      ]
     },
     "execution_count": 131,
     "metadata": {},
     "output_type": "execute_result"
    }
   ],
   "source": [
    "train_df.columns"
   ]
  },
  {
   "cell_type": "markdown",
   "metadata": {},
   "source": [
    "# CHECKPOINT"
   ]
  },
  {
   "cell_type": "code",
   "execution_count": 2,
   "metadata": {},
   "outputs": [
    {
     "ename": "NameError",
     "evalue": "name 'train_df' is not defined",
     "output_type": "error",
     "traceback": [
      "\u001b[0;31m---------------------------------------------------------------------------\u001b[0m",
      "\u001b[0;31mNameError\u001b[0m                                 Traceback (most recent call last)",
      "\u001b[1;32m/mnt/d/Programming-for-Data-Science-Capstone-project/notebooks/01_Read_data.ipynb Cell 121\u001b[0m line \u001b[0;36m1\n\u001b[0;32m----> <a href='vscode-notebook-cell://wsl%2Bubuntu/mnt/d/Programming-for-Data-Science-Capstone-project/notebooks/01_Read_data.ipynb#Y231sdnNjb2RlLXJlbW90ZQ%3D%3D?line=0'>1</a>\u001b[0m train_df\u001b[39m.\u001b[39mto_csv(\u001b[39m'\u001b[39m\u001b[39m../data/interim/fill_missing.csv\u001b[39m\u001b[39m'\u001b[39m, index\u001b[39m=\u001b[39m\u001b[39mFalse\u001b[39;00m, na_rep\u001b[39m=\u001b[39m\u001b[39m'\u001b[39m\u001b[39mNone\u001b[39m\u001b[39m'\u001b[39m)\n",
      "\u001b[0;31mNameError\u001b[0m: name 'train_df' is not defined"
     ]
    }
   ],
   "source": [
    "train_df.to_csv('../data/interim/fill_missing.csv', index=False, na_rep='None')"
   ]
  },
  {
   "cell_type": "code",
   "execution_count": 98,
   "metadata": {},
   "outputs": [],
   "source": [
    "train_df = pd.read_csv('../data/interim/fill_missing.csv',\n",
    "                       dtype={'fullVisitorId': 'str'},\n",
    "                       parse_dates=['date'])"
   ]
  },
  {
   "cell_type": "code",
   "execution_count": 4,
   "metadata": {},
   "outputs": [
    {
     "data": {
      "text/plain": [
       "0        2016-09-02\n",
       "1        2016-09-02\n",
       "2        2016-09-02\n",
       "3        2016-09-02\n",
       "4        2016-09-02\n",
       "            ...    \n",
       "903648   2017-01-04\n",
       "903649   2017-01-04\n",
       "903650   2017-01-04\n",
       "903651   2017-01-04\n",
       "903652   2017-01-04\n",
       "Name: date, Length: 903653, dtype: datetime64[ns]"
      ]
     },
     "execution_count": 4,
     "metadata": {},
     "output_type": "execute_result"
    }
   ],
   "source": [
    "train_df['date']"
   ]
  },
  {
   "cell_type": "code",
   "execution_count": 8,
   "metadata": {},
   "outputs": [
    {
     "data": {
      "text/plain": [
       "Index(['visitId', 'visitNumber', 'visitStartTime', 'totals.hits',\n",
       "       'totals.pageviews', 'totals.transactionRevenue',\n",
       "       'trafficSource.adwordsClickInfo.page'],\n",
       "      dtype='object')"
      ]
     },
     "execution_count": 8,
     "metadata": {},
     "output_type": "execute_result"
    }
   ],
   "source": [
    "train_df.select_dtypes(include=[np.number]).columns"
   ]
  },
  {
   "cell_type": "markdown",
   "metadata": {},
   "source": [
    "___"
   ]
  },
  {
   "cell_type": "code",
   "execution_count": 9,
   "metadata": {},
   "outputs": [
    {
     "data": {
      "text/plain": [
       "Index(['date', 'visitId', 'visitNumber', 'visitStartTime'], dtype='object')"
      ]
     },
     "execution_count": 9,
     "metadata": {},
     "output_type": "execute_result"
    }
   ],
   "source": [
    "numeric_features_train = train.select_dtypes(include=[np.number])\n",
    "numeric_features_train.columns"
   ]
  },
  {
   "cell_type": "code",
   "execution_count": null,
   "metadata": {},
   "outputs": [],
   "source": [
    "numeric_features_test = test.select_dtypes(include=[np.number])\n",
    "numeric_features_test.columns"
   ]
  },
  {
   "cell_type": "code",
   "execution_count": null,
   "metadata": {},
   "outputs": [],
   "source": [
    "categorical_features_train = train.select_dtypes(include=[object])\n",
    "categorical_features_train.columns"
   ]
  },
  {
   "cell_type": "code",
   "execution_count": null,
   "metadata": {},
   "outputs": [],
   "source": [
    "categorical_features_test = test.select_dtypes(include=[object])\n",
    "categorical_features_test.columns"
   ]
  },
  {
   "cell_type": "code",
   "execution_count": null,
   "metadata": {},
   "outputs": [],
   "source": [
    "colorscale = [[0, 'rgb(102,194,165)'], [0.0005, 'rgb(102,194,165)'], \n",
    "              [0.01, 'rgb(171,221,164)'], [0.02, 'rgb(230,245,152)'], \n",
    "              [0.04, 'rgb(255,255,191)'], [0.05, 'rgb(254,224,139)'], \n",
    "              [0.10, 'rgb(253,174,97)'], [0.25, 'rgb(213,62,79)'], [1.0, 'rgb(158,1,66)']]\n",
    "\n",
    "data = [ dict(\n",
    "        type = 'choropleth',\n",
    "        autocolorscale = False,\n",
    "        colorscale = colorscale,\n",
    "        showscale = True,\n",
    "        locations = train_df[\"geoNetwork.country\"].value_counts().index,\n",
    "        locationmode = 'country names',\n",
    "        z = train_df[\"geoNetwork.country\"].value_counts().values,\n",
    "        marker = dict(\n",
    "            line = dict(color = 'rgb(250,250,225)', width = 1)),\n",
    "            colorbar = dict( title = 'Customer Visits ')\n",
    "            ) \n",
    "       ]\n",
    "\n",
    "layout = dict(\n",
    "    height=600,\n",
    "    title = 'World Wide Customer Visit Distribution',\n",
    "    geo = dict(\n",
    "        showframe = True,\n",
    "        showocean = True,\n",
    "        oceancolor = 'rgb(28,107,160)',\n",
    "        projection = dict(\n",
    "        type = 'orthographic',\n",
    "            rotation = dict(\n",
    "                    lon = 50,\n",
    "                    lat = 10),\n",
    "        ),\n",
    "        lonaxis =  dict(\n",
    "                showgrid = True,\n",
    "                gridcolor = 'rgb(12, 102, 102)'\n",
    "            ),\n",
    "        lataxis = dict(\n",
    "                showgrid = True,\n",
    "                gridcolor = 'rgb(12, 102, 102)'\n",
    "                )\n",
    "            ),\n",
    "        )\n",
    "fig = dict(data=data, layout=layout)\n",
    "iplot(fig)\n"
   ]
  },
  {
   "cell_type": "code",
   "execution_count": null,
   "metadata": {},
   "outputs": [],
   "source": [
    "colorscale = [[0, 'rgb(102,194,165)'], [0.0005, 'rgb(102,194,165)'], \n",
    "              [0.01, 'rgb(171,221,164)'], [0.02, 'rgb(230,245,152)'], \n",
    "              [0.04, 'rgb(255,255,191)'], [0.05, 'rgb(254,224,139)'], \n",
    "              [0.10, 'rgb(253,174,97)'], [0.25, 'rgb(213,62,79)'], [1.0, 'rgb(158,1,66)']]\n",
    "\n",
    "data = [ dict(\n",
    "        type = 'choropleth',\n",
    "        autocolorscale = False,\n",
    "        colorscale = colorscale,\n",
    "        showscale = True,\n",
    "        locations = train_df[\"geoNetwork.country\"].value_counts().index,\n",
    "        locationmode = 'country names',\n",
    "        z = train_df[\"geoNetwork.country\"].value_counts().values,\n",
    "        marker = dict(\n",
    "            line = dict(color = 'rgb(250,250,225)', width = 1)),\n",
    "            colorbar = dict( title = 'Customer Visits ')\n",
    "            ) \n",
    "       ]\n",
    "\n",
    "layout = dict(\n",
    "    height=600,\n",
    "    title = 'World Wide Customer Visit Distribution',\n",
    "    geo = dict(\n",
    "        showframe = True,\n",
    "        showocean = True,\n",
    "        oceancolor = 'rgb(28,107,160)',\n",
    "        projection = dict(\n",
    "        type = 'conic equal area',\n",
    "            rotation = dict(\n",
    "                    lon = 50,\n",
    "                    lat = 10),\n",
    "        ),\n",
    "        lonaxis =  dict(\n",
    "                showgrid = True,\n",
    "                gridcolor = 'rgb(12, 102, 102)'\n",
    "            ),\n",
    "        lataxis = dict(\n",
    "                showgrid = True,\n",
    "                gridcolor = 'rgb(12, 102, 102)'\n",
    "                )\n",
    "            ),\n",
    "        )\n",
    "fig = dict(data=data, layout=layout)\n",
    "iplot(fig)"
   ]
  },
  {
   "cell_type": "code",
   "execution_count": null,
   "metadata": {},
   "outputs": [],
   "source": [
    "geo_cols = [\"geoNetwork.city\", \"geoNetwork.country\", \"geoNetwork.subContinent\", \"geoNetwork.continent\"]\n",
    "colors = [\"#d6a5ff\", \"#fca6da\", \"#f4d39c\", \"#a9fcca\"]\n",
    "traces = []\n",
    "for i, col in enumerate(geo_cols):\n",
    "    t = train_df[col].value_counts()\n",
    "    traces.append(go.Bar(marker=dict(color=colors[i]),orientation=\"h\", y = t.index[:15], x = t.values[:15]))\n",
    "\n",
    "fig = tools.make_subplots(rows=2, cols=2, \n",
    "                          subplot_titles=[\"Visits: City\", \"Visits: Country\",\"Visits: Sub Continent\",\"Visits: Continent\"]\n",
    "                          , print_grid=False)\n",
    "fig.append_trace(traces[0], 1, 1)\n",
    "fig.append_trace(traces[1], 1, 2)\n",
    "fig.append_trace(traces[2], 2, 1)\n",
    "fig.append_trace(traces[3], 2, 2)\n",
    "\n",
    "fig['layout'].update(height=600,width=1000, showlegend=False)\n",
    "iplot(fig)\n",
    "\n",
    "train_df[\"totals.transactionRevenue\"] = train_df[\"totals.transactionRevenue\"].astype('float')\n",
    "\n",
    "fig = tools.make_subplots(rows=2, cols=2, subplot_titles=[\"Mean Revenue by City\", \"Mean Revenue by Country\",\"Mean Revenue by Sub Continent\",\"Mean Revenue by Continent\"], print_grid=False)\n",
    "\n",
    "colors = [\"red\", \"green\", \"purple\",\"blue\"]\n",
    "trs = []\n",
    "for i, col in enumerate(geo_cols):\n",
    "    tmp = train_df.groupby(col).agg({\"totals.transactionRevenue\": \"mean\"}).reset_index().rename(columns={\"totals.transactionRevenue\" : \"Mean Revenue\"})\n",
    "    tmp = tmp.dropna()\n",
    "    tr = go.Bar(x = tmp[\"Mean Revenue\"], orientation=\"h\", marker=dict(opacity=0.5, color=colors[i]), y = tmp[col])\n",
    "    trs.append(tr)\n",
    "\n",
    "fig.append_trace(trs[0], 1, 1)\n",
    "fig.append_trace(trs[1], 1, 2)\n",
    "fig.append_trace(trs[2], 2, 1)\n",
    "fig.append_trace(trs[3], 2, 2)\n",
    "\n",
    "fig['layout'].update(height=600,width=1000, showlegend=False)\n",
    "iplot(fig)"
   ]
  },
  {
   "cell_type": "code",
   "execution_count": null,
   "metadata": {},
   "outputs": [],
   "source": [
    "t = train_df['channelGrouping'].value_counts()\n",
    "values1 = t.values \n",
    "index1 = t.index\n",
    "domain1 = {'x': [0.2, 0.50], 'y': [0.0, 0.33]}\n",
    "fig = {\n",
    "  \"data\": [\n",
    "    {\n",
    "      \"values\": values1,\n",
    "      \"labels\": index1,\n",
    "      \"domain\": {\"x\": [0, .48]},\n",
    "    \"marker\" : dict(colors=[\"#f77b9c\" ,'#ab97db',  '#b0b1b2']),\n",
    "      \"name\": \"Channel Grouping\",\n",
    "      \"hoverinfo\":\"label+percent+name\",\n",
    "      \"hole\": .7,\n",
    "      \"type\": \"pie\"\n",
    "    }\n",
    "   ],\n",
    "  \"layout\": {\"title\":\"Channel Grouping\",\n",
    "      \"annotations\": [\n",
    "            {\n",
    "                \"font\": {\n",
    "                    \"size\": 20\n",
    "                },\n",
    "                \"showarrow\": False,\n",
    "                \"text\": \"Channel Grouping\",\n",
    "                \"x\": 0.11,\n",
    "                \"y\": 0.5\n",
    "            }\n",
    "        ]\n",
    "    }\n",
    "}\n",
    "iplot(fig)"
   ]
  },
  {
   "cell_type": "code",
   "execution_count": null,
   "metadata": {},
   "outputs": [],
   "source": [
    "fig = tools.make_subplots(rows=1, cols=2,subplot_titles=[\"Traffic Source Campaign (not-set removed)\", \"Traffic Source Medium\"], print_grid=False)\n",
    " \n",
    "colors = [\"#d6a5ff\", \"#fca6da\", \"#f4d39c\", \"#a9fcca\"]\n",
    "t1 = train_df[\"trafficSource.campaign\"].value_counts()\n",
    "t2 = train_df[\"trafficSource.medium\"].value_counts()\n",
    "\n",
    "tr1 = go.Bar(x = t1.index, y = t1.values, marker=dict(color=colors[1]))\n",
    "tr2 = go.Bar(x = t2.index, y = t2.values, marker=dict(color=colors[2]))\n",
    "\n",
    "fig.append_trace(tr1, 1, 1)\n",
    "fig.append_trace(tr2, 1, 2)\n",
    "\n",
    "\n",
    "fig['layout'].update(height=400, margin=dict(b=100), showlegend=False)\n",
    "iplot(fig)"
   ]
  },
  {
   "cell_type": "code",
   "execution_count": 104,
   "metadata": {},
   "outputs": [],
   "source": [
    "def add_date_features(df):\n",
    "    # df['date'] = df['date'].astype(str)\n",
    "    # df[\"date\"] = df[\"date\"].apply(lambda x : x[:4] + \"-\" + x[4:6] + \"-\" + x[6:])\n",
    "    # df[\"date\"] = pd.to_datetime(df[\"date\"])\n",
    "    \n",
    "    df[\"month\"]   = df['date'].dt.month\n",
    "    df[\"day\"]     = df['date'].dt.day\n",
    "    df[\"weekday\"] = df['date'].dt.weekday\n",
    "    return df "
   ]
  },
  {
   "cell_type": "code",
   "execution_count": 105,
   "metadata": {},
   "outputs": [],
   "source": [
    "train = add_date_features(train_df)"
   ]
  },
  {
   "cell_type": "code",
   "execution_count": null,
   "metadata": {},
   "outputs": [],
   "source": [
    "# Visualization for Visits by date\n",
    "tmp = train['date'].value_counts().to_frame().reset_index()#.sort_values(by='index')\n",
    "tmp = tmp.rename(columns = {\"index\" : \"dateX\", \"date\" : \"visits\"})\n",
    "tmp[\"dateX\"] = tmp.index\n",
    "\n",
    "tr = go.Scatter(mode=\"lines\", x = tmp[\"dateX\"].astype(str), y = tmp[\"visits\"])\n",
    "layout = go.Layout(title=\"Visits by Date\", height=400)\n",
    "fig = go.Figure(data = [tr], layout = layout)\n",
    "iplot(fig)\n",
    "# Visualization for Visits by monthly revenue\n",
    "tmp = train.groupby(\"date\").agg({\"totals.transactionRevenue\" : \"mean\"}).reset_index()\n",
    "tmp = tmp.rename(columns = {\"date\" : \"dateX\", \"totals.transactionRevenue\" : \"mean.revenue\"})\n",
    "tr = go.Scatter(mode=\"lines\", x = tmp[\"dateX\"].astype(str), y = tmp[\"mean.revenue\"])\n",
    "layout = go.Layout(title=\"Monthly Revenue by Date\", height=400)\n",
    "fig = go.Figure(data = [tr], layout = layout)\n",
    "iplot(fig)"
   ]
  },
  {
   "cell_type": "code",
   "execution_count": null,
   "metadata": {},
   "outputs": [],
   "source": [
    "fig = tools.make_subplots(rows=1, cols=3, subplot_titles=[\"Visits by Month\", \"Visits by Month Day\", \"Visits by Week Day\"], print_grid=False)\n",
    "trs = []\n",
    "for i,col in enumerate([\"month\", \"day\", \"weekday\"]):\n",
    "    t = train[col].value_counts()\n",
    "    tr = go.Bar(x = t.index, marker=dict(color=colors[i]), y = t.values)\n",
    "    trs.append(tr)\n",
    "\n",
    "fig.append_trace(trs[0], 1, 1)\n",
    "fig.append_trace(trs[1], 1, 2)\n",
    "fig.append_trace(trs[2], 1, 3)\n",
    "fig['layout'].update(height=400, showlegend=False)\n",
    "iplot(fig)"
   ]
  },
  {
   "cell_type": "code",
   "execution_count": null,
   "metadata": {},
   "outputs": [],
   "source": [
    "tmp1 = train.groupby('month').agg({\"totals.transactionRevenue\" : \"mean\"}).reset_index()\n",
    "tmp2 = train.groupby('day').agg({\"totals.transactionRevenue\" : \"mean\"}).reset_index()\n",
    "tmp3 = train.groupby('weekday').agg({\"totals.transactionRevenue\" : \"mean\"}).reset_index()\n",
    "\n",
    "fig = tools.make_subplots(rows=1, cols=3, subplot_titles=[\"MeanRevenue by Month\", \"MeanRevenue by MonthDay\", \"MeanRevenue by WeekDay\"], print_grid=False)\n",
    "tr1 = go.Bar(x = tmp1.month, marker=dict(color=\"yellow\", opacity=0.5), y = tmp1['totals.transactionRevenue'])\n",
    "tr2 = go.Bar(x = tmp2.day, marker=dict(color=\"blue\", opacity=0.5), y = tmp2['totals.transactionRevenue'])\n",
    "tr3 = go.Bar(x = tmp3.weekday, marker=dict(color=\"violet\", opacity=0.5), y = tmp3['totals.transactionRevenue'])\n",
    "\n",
    "fig.append_trace(tr1, 1, 1)\n",
    "fig.append_trace(tr2, 1, 2)\n",
    "fig.append_trace(tr3, 1, 3)\n",
    "fig['layout'].update(height=400, showlegend=False)\n",
    "iplot(fig)"
   ]
  },
  {
   "cell_type": "code",
   "execution_count": 109,
   "metadata": {},
   "outputs": [
    {
     "data": {
      "text/html": [
       "<div>\n",
       "<style scoped>\n",
       "    .dataframe tbody tr th:only-of-type {\n",
       "        vertical-align: middle;\n",
       "    }\n",
       "\n",
       "    .dataframe tbody tr th {\n",
       "        vertical-align: top;\n",
       "    }\n",
       "\n",
       "    .dataframe thead th {\n",
       "        text-align: right;\n",
       "    }\n",
       "</style>\n",
       "<table border=\"1\" class=\"dataframe\">\n",
       "  <thead>\n",
       "    <tr style=\"text-align: right;\">\n",
       "      <th></th>\n",
       "      <th>fullVisitorId</th>\n",
       "      <th>totals.hits</th>\n",
       "      <th>totals.pageviews</th>\n",
       "      <th>totals.transactionRevenue</th>\n",
       "    </tr>\n",
       "  </thead>\n",
       "  <tbody>\n",
       "    <tr>\n",
       "      <th>0</th>\n",
       "      <td>0000010278554503158</td>\n",
       "      <td>11.0</td>\n",
       "      <td>8.0</td>\n",
       "      <td>0.0</td>\n",
       "    </tr>\n",
       "    <tr>\n",
       "      <th>1</th>\n",
       "      <td>0000020424342248747</td>\n",
       "      <td>17.0</td>\n",
       "      <td>13.0</td>\n",
       "      <td>0.0</td>\n",
       "    </tr>\n",
       "    <tr>\n",
       "      <th>2</th>\n",
       "      <td>0000027376579751715</td>\n",
       "      <td>6.0</td>\n",
       "      <td>5.0</td>\n",
       "      <td>0.0</td>\n",
       "    </tr>\n",
       "    <tr>\n",
       "      <th>3</th>\n",
       "      <td>0000039460501403861</td>\n",
       "      <td>2.0</td>\n",
       "      <td>2.0</td>\n",
       "      <td>0.0</td>\n",
       "    </tr>\n",
       "    <tr>\n",
       "      <th>4</th>\n",
       "      <td>0000040862739425590</td>\n",
       "      <td>5.0</td>\n",
       "      <td>5.0</td>\n",
       "      <td>0.0</td>\n",
       "    </tr>\n",
       "  </tbody>\n",
       "</table>\n",
       "</div>"
      ],
      "text/plain": [
       "         fullVisitorId  totals.hits  totals.pageviews  \\\n",
       "0  0000010278554503158         11.0               8.0   \n",
       "1  0000020424342248747         17.0              13.0   \n",
       "2  0000027376579751715          6.0               5.0   \n",
       "3  0000039460501403861          2.0               2.0   \n",
       "4  0000040862739425590          5.0               5.0   \n",
       "\n",
       "   totals.transactionRevenue  \n",
       "0                        0.0  \n",
       "1                        0.0  \n",
       "2                        0.0  \n",
       "3                        0.0  \n",
       "4                        0.0  "
      ]
     },
     "execution_count": 109,
     "metadata": {},
     "output_type": "execute_result"
    }
   ],
   "source": [
    "import warnings\n",
    "warnings.simplefilter(action='ignore', category=FutureWarning)\n",
    "\n",
    "agg_dict = {}\n",
    "for col in [\"totals.hits\", \"totals.pageviews\", \"totals.transactionRevenue\"]:\n",
    "    train[col] = train[col].astype('float')\n",
    "    agg_dict[col] = \"sum\"\n",
    "tmp = train.groupby(\"fullVisitorId\").agg(agg_dict).reset_index()\n",
    "tmp.head()"
   ]
  },
  {
   "cell_type": "code",
   "execution_count": null,
   "metadata": {},
   "outputs": [],
   "source": [
    "non_zero = tmp[tmp[\"totals.transactionRevenue\"] > 0][\"totals.transactionRevenue\"]\n",
    "print (\"There are \" + str(len(non_zero)) + \" visitors in the train dataset having non zero total transaction revenue\")\n",
    "\n",
    "plt.figure(figsize=(10,6))\n",
    "sns.displot(non_zero)\n",
    "plt.title(\"Distribution of Non-Zero Total Transactions\");\n",
    "plt.xlabel(\"Total Transactions\");"
   ]
  },
  {
   "cell_type": "code",
   "execution_count": null,
   "metadata": {},
   "outputs": [],
   "source": [
    "plt.figure(figsize=(12,6))\n",
    "sns.distplot(np.log1p(non_zero))\n",
    "plt.title(\"Natural Log Distribution of Non Zero Total Transactions\");\n",
    "plt.xlabel(\"Natural Log - Total Transactions\");"
   ]
  },
  {
   "cell_type": "code",
   "execution_count": 112,
   "metadata": {},
   "outputs": [],
   "source": [
    "## find constant columns\n",
    "constant_columns = []\n",
    "for col in train.columns:\n",
    "    if len(train[col].value_counts()) == 1:\n",
    "        constant_columns.append(col)\n",
    "\n",
    "## non relevant columns\n",
    "non_relevant = [\"visitNumber\", \"date\", \"fullVisitorId\", \"sessionId\", \"visitId\", \"visitStartTime\"]"
   ]
  },
  {
   "cell_type": "code",
   "execution_count": 113,
   "metadata": {},
   "outputs": [],
   "source": [
    "from sklearn.preprocessing import LabelEncoder\n",
    "\n",
    "categorical_columns = [c for c in train.columns if not c.startswith(\"total\")]\n",
    "categorical_columns = [c for c in categorical_columns if c not in constant_columns + non_relevant]\n",
    "for c in categorical_columns:\n",
    "\n",
    "    le = LabelEncoder()\n",
    "    train_vals = list(train[c].values.astype(str))\n",
    "    \n",
    "    le.fit(train_vals)\n",
    "    \n",
    "    train[c] = le.transform(train_vals)"
   ]
  },
  {
   "cell_type": "code",
   "execution_count": 114,
   "metadata": {},
   "outputs": [],
   "source": [
    "def normalize_numerical_columns(df):\n",
    "    df[\"totals.hits\"] = df[\"totals.hits\"].astype(float)\n",
    "    df[\"totals.hits\"] = (df[\"totals.hits\"] - min(df[\"totals.hits\"])) / (max(df[\"totals.hits\"]) - min(df[\"totals.hits\"]))\n",
    "\n",
    "    df[\"totals.pageviews\"] = df[\"totals.pageviews\"].astype(float)\n",
    "    df[\"totals.pageviews\"] = (df[\"totals.pageviews\"] - min(df[\"totals.pageviews\"])) / (max(df[\"totals.pageviews\"]) - min(df[\"totals.pageviews\"]))\n",
    "    \n",
    "    # df[\"totals.transactionRevenue\"] = df[\"totals.transactionRevenue\"].fillna(0.0)\n",
    "    return df "
   ]
  },
  {
   "cell_type": "code",
   "execution_count": 115,
   "metadata": {},
   "outputs": [],
   "source": [
    "train = normalize_numerical_columns(train)"
   ]
  },
  {
   "cell_type": "code",
   "execution_count": 116,
   "metadata": {},
   "outputs": [],
   "source": [
    "from sklearn.model_selection import train_test_split\n",
    "features = [c for c in train.columns if c not in constant_columns + non_relevant]\n",
    "features.remove(\"totals.transactionRevenue\")\n",
    "\n",
    "train[\"totals.transactionRevenue\"] = np.log1p(train[\"totals.transactionRevenue\"].astype(float))\n",
    "train_x, valid_x, train_y, valid_y = train_test_split(train[features], train[\"totals.transactionRevenue\"], \n",
    "                                                      test_size=0.25, random_state=24)"
   ]
  },
  {
   "cell_type": "code",
   "execution_count": 117,
   "metadata": {},
   "outputs": [
    {
     "data": {
      "text/plain": [
       "((677739, 24), (225914, 24), (677739,), (225914,))"
      ]
     },
     "execution_count": 117,
     "metadata": {},
     "output_type": "execute_result"
    }
   ],
   "source": [
    "train_x.shape, valid_x.shape, train_y.shape, valid_y.shape"
   ]
  },
  {
   "cell_type": "code",
   "execution_count": 118,
   "metadata": {},
   "outputs": [
    {
     "name": "stdout",
     "output_type": "stream",
     "text": [
      "[LightGBM] [Info] Total Bins 1808\n",
      "[LightGBM] [Info] Number of data points in the train set: 677739, number of used features: 24\n",
      "[LightGBM] [Info] Start training from score 0.228010\n"
     ]
    }
   ],
   "source": [
    "import lightgbm as lgb \n",
    "\n",
    "lgb_params = {\"objective\" : \"regression\", \"metric\" : [\"rmse\", \"mse\", \"mae\"],\n",
    "              \"num_leaves\": 30, \"learning_rate\" : 0.1, \n",
    "              \"bagging_fraction\" : 0.7, \"feature_fraction\" : 0.5,\n",
    "              \"force_col_wise\": True, \"min_child_samples\" : 100,\n",
    "              }\n",
    "\n",
    "\n",
    "lgb_train = lgb.Dataset(train_x, label=train_y)\n",
    "lgb_val = lgb.Dataset(valid_x, label=valid_y)\n",
    "model = lgb.train(lgb_params, lgb_train, 1000, valid_sets=[lgb_val],\n",
    "                  # early_stopping_rounds=150, \n",
    "                  # verbose_eval=20\n",
    "                  )"
   ]
  },
  {
   "cell_type": "code",
   "execution_count": 119,
   "metadata": {},
   "outputs": [
    {
     "data": {
      "text/plain": [
       "OrderedDict([('rmse', 1.6579315217483463),\n",
       "             ('l2', 2.748736930806788),\n",
       "             ('l1', 0.33777191702398623)])"
      ]
     },
     "execution_count": 119,
     "metadata": {},
     "output_type": "execute_result"
    }
   ],
   "source": [
    "model.best_score[\"valid_0\"]"
   ]
  },
  {
   "cell_type": "code",
   "execution_count": 120,
   "metadata": {},
   "outputs": [
    {
     "data": {
      "image/png": "[encoded data removed]",
      "text/plain": [
       "<Figure size 1200x800 with 1 Axes>"
      ]
     },
     "metadata": {},
     "output_type": "display_data"
    }
   ],
   "source": [
    "# How to get score from lightgbm model\n",
    "lgb.plot_importance(model, max_num_features=30, figsize=(12,8));"
   ]
  },
  {
   "cell_type": "code",
   "execution_count": null,
   "metadata": {},
   "outputs": [],
   "source": []
  }
 ],
 "metadata": {
  "kernelspec": {
   "display_name": ".venv",
   "language": "python",
   "name": "python3"
  },
  "language_info": {
   "codemirror_mode": {
    "name": "ipython",
    "version": 3
   },
   "file_extension": ".py",
   "mimetype": "text/x-python",
   "name": "python",
   "nbconvert_exporter": "python",
   "pygments_lexer": "ipython3",
   "version": "3.11.6"
  }
 },
 "nbformat": 4,
 "nbformat_minor": 2
}
