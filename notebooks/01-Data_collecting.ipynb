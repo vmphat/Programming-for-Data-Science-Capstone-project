{
 "cells": [
  {
   "cell_type": "markdown",
   "metadata": {},
   "source": [
    "<div style=\"text-align:center\">\n",
    "    <img title=\"Contest title\" alt=\"An image show Kaggle's contest title\" src=\"./figures/contest_title.png\">\n",
    "\n",
    "<!-- [image source](https://www.google.com/search?q=Google+Analytics+Customer+Revenue+Prediction+image&sca_esv=592634044&tbm=isch&sxsrf=AM9HkKlftHgD8SLQdTaxoZl26nouayB7dg:1703109603032&source=lnms&sa=X&ved=2ahUKEwi2ypvXgZ-DAxX_jGMGHRMoAUIQ_AUoAXoECAEQAw&biw=1707&bih=809&dpr=1.5#imgrc=uoakpuQba4-QtM) -->\n",
    "</div>"
   ]
  },
  {
   "cell_type": "markdown",
   "metadata": {},
   "source": [
    "<div style=\"text-align: center; background-color: #0A6EBD; font-family: 'Trebuchet MS', Arial, sans-serif; color: white; padding: 20px; font-size: 40px; font-weight: bold; border-radius: 0 0 0 0; box-shadow: 0px 6px 8px rgba(0, 0, 0, 0.2);\">\n",
    "  ĐỒ ÁN CUỐI KỲ - LẬP TRÌNH CHO KHOA HỌC DỮ LIỆU\n",
    "</div>"
   ]
  },
  {
   "cell_type": "markdown",
   "metadata": {},
   "source": [
    "<div style=\"text-align: center; background-color: #5A96E3; font-family: 'Trebuchet MS', Arial, sans-serif; color: white; padding: 20px; font-size: 40px; font-weight: bold; border-radius: 0 0 0 0; box-shadow: 0px 6px 8px rgba(0, 0, 0, 0.2);\">\n",
    "  <ins>Giai đoạn 1</ins>: Thu thập dữ liệu\n",
    "</div>"
   ]
  },
  {
   "cell_type": "markdown",
   "metadata": {},
   "source": [
    "---\n",
    "#"
   ]
  },
  {
   "cell_type": "markdown",
   "metadata": {},
   "source": [
    "<div style=\"font-family: american typewriter, serif; line-height: 1.5; word-spacing: 4px;\">\n",
    "\n",
    "## **Mục lục**\n",
    "\n",
    "</div>\n",
    "\n",
    "[1. Giới thiệu bài toán](#1-giới-thiệu-bài-toán)\n",
    "\n",
    "[2. Giới thiệu về tập dữ liệu được cung cấp](#2-giới-thiệu-về-tập-dữ-liệu-được-cung-cấp)\n",
    "\n",
    "- [2.1. Tổng quan](#21-tổng-quan)\n",
    "- [2.2. Thời gian thu thập dữ liệu](#22-thời-gian-thu-thập-dữ-liệu)\n",
    "- [2.3. Các trường, cột trong tập dữ liệu](#23-các-trường-cột-trong-tập-dữ-liệu)\n"
   ]
  },
  {
   "cell_type": "markdown",
   "metadata": {},
   "source": [
    "---\n",
    "#"
   ]
  },
  {
   "cell_type": "markdown",
   "metadata": {},
   "source": [
    "<div style=\"font-family: american typewriter, serif; line-height: 1.5; word-spacing: 4px;\">\n",
    "\n",
    "# **1. GIỚI THIỆU BÀI TOÁN**\n",
    "\n",
    "</div>"
   ]
  },
  {
   "cell_type": "markdown",
   "metadata": {},
   "source": [
    "<class style=\"font-size: 20px;\">\n",
    "\n",
    "* Nguyên tắc 80/20 (còn được gọi là **`\"Pareto Principle\"`**) khẳng định rằng 80% các kết quả (hoặc kết quả đầu ra) là kết quả của 20% của tất cả các nguyên nhân (hoặc đầu vào) cho một sự kiện nhất định. Nguyên tắc này được chứng minh là đúng trong hầu hết lĩnh vực kinh doanh, nghĩa là khoảng 80% doanh thu của chúng ta sẽ chỉ được tạo ra bởi 20% lượng khách hàng tiềm năng.\n",
    "\n",
    "* Vì vậy, mục tiêu của chúng ta là dự đoán doanh thu sẽ được tạo ra bởi những khách hàng tiềm năng trong tương lai gần. Điều này giúp cho các nhóm marketing đầu tư một khoản tiền phù hợp vào các chiến lược quảng cáo để thu hút các khách hàng tiềm năng.\n",
    "\n",
    "* Đơn giản mà nói, chúng ta được cung cấp dữ liệu và giao dịch trong quá khứ của một số người dùng (khi họ đăng nhập vào GStore). Và, bằng cách sử dụng dữ liệu này, chúng ta cần dự đoán doanh thu tương lai sẽ được tạo ra bởi những khách hàng đó.\n",
    "\n",
    "* Google đã cung cấp bộ dữ liệu khách hàng và số lượng giao dịch cho mỗi khách hàng. Chúng ta sẽ xây dựng một mô hình dự đoán sử dụng bộ dữ liệu GStore để dự đoán tổng doanh thu trên mỗi khách hàng giúp cho việc sử dụng ngân sách tiếp thị tốt hơn và chúng ta cũng sẽ giải thích yếu tố ảnh hưởng nhất đến dự đoán tổng doanh thu bằng các mô hình khác nhau.\n",
    "\n",
    "</class>"
   ]
  },
  {
   "cell_type": "markdown",
   "metadata": {},
   "source": [
    "___\n",
    "#"
   ]
  },
  {
   "cell_type": "markdown",
   "metadata": {},
   "source": [
    "<div style=\"font-family: american typewriter, serif; line-height: 1.5; word-spacing: 4px;\">\n",
    "\n",
    "# **2. GIỚI THIỆU VỀ TẬP DỮ LIỆU ĐƯỢC CUNG CẤP**\n",
    "\n",
    "</div>"
   ]
  },
  {
   "cell_type": "markdown",
   "metadata": {},
   "source": [
    "## **2.1. <ins>Dữ liệu nói về chủ đề gì?</ins>**"
   ]
  },
  {
   "cell_type": "markdown",
   "metadata": {},
   "source": [
    "<class style=\"font-size: 20px;\">\n",
    "\n",
    "* \"Google Analytics Customer Revenue Prediction\" cung cấp cho chúng ta một tập dữ liệu về các thông tin xung quanh một phiên truy cập của người dùng vào cửa hàng GStore. Mỗi dòng trong tập dữ liệu cho biết: các thông tin dùng để định danh người dùng, phiên truy cập; ngày truy cập; các thông tin về vị trí địa lý, loại thiết bị của người dùng cũng như thống kê tất cả hoạt động của người dùng trong phiên truy cập đó.\n",
    "\n",
    "</class>"
   ]
  },
  {
   "cell_type": "markdown",
   "metadata": {},
   "source": [
    "## **2.2. <ins>Dữ liệu này có nguồn gốc từ đâu?</ins>**"
   ]
  },
  {
   "cell_type": "markdown",
   "metadata": {},
   "source": [
    "<class style=\"font-size: 20px;\">\n",
    "\n",
    "* Dữ liệu được cung cấp hoàn toàn miễn phí để thí sinh sử dụng trong cuộc thi \"Google Analytics Customer Revenue Prediction\" trên website của `Kaggle`. Ta có thể truy cập đến tập dữ liệu thông qua [đường dẫn này](https://www.kaggle.com/competitions/ga-customer-revenue-prediction/data).\n",
    "\n",
    "* Để có được tập dữ liệu này, `RStudio` (bên tổ chức cuộc thi) đã hợp tác cùng `Google Cloud` và `Kaggle` để lấy được dữ liệu về khách hàng của GStore và dùng nó để tổ chức cuộc thi thông qua website của Kaggle.\n",
    "\n",
    "* Dữ liệu mà cuộc thi cung cấp được lưu trữ trong một file có định dạng `CSV`.\n",
    "\n",
    "</class>"
   ]
  },
  {
   "cell_type": "markdown",
   "metadata": {},
   "source": [
    "## **2.3. <ins>Giới thiệu về file dữ liệu sẽ được sử dụng</ins>**"
   ]
  },
  {
   "cell_type": "markdown",
   "metadata": {},
   "source": [
    "<class style=\"font-size: 20px;\">\n",
    "\n",
    "* Hiện tại, website chính thức của cuộc thi cung cấp cho chúng ta hai phiên bản khác nhau của từng file dữ liệu (có tổng cộng 6 file). Trong phạm vi đồ án lần này, ta sẽ chỉ sử dụng một file: `train.csv`, vì:\n",
    "\n",
    "    * Nhìn chung, các tập dữ liệu phiên bản 2 (`*_v2.csv`) gần như giống hoàn toàn với phiên bản cũ nên việc phân tích dữ liệu trên 2 phiên bản cũng không quá khác biệt.\n",
    "    \n",
    "    * Do những hạn chế về phần cứng máy tính nên việc thao tác với ~25GB dữ liệu từ `train_v2.csv` sẽ mất rất nhiều thời gian so với ~1.5GB dữ liệu từ `train.csv`.\n",
    "\n",
    "    * Trên lý thuyết, ta cần dự đoán giá trị mục tiêu cho mỗi người dùng trong `test.csv`. Nhưng đây không phải cuộc thi nên ta sẽ KHÔNG dùng tập dữ liệu này để đánh giá kết quả của mô hình học máy.\n",
    "\n",
    "* Thời gian thu thập dữ liệu: tập `train.csv` chứa các giao dịch từ ngày 01/08/2016 đến 01/08/2017.\n",
    "\n",
    "* Các trường (cột) trong tập dữ liệu: sẽ trình nói rõ hơn ở phần sau.\n",
    "\n",
    "</class>"
   ]
  },
  {
   "cell_type": "markdown",
   "metadata": {},
   "source": [
    "## **2.4. <ins>Tác giả có cho phép chúng ta sử dụng dữ liệu này không?</ins>**"
   ]
  },
  {
   "cell_type": "markdown",
   "metadata": {},
   "source": [
    "<class style=\"font-size: 20px;\">\n",
    "\n",
    "* Phần [**Rules**](https://www.kaggle.com/competitions/ga-customer-revenue-prediction/rules#7-competition-data) của cuộc thi đã nêu rõ về quyền sử dụng dữ liệu được cung cấp. Đây là tập dữ liệu được Kaggle phân vào loại \"Competition Data\" và tác giả cũng nói rằng: \"Dữ liệu có thể được truy cập và sử dụng chỉ cho mục đích phi thương mại, bao gồm việc tham gia Cuộc thi và trên diễn đàn Kaggle.com, cũng như cho nghiên cứu và giáo dục học thuật\".\n",
    "\n",
    "<div style=\"text-align:center\">\n",
    "    <img title=\"Data license\" alt=\"An image shows competition's data license\" src=\"./figures/data_license.png\">\n",
    "</div>\n",
    "\n",
    "* Do đó, tất cả mọi người đều có quyền truy cập đến tập dữ liệu này để phục vụ cho mục đích nghiên cứu và học tập. Nghĩa là, chúng ta được quyền sử dụng tập dữ liệu này để phục vụ cho đồ án cuối kỳ.\n",
    "\n",
    "</class>"
   ]
  },
  {
   "cell_type": "markdown",
   "metadata": {},
   "source": [
    "## **2.5. <ins>Tác giả đã thu thập dữ liệu như thế nào?</ins>**"
   ]
  },
  {
   "cell_type": "markdown",
   "metadata": {},
   "source": [
    "<class style=\"font-size: 20px;\">\n",
    "\n",
    "* Thông tin này không được tác giả đề cập cụ thể trên website của cuộc thi.\n",
    "\n",
    "* Nhưng thông qua tên của cuộc thi thì ta có thể dự đoán rằng các dữ liệu này được thu thập thông qua công cụ \"Google Analytics\". Đây là công cụ được rất nhiều công ty sử dụng nhằm thu thập dữ liệu về người dùng khi họ truy cập vào website, ứng dụng của công ty. Đây là dữ liệu rất nhạy cảm mà không công ty nào muốn tiết lộ.\n",
    "\n",
    "* Ngoài ra, ta biết cuộc thi này được tổ chức thông qua sự cộng tác giữa `RStudio`, `Google Cloud` và `Kaggle`. Nên ta có thể dự đoán rằng: dữ liệu này được thu thập thông qua công cụ `Google Analytics` khi người dùng truy cập vào cửa hàng của Google (GStore). Google đã lấy dữ liệu của mình, bỏ đi các thông tin nhạy cảm và cung cấp dữ liệu sau khi biến đổi để hỗ trợ cho cuộc thi.\n",
    "\n",
    "(Và đến khi tiến hành phân tích dữ liệu thì ta sẽ càng tin vào dự đoán này.)\n",
    "\n",
    "</class>"
   ]
  },
  {
   "cell_type": "markdown",
   "metadata": {},
   "source": [
    "___\n",
    "#"
   ]
  },
  {
   "cell_type": "markdown",
   "metadata": {},
   "source": [
    "# <center>END CHAPTER 01</center>"
   ]
  },
  {
   "cell_type": "markdown",
   "metadata": {},
   "source": [
    "___"
   ]
  },
  {
   "cell_type": "code",
   "execution_count": 9,
   "metadata": {},
   "outputs": [
    {
     "data": {
      "text/plain": [
       "Index(['date', 'visitId', 'visitNumber', 'visitStartTime'], dtype='object')"
      ]
     },
     "execution_count": 9,
     "metadata": {},
     "output_type": "execute_result"
    }
   ],
   "source": [
    "numeric_features_train = train.select_dtypes(include=[np.number])\n",
    "numeric_features_train.columns"
   ]
  },
  {
   "cell_type": "code",
   "execution_count": null,
   "metadata": {},
   "outputs": [],
   "source": [
    "numeric_features_test = test.select_dtypes(include=[np.number])\n",
    "numeric_features_test.columns"
   ]
  },
  {
   "cell_type": "code",
   "execution_count": null,
   "metadata": {},
   "outputs": [],
   "source": [
    "categorical_features_train = train.select_dtypes(include=[object])\n",
    "categorical_features_train.columns"
   ]
  },
  {
   "cell_type": "code",
   "execution_count": null,
   "metadata": {},
   "outputs": [],
   "source": [
    "categorical_features_test = test.select_dtypes(include=[object])\n",
    "categorical_features_test.columns"
   ]
  },
  {
   "cell_type": "code",
   "execution_count": null,
   "metadata": {},
   "outputs": [],
   "source": [
    "colorscale = [[0, 'rgb(102,194,165)'], [0.0005, 'rgb(102,194,165)'], \n",
    "              [0.01, 'rgb(171,221,164)'], [0.02, 'rgb(230,245,152)'], \n",
    "              [0.04, 'rgb(255,255,191)'], [0.05, 'rgb(254,224,139)'], \n",
    "              [0.10, 'rgb(253,174,97)'], [0.25, 'rgb(213,62,79)'], [1.0, 'rgb(158,1,66)']]\n",
    "\n",
    "data = [ dict(\n",
    "        type = 'choropleth',\n",
    "        autocolorscale = False,\n",
    "        colorscale = colorscale,\n",
    "        showscale = True,\n",
    "        locations = train_df[\"geoNetwork.country\"].value_counts().index,\n",
    "        locationmode = 'country names',\n",
    "        z = train_df[\"geoNetwork.country\"].value_counts().values,\n",
    "        marker = dict(\n",
    "            line = dict(color = 'rgb(250,250,225)', width = 1)),\n",
    "            colorbar = dict( title = 'Customer Visits ')\n",
    "            ) \n",
    "       ]\n",
    "\n",
    "layout = dict(\n",
    "    height=600,\n",
    "    title = 'World Wide Customer Visit Distribution',\n",
    "    geo = dict(\n",
    "        showframe = True,\n",
    "        showocean = True,\n",
    "        oceancolor = 'rgb(28,107,160)',\n",
    "        projection = dict(\n",
    "        type = 'orthographic',\n",
    "            rotation = dict(\n",
    "                    lon = 50,\n",
    "                    lat = 10),\n",
    "        ),\n",
    "        lonaxis =  dict(\n",
    "                showgrid = True,\n",
    "                gridcolor = 'rgb(12, 102, 102)'\n",
    "            ),\n",
    "        lataxis = dict(\n",
    "                showgrid = True,\n",
    "                gridcolor = 'rgb(12, 102, 102)'\n",
    "                )\n",
    "            ),\n",
    "        )\n",
    "fig = dict(data=data, layout=layout)\n",
    "iplot(fig)\n"
   ]
  },
  {
   "cell_type": "code",
   "execution_count": null,
   "metadata": {},
   "outputs": [],
   "source": [
    "colorscale = [[0, 'rgb(102,194,165)'], [0.0005, 'rgb(102,194,165)'], \n",
    "              [0.01, 'rgb(171,221,164)'], [0.02, 'rgb(230,245,152)'], \n",
    "              [0.04, 'rgb(255,255,191)'], [0.05, 'rgb(254,224,139)'], \n",
    "              [0.10, 'rgb(253,174,97)'], [0.25, 'rgb(213,62,79)'], [1.0, 'rgb(158,1,66)']]\n",
    "\n",
    "data = [ dict(\n",
    "        type = 'choropleth',\n",
    "        autocolorscale = False,\n",
    "        colorscale = colorscale,\n",
    "        showscale = True,\n",
    "        locations = train_df[\"geoNetwork.country\"].value_counts().index,\n",
    "        locationmode = 'country names',\n",
    "        z = train_df[\"geoNetwork.country\"].value_counts().values,\n",
    "        marker = dict(\n",
    "            line = dict(color = 'rgb(250,250,225)', width = 1)),\n",
    "            colorbar = dict( title = 'Customer Visits ')\n",
    "            ) \n",
    "       ]\n",
    "\n",
    "layout = dict(\n",
    "    height=600,\n",
    "    title = 'World Wide Customer Visit Distribution',\n",
    "    geo = dict(\n",
    "        showframe = True,\n",
    "        showocean = True,\n",
    "        oceancolor = 'rgb(28,107,160)',\n",
    "        projection = dict(\n",
    "        type = 'conic equal area',\n",
    "            rotation = dict(\n",
    "                    lon = 50,\n",
    "                    lat = 10),\n",
    "        ),\n",
    "        lonaxis =  dict(\n",
    "                showgrid = True,\n",
    "                gridcolor = 'rgb(12, 102, 102)'\n",
    "            ),\n",
    "        lataxis = dict(\n",
    "                showgrid = True,\n",
    "                gridcolor = 'rgb(12, 102, 102)'\n",
    "                )\n",
    "            ),\n",
    "        )\n",
    "fig = dict(data=data, layout=layout)\n",
    "iplot(fig)"
   ]
  },
  {
   "cell_type": "code",
   "execution_count": null,
   "metadata": {},
   "outputs": [],
   "source": [
    "geo_cols = [\"geoNetwork.city\", \"geoNetwork.country\", \"geoNetwork.subContinent\", \"geoNetwork.continent\"]\n",
    "colors = [\"#d6a5ff\", \"#fca6da\", \"#f4d39c\", \"#a9fcca\"]\n",
    "traces = []\n",
    "for i, col in enumerate(geo_cols):\n",
    "    t = train_df[col].value_counts()\n",
    "    traces.append(go.Bar(marker=dict(color=colors[i]),orientation=\"h\", y = t.index[:15], x = t.values[:15]))\n",
    "\n",
    "fig = tools.make_subplots(rows=2, cols=2, \n",
    "                          subplot_titles=[\"Visits: City\", \"Visits: Country\",\"Visits: Sub Continent\",\"Visits: Continent\"]\n",
    "                          , print_grid=False)\n",
    "fig.append_trace(traces[0], 1, 1)\n",
    "fig.append_trace(traces[1], 1, 2)\n",
    "fig.append_trace(traces[2], 2, 1)\n",
    "fig.append_trace(traces[3], 2, 2)\n",
    "\n",
    "fig['layout'].update(height=600,width=1000, showlegend=False)\n",
    "iplot(fig)\n",
    "\n",
    "train_df[\"totals.transactionRevenue\"] = train_df[\"totals.transactionRevenue\"].astype('float')\n",
    "\n",
    "fig = tools.make_subplots(rows=2, cols=2, subplot_titles=[\"Mean Revenue by City\", \"Mean Revenue by Country\",\"Mean Revenue by Sub Continent\",\"Mean Revenue by Continent\"], print_grid=False)\n",
    "\n",
    "colors = [\"red\", \"green\", \"purple\",\"blue\"]\n",
    "trs = []\n",
    "for i, col in enumerate(geo_cols):\n",
    "    tmp = train_df.groupby(col).agg({\"totals.transactionRevenue\": \"mean\"}).reset_index().rename(columns={\"totals.transactionRevenue\" : \"Mean Revenue\"})\n",
    "    tmp = tmp.dropna()\n",
    "    tr = go.Bar(x = tmp[\"Mean Revenue\"], orientation=\"h\", marker=dict(opacity=0.5, color=colors[i]), y = tmp[col])\n",
    "    trs.append(tr)\n",
    "\n",
    "fig.append_trace(trs[0], 1, 1)\n",
    "fig.append_trace(trs[1], 1, 2)\n",
    "fig.append_trace(trs[2], 2, 1)\n",
    "fig.append_trace(trs[3], 2, 2)\n",
    "\n",
    "fig['layout'].update(height=600,width=1000, showlegend=False)\n",
    "iplot(fig)"
   ]
  },
  {
   "cell_type": "code",
   "execution_count": null,
   "metadata": {},
   "outputs": [],
   "source": [
    "t = train_df['channelGrouping'].value_counts()\n",
    "values1 = t.values \n",
    "index1 = t.index\n",
    "domain1 = {'x': [0.2, 0.50], 'y': [0.0, 0.33]}\n",
    "fig = {\n",
    "  \"data\": [\n",
    "    {\n",
    "      \"values\": values1,\n",
    "      \"labels\": index1,\n",
    "      \"domain\": {\"x\": [0, .48]},\n",
    "    \"marker\" : dict(colors=[\"#f77b9c\" ,'#ab97db',  '#b0b1b2']),\n",
    "      \"name\": \"Channel Grouping\",\n",
    "      \"hoverinfo\":\"label+percent+name\",\n",
    "      \"hole\": .7,\n",
    "      \"type\": \"pie\"\n",
    "    }\n",
    "   ],\n",
    "  \"layout\": {\"title\":\"Channel Grouping\",\n",
    "      \"annotations\": [\n",
    "            {\n",
    "                \"font\": {\n",
    "                    \"size\": 20\n",
    "                },\n",
    "                \"showarrow\": False,\n",
    "                \"text\": \"Channel Grouping\",\n",
    "                \"x\": 0.11,\n",
    "                \"y\": 0.5\n",
    "            }\n",
    "        ]\n",
    "    }\n",
    "}\n",
    "iplot(fig)"
   ]
  },
  {
   "cell_type": "code",
   "execution_count": null,
   "metadata": {},
   "outputs": [],
   "source": [
    "fig = tools.make_subplots(rows=1, cols=2,subplot_titles=[\"Traffic Source Campaign (not-set removed)\", \"Traffic Source Medium\"], print_grid=False)\n",
    " \n",
    "colors = [\"#d6a5ff\", \"#fca6da\", \"#f4d39c\", \"#a9fcca\"]\n",
    "t1 = train_df[\"trafficSource.campaign\"].value_counts()\n",
    "t2 = train_df[\"trafficSource.medium\"].value_counts()\n",
    "\n",
    "tr1 = go.Bar(x = t1.index, y = t1.values, marker=dict(color=colors[1]))\n",
    "tr2 = go.Bar(x = t2.index, y = t2.values, marker=dict(color=colors[2]))\n",
    "\n",
    "fig.append_trace(tr1, 1, 1)\n",
    "fig.append_trace(tr2, 1, 2)\n",
    "\n",
    "\n",
    "fig['layout'].update(height=400, margin=dict(b=100), showlegend=False)\n",
    "iplot(fig)"
   ]
  },
  {
   "cell_type": "code",
   "execution_count": 104,
   "metadata": {},
   "outputs": [],
   "source": [
    "def add_date_features(df):\n",
    "    # df['date'] = df['date'].astype(str)\n",
    "    # df[\"date\"] = df[\"date\"].apply(lambda x : x[:4] + \"-\" + x[4:6] + \"-\" + x[6:])\n",
    "    # df[\"date\"] = pd.to_datetime(df[\"date\"])\n",
    "    \n",
    "    df[\"month\"]   = df['date'].dt.month\n",
    "    df[\"day\"]     = df['date'].dt.day\n",
    "    df[\"weekday\"] = df['date'].dt.weekday\n",
    "    return df "
   ]
  },
  {
   "cell_type": "code",
   "execution_count": 105,
   "metadata": {},
   "outputs": [],
   "source": [
    "train = add_date_features(train_df)"
   ]
  },
  {
   "cell_type": "code",
   "execution_count": null,
   "metadata": {},
   "outputs": [],
   "source": [
    "# Visualization for Visits by date\n",
    "tmp = train['date'].value_counts().to_frame().reset_index()#.sort_values(by='index')\n",
    "tmp = tmp.rename(columns = {\"index\" : \"dateX\", \"date\" : \"visits\"})\n",
    "tmp[\"dateX\"] = tmp.index\n",
    "\n",
    "tr = go.Scatter(mode=\"lines\", x = tmp[\"dateX\"].astype(str), y = tmp[\"visits\"])\n",
    "layout = go.Layout(title=\"Visits by Date\", height=400)\n",
    "fig = go.Figure(data = [tr], layout = layout)\n",
    "iplot(fig)\n",
    "# Visualization for Visits by monthly revenue\n",
    "tmp = train.groupby(\"date\").agg({\"totals.transactionRevenue\" : \"mean\"}).reset_index()\n",
    "tmp = tmp.rename(columns = {\"date\" : \"dateX\", \"totals.transactionRevenue\" : \"mean.revenue\"})\n",
    "tr = go.Scatter(mode=\"lines\", x = tmp[\"dateX\"].astype(str), y = tmp[\"mean.revenue\"])\n",
    "layout = go.Layout(title=\"Monthly Revenue by Date\", height=400)\n",
    "fig = go.Figure(data = [tr], layout = layout)\n",
    "iplot(fig)"
   ]
  },
  {
   "cell_type": "code",
   "execution_count": null,
   "metadata": {},
   "outputs": [],
   "source": [
    "fig = tools.make_subplots(rows=1, cols=3, subplot_titles=[\"Visits by Month\", \"Visits by Month Day\", \"Visits by Week Day\"], print_grid=False)\n",
    "trs = []\n",
    "for i,col in enumerate([\"month\", \"day\", \"weekday\"]):\n",
    "    t = train[col].value_counts()\n",
    "    tr = go.Bar(x = t.index, marker=dict(color=colors[i]), y = t.values)\n",
    "    trs.append(tr)\n",
    "\n",
    "fig.append_trace(trs[0], 1, 1)\n",
    "fig.append_trace(trs[1], 1, 2)\n",
    "fig.append_trace(trs[2], 1, 3)\n",
    "fig['layout'].update(height=400, showlegend=False)\n",
    "iplot(fig)"
   ]
  },
  {
   "cell_type": "code",
   "execution_count": null,
   "metadata": {},
   "outputs": [],
   "source": [
    "tmp1 = train.groupby('month').agg({\"totals.transactionRevenue\" : \"mean\"}).reset_index()\n",
    "tmp2 = train.groupby('day').agg({\"totals.transactionRevenue\" : \"mean\"}).reset_index()\n",
    "tmp3 = train.groupby('weekday').agg({\"totals.transactionRevenue\" : \"mean\"}).reset_index()\n",
    "\n",
    "fig = tools.make_subplots(rows=1, cols=3, subplot_titles=[\"MeanRevenue by Month\", \"MeanRevenue by MonthDay\", \"MeanRevenue by WeekDay\"], print_grid=False)\n",
    "tr1 = go.Bar(x = tmp1.month, marker=dict(color=\"yellow\", opacity=0.5), y = tmp1['totals.transactionRevenue'])\n",
    "tr2 = go.Bar(x = tmp2.day, marker=dict(color=\"blue\", opacity=0.5), y = tmp2['totals.transactionRevenue'])\n",
    "tr3 = go.Bar(x = tmp3.weekday, marker=dict(color=\"violet\", opacity=0.5), y = tmp3['totals.transactionRevenue'])\n",
    "\n",
    "fig.append_trace(tr1, 1, 1)\n",
    "fig.append_trace(tr2, 1, 2)\n",
    "fig.append_trace(tr3, 1, 3)\n",
    "fig['layout'].update(height=400, showlegend=False)\n",
    "iplot(fig)"
   ]
  },
  {
   "cell_type": "code",
   "execution_count": 109,
   "metadata": {},
   "outputs": [
    {
     "data": {
      "text/html": [
       "<div>\n",
       "<style scoped>\n",
       "    .dataframe tbody tr th:only-of-type {\n",
       "        vertical-align: middle;\n",
       "    }\n",
       "\n",
       "    .dataframe tbody tr th {\n",
       "        vertical-align: top;\n",
       "    }\n",
       "\n",
       "    .dataframe thead th {\n",
       "        text-align: right;\n",
       "    }\n",
       "</style>\n",
       "<table border=\"1\" class=\"dataframe\">\n",
       "  <thead>\n",
       "    <tr style=\"text-align: right;\">\n",
       "      <th></th>\n",
       "      <th>fullVisitorId</th>\n",
       "      <th>totals.hits</th>\n",
       "      <th>totals.pageviews</th>\n",
       "      <th>totals.transactionRevenue</th>\n",
       "    </tr>\n",
       "  </thead>\n",
       "  <tbody>\n",
       "    <tr>\n",
       "      <th>0</th>\n",
       "      <td>0000010278554503158</td>\n",
       "      <td>11.0</td>\n",
       "      <td>8.0</td>\n",
       "      <td>0.0</td>\n",
       "    </tr>\n",
       "    <tr>\n",
       "      <th>1</th>\n",
       "      <td>0000020424342248747</td>\n",
       "      <td>17.0</td>\n",
       "      <td>13.0</td>\n",
       "      <td>0.0</td>\n",
       "    </tr>\n",
       "    <tr>\n",
       "      <th>2</th>\n",
       "      <td>0000027376579751715</td>\n",
       "      <td>6.0</td>\n",
       "      <td>5.0</td>\n",
       "      <td>0.0</td>\n",
       "    </tr>\n",
       "    <tr>\n",
       "      <th>3</th>\n",
       "      <td>0000039460501403861</td>\n",
       "      <td>2.0</td>\n",
       "      <td>2.0</td>\n",
       "      <td>0.0</td>\n",
       "    </tr>\n",
       "    <tr>\n",
       "      <th>4</th>\n",
       "      <td>0000040862739425590</td>\n",
       "      <td>5.0</td>\n",
       "      <td>5.0</td>\n",
       "      <td>0.0</td>\n",
       "    </tr>\n",
       "  </tbody>\n",
       "</table>\n",
       "</div>"
      ],
      "text/plain": [
       "         fullVisitorId  totals.hits  totals.pageviews  \\\n",
       "0  0000010278554503158         11.0               8.0   \n",
       "1  0000020424342248747         17.0              13.0   \n",
       "2  0000027376579751715          6.0               5.0   \n",
       "3  0000039460501403861          2.0               2.0   \n",
       "4  0000040862739425590          5.0               5.0   \n",
       "\n",
       "   totals.transactionRevenue  \n",
       "0                        0.0  \n",
       "1                        0.0  \n",
       "2                        0.0  \n",
       "3                        0.0  \n",
       "4                        0.0  "
      ]
     },
     "execution_count": 109,
     "metadata": {},
     "output_type": "execute_result"
    }
   ],
   "source": [
    "import warnings\n",
    "warnings.simplefilter(action='ignore', category=FutureWarning)\n",
    "\n",
    "agg_dict = {}\n",
    "for col in [\"totals.hits\", \"totals.pageviews\", \"totals.transactionRevenue\"]:\n",
    "    train[col] = train[col].astype('float')\n",
    "    agg_dict[col] = \"sum\"\n",
    "tmp = train.groupby(\"fullVisitorId\").agg(agg_dict).reset_index()\n",
    "tmp.head()"
   ]
  },
  {
   "cell_type": "code",
   "execution_count": null,
   "metadata": {},
   "outputs": [],
   "source": [
    "non_zero = tmp[tmp[\"totals.transactionRevenue\"] > 0][\"totals.transactionRevenue\"]\n",
    "print (\"There are \" + str(len(non_zero)) + \" visitors in the train dataset having non zero total transaction revenue\")\n",
    "\n",
    "plt.figure(figsize=(10,6))\n",
    "sns.displot(non_zero)\n",
    "plt.title(\"Distribution of Non-Zero Total Transactions\");\n",
    "plt.xlabel(\"Total Transactions\");"
   ]
  },
  {
   "cell_type": "code",
   "execution_count": null,
   "metadata": {},
   "outputs": [],
   "source": [
    "plt.figure(figsize=(12,6))\n",
    "sns.distplot(np.log1p(non_zero))\n",
    "plt.title(\"Natural Log Distribution of Non Zero Total Transactions\");\n",
    "plt.xlabel(\"Natural Log - Total Transactions\");"
   ]
  },
  {
   "cell_type": "code",
   "execution_count": 112,
   "metadata": {},
   "outputs": [],
   "source": [
    "## find constant columns\n",
    "constant_columns = []\n",
    "for col in train.columns:\n",
    "    if len(train[col].value_counts()) == 1:\n",
    "        constant_columns.append(col)\n",
    "\n",
    "## non relevant columns\n",
    "non_relevant = [\"visitNumber\", \"date\", \"fullVisitorId\", \"sessionId\", \"visitId\", \"visitStartTime\"]"
   ]
  },
  {
   "cell_type": "code",
   "execution_count": 113,
   "metadata": {},
   "outputs": [],
   "source": [
    "from sklearn.preprocessing import LabelEncoder\n",
    "\n",
    "categorical_columns = [c for c in train.columns if not c.startswith(\"total\")]\n",
    "categorical_columns = [c for c in categorical_columns if c not in constant_columns + non_relevant]\n",
    "for c in categorical_columns:\n",
    "\n",
    "    le = LabelEncoder()\n",
    "    train_vals = list(train[c].values.astype(str))\n",
    "    \n",
    "    le.fit(train_vals)\n",
    "    \n",
    "    train[c] = le.transform(train_vals)"
   ]
  },
  {
   "cell_type": "code",
   "execution_count": 114,
   "metadata": {},
   "outputs": [],
   "source": [
    "def normalize_numerical_columns(df):\n",
    "    df[\"totals.hits\"] = df[\"totals.hits\"].astype(float)\n",
    "    df[\"totals.hits\"] = (df[\"totals.hits\"] - min(df[\"totals.hits\"])) / (max(df[\"totals.hits\"]) - min(df[\"totals.hits\"]))\n",
    "\n",
    "    df[\"totals.pageviews\"] = df[\"totals.pageviews\"].astype(float)\n",
    "    df[\"totals.pageviews\"] = (df[\"totals.pageviews\"] - min(df[\"totals.pageviews\"])) / (max(df[\"totals.pageviews\"]) - min(df[\"totals.pageviews\"]))\n",
    "    \n",
    "    # df[\"totals.transactionRevenue\"] = df[\"totals.transactionRevenue\"].fillna(0.0)\n",
    "    return df "
   ]
  },
  {
   "cell_type": "code",
   "execution_count": 115,
   "metadata": {},
   "outputs": [],
   "source": [
    "train = normalize_numerical_columns(train)"
   ]
  },
  {
   "cell_type": "code",
   "execution_count": 116,
   "metadata": {},
   "outputs": [],
   "source": [
    "from sklearn.model_selection import train_test_split\n",
    "features = [c for c in train.columns if c not in constant_columns + non_relevant]\n",
    "features.remove(\"totals.transactionRevenue\")\n",
    "\n",
    "train[\"totals.transactionRevenue\"] = np.log1p(train[\"totals.transactionRevenue\"].astype(float))\n",
    "train_x, valid_x, train_y, valid_y = train_test_split(train[features], train[\"totals.transactionRevenue\"], \n",
    "                                                      test_size=0.25, random_state=24)"
   ]
  },
  {
   "cell_type": "code",
   "execution_count": 117,
   "metadata": {},
   "outputs": [
    {
     "data": {
      "text/plain": [
       "((677739, 24), (225914, 24), (677739,), (225914,))"
      ]
     },
     "execution_count": 117,
     "metadata": {},
     "output_type": "execute_result"
    }
   ],
   "source": [
    "train_x.shape, valid_x.shape, train_y.shape, valid_y.shape"
   ]
  },
  {
   "cell_type": "code",
   "execution_count": 118,
   "metadata": {},
   "outputs": [
    {
     "name": "stdout",
     "output_type": "stream",
     "text": [
      "[LightGBM] [Info] Total Bins 1808\n",
      "[LightGBM] [Info] Number of data points in the train set: 677739, number of used features: 24\n",
      "[LightGBM] [Info] Start training from score 0.228010\n"
     ]
    }
   ],
   "source": [
    "import lightgbm as lgb \n",
    "\n",
    "lgb_params = {\"objective\" : \"regression\", \"metric\" : [\"rmse\", \"mse\", \"mae\"],\n",
    "              \"num_leaves\": 30, \"learning_rate\" : 0.1, \n",
    "              \"bagging_fraction\" : 0.7, \"feature_fraction\" : 0.5,\n",
    "              \"force_col_wise\": True, \"min_child_samples\" : 100,\n",
    "              }\n",
    "\n",
    "\n",
    "lgb_train = lgb.Dataset(train_x, label=train_y)\n",
    "lgb_val = lgb.Dataset(valid_x, label=valid_y)\n",
    "model = lgb.train(lgb_params, lgb_train, 1000, valid_sets=[lgb_val],\n",
    "                  # early_stopping_rounds=150, \n",
    "                  # verbose_eval=20\n",
    "                  )"
   ]
  },
  {
   "cell_type": "code",
   "execution_count": 119,
   "metadata": {},
   "outputs": [
    {
     "data": {
      "text/plain": [
       "OrderedDict([('rmse', 1.6579315217483463),\n",
       "             ('l2', 2.748736930806788),\n",
       "             ('l1', 0.33777191702398623)])"
      ]
     },
     "execution_count": 119,
     "metadata": {},
     "output_type": "execute_result"
    }
   ],
   "source": [
    "model.best_score[\"valid_0\"]"
   ]
  },
  {
   "cell_type": "code",
   "execution_count": 120,
   "metadata": {},
   "outputs": [
    {
     "data": {
      "image/png": "[encoded data removed]",
      "text/plain": [
       "<Figure size 1200x800 with 1 Axes>"
      ]
     },
     "metadata": {},
     "output_type": "display_data"
    }
   ],
   "source": [
    "# How to get score from lightgbm model\n",
    "lgb.plot_importance(model, max_num_features=30, figsize=(12,8));"
   ]
  },
  {
   "cell_type": "code",
   "execution_count": null,
   "metadata": {},
   "outputs": [],
   "source": []
  }
 ],
 "metadata": {
  "kernelspec": {
   "display_name": ".venv",
   "language": "python",
   "name": "python3"
  },
  "language_info": {
   "codemirror_mode": {
    "name": "ipython",
    "version": 3
   },
   "file_extension": ".py",
   "mimetype": "text/x-python",
   "name": "python",
   "nbconvert_exporter": "python",
   "pygments_lexer": "ipython3",
   "version": "3.11.6"
  }
 },
 "nbformat": 4,
 "nbformat_minor": 2
}
