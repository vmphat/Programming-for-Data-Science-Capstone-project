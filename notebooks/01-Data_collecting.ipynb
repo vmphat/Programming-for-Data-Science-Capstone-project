{
 "cells": [
  {
   "cell_type": "markdown",
   "metadata": {},
   "source": [
    "<div style=\"text-align:center\">\n",
    "    <img title=\"Contest title\" alt=\"An image show Kaggle's contest title\" src=\"./figures/contest_title.png\">\n",
    "\n",
    "<!-- [image source](https://www.google.com/search?q=Google+Analytics+Customer+Revenue+Prediction+image&sca_esv=592634044&tbm=isch&sxsrf=AM9HkKlftHgD8SLQdTaxoZl26nouayB7dg:1703109603032&source=lnms&sa=X&ved=2ahUKEwi2ypvXgZ-DAxX_jGMGHRMoAUIQ_AUoAXoECAEQAw&biw=1707&bih=809&dpr=1.5#imgrc=uoakpuQba4-QtM) -->\n",
    "</div>"
   ]
  },
  {
   "cell_type": "markdown",
   "metadata": {},
   "source": [
    "<div style=\"text-align: center; background-color: #0A6EBD; font-family: 'Trebuchet MS', Arial, sans-serif; color: white; padding: 20px; font-size: 40px; font-weight: bold; border-radius: 0 0 0 0; box-shadow: 0px 6px 8px rgba(0, 0, 0, 0.2);\">\n",
    "  ĐỒ ÁN CUỐI KỲ - LẬP TRÌNH CHO KHOA HỌC DỮ LIỆU\n",
    "</div>"
   ]
  },
  {
   "cell_type": "markdown",
   "metadata": {},
   "source": [
    "<div style=\"text-align: center; background-color: #5A96E3; font-family: 'Trebuchet MS', Arial, sans-serif; color: white; padding: 20px; font-size: 40px; font-weight: bold; border-radius: 0 0 0 0; box-shadow: 0px 6px 8px rgba(0, 0, 0, 0.2);\">\n",
    "  <ins>Giai đoạn 1</ins>: Thu thập dữ liệu\n",
    "</div>"
   ]
  },
  {
   "cell_type": "markdown",
   "metadata": {},
   "source": [
    "---\n",
    "#"
   ]
  },
  {
   "cell_type": "markdown",
   "metadata": {},
   "source": [
    "<div style=\"font-family: american typewriter, serif; line-height: 1.5; word-spacing: 4px;\">\n",
    "\n",
    "# **MỤC LỤC**\n",
    "\n",
    "</div>"
   ]
  },
  {
   "cell_type": "markdown",
   "metadata": {},
   "source": [
    "[**1. GIỚI THIỆU BÀI TOÁN**](#1)<br />\n",
    "[**2. GIỚI THIỆU VỀ TẬP DỮ LIỆU ĐƯỢC CUNG CẤP**](#2)<br />\n",
    "&emsp;&emsp;[**2.1. <ins>Dữ liệu nói về chủ đề gì?</ins>**](#2_1)<br />\n",
    "&emsp;&emsp;[**2.2. <ins>Dữ liệu này có nguồn gốc từ đâu?</ins>**](#2_2)<br />\n",
    "&emsp;&emsp;[**2.3. <ins>Giới thiệu về file dữ liệu sẽ được sử dụng</ins>**](#2_3)<br />\n",
    "&emsp;&emsp;[**2.4. <ins>Tác giả có cho phép chúng ta sử dụng dữ liệu này không?</ins>**](#2_4)<br />\n",
    "&emsp;&emsp;[**2.5. <ins>Tác giả đã thu thập dữ liệu như thế nào?</ins>**](#2_5)<br />\n"
   ]
  },
  {
   "cell_type": "markdown",
   "metadata": {},
   "source": [
    "---\n",
    "#"
   ]
  },
  {
   "cell_type": "markdown",
   "metadata": {},
   "source": [
    "<div style=\"font-family: american typewriter, serif; line-height: 1.5; word-spacing: 4px;\">\n",
    "\n",
    "# **1. GIỚI THIỆU BÀI TOÁN** <a class=\"anchor\" id=\"1\"></a>\n",
    "\n",
    "</div>"
   ]
  },
  {
   "cell_type": "markdown",
   "metadata": {},
   "source": [
    "<class style=\"font-size: 20px;\">\n",
    "\n",
    "> **TÓM TẮT**\n",
    "> * Nguyên lí **`Pareto`** phát biểu rằng: khoảng 80% kết quả CHỈ đến từ 20% nguyên nhân. Quy luật này đúng trong hầu hết lĩnh vực kinh doanh, nghĩa là khoảng 80% doanh thu của công ty được tạo ra bởi 20% lượng khách hàng tiềm năng.\n",
    ">\n",
    "> * Mục tiêu của chúng ta là dự đoán doanh thu được tạo ra bởi những khách hàng tiềm năng trong tương lai gần. Điều này giúp nhóm marketing có chính sách đầu tư thích hợp vào các chiến lược quảng cáo.\n",
    "\n",
    "</class>"
   ]
  },
  {
   "cell_type": "markdown",
   "metadata": {},
   "source": [
    "<class style=\"font-size: 20px;\">\n",
    "\n",
    "* Nguyên tắc 80/20 (còn được gọi là \"Pareto Principle\") khẳng định rằng 80% các kết quả (hoặc kết quả đầu ra) là kết quả của 20% của tất cả các nguyên nhân (hoặc đầu vào) cho một sự kiện nhất định. Nguyên tắc này được chứng minh là đúng trong hầu hết lĩnh vực kinh doanh, nghĩa là khoảng 80% doanh thu của chúng ta sẽ chỉ được tạo ra bởi 20% lượng khách hàng tiềm năng.\n",
    "\n",
    "* Vì vậy, mục tiêu của chúng ta là dự đoán doanh thu sẽ được tạo ra bởi những khách hàng tiềm năng trong tương lai gần. Điều này giúp cho các nhóm marketing đầu tư một khoản tiền phù hợp vào các chiến lược quảng cáo để thu hút các khách hàng tiềm năng.\n",
    "\n",
    "* Đơn giản mà nói, chúng ta được cung cấp dữ liệu và giao dịch trong quá khứ của một số người dùng (khi họ đăng nhập vào GStore). Và, bằng cách sử dụng dữ liệu này, chúng ta cần dự đoán doanh thu tương lai sẽ được tạo ra bởi những khách hàng đó.\n",
    "\n",
    "* Google đã cung cấp bộ dữ liệu khách hàng và số lượng giao dịch cho mỗi khách hàng. Chúng ta sẽ xây dựng một mô hình dự đoán sử dụng bộ dữ liệu GStore để dự đoán tổng doanh thu trên mỗi khách hàng giúp cho việc sử dụng ngân sách tiếp thị tốt hơn và chúng ta cũng sẽ giải thích yếu tố ảnh hưởng nhất đến dự đoán tổng doanh thu bằng các mô hình khác nhau.\n",
    "\n",
    "</class>"
   ]
  },
  {
   "cell_type": "markdown",
   "metadata": {},
   "source": [
    "___\n",
    "#"
   ]
  },
  {
   "cell_type": "markdown",
   "metadata": {},
   "source": [
    "<div style=\"font-family: american typewriter, serif; line-height: 1.5; word-spacing: 4px;\">\n",
    "\n",
    "# **2. GIỚI THIỆU VỀ TẬP DỮ LIỆU ĐƯỢC CUNG CẤP** <a class=\"anchor\" id=\"2\"></a>\n",
    "\n",
    "</div>"
   ]
  },
  {
   "cell_type": "markdown",
   "metadata": {},
   "source": [
    "## **2.1. <ins>Dữ liệu nói về chủ đề gì?</ins>** <a class=\"anchor\" id=\"2_1\"></a>"
   ]
  },
  {
   "cell_type": "markdown",
   "metadata": {},
   "source": [
    "<class style=\"font-size: 20px;\">\n",
    "\n",
    "> **TÓM TẮT**\n",
    "> * Dữ liệu cung cấp các thông tin trong một phiên truy cập của người dùng đến GStore.\n",
    ">\n",
    "> * Mỗi dòng trong tập dữ liệu cho biết: các thông tin để định danh người dùng, phiên truy cập; ngày truy cập; vị trí địa lý; loại thiết bị;... và thống kê các hoạt động của người dùng trong phiên đó.\n",
    "\n",
    "</class>"
   ]
  },
  {
   "cell_type": "markdown",
   "metadata": {},
   "source": [
    "<class style=\"font-size: 20px;\">\n",
    "\n",
    "* \"Google Analytics Customer Revenue Prediction\" cung cấp cho chúng ta một tập dữ liệu về các thông tin xung quanh một phiên truy cập của người dùng vào cửa hàng GStore. Mỗi dòng trong tập dữ liệu cho biết: các thông tin dùng để định danh người dùng, phiên truy cập; ngày truy cập; các thông tin về vị trí địa lý, loại thiết bị của người dùng cũng như thống kê tất cả hoạt động của người dùng trong phiên truy cập đó.\n",
    "\n",
    "</class>"
   ]
  },
  {
   "cell_type": "markdown",
   "metadata": {},
   "source": [
    "## **2.2. <ins>Dữ liệu này có nguồn gốc từ đâu?</ins>** <a class=\"anchor\" id=\"2_2\"></a>"
   ]
  },
  {
   "cell_type": "markdown",
   "metadata": {},
   "source": [
    "<class style=\"font-size: 20px;\">\n",
    "\n",
    "> **TÓM TẮT**\n",
    "> * Dữ liệu được cung cấp miễn phí để thí sinh sử dụng trong cuộc thi trên website của `Kaggle` và [đây là đường dẫn](https://www.kaggle.com/competitions/ga-customer-revenue-prediction/data).\n",
    ">\n",
    "> * Để có tập dữ liệu này thì cần có sự hợp tác giữa `RStudio`, `Google Cloud` và `Kaggle`.\n",
    "\n",
    "</class>"
   ]
  },
  {
   "cell_type": "markdown",
   "metadata": {},
   "source": [
    "<class style=\"font-size: 20px;\">\n",
    "\n",
    "* Dữ liệu được cung cấp hoàn toàn miễn phí để thí sinh sử dụng trong cuộc thi \"Google Analytics Customer Revenue Prediction\" trên website của `Kaggle`. Ta có thể truy cập đến tập dữ liệu thông qua [đường dẫn này](https://www.kaggle.com/competitions/ga-customer-revenue-prediction/data).\n",
    "\n",
    "* Để có được tập dữ liệu này, `RStudio` (bên tổ chức cuộc thi) đã hợp tác cùng `Google Cloud` và `Kaggle` để lấy được dữ liệu về khách hàng của GStore và dùng nó để tổ chức cuộc thi thông qua website của Kaggle.\n",
    "\n",
    "* Dữ liệu mà cuộc thi cung cấp được lưu trữ trong một file có định dạng `CSV`.\n",
    "\n",
    "</class>"
   ]
  },
  {
   "cell_type": "markdown",
   "metadata": {},
   "source": [
    "## **2.3. <ins>Giới thiệu về file dữ liệu sẽ được sử dụng</ins>** <a class=\"anchor\" id=\"2_3\"></a>"
   ]
  },
  {
   "cell_type": "markdown",
   "metadata": {},
   "source": [
    "<class style=\"font-size: 20px;\">\n",
    "\n",
    "> **TÓM TẮT**\n",
    "> * Cuộc thi cung cấp cho thí sinh rất nhiều file dữ liệu. Nhưng trong đồ án này, ta chỉ sử dụng một file `train.csv`.\n",
    ">\n",
    "> * Tập `train.csv` chứa các giao dịch từ ngày **01/08/2016** đến **01/08/2017**.\n",
    "\n",
    "</class>"
   ]
  },
  {
   "cell_type": "markdown",
   "metadata": {},
   "source": [
    "<class style=\"font-size: 20px;\">\n",
    "\n",
    "* Hiện tại, website chính thức của cuộc thi cung cấp cho chúng ta hai phiên bản khác nhau của từng file dữ liệu (có tổng cộng 6 file). Trong phạm vi đồ án lần này, ta sẽ chỉ sử dụng một file: `train.csv`, vì:\n",
    "\n",
    "    * Nhìn chung, các tập dữ liệu phiên bản 2 (`*_v2.csv`) gần như giống hoàn toàn với phiên bản cũ nên việc phân tích dữ liệu trên 2 phiên bản cũng không quá khác biệt.\n",
    "    \n",
    "    * Do những hạn chế về phần cứng máy tính nên việc thao tác với ~25GB dữ liệu từ `train_v2.csv` sẽ mất rất nhiều thời gian so với ~1.5GB dữ liệu từ `train.csv`.\n",
    "\n",
    "    * Trên lý thuyết, ta cần dự đoán giá trị mục tiêu cho mỗi người dùng trong `test.csv`. Nhưng đây không phải cuộc thi nên ta sẽ KHÔNG dùng tập dữ liệu này để đánh giá kết quả của mô hình học máy.\n",
    "\n",
    "* Thời gian thu thập dữ liệu: tập `train.csv` chứa các giao dịch từ ngày 01/08/2016 đến 01/08/2017.\n",
    "\n",
    "* Các trường (cột) trong tập dữ liệu: sẽ trình nói rõ hơn ở phần sau.\n",
    "\n",
    "</class>"
   ]
  },
  {
   "cell_type": "markdown",
   "metadata": {},
   "source": [
    "## **2.4. <ins>Tác giả có cho phép chúng ta sử dụng dữ liệu này không?</ins>** <a class=\"anchor\" id=\"2_4\"></a>"
   ]
  },
  {
   "cell_type": "markdown",
   "metadata": {},
   "source": [
    "<class style=\"font-size: 20px;\">\n",
    "\n",
    "> **TÓM TẮT**\n",
    "> * Từ minh chứng em tìm được:\n",
    "> <div style=\"text-align:center\">\n",
    ">    <img title=\"Data license\" alt=\"An image shows competition's data license\" src=\"./figures/data_license.png\">\n",
    "> </div>\n",
    ">\n",
    "> * Thì mọi người đều có quyền dùng dữ liệu này để phục vụ cho **mục đích nghiên cứu và học tập**. Nghĩa là, ta được phép dùng dữ liệu này để phục vụ cho đồ án cuối kỳ.\n",
    "\n",
    "</class>"
   ]
  },
  {
   "cell_type": "markdown",
   "metadata": {},
   "source": [
    "<class style=\"font-size: 20px;\">\n",
    "\n",
    "* Phần [**Rules**](https://www.kaggle.com/competitions/ga-customer-revenue-prediction/rules#7-competition-data) của cuộc thi đã nêu rõ về quyền sử dụng dữ liệu được cung cấp. Đây là tập dữ liệu được Kaggle phân vào loại \"Competition Data\" và tác giả cũng nói rằng: \"Dữ liệu có thể được truy cập và sử dụng chỉ cho mục đích phi thương mại, bao gồm việc tham gia Cuộc thi và trên diễn đàn Kaggle.com, cũng như cho nghiên cứu và giáo dục học thuật\".\n",
    "\n",
    "<div style=\"text-align:center\">\n",
    "    <img title=\"Data license\" alt=\"An image shows competition's data license\" src=\"./figures/data_license.png\">\n",
    "</div>\n",
    "\n",
    "* Do đó, tất cả mọi người đều có quyền truy cập đến tập dữ liệu này để phục vụ cho mục đích nghiên cứu và học tập. Nghĩa là, chúng ta được quyền sử dụng tập dữ liệu này để phục vụ cho đồ án cuối kỳ.\n",
    "\n",
    "</class>"
   ]
  },
  {
   "cell_type": "markdown",
   "metadata": {},
   "source": [
    "## **2.5. <ins>Tác giả đã thu thập dữ liệu như thế nào?</ins>** <a class=\"anchor\" id=\"2_5\"></a>"
   ]
  },
  {
   "cell_type": "markdown",
   "metadata": {},
   "source": [
    "<class style=\"font-size: 20px;\">\n",
    "\n",
    "> **TÓM TẮT**\n",
    "> * Thông tin này không được đề cập cụ thể trên website của Kaggle.\n",
    ">\n",
    "> * Nhưng thông qua tên cuộc thi (*Google Analytics Customer Revenue Prediction*) ta có thể dự đoán rằng: dữ liệu được thu thập thông qua công cụ `Google Analytics` khi người dùng truy cập vào cửa hàng của Google (*GStore*). Google lấy dữ liệu của mình, bỏ đi thông tin nhạy cảm và cung cấp dữ liệu sau khi biến đổi để hỗ trợ cuộc thi.\n",
    "\n",
    "</class>"
   ]
  },
  {
   "cell_type": "markdown",
   "metadata": {},
   "source": [
    "<class style=\"font-size: 20px;\">\n",
    "\n",
    "* Thông tin này không được tác giả đề cập cụ thể trên website của cuộc thi.\n",
    "\n",
    "* Nhưng thông qua tên của cuộc thi thì ta có thể dự đoán rằng các dữ liệu này được thu thập thông qua công cụ \"Google Analytics\". Đây là công cụ được rất nhiều công ty sử dụng nhằm thu thập dữ liệu về người dùng khi họ truy cập vào website, ứng dụng của công ty. Đây là dữ liệu rất nhạy cảm mà không công ty nào muốn tiết lộ.\n",
    "\n",
    "* Ngoài ra, ta biết cuộc thi này được tổ chức thông qua sự cộng tác giữa `RStudio`, `Google Cloud` và `Kaggle`. Nên ta có thể dự đoán rằng: dữ liệu này được thu thập thông qua công cụ `Google Analytics` khi người dùng truy cập vào cửa hàng của Google (GStore). Google đã lấy dữ liệu của mình, bỏ đi các thông tin nhạy cảm và cung cấp dữ liệu sau khi biến đổi để hỗ trợ cho cuộc thi.\n",
    "\n",
    "(Và đến khi tiến hành phân tích dữ liệu thì ta sẽ càng tin vào dự đoán này.)\n",
    "\n",
    "</class>"
   ]
  },
  {
   "cell_type": "markdown",
   "metadata": {},
   "source": [
    "___\n",
    "#"
   ]
  },
  {
   "cell_type": "markdown",
   "metadata": {},
   "source": [
    "# <center>**END CHAPTER 01**</center>"
   ]
  },
  {
   "cell_type": "markdown",
   "metadata": {},
   "source": [
    "___\n",
    "#"
   ]
  }
 ],
 "metadata": {
  "kernelspec": {
   "display_name": ".venv",
   "language": "python",
   "name": "python3"
  },
  "language_info": {
   "codemirror_mode": {
    "name": "ipython",
    "version": 3
   },
   "file_extension": ".py",
   "mimetype": "text/x-python",
   "name": "python",
   "nbconvert_exporter": "python",
   "pygments_lexer": "ipython3",
   "version": "3.11.6"
  }
 },
 "nbformat": 4,
 "nbformat_minor": 2
}
