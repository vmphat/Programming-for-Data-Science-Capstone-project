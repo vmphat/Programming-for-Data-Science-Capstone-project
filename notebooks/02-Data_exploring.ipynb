{
 "cells": [
  {
   "cell_type": "markdown",
   "metadata": {},
   "source": [
    "<link rel=\"stylesheet\" href=\"https://fonts.googleapis.com/css?family=Sofia\">\n",
    "<style>\n",
    "  @import url('https://fonts.googleapis.com/css2?family=Concert+One&display=swap');\n",
    "  .topic {\n",
    "    text-align: center;\n",
    "    font-weight: 900;\n",
    "    font-size: 50px;\n",
    "    text-shadow: 3px 3px 3px #ababab;\n",
    "    font-family: 'Concert One', sans-serif;\n",
    "  }\n",
    "  @import url('https://fonts.googleapis.com/css2?family=Lobster&display=swap');\n",
    "  .info {\n",
    "    text-align: center;\n",
    "    font-weight: 800;\n",
    "    font-size: 40px;\n",
    "    font-family: 'Lobster', sans-serif;\n",
    "  }\n",
    "</style>\n",
    "\n",
    "<h1 class=topic>Google Analytics Customer Revenue Prediction</h1>\n",
    "<h2 class=info>Vũ Minh Phát - 21127739</h2>\n",
    "\n",
    "___"
   ]
  },
  {
   "cell_type": "markdown",
   "metadata": {},
   "source": [
    "<class style=\"font-family: 'Comic Sans MS', 'Comic Sans', cursive;\">\n",
    "\n",
    "# **<u>Các thư viện cần sử dụng</u>**\n",
    "\n",
    "</class>"
   ]
  },
  {
   "cell_type": "code",
   "execution_count": 57,
   "metadata": {},
   "outputs": [
    {
     "data": {
      "text/html": [
       "        <script type=\"text/javascript\">\n",
       "        window.PlotlyConfig = {MathJaxConfig: 'local'};\n",
       "        if (window.MathJax && window.MathJax.Hub && window.MathJax.Hub.Config) {window.MathJax.Hub.Config({SVG: {font: \"STIX-Web\"}});}\n",
       "        if (typeof require !== 'undefined') {\n",
       "        require.undef(\"plotly\");\n",
       "        requirejs.config({\n",
       "            paths: {\n",
       "                'plotly': ['https://cdn.plot.ly/plotly-2.26.0.min']\n",
       "            }\n",
       "        });\n",
       "        require(['plotly'], function(Plotly) {\n",
       "            window._Plotly = Plotly;\n",
       "        });\n",
       "        }\n",
       "        </script>\n",
       "        "
      ]
     },
     "metadata": {},
     "output_type": "display_data"
    }
   ],
   "source": [
    "# Import Section\n",
    "import numpy as np\n",
    "import pandas as pd\n",
    "from pandas import json_normalize\n",
    "import json\n",
    "from zipfile import ZipFile\n",
    "import tqdm\n",
    "import datetime\n",
    "import re\n",
    "pd.set_option('display.max_columns', None)\n",
    "\n",
    "# Import matplotlib & seaborn for visualisation\n",
    "import seaborn as sns\n",
    "from plotly.offline import init_notebook_mode, iplot\n",
    "import plotly.graph_objs as go\n",
    "from plotly import tools\n",
    "\n",
    "init_notebook_mode(connected=True)\n",
    "import matplotlib.pyplot as plt\n",
    "%matplotlib inline"
   ]
  },
  {
   "cell_type": "markdown",
   "metadata": {},
   "source": [
    "<class style=\"font-family: 'Comic Sans MS', 'Comic Sans', cursive;\">\n",
    "\n",
    "# **<u>Đọc dữ liệu từ file</u>**\n",
    "\n",
    "</class>"
   ]
  },
  {
   "cell_type": "markdown",
   "metadata": {},
   "source": [
    "## 4.1. Xây dựng hàm đọc dữ liệu"
   ]
  },
  {
   "cell_type": "code",
   "execution_count": 2,
   "metadata": {},
   "outputs": [],
   "source": [
    "# ********** A USEFUL WAY TO READ VERY LARGE DATASETS COMPRESSED IN ZIP FILES **********\n",
    "#\n",
    "#   1.  After downloading the data from Kaggle, we will have a zip file\n",
    "#           which contain our dataset in csv format.\n",
    "#\n",
    "#   2.  Because of (very) large size of the dataset, we will not extract the zip file\n",
    "#           which help us to save our disk space.\n",
    "#\n",
    "#   3.  To read file csv in size the zip file, we will use ZipFile library.\n",
    "#           so we need to define the path to the zip file.\n",
    "#\n",
    "#   4.  After that, we can use pandas to read the csv file like normal.\n",
    "#\n",
    "# Read more at: https://favtutor.com/blogs/zipfile-python#:~:text=How%20to%20read%20a%20zip,that%20we%20want%20to%20read.\n",
    "# **************************************************************************************\n",
    "ZIP_FILE_PATH = '../data/raw/ga-customer-revenue-prediction.zip'"
   ]
  },
  {
   "cell_type": "code",
   "execution_count": 3,
   "metadata": {},
   "outputs": [],
   "source": [
    "def read_data_inside_zip_file(filename: str, zip_file_path: str = ZIP_FILE_PATH) -> pd.DataFrame:\n",
    "    \"\"\"Read the csv file inside the zip file\n",
    "    \n",
    "    Notes:\n",
    "        zip_file_path is the path to the zip file containing the csv file\n",
    "\n",
    "    Returns:\n",
    "        pd.DataFrame: dataframe of 'filename' inside the zip file\n",
    "    \"\"\"\n",
    "    with ZipFile(zip_file_path) as zf:      # Open the zip file with mode 'r'\n",
    "        with zf.open(filename) as file:     # Open 'filename' inside the zip file\n",
    "            df = pd.read_csv(file)          # Read data from 'filename'\n",
    "                                            #   => Q: Why NOT set low_memory=False to solve DtypeWarning?\n",
    "                                            #      A: Read at: https://stackoverflow.com/questions/24251219/pandas-read-csv-low-memory-and-dtype-options\n",
    "\n",
    "    return df"
   ]
  },
  {
   "cell_type": "markdown",
   "metadata": {},
   "source": [
    "## 4.2. Đọc dữ liệu"
   ]
  },
  {
   "cell_type": "code",
   "execution_count": 4,
   "metadata": {},
   "outputs": [
    {
     "name": "stderr",
     "output_type": "stream",
     "text": [
      "/tmp/ipykernel_2444/1298650587.py:12: DtypeWarning:\n",
      "\n",
      "Columns (3) have mixed types. Specify dtype option on import or set low_memory=False.\n",
      "\n"
     ]
    }
   ],
   "source": [
    "# Read the data\n",
    "train_df = read_data_inside_zip_file('train.csv')"
   ]
  },
  {
   "cell_type": "markdown",
   "metadata": {},
   "source": [
    "> Khi sử dụng `read_csv()` từ `Pandas`, thông báo `DtypeWarning` xuất hiện \n",
    "> đồng nghĩa với việc file dữ liệu có (ít nhất) 1 cột bao gồm nhiều kiểu dữ liệu (dtype)."
   ]
  },
  {
   "cell_type": "markdown",
   "metadata": {},
   "source": [
    "Cột gây ra thông báo là:"
   ]
  },
  {
   "cell_type": "code",
   "execution_count": 5,
   "metadata": {},
   "outputs": [
    {
     "name": "stdout",
     "output_type": "stream",
     "text": [
      "=> Column give DtypeWarning: fullVisitorId\n"
     ]
    }
   ],
   "source": [
    "# Columns (3) give DtypeWarning -> corresponding index is 3\n",
    "print(f\"=> Column give DtypeWarning: {train_df.columns[3]}\")"
   ]
  },
  {
   "cell_type": "markdown",
   "metadata": {},
   "source": [
    "> Trong trường hợp này, cột `fullVisitorId` là nguyên nhân của thông báo trên. Ta sẽ quan sát toàn bộ dữ liệu đã đọc và tìm cách xử lý."
   ]
  },
  {
   "cell_type": "markdown",
   "metadata": {},
   "source": [
    "Ta xem một vài thông tin về tập dữ liệu:"
   ]
  },
  {
   "cell_type": "code",
   "execution_count": 6,
   "metadata": {},
   "outputs": [
    {
     "data": {
      "text/html": [
       "<div>\n",
       "<style scoped>\n",
       "    .dataframe tbody tr th:only-of-type {\n",
       "        vertical-align: middle;\n",
       "    }\n",
       "\n",
       "    .dataframe tbody tr th {\n",
       "        vertical-align: top;\n",
       "    }\n",
       "\n",
       "    .dataframe thead th {\n",
       "        text-align: right;\n",
       "    }\n",
       "</style>\n",
       "<table border=\"1\" class=\"dataframe\">\n",
       "  <thead>\n",
       "    <tr style=\"text-align: right;\">\n",
       "      <th></th>\n",
       "      <th>channelGrouping</th>\n",
       "      <th>date</th>\n",
       "      <th>device</th>\n",
       "      <th>fullVisitorId</th>\n",
       "      <th>geoNetwork</th>\n",
       "      <th>sessionId</th>\n",
       "      <th>socialEngagementType</th>\n",
       "      <th>totals</th>\n",
       "      <th>trafficSource</th>\n",
       "      <th>visitId</th>\n",
       "      <th>visitNumber</th>\n",
       "      <th>visitStartTime</th>\n",
       "    </tr>\n",
       "  </thead>\n",
       "  <tbody>\n",
       "    <tr>\n",
       "      <th>0</th>\n",
       "      <td>Organic Search</td>\n",
       "      <td>20160902</td>\n",
       "      <td>{\"browser\": \"Chrome\", \"browserVersion\": \"not a...</td>\n",
       "      <td>1131660440785968503</td>\n",
       "      <td>{\"continent\": \"Asia\", \"subContinent\": \"Western...</td>\n",
       "      <td>1131660440785968503_1472830385</td>\n",
       "      <td>Not Socially Engaged</td>\n",
       "      <td>{\"visits\": \"1\", \"hits\": \"1\", \"pageviews\": \"1\",...</td>\n",
       "      <td>{\"campaign\": \"(not set)\", \"source\": \"google\", ...</td>\n",
       "      <td>1472830385</td>\n",
       "      <td>1</td>\n",
       "      <td>1472830385</td>\n",
       "    </tr>\n",
       "    <tr>\n",
       "      <th>1</th>\n",
       "      <td>Organic Search</td>\n",
       "      <td>20160902</td>\n",
       "      <td>{\"browser\": \"Firefox\", \"browserVersion\": \"not ...</td>\n",
       "      <td>377306020877927890</td>\n",
       "      <td>{\"continent\": \"Oceania\", \"subContinent\": \"Aust...</td>\n",
       "      <td>377306020877927890_1472880147</td>\n",
       "      <td>Not Socially Engaged</td>\n",
       "      <td>{\"visits\": \"1\", \"hits\": \"1\", \"pageviews\": \"1\",...</td>\n",
       "      <td>{\"campaign\": \"(not set)\", \"source\": \"google\", ...</td>\n",
       "      <td>1472880147</td>\n",
       "      <td>1</td>\n",
       "      <td>1472880147</td>\n",
       "    </tr>\n",
       "    <tr>\n",
       "      <th>2</th>\n",
       "      <td>Organic Search</td>\n",
       "      <td>20160902</td>\n",
       "      <td>{\"browser\": \"Chrome\", \"browserVersion\": \"not a...</td>\n",
       "      <td>3895546263509774583</td>\n",
       "      <td>{\"continent\": \"Europe\", \"subContinent\": \"South...</td>\n",
       "      <td>3895546263509774583_1472865386</td>\n",
       "      <td>Not Socially Engaged</td>\n",
       "      <td>{\"visits\": \"1\", \"hits\": \"1\", \"pageviews\": \"1\",...</td>\n",
       "      <td>{\"campaign\": \"(not set)\", \"source\": \"google\", ...</td>\n",
       "      <td>1472865386</td>\n",
       "      <td>1</td>\n",
       "      <td>1472865386</td>\n",
       "    </tr>\n",
       "    <tr>\n",
       "      <th>3</th>\n",
       "      <td>Organic Search</td>\n",
       "      <td>20160902</td>\n",
       "      <td>{\"browser\": \"UC Browser\", \"browserVersion\": \"n...</td>\n",
       "      <td>4763447161404445595</td>\n",
       "      <td>{\"continent\": \"Asia\", \"subContinent\": \"Southea...</td>\n",
       "      <td>4763447161404445595_1472881213</td>\n",
       "      <td>Not Socially Engaged</td>\n",
       "      <td>{\"visits\": \"1\", \"hits\": \"1\", \"pageviews\": \"1\",...</td>\n",
       "      <td>{\"campaign\": \"(not set)\", \"source\": \"google\", ...</td>\n",
       "      <td>1472881213</td>\n",
       "      <td>1</td>\n",
       "      <td>1472881213</td>\n",
       "    </tr>\n",
       "    <tr>\n",
       "      <th>4</th>\n",
       "      <td>Organic Search</td>\n",
       "      <td>20160902</td>\n",
       "      <td>{\"browser\": \"Chrome\", \"browserVersion\": \"not a...</td>\n",
       "      <td>27294437909732085</td>\n",
       "      <td>{\"continent\": \"Europe\", \"subContinent\": \"North...</td>\n",
       "      <td>27294437909732085_1472822600</td>\n",
       "      <td>Not Socially Engaged</td>\n",
       "      <td>{\"visits\": \"1\", \"hits\": \"1\", \"pageviews\": \"1\",...</td>\n",
       "      <td>{\"campaign\": \"(not set)\", \"source\": \"google\", ...</td>\n",
       "      <td>1472822600</td>\n",
       "      <td>2</td>\n",
       "      <td>1472822600</td>\n",
       "    </tr>\n",
       "  </tbody>\n",
       "</table>\n",
       "</div>"
      ],
      "text/plain": [
       "  channelGrouping      date  \\\n",
       "0  Organic Search  20160902   \n",
       "1  Organic Search  20160902   \n",
       "2  Organic Search  20160902   \n",
       "3  Organic Search  20160902   \n",
       "4  Organic Search  20160902   \n",
       "\n",
       "                                              device        fullVisitorId  \\\n",
       "0  {\"browser\": \"Chrome\", \"browserVersion\": \"not a...  1131660440785968503   \n",
       "1  {\"browser\": \"Firefox\", \"browserVersion\": \"not ...   377306020877927890   \n",
       "2  {\"browser\": \"Chrome\", \"browserVersion\": \"not a...  3895546263509774583   \n",
       "3  {\"browser\": \"UC Browser\", \"browserVersion\": \"n...  4763447161404445595   \n",
       "4  {\"browser\": \"Chrome\", \"browserVersion\": \"not a...    27294437909732085   \n",
       "\n",
       "                                          geoNetwork  \\\n",
       "0  {\"continent\": \"Asia\", \"subContinent\": \"Western...   \n",
       "1  {\"continent\": \"Oceania\", \"subContinent\": \"Aust...   \n",
       "2  {\"continent\": \"Europe\", \"subContinent\": \"South...   \n",
       "3  {\"continent\": \"Asia\", \"subContinent\": \"Southea...   \n",
       "4  {\"continent\": \"Europe\", \"subContinent\": \"North...   \n",
       "\n",
       "                        sessionId  socialEngagementType  \\\n",
       "0  1131660440785968503_1472830385  Not Socially Engaged   \n",
       "1   377306020877927890_1472880147  Not Socially Engaged   \n",
       "2  3895546263509774583_1472865386  Not Socially Engaged   \n",
       "3  4763447161404445595_1472881213  Not Socially Engaged   \n",
       "4    27294437909732085_1472822600  Not Socially Engaged   \n",
       "\n",
       "                                              totals  \\\n",
       "0  {\"visits\": \"1\", \"hits\": \"1\", \"pageviews\": \"1\",...   \n",
       "1  {\"visits\": \"1\", \"hits\": \"1\", \"pageviews\": \"1\",...   \n",
       "2  {\"visits\": \"1\", \"hits\": \"1\", \"pageviews\": \"1\",...   \n",
       "3  {\"visits\": \"1\", \"hits\": \"1\", \"pageviews\": \"1\",...   \n",
       "4  {\"visits\": \"1\", \"hits\": \"1\", \"pageviews\": \"1\",...   \n",
       "\n",
       "                                       trafficSource     visitId  visitNumber  \\\n",
       "0  {\"campaign\": \"(not set)\", \"source\": \"google\", ...  1472830385            1   \n",
       "1  {\"campaign\": \"(not set)\", \"source\": \"google\", ...  1472880147            1   \n",
       "2  {\"campaign\": \"(not set)\", \"source\": \"google\", ...  1472865386            1   \n",
       "3  {\"campaign\": \"(not set)\", \"source\": \"google\", ...  1472881213            1   \n",
       "4  {\"campaign\": \"(not set)\", \"source\": \"google\", ...  1472822600            2   \n",
       "\n",
       "   visitStartTime  \n",
       "0      1472830385  \n",
       "1      1472880147  \n",
       "2      1472865386  \n",
       "3      1472881213  \n",
       "4      1472822600  "
      ]
     },
     "execution_count": 6,
     "metadata": {},
     "output_type": "execute_result"
    }
   ],
   "source": [
    "train_df.head()"
   ]
  },
  {
   "cell_type": "code",
   "execution_count": 7,
   "metadata": {},
   "outputs": [
    {
     "name": "stdout",
     "output_type": "stream",
     "text": [
      "<class 'pandas.core.frame.DataFrame'>\n",
      "RangeIndex: 903653 entries, 0 to 903652\n",
      "Data columns (total 12 columns):\n",
      " #   Column                Non-Null Count   Dtype \n",
      "---  ------                --------------   ----- \n",
      " 0   channelGrouping       903653 non-null  object\n",
      " 1   date                  903653 non-null  int64 \n",
      " 2   device                903653 non-null  object\n",
      " 3   fullVisitorId         903653 non-null  object\n",
      " 4   geoNetwork            903653 non-null  object\n",
      " 5   sessionId             903653 non-null  object\n",
      " 6   socialEngagementType  903653 non-null  object\n",
      " 7   totals                903653 non-null  object\n",
      " 8   trafficSource         903653 non-null  object\n",
      " 9   visitId               903653 non-null  int64 \n",
      " 10  visitNumber           903653 non-null  int64 \n",
      " 11  visitStartTime        903653 non-null  int64 \n",
      "dtypes: int64(4), object(8)\n",
      "memory usage: 82.7+ MB\n"
     ]
    }
   ],
   "source": [
    "train_df.info()"
   ]
  },
  {
   "cell_type": "markdown",
   "metadata": {},
   "source": [
    "> * Dữ liệu có `903653 dòng` và `12 cột`:\n",
    ">   * Mỗi dòng ứng với 1 phiên truy cập tới GStore từ người dùng.\n",
    ">\n",
    ">   * Mỗi cột tương ứng 1 thuộc tính đã được đề cập bên trên.\n",
    ">\n",
    ">   * Hơn thế nữa, ta không thấy `cell` nào bị thiếu dữ liệu.\n",
    ">\n",
    "> * Các cột: `device`, `geoNetwork`, `totals` và `trafficSource` \n",
    "> hiện đang lưu trữ dữ liệu dưới dạng `JSON` nên ta có thể \n",
    "> *\"làm phẳng\"* chúng để thuận tiện thao tác."
   ]
  },
  {
   "cell_type": "markdown",
   "metadata": {},
   "source": [
    "## 4.3. Đọc dữ liệu và làm phẳng"
   ]
  },
  {
   "cell_type": "markdown",
   "metadata": {},
   "source": [
    "Ta có thể sử dụng đoạn code của [DATAISTA0 (JULIÁN PELLER)](https://www.kaggle.com/code/julian3833/1-quick-start-read-csv-and-flatten-json-fields/notebook) để thực hiện việc này."
   ]
  },
  {
   "cell_type": "code",
   "execution_count": 8,
   "metadata": {},
   "outputs": [],
   "source": [
    "# From: https://www.kaggle.com/julian3833/1-quick-start-read-csv-and-flatten-json-fields\n",
    "def read_data_and_flatten(filename: str, nrows: int = None, \n",
    "                          zip_file_path: str = ZIP_FILE_PATH) -> pd.DataFrame:\n",
    "    \"\"\"Read the csv file inside the zip file and flatten json columns\"\"\"\n",
    "    JSON_COLUMNS = ['device', 'geoNetwork', 'totals', 'trafficSource']\n",
    "    \n",
    "    with ZipFile(zip_file_path) as zf:\n",
    "        with zf.open(filename) as file:\n",
    "            df = pd.read_csv(file,\n",
    "                             # Create JSON object for every json column\n",
    "                             converters={col: json.loads for col in JSON_COLUMNS},\n",
    "                             # Important!! Considering 'fullvisitor id as string'\n",
    "                             dtype={'fullVisitorId': 'str'},\n",
    "                             nrows=nrows)\n",
    "            \n",
    "    with tqdm.tqdm(total=len(JSON_COLUMNS)) as pbar:\n",
    "        pbar.set_description(f\"Flattening process\")\n",
    "        for column in JSON_COLUMNS:\n",
    "            # json_normalize will return a flatten dataframe of json columns\n",
    "            column_as_df = json_normalize(df[column])\n",
    "            # Get column names\n",
    "            column_as_df.columns = [f\"{column}.{subcolumn}\" for subcolumn in column_as_df.columns]\n",
    "            # Drop JSON columns and merge data frame with parsed columns\n",
    "            df = df.drop(column, axis=1).merge(column_as_df, right_index=True, left_index=True)\n",
    "            \n",
    "            pbar.update(1)\n",
    "    \n",
    "    print(f\">> Loaded '{filename}' with shape: {df.shape}\")\n",
    "    return df"
   ]
  },
  {
   "cell_type": "code",
   "execution_count": 9,
   "metadata": {},
   "outputs": [
    {
     "name": "stderr",
     "output_type": "stream",
     "text": [
      "Flattening process: 100%|██████████| 4/4 [00:30<00:00,  7.67s/it]\n"
     ]
    },
    {
     "name": "stdout",
     "output_type": "stream",
     "text": [
      ">> Loaded 'train.csv' with shape: (903653, 55)\n"
     ]
    }
   ],
   "source": [
    "# Read the data\n",
    "train_df = read_data_and_flatten('train.csv')"
   ]
  },
  {
   "cell_type": "markdown",
   "metadata": {},
   "source": [
    "> Ta thấy tham số `dtype={'fullVisitorId': 'str'}` trong hàm `read_csv()` giúp\n",
    "> thông báo `DtypeWarning` không còn xuất hiện."
   ]
  },
  {
   "cell_type": "markdown",
   "metadata": {},
   "source": [
    "Bây giờ ta sẽ quan sát dữ liệu sau khi biến đổi:"
   ]
  },
  {
   "cell_type": "code",
   "execution_count": 10,
   "metadata": {},
   "outputs": [
    {
     "data": {
      "text/html": [
       "<div>\n",
       "<style scoped>\n",
       "    .dataframe tbody tr th:only-of-type {\n",
       "        vertical-align: middle;\n",
       "    }\n",
       "\n",
       "    .dataframe tbody tr th {\n",
       "        vertical-align: top;\n",
       "    }\n",
       "\n",
       "    .dataframe thead th {\n",
       "        text-align: right;\n",
       "    }\n",
       "</style>\n",
       "<table border=\"1\" class=\"dataframe\">\n",
       "  <thead>\n",
       "    <tr style=\"text-align: right;\">\n",
       "      <th></th>\n",
       "      <th>channelGrouping</th>\n",
       "      <th>date</th>\n",
       "      <th>fullVisitorId</th>\n",
       "      <th>sessionId</th>\n",
       "      <th>socialEngagementType</th>\n",
       "      <th>visitId</th>\n",
       "      <th>visitNumber</th>\n",
       "      <th>visitStartTime</th>\n",
       "      <th>device.browser</th>\n",
       "      <th>device.browserVersion</th>\n",
       "      <th>...</th>\n",
       "      <th>trafficSource.adwordsClickInfo.criteriaParameters</th>\n",
       "      <th>trafficSource.isTrueDirect</th>\n",
       "      <th>trafficSource.referralPath</th>\n",
       "      <th>trafficSource.adwordsClickInfo.page</th>\n",
       "      <th>trafficSource.adwordsClickInfo.slot</th>\n",
       "      <th>trafficSource.adwordsClickInfo.gclId</th>\n",
       "      <th>trafficSource.adwordsClickInfo.adNetworkType</th>\n",
       "      <th>trafficSource.adwordsClickInfo.isVideoAd</th>\n",
       "      <th>trafficSource.adContent</th>\n",
       "      <th>trafficSource.campaignCode</th>\n",
       "    </tr>\n",
       "  </thead>\n",
       "  <tbody>\n",
       "    <tr>\n",
       "      <th>0</th>\n",
       "      <td>Organic Search</td>\n",
       "      <td>20160902</td>\n",
       "      <td>1131660440785968503</td>\n",
       "      <td>1131660440785968503_1472830385</td>\n",
       "      <td>Not Socially Engaged</td>\n",
       "      <td>1472830385</td>\n",
       "      <td>1</td>\n",
       "      <td>1472830385</td>\n",
       "      <td>Chrome</td>\n",
       "      <td>not available in demo dataset</td>\n",
       "      <td>...</td>\n",
       "      <td>not available in demo dataset</td>\n",
       "      <td>NaN</td>\n",
       "      <td>NaN</td>\n",
       "      <td>NaN</td>\n",
       "      <td>NaN</td>\n",
       "      <td>NaN</td>\n",
       "      <td>NaN</td>\n",
       "      <td>NaN</td>\n",
       "      <td>NaN</td>\n",
       "      <td>NaN</td>\n",
       "    </tr>\n",
       "    <tr>\n",
       "      <th>1</th>\n",
       "      <td>Organic Search</td>\n",
       "      <td>20160902</td>\n",
       "      <td>377306020877927890</td>\n",
       "      <td>377306020877927890_1472880147</td>\n",
       "      <td>Not Socially Engaged</td>\n",
       "      <td>1472880147</td>\n",
       "      <td>1</td>\n",
       "      <td>1472880147</td>\n",
       "      <td>Firefox</td>\n",
       "      <td>not available in demo dataset</td>\n",
       "      <td>...</td>\n",
       "      <td>not available in demo dataset</td>\n",
       "      <td>NaN</td>\n",
       "      <td>NaN</td>\n",
       "      <td>NaN</td>\n",
       "      <td>NaN</td>\n",
       "      <td>NaN</td>\n",
       "      <td>NaN</td>\n",
       "      <td>NaN</td>\n",
       "      <td>NaN</td>\n",
       "      <td>NaN</td>\n",
       "    </tr>\n",
       "    <tr>\n",
       "      <th>2</th>\n",
       "      <td>Organic Search</td>\n",
       "      <td>20160902</td>\n",
       "      <td>3895546263509774583</td>\n",
       "      <td>3895546263509774583_1472865386</td>\n",
       "      <td>Not Socially Engaged</td>\n",
       "      <td>1472865386</td>\n",
       "      <td>1</td>\n",
       "      <td>1472865386</td>\n",
       "      <td>Chrome</td>\n",
       "      <td>not available in demo dataset</td>\n",
       "      <td>...</td>\n",
       "      <td>not available in demo dataset</td>\n",
       "      <td>NaN</td>\n",
       "      <td>NaN</td>\n",
       "      <td>NaN</td>\n",
       "      <td>NaN</td>\n",
       "      <td>NaN</td>\n",
       "      <td>NaN</td>\n",
       "      <td>NaN</td>\n",
       "      <td>NaN</td>\n",
       "      <td>NaN</td>\n",
       "    </tr>\n",
       "    <tr>\n",
       "      <th>3</th>\n",
       "      <td>Organic Search</td>\n",
       "      <td>20160902</td>\n",
       "      <td>4763447161404445595</td>\n",
       "      <td>4763447161404445595_1472881213</td>\n",
       "      <td>Not Socially Engaged</td>\n",
       "      <td>1472881213</td>\n",
       "      <td>1</td>\n",
       "      <td>1472881213</td>\n",
       "      <td>UC Browser</td>\n",
       "      <td>not available in demo dataset</td>\n",
       "      <td>...</td>\n",
       "      <td>not available in demo dataset</td>\n",
       "      <td>NaN</td>\n",
       "      <td>NaN</td>\n",
       "      <td>NaN</td>\n",
       "      <td>NaN</td>\n",
       "      <td>NaN</td>\n",
       "      <td>NaN</td>\n",
       "      <td>NaN</td>\n",
       "      <td>NaN</td>\n",
       "      <td>NaN</td>\n",
       "    </tr>\n",
       "    <tr>\n",
       "      <th>4</th>\n",
       "      <td>Organic Search</td>\n",
       "      <td>20160902</td>\n",
       "      <td>27294437909732085</td>\n",
       "      <td>27294437909732085_1472822600</td>\n",
       "      <td>Not Socially Engaged</td>\n",
       "      <td>1472822600</td>\n",
       "      <td>2</td>\n",
       "      <td>1472822600</td>\n",
       "      <td>Chrome</td>\n",
       "      <td>not available in demo dataset</td>\n",
       "      <td>...</td>\n",
       "      <td>not available in demo dataset</td>\n",
       "      <td>True</td>\n",
       "      <td>NaN</td>\n",
       "      <td>NaN</td>\n",
       "      <td>NaN</td>\n",
       "      <td>NaN</td>\n",
       "      <td>NaN</td>\n",
       "      <td>NaN</td>\n",
       "      <td>NaN</td>\n",
       "      <td>NaN</td>\n",
       "    </tr>\n",
       "  </tbody>\n",
       "</table>\n",
       "<p>5 rows × 55 columns</p>\n",
       "</div>"
      ],
      "text/plain": [
       "  channelGrouping      date        fullVisitorId  \\\n",
       "0  Organic Search  20160902  1131660440785968503   \n",
       "1  Organic Search  20160902   377306020877927890   \n",
       "2  Organic Search  20160902  3895546263509774583   \n",
       "3  Organic Search  20160902  4763447161404445595   \n",
       "4  Organic Search  20160902    27294437909732085   \n",
       "\n",
       "                        sessionId  socialEngagementType     visitId  \\\n",
       "0  1131660440785968503_1472830385  Not Socially Engaged  1472830385   \n",
       "1   377306020877927890_1472880147  Not Socially Engaged  1472880147   \n",
       "2  3895546263509774583_1472865386  Not Socially Engaged  1472865386   \n",
       "3  4763447161404445595_1472881213  Not Socially Engaged  1472881213   \n",
       "4    27294437909732085_1472822600  Not Socially Engaged  1472822600   \n",
       "\n",
       "   visitNumber  visitStartTime device.browser          device.browserVersion  \\\n",
       "0            1      1472830385         Chrome  not available in demo dataset   \n",
       "1            1      1472880147        Firefox  not available in demo dataset   \n",
       "2            1      1472865386         Chrome  not available in demo dataset   \n",
       "3            1      1472881213     UC Browser  not available in demo dataset   \n",
       "4            2      1472822600         Chrome  not available in demo dataset   \n",
       "\n",
       "   ... trafficSource.adwordsClickInfo.criteriaParameters  \\\n",
       "0  ...                     not available in demo dataset   \n",
       "1  ...                     not available in demo dataset   \n",
       "2  ...                     not available in demo dataset   \n",
       "3  ...                     not available in demo dataset   \n",
       "4  ...                     not available in demo dataset   \n",
       "\n",
       "  trafficSource.isTrueDirect trafficSource.referralPath  \\\n",
       "0                        NaN                        NaN   \n",
       "1                        NaN                        NaN   \n",
       "2                        NaN                        NaN   \n",
       "3                        NaN                        NaN   \n",
       "4                       True                        NaN   \n",
       "\n",
       "   trafficSource.adwordsClickInfo.page trafficSource.adwordsClickInfo.slot  \\\n",
       "0                                  NaN                                 NaN   \n",
       "1                                  NaN                                 NaN   \n",
       "2                                  NaN                                 NaN   \n",
       "3                                  NaN                                 NaN   \n",
       "4                                  NaN                                 NaN   \n",
       "\n",
       "  trafficSource.adwordsClickInfo.gclId  \\\n",
       "0                                  NaN   \n",
       "1                                  NaN   \n",
       "2                                  NaN   \n",
       "3                                  NaN   \n",
       "4                                  NaN   \n",
       "\n",
       "  trafficSource.adwordsClickInfo.adNetworkType  \\\n",
       "0                                          NaN   \n",
       "1                                          NaN   \n",
       "2                                          NaN   \n",
       "3                                          NaN   \n",
       "4                                          NaN   \n",
       "\n",
       "  trafficSource.adwordsClickInfo.isVideoAd trafficSource.adContent  \\\n",
       "0                                      NaN                     NaN   \n",
       "1                                      NaN                     NaN   \n",
       "2                                      NaN                     NaN   \n",
       "3                                      NaN                     NaN   \n",
       "4                                      NaN                     NaN   \n",
       "\n",
       "  trafficSource.campaignCode  \n",
       "0                        NaN  \n",
       "1                        NaN  \n",
       "2                        NaN  \n",
       "3                        NaN  \n",
       "4                        NaN  \n",
       "\n",
       "[5 rows x 55 columns]"
      ]
     },
     "execution_count": 10,
     "metadata": {},
     "output_type": "execute_result"
    }
   ],
   "source": [
    "train_df.head()"
   ]
  },
  {
   "cell_type": "code",
   "execution_count": 11,
   "metadata": {},
   "outputs": [
    {
     "name": "stdout",
     "output_type": "stream",
     "text": [
      "<class 'pandas.core.frame.DataFrame'>\n",
      "RangeIndex: 903653 entries, 0 to 903652\n",
      "Data columns (total 55 columns):\n",
      " #   Column                                             Non-Null Count   Dtype \n",
      "---  ------                                             --------------   ----- \n",
      " 0   channelGrouping                                    903653 non-null  object\n",
      " 1   date                                               903653 non-null  int64 \n",
      " 2   fullVisitorId                                      903653 non-null  object\n",
      " 3   sessionId                                          903653 non-null  object\n",
      " 4   socialEngagementType                               903653 non-null  object\n",
      " 5   visitId                                            903653 non-null  int64 \n",
      " 6   visitNumber                                        903653 non-null  int64 \n",
      " 7   visitStartTime                                     903653 non-null  int64 \n",
      " 8   device.browser                                     903653 non-null  object\n",
      " 9   device.browserVersion                              903653 non-null  object\n",
      " 10  device.browserSize                                 903653 non-null  object\n",
      " 11  device.operatingSystem                             903653 non-null  object\n",
      " 12  device.operatingSystemVersion                      903653 non-null  object\n",
      " 13  device.isMobile                                    903653 non-null  bool  \n",
      " 14  device.mobileDeviceBranding                        903653 non-null  object\n",
      " 15  device.mobileDeviceModel                           903653 non-null  object\n",
      " 16  device.mobileInputSelector                         903653 non-null  object\n",
      " 17  device.mobileDeviceInfo                            903653 non-null  object\n",
      " 18  device.mobileDeviceMarketingName                   903653 non-null  object\n",
      " 19  device.flashVersion                                903653 non-null  object\n",
      " 20  device.language                                    903653 non-null  object\n",
      " 21  device.screenColors                                903653 non-null  object\n",
      " 22  device.screenResolution                            903653 non-null  object\n",
      " 23  device.deviceCategory                              903653 non-null  object\n",
      " 24  geoNetwork.continent                               903653 non-null  object\n",
      " 25  geoNetwork.subContinent                            903653 non-null  object\n",
      " 26  geoNetwork.country                                 903653 non-null  object\n",
      " 27  geoNetwork.region                                  903653 non-null  object\n",
      " 28  geoNetwork.metro                                   903653 non-null  object\n",
      " 29  geoNetwork.city                                    903653 non-null  object\n",
      " 30  geoNetwork.cityId                                  903653 non-null  object\n",
      " 31  geoNetwork.networkDomain                           903653 non-null  object\n",
      " 32  geoNetwork.latitude                                903653 non-null  object\n",
      " 33  geoNetwork.longitude                               903653 non-null  object\n",
      " 34  geoNetwork.networkLocation                         903653 non-null  object\n",
      " 35  totals.visits                                      903653 non-null  object\n",
      " 36  totals.hits                                        903653 non-null  object\n",
      " 37  totals.pageviews                                   903553 non-null  object\n",
      " 38  totals.bounces                                     450630 non-null  object\n",
      " 39  totals.newVisits                                   703060 non-null  object\n",
      " 40  totals.transactionRevenue                          11515 non-null   object\n",
      " 41  trafficSource.campaign                             903653 non-null  object\n",
      " 42  trafficSource.source                               903653 non-null  object\n",
      " 43  trafficSource.medium                               903653 non-null  object\n",
      " 44  trafficSource.keyword                              400724 non-null  object\n",
      " 45  trafficSource.adwordsClickInfo.criteriaParameters  903653 non-null  object\n",
      " 46  trafficSource.isTrueDirect                         274005 non-null  object\n",
      " 47  trafficSource.referralPath                         330941 non-null  object\n",
      " 48  trafficSource.adwordsClickInfo.page                21460 non-null   object\n",
      " 49  trafficSource.adwordsClickInfo.slot                21460 non-null   object\n",
      " 50  trafficSource.adwordsClickInfo.gclId               21561 non-null   object\n",
      " 51  trafficSource.adwordsClickInfo.adNetworkType       21460 non-null   object\n",
      " 52  trafficSource.adwordsClickInfo.isVideoAd           21460 non-null   object\n",
      " 53  trafficSource.adContent                            10946 non-null   object\n",
      " 54  trafficSource.campaignCode                         1 non-null       object\n",
      "dtypes: bool(1), int64(4), object(50)\n",
      "memory usage: 373.2+ MB\n"
     ]
    }
   ],
   "source": [
    "train_df.info()"
   ]
  },
  {
   "cell_type": "markdown",
   "metadata": {},
   "source": [
    "> * Hiện tai, dữ liệu được mở rộng thành `903653 dòng` và `55 cột`:\n",
    ">   * Các cột: `device`, `geoNetwork`, `totals` và `trafficSource`\n",
    "> đạ được tách thành các cột nhỏ hơn và có thể phân biệt thông\n",
    "> qua ký hiệu `*.*`\n",
    ">\n",
    ">   * Tuy nhiên, `55 cột` là quá nhiều nên ta cần giảm bớt độ \n",
    "> rộng của dữ liệu.\n",
    ">\n",
    ">   **⇨** Ta quan sát thấy 1 vài `entry` bị thiếu dữ liệu và sẽ tìm cách xử lý."
   ]
  },
  {
   "cell_type": "markdown",
   "metadata": {},
   "source": [
    "## 4.4. Phân tích tổng quát kết quả"
   ]
  },
  {
   "cell_type": "markdown",
   "metadata": {},
   "source": [
    "Các cột thiếu dữ liệu HOÀN TOÀN"
   ]
  },
  {
   "cell_type": "code",
   "execution_count": 12,
   "metadata": {},
   "outputs": [
    {
     "data": {
      "text/plain": [
       "[]"
      ]
     },
     "execution_count": 12,
     "metadata": {},
     "output_type": "execute_result"
    }
   ],
   "source": [
    "cols_with_completely_missing = [col \n",
    "                                for col in train_df.columns \n",
    "                                if train_df[col].isnull().all()]\n",
    "cols_with_completely_missing"
   ]
  },
  {
   "cell_type": "markdown",
   "metadata": {},
   "source": [
    "> Suy ra, không có cột nào hoàn toàn thiếu dữ liệu .\n",
    "> Nghĩa là, không có cột nào chỉ chứa \"giá trị\" `NaN`."
   ]
  },
  {
   "cell_type": "markdown",
   "metadata": {},
   "source": [
    "Các cột chỉ có duy nhất 1 giá trị"
   ]
  },
  {
   "cell_type": "code",
   "execution_count": 13,
   "metadata": {},
   "outputs": [
    {
     "data": {
      "text/plain": [
       "['socialEngagementType',\n",
       " 'device.browserVersion',\n",
       " 'device.browserSize',\n",
       " 'device.operatingSystemVersion',\n",
       " 'device.mobileDeviceBranding',\n",
       " 'device.mobileDeviceModel',\n",
       " 'device.mobileInputSelector',\n",
       " 'device.mobileDeviceInfo',\n",
       " 'device.mobileDeviceMarketingName',\n",
       " 'device.flashVersion',\n",
       " 'device.language',\n",
       " 'device.screenColors',\n",
       " 'device.screenResolution',\n",
       " 'geoNetwork.cityId',\n",
       " 'geoNetwork.latitude',\n",
       " 'geoNetwork.longitude',\n",
       " 'geoNetwork.networkLocation',\n",
       " 'totals.visits',\n",
       " 'totals.bounces',\n",
       " 'totals.newVisits',\n",
       " 'trafficSource.adwordsClickInfo.criteriaParameters',\n",
       " 'trafficSource.isTrueDirect',\n",
       " 'trafficSource.adwordsClickInfo.isVideoAd',\n",
       " 'trafficSource.campaignCode']"
      ]
     },
     "execution_count": 13,
     "metadata": {},
     "output_type": "execute_result"
    }
   ],
   "source": [
    "cols_with_unique_value = [col \n",
    "                          for col in train_df.columns \n",
    "                          if train_df[col].nunique(dropna=True) == 1]\n",
    "cols_with_unique_value"
   ]
  },
  {
   "cell_type": "markdown",
   "metadata": {},
   "source": [
    "> * Trên lý thuyết, các cột chỉ có DUY NHẤT 1 giá trị (khác NaN) \n",
    "> thì cũng không có ý nghĩa gì khi dùng để dự đoán kết quả.\n",
    ">\n",
    "> * Do đó, ta có thể xóa các cột này để thu hẹp phạm vi dữ liệu."
   ]
  },
  {
   "cell_type": "markdown",
   "metadata": {},
   "source": [
    "Xóa các cột chỉ có 1 giá trị duy nhất"
   ]
  },
  {
   "cell_type": "code",
   "execution_count": 14,
   "metadata": {},
   "outputs": [],
   "source": [
    "# Drop columns with unique value\n",
    "train_df.drop(cols_with_unique_value, axis='columns', inplace=True)"
   ]
  },
  {
   "cell_type": "markdown",
   "metadata": {},
   "source": [
    "Khi này dữ liệu còn lại:"
   ]
  },
  {
   "cell_type": "code",
   "execution_count": 15,
   "metadata": {},
   "outputs": [
    {
     "data": {
      "text/html": [
       "<div>\n",
       "<style scoped>\n",
       "    .dataframe tbody tr th:only-of-type {\n",
       "        vertical-align: middle;\n",
       "    }\n",
       "\n",
       "    .dataframe tbody tr th {\n",
       "        vertical-align: top;\n",
       "    }\n",
       "\n",
       "    .dataframe thead th {\n",
       "        text-align: right;\n",
       "    }\n",
       "</style>\n",
       "<table border=\"1\" class=\"dataframe\">\n",
       "  <thead>\n",
       "    <tr style=\"text-align: right;\">\n",
       "      <th></th>\n",
       "      <th>channelGrouping</th>\n",
       "      <th>date</th>\n",
       "      <th>fullVisitorId</th>\n",
       "      <th>sessionId</th>\n",
       "      <th>visitId</th>\n",
       "      <th>visitNumber</th>\n",
       "      <th>visitStartTime</th>\n",
       "      <th>device.browser</th>\n",
       "      <th>device.operatingSystem</th>\n",
       "      <th>device.isMobile</th>\n",
       "      <th>...</th>\n",
       "      <th>trafficSource.campaign</th>\n",
       "      <th>trafficSource.source</th>\n",
       "      <th>trafficSource.medium</th>\n",
       "      <th>trafficSource.keyword</th>\n",
       "      <th>trafficSource.referralPath</th>\n",
       "      <th>trafficSource.adwordsClickInfo.page</th>\n",
       "      <th>trafficSource.adwordsClickInfo.slot</th>\n",
       "      <th>trafficSource.adwordsClickInfo.gclId</th>\n",
       "      <th>trafficSource.adwordsClickInfo.adNetworkType</th>\n",
       "      <th>trafficSource.adContent</th>\n",
       "    </tr>\n",
       "  </thead>\n",
       "  <tbody>\n",
       "    <tr>\n",
       "      <th>0</th>\n",
       "      <td>Organic Search</td>\n",
       "      <td>20160902</td>\n",
       "      <td>1131660440785968503</td>\n",
       "      <td>1131660440785968503_1472830385</td>\n",
       "      <td>1472830385</td>\n",
       "      <td>1</td>\n",
       "      <td>1472830385</td>\n",
       "      <td>Chrome</td>\n",
       "      <td>Windows</td>\n",
       "      <td>False</td>\n",
       "      <td>...</td>\n",
       "      <td>(not set)</td>\n",
       "      <td>google</td>\n",
       "      <td>organic</td>\n",
       "      <td>(not provided)</td>\n",
       "      <td>NaN</td>\n",
       "      <td>NaN</td>\n",
       "      <td>NaN</td>\n",
       "      <td>NaN</td>\n",
       "      <td>NaN</td>\n",
       "      <td>NaN</td>\n",
       "    </tr>\n",
       "    <tr>\n",
       "      <th>1</th>\n",
       "      <td>Organic Search</td>\n",
       "      <td>20160902</td>\n",
       "      <td>377306020877927890</td>\n",
       "      <td>377306020877927890_1472880147</td>\n",
       "      <td>1472880147</td>\n",
       "      <td>1</td>\n",
       "      <td>1472880147</td>\n",
       "      <td>Firefox</td>\n",
       "      <td>Macintosh</td>\n",
       "      <td>False</td>\n",
       "      <td>...</td>\n",
       "      <td>(not set)</td>\n",
       "      <td>google</td>\n",
       "      <td>organic</td>\n",
       "      <td>(not provided)</td>\n",
       "      <td>NaN</td>\n",
       "      <td>NaN</td>\n",
       "      <td>NaN</td>\n",
       "      <td>NaN</td>\n",
       "      <td>NaN</td>\n",
       "      <td>NaN</td>\n",
       "    </tr>\n",
       "    <tr>\n",
       "      <th>2</th>\n",
       "      <td>Organic Search</td>\n",
       "      <td>20160902</td>\n",
       "      <td>3895546263509774583</td>\n",
       "      <td>3895546263509774583_1472865386</td>\n",
       "      <td>1472865386</td>\n",
       "      <td>1</td>\n",
       "      <td>1472865386</td>\n",
       "      <td>Chrome</td>\n",
       "      <td>Windows</td>\n",
       "      <td>False</td>\n",
       "      <td>...</td>\n",
       "      <td>(not set)</td>\n",
       "      <td>google</td>\n",
       "      <td>organic</td>\n",
       "      <td>(not provided)</td>\n",
       "      <td>NaN</td>\n",
       "      <td>NaN</td>\n",
       "      <td>NaN</td>\n",
       "      <td>NaN</td>\n",
       "      <td>NaN</td>\n",
       "      <td>NaN</td>\n",
       "    </tr>\n",
       "    <tr>\n",
       "      <th>3</th>\n",
       "      <td>Organic Search</td>\n",
       "      <td>20160902</td>\n",
       "      <td>4763447161404445595</td>\n",
       "      <td>4763447161404445595_1472881213</td>\n",
       "      <td>1472881213</td>\n",
       "      <td>1</td>\n",
       "      <td>1472881213</td>\n",
       "      <td>UC Browser</td>\n",
       "      <td>Linux</td>\n",
       "      <td>False</td>\n",
       "      <td>...</td>\n",
       "      <td>(not set)</td>\n",
       "      <td>google</td>\n",
       "      <td>organic</td>\n",
       "      <td>google + online</td>\n",
       "      <td>NaN</td>\n",
       "      <td>NaN</td>\n",
       "      <td>NaN</td>\n",
       "      <td>NaN</td>\n",
       "      <td>NaN</td>\n",
       "      <td>NaN</td>\n",
       "    </tr>\n",
       "    <tr>\n",
       "      <th>4</th>\n",
       "      <td>Organic Search</td>\n",
       "      <td>20160902</td>\n",
       "      <td>27294437909732085</td>\n",
       "      <td>27294437909732085_1472822600</td>\n",
       "      <td>1472822600</td>\n",
       "      <td>2</td>\n",
       "      <td>1472822600</td>\n",
       "      <td>Chrome</td>\n",
       "      <td>Android</td>\n",
       "      <td>True</td>\n",
       "      <td>...</td>\n",
       "      <td>(not set)</td>\n",
       "      <td>google</td>\n",
       "      <td>organic</td>\n",
       "      <td>(not provided)</td>\n",
       "      <td>NaN</td>\n",
       "      <td>NaN</td>\n",
       "      <td>NaN</td>\n",
       "      <td>NaN</td>\n",
       "      <td>NaN</td>\n",
       "      <td>NaN</td>\n",
       "    </tr>\n",
       "  </tbody>\n",
       "</table>\n",
       "<p>5 rows × 31 columns</p>\n",
       "</div>"
      ],
      "text/plain": [
       "  channelGrouping      date        fullVisitorId  \\\n",
       "0  Organic Search  20160902  1131660440785968503   \n",
       "1  Organic Search  20160902   377306020877927890   \n",
       "2  Organic Search  20160902  3895546263509774583   \n",
       "3  Organic Search  20160902  4763447161404445595   \n",
       "4  Organic Search  20160902    27294437909732085   \n",
       "\n",
       "                        sessionId     visitId  visitNumber  visitStartTime  \\\n",
       "0  1131660440785968503_1472830385  1472830385            1      1472830385   \n",
       "1   377306020877927890_1472880147  1472880147            1      1472880147   \n",
       "2  3895546263509774583_1472865386  1472865386            1      1472865386   \n",
       "3  4763447161404445595_1472881213  1472881213            1      1472881213   \n",
       "4    27294437909732085_1472822600  1472822600            2      1472822600   \n",
       "\n",
       "  device.browser device.operatingSystem  device.isMobile  ...  \\\n",
       "0         Chrome                Windows            False  ...   \n",
       "1        Firefox              Macintosh            False  ...   \n",
       "2         Chrome                Windows            False  ...   \n",
       "3     UC Browser                  Linux            False  ...   \n",
       "4         Chrome                Android             True  ...   \n",
       "\n",
       "  trafficSource.campaign trafficSource.source trafficSource.medium  \\\n",
       "0              (not set)               google              organic   \n",
       "1              (not set)               google              organic   \n",
       "2              (not set)               google              organic   \n",
       "3              (not set)               google              organic   \n",
       "4              (not set)               google              organic   \n",
       "\n",
       "  trafficSource.keyword trafficSource.referralPath  \\\n",
       "0        (not provided)                        NaN   \n",
       "1        (not provided)                        NaN   \n",
       "2        (not provided)                        NaN   \n",
       "3       google + online                        NaN   \n",
       "4        (not provided)                        NaN   \n",
       "\n",
       "  trafficSource.adwordsClickInfo.page trafficSource.adwordsClickInfo.slot  \\\n",
       "0                                 NaN                                 NaN   \n",
       "1                                 NaN                                 NaN   \n",
       "2                                 NaN                                 NaN   \n",
       "3                                 NaN                                 NaN   \n",
       "4                                 NaN                                 NaN   \n",
       "\n",
       "  trafficSource.adwordsClickInfo.gclId  \\\n",
       "0                                  NaN   \n",
       "1                                  NaN   \n",
       "2                                  NaN   \n",
       "3                                  NaN   \n",
       "4                                  NaN   \n",
       "\n",
       "  trafficSource.adwordsClickInfo.adNetworkType trafficSource.adContent  \n",
       "0                                          NaN                     NaN  \n",
       "1                                          NaN                     NaN  \n",
       "2                                          NaN                     NaN  \n",
       "3                                          NaN                     NaN  \n",
       "4                                          NaN                     NaN  \n",
       "\n",
       "[5 rows x 31 columns]"
      ]
     },
     "execution_count": 15,
     "metadata": {},
     "output_type": "execute_result"
    }
   ],
   "source": [
    "train_df.head()"
   ]
  },
  {
   "cell_type": "code",
   "execution_count": 16,
   "metadata": {},
   "outputs": [
    {
     "name": "stdout",
     "output_type": "stream",
     "text": [
      "<class 'pandas.core.frame.DataFrame'>\n",
      "RangeIndex: 903653 entries, 0 to 903652\n",
      "Data columns (total 31 columns):\n",
      " #   Column                                        Non-Null Count   Dtype \n",
      "---  ------                                        --------------   ----- \n",
      " 0   channelGrouping                               903653 non-null  object\n",
      " 1   date                                          903653 non-null  int64 \n",
      " 2   fullVisitorId                                 903653 non-null  object\n",
      " 3   sessionId                                     903653 non-null  object\n",
      " 4   visitId                                       903653 non-null  int64 \n",
      " 5   visitNumber                                   903653 non-null  int64 \n",
      " 6   visitStartTime                                903653 non-null  int64 \n",
      " 7   device.browser                                903653 non-null  object\n",
      " 8   device.operatingSystem                        903653 non-null  object\n",
      " 9   device.isMobile                               903653 non-null  bool  \n",
      " 10  device.deviceCategory                         903653 non-null  object\n",
      " 11  geoNetwork.continent                          903653 non-null  object\n",
      " 12  geoNetwork.subContinent                       903653 non-null  object\n",
      " 13  geoNetwork.country                            903653 non-null  object\n",
      " 14  geoNetwork.region                             903653 non-null  object\n",
      " 15  geoNetwork.metro                              903653 non-null  object\n",
      " 16  geoNetwork.city                               903653 non-null  object\n",
      " 17  geoNetwork.networkDomain                      903653 non-null  object\n",
      " 18  totals.hits                                   903653 non-null  object\n",
      " 19  totals.pageviews                              903553 non-null  object\n",
      " 20  totals.transactionRevenue                     11515 non-null   object\n",
      " 21  trafficSource.campaign                        903653 non-null  object\n",
      " 22  trafficSource.source                          903653 non-null  object\n",
      " 23  trafficSource.medium                          903653 non-null  object\n",
      " 24  trafficSource.keyword                         400724 non-null  object\n",
      " 25  trafficSource.referralPath                    330941 non-null  object\n",
      " 26  trafficSource.adwordsClickInfo.page           21460 non-null   object\n",
      " 27  trafficSource.adwordsClickInfo.slot           21460 non-null   object\n",
      " 28  trafficSource.adwordsClickInfo.gclId          21561 non-null   object\n",
      " 29  trafficSource.adwordsClickInfo.adNetworkType  21460 non-null   object\n",
      " 30  trafficSource.adContent                       10946 non-null   object\n",
      "dtypes: bool(1), int64(4), object(26)\n",
      "memory usage: 207.7+ MB\n"
     ]
    }
   ],
   "source": [
    "train_df.info()"
   ]
  },
  {
   "cell_type": "markdown",
   "metadata": {},
   "source": [
    "> Khi này, số dòng không đổi nhưng dữ liệu chỉ còn `31 cột` và có 1 vài `entry` bị thiếu dữ liệu."
   ]
  },
  {
   "cell_type": "markdown",
   "metadata": {},
   "source": [
    "Ta lưu lại dữ liệu này để backup"
   ]
  },
  {
   "cell_type": "code",
   "execution_count": 17,
   "metadata": {},
   "outputs": [],
   "source": [
    "train_df.to_csv('../data/processed/flat_reduced_train_.csv', index=False, na_rep='None')"
   ]
  },
  {
   "cell_type": "code",
   "execution_count": 157,
   "metadata": {},
   "outputs": [],
   "source": [
    "# Đọc dữ liệu đã được làm phẳng và giảm số lượng cột (nếu cần)\n",
    "train_df = pd.read_csv('../data/processed/flat_reduced_train_.csv', dtype={'fullVisitorId': 'str'})"
   ]
  },
  {
   "cell_type": "code",
   "execution_count": 158,
   "metadata": {},
   "outputs": [
    {
     "name": "stdout",
     "output_type": "stream",
     "text": [
      "<class 'pandas.core.frame.DataFrame'>\n",
      "RangeIndex: 903653 entries, 0 to 903652\n",
      "Data columns (total 31 columns):\n",
      " #   Column                                        Non-Null Count   Dtype  \n",
      "---  ------                                        --------------   -----  \n",
      " 0   channelGrouping                               903653 non-null  object \n",
      " 1   date                                          903653 non-null  int64  \n",
      " 2   fullVisitorId                                 903653 non-null  object \n",
      " 3   sessionId                                     903653 non-null  object \n",
      " 4   visitId                                       903653 non-null  int64  \n",
      " 5   visitNumber                                   903653 non-null  int64  \n",
      " 6   visitStartTime                                903653 non-null  int64  \n",
      " 7   device.browser                                903653 non-null  object \n",
      " 8   device.operatingSystem                        903653 non-null  object \n",
      " 9   device.isMobile                               903653 non-null  bool   \n",
      " 10  device.deviceCategory                         903653 non-null  object \n",
      " 11  geoNetwork.continent                          903653 non-null  object \n",
      " 12  geoNetwork.subContinent                       903653 non-null  object \n",
      " 13  geoNetwork.country                            903653 non-null  object \n",
      " 14  geoNetwork.region                             903653 non-null  object \n",
      " 15  geoNetwork.metro                              903653 non-null  object \n",
      " 16  geoNetwork.city                               903653 non-null  object \n",
      " 17  geoNetwork.networkDomain                      903653 non-null  object \n",
      " 18  totals.hits                                   903653 non-null  int64  \n",
      " 19  totals.pageviews                              903553 non-null  float64\n",
      " 20  totals.transactionRevenue                     11515 non-null   float64\n",
      " 21  trafficSource.campaign                        903653 non-null  object \n",
      " 22  trafficSource.source                          903653 non-null  object \n",
      " 23  trafficSource.medium                          903653 non-null  object \n",
      " 24  trafficSource.keyword                         400724 non-null  object \n",
      " 25  trafficSource.referralPath                    330941 non-null  object \n",
      " 26  trafficSource.adwordsClickInfo.page           21460 non-null   float64\n",
      " 27  trafficSource.adwordsClickInfo.slot           21460 non-null   object \n",
      " 28  trafficSource.adwordsClickInfo.gclId          21561 non-null   object \n",
      " 29  trafficSource.adwordsClickInfo.adNetworkType  21460 non-null   object \n",
      " 30  trafficSource.adContent                       10946 non-null   object \n",
      "dtypes: bool(1), float64(3), int64(5), object(22)\n",
      "memory usage: 207.7+ MB\n"
     ]
    }
   ],
   "source": [
    "train_df.info()"
   ]
  },
  {
   "cell_type": "markdown",
   "metadata": {},
   "source": [
    "___"
   ]
  },
  {
   "cell_type": "markdown",
   "metadata": {},
   "source": [
    "Ta phân tích tình trạng thiếu dữ liệu của các cột còn lại"
   ]
  },
  {
   "cell_type": "code",
   "execution_count": 159,
   "metadata": {},
   "outputs": [
    {
     "data": {
      "text/html": [
       "<div>\n",
       "<style scoped>\n",
       "    .dataframe tbody tr th:only-of-type {\n",
       "        vertical-align: middle;\n",
       "    }\n",
       "\n",
       "    .dataframe tbody tr th {\n",
       "        vertical-align: top;\n",
       "    }\n",
       "\n",
       "    .dataframe thead th {\n",
       "        text-align: right;\n",
       "    }\n",
       "</style>\n",
       "<table border=\"1\" class=\"dataframe\">\n",
       "  <thead>\n",
       "    <tr style=\"text-align: right;\">\n",
       "      <th></th>\n",
       "      <th>column_name</th>\n",
       "      <th>percent_missing</th>\n",
       "    </tr>\n",
       "  </thead>\n",
       "  <tbody>\n",
       "    <tr>\n",
       "      <th>30</th>\n",
       "      <td>trafficSource.adContent</td>\n",
       "      <td>98.788694</td>\n",
       "    </tr>\n",
       "    <tr>\n",
       "      <th>20</th>\n",
       "      <td>totals.transactionRevenue</td>\n",
       "      <td>98.725728</td>\n",
       "    </tr>\n",
       "    <tr>\n",
       "      <th>26</th>\n",
       "      <td>trafficSource.adwordsClickInfo.page</td>\n",
       "      <td>97.625195</td>\n",
       "    </tr>\n",
       "    <tr>\n",
       "      <th>27</th>\n",
       "      <td>trafficSource.adwordsClickInfo.slot</td>\n",
       "      <td>97.625195</td>\n",
       "    </tr>\n",
       "    <tr>\n",
       "      <th>29</th>\n",
       "      <td>trafficSource.adwordsClickInfo.adNetworkType</td>\n",
       "      <td>97.625195</td>\n",
       "    </tr>\n",
       "    <tr>\n",
       "      <th>28</th>\n",
       "      <td>trafficSource.adwordsClickInfo.gclId</td>\n",
       "      <td>97.614018</td>\n",
       "    </tr>\n",
       "    <tr>\n",
       "      <th>25</th>\n",
       "      <td>trafficSource.referralPath</td>\n",
       "      <td>63.377425</td>\n",
       "    </tr>\n",
       "    <tr>\n",
       "      <th>24</th>\n",
       "      <td>trafficSource.keyword</td>\n",
       "      <td>55.655102</td>\n",
       "    </tr>\n",
       "    <tr>\n",
       "      <th>19</th>\n",
       "      <td>totals.pageviews</td>\n",
       "      <td>0.011066</td>\n",
       "    </tr>\n",
       "    <tr>\n",
       "      <th>1</th>\n",
       "      <td>date</td>\n",
       "      <td>0.000000</td>\n",
       "    </tr>\n",
       "    <tr>\n",
       "      <th>0</th>\n",
       "      <td>channelGrouping</td>\n",
       "      <td>0.000000</td>\n",
       "    </tr>\n",
       "    <tr>\n",
       "      <th>3</th>\n",
       "      <td>sessionId</td>\n",
       "      <td>0.000000</td>\n",
       "    </tr>\n",
       "    <tr>\n",
       "      <th>4</th>\n",
       "      <td>visitId</td>\n",
       "      <td>0.000000</td>\n",
       "    </tr>\n",
       "    <tr>\n",
       "      <th>5</th>\n",
       "      <td>visitNumber</td>\n",
       "      <td>0.000000</td>\n",
       "    </tr>\n",
       "    <tr>\n",
       "      <th>2</th>\n",
       "      <td>fullVisitorId</td>\n",
       "      <td>0.000000</td>\n",
       "    </tr>\n",
       "    <tr>\n",
       "      <th>14</th>\n",
       "      <td>geoNetwork.region</td>\n",
       "      <td>0.000000</td>\n",
       "    </tr>\n",
       "    <tr>\n",
       "      <th>13</th>\n",
       "      <td>geoNetwork.country</td>\n",
       "      <td>0.000000</td>\n",
       "    </tr>\n",
       "    <tr>\n",
       "      <th>12</th>\n",
       "      <td>geoNetwork.subContinent</td>\n",
       "      <td>0.000000</td>\n",
       "    </tr>\n",
       "    <tr>\n",
       "      <th>11</th>\n",
       "      <td>geoNetwork.continent</td>\n",
       "      <td>0.000000</td>\n",
       "    </tr>\n",
       "    <tr>\n",
       "      <th>10</th>\n",
       "      <td>device.deviceCategory</td>\n",
       "      <td>0.000000</td>\n",
       "    </tr>\n",
       "    <tr>\n",
       "      <th>9</th>\n",
       "      <td>device.isMobile</td>\n",
       "      <td>0.000000</td>\n",
       "    </tr>\n",
       "    <tr>\n",
       "      <th>8</th>\n",
       "      <td>device.operatingSystem</td>\n",
       "      <td>0.000000</td>\n",
       "    </tr>\n",
       "    <tr>\n",
       "      <th>7</th>\n",
       "      <td>device.browser</td>\n",
       "      <td>0.000000</td>\n",
       "    </tr>\n",
       "    <tr>\n",
       "      <th>6</th>\n",
       "      <td>visitStartTime</td>\n",
       "      <td>0.000000</td>\n",
       "    </tr>\n",
       "    <tr>\n",
       "      <th>21</th>\n",
       "      <td>trafficSource.campaign</td>\n",
       "      <td>0.000000</td>\n",
       "    </tr>\n",
       "    <tr>\n",
       "      <th>22</th>\n",
       "      <td>trafficSource.source</td>\n",
       "      <td>0.000000</td>\n",
       "    </tr>\n",
       "    <tr>\n",
       "      <th>18</th>\n",
       "      <td>totals.hits</td>\n",
       "      <td>0.000000</td>\n",
       "    </tr>\n",
       "    <tr>\n",
       "      <th>16</th>\n",
       "      <td>geoNetwork.city</td>\n",
       "      <td>0.000000</td>\n",
       "    </tr>\n",
       "    <tr>\n",
       "      <th>15</th>\n",
       "      <td>geoNetwork.metro</td>\n",
       "      <td>0.000000</td>\n",
       "    </tr>\n",
       "    <tr>\n",
       "      <th>17</th>\n",
       "      <td>geoNetwork.networkDomain</td>\n",
       "      <td>0.000000</td>\n",
       "    </tr>\n",
       "    <tr>\n",
       "      <th>23</th>\n",
       "      <td>trafficSource.medium</td>\n",
       "      <td>0.000000</td>\n",
       "    </tr>\n",
       "  </tbody>\n",
       "</table>\n",
       "</div>"
      ],
      "text/plain": [
       "                                     column_name  percent_missing\n",
       "30                       trafficSource.adContent        98.788694\n",
       "20                     totals.transactionRevenue        98.725728\n",
       "26           trafficSource.adwordsClickInfo.page        97.625195\n",
       "27           trafficSource.adwordsClickInfo.slot        97.625195\n",
       "29  trafficSource.adwordsClickInfo.adNetworkType        97.625195\n",
       "28          trafficSource.adwordsClickInfo.gclId        97.614018\n",
       "25                    trafficSource.referralPath        63.377425\n",
       "24                         trafficSource.keyword        55.655102\n",
       "19                              totals.pageviews         0.011066\n",
       "1                                           date         0.000000\n",
       "0                                channelGrouping         0.000000\n",
       "3                                      sessionId         0.000000\n",
       "4                                        visitId         0.000000\n",
       "5                                    visitNumber         0.000000\n",
       "2                                  fullVisitorId         0.000000\n",
       "14                             geoNetwork.region         0.000000\n",
       "13                            geoNetwork.country         0.000000\n",
       "12                       geoNetwork.subContinent         0.000000\n",
       "11                          geoNetwork.continent         0.000000\n",
       "10                         device.deviceCategory         0.000000\n",
       "9                                device.isMobile         0.000000\n",
       "8                         device.operatingSystem         0.000000\n",
       "7                                 device.browser         0.000000\n",
       "6                                 visitStartTime         0.000000\n",
       "21                        trafficSource.campaign         0.000000\n",
       "22                          trafficSource.source         0.000000\n",
       "18                                   totals.hits         0.000000\n",
       "16                               geoNetwork.city         0.000000\n",
       "15                              geoNetwork.metro         0.000000\n",
       "17                      geoNetwork.networkDomain         0.000000\n",
       "23                          trafficSource.medium         0.000000"
      ]
     },
     "execution_count": 159,
     "metadata": {},
     "output_type": "execute_result"
    }
   ],
   "source": [
    "# From: https://stackoverflow.com/questions/51070985/find-out-the-percentage-of-missing-values-in-each-column-in-the-given-dataset\n",
    "def _create_missing_value_df(df: pd.DataFrame) -> pd.DataFrame:\n",
    "    \"\"\"Create a dataframe containing information about missing values in df\"\"\"\n",
    "    percent_missing = df.isnull().sum() * 100 / df.shape[0]\n",
    "    missing_value_df = pd.DataFrame({'column_name': df.columns,\n",
    "                                     'percent_missing': percent_missing})\n",
    "    missing_value_df.reset_index(drop=True, inplace=True)\n",
    "    missing_value_df.sort_values(by='percent_missing', ascending=False, inplace=True)\n",
    "    return missing_value_df\n",
    "\n",
    "# # Check how much percentage of missing data in each colummn:\n",
    "# percent_missing = train_df.isnull().sum() * 100 / train_df.shape[0]\n",
    "# missing_value_df = pd.DataFrame({'column_name': train_df.columns,\n",
    "#                                  'percent_missing': percent_missing})\n",
    "# missing_value_df.reset_index(drop=True, inplace=True)\n",
    "# missing_value_df.sort_values(by='percent_missing', ascending=False)\n",
    "missing_value_df = _create_missing_value_df(train_df)\n",
    "missing_value_df"
   ]
  },
  {
   "cell_type": "markdown",
   "metadata": {},
   "source": [
    "Ta có thể biễu diễn dưới dạng đồ thị để dễ quan sát hơn"
   ]
  },
  {
   "cell_type": "code",
   "execution_count": 160,
   "metadata": {},
   "outputs": [
    {
     "data": {
      "image/png": "[encoded data removed]",
      "text/plain": [
       "<Figure size 600x800 with 1 Axes>"
      ]
     },
     "metadata": {},
     "output_type": "display_data"
    }
   ],
   "source": [
    "missing_value_df.sort_values(by='percent_missing', ascending=True)\\\n",
    "                    .plot.barh(x='column_name',\n",
    "                               y='percent_missing',\n",
    "                               figsize=(6, 8),\n",
    "                               title='Percentage of missing data in each column');"
   ]
  },
  {
   "cell_type": "markdown",
   "metadata": {},
   "source": [
    "## 4.5. Phân tích cụ thể từng cột bị thiếu giá trị"
   ]
  },
  {
   "cell_type": "markdown",
   "metadata": {},
   "source": [
    "* `totals.transactionRevenue`"
   ]
  },
  {
   "cell_type": "markdown",
   "metadata": {},
   "source": [
    "Ta xem các giá trị có trong cột này"
   ]
  },
  {
   "cell_type": "code",
   "execution_count": 161,
   "metadata": {},
   "outputs": [
    {
     "data": {
      "text/plain": [
       "count    1.151500e+04\n",
       "mean     1.337448e+08\n",
       "std      4.482852e+08\n",
       "min      1.000000e+04\n",
       "25%      2.493000e+07\n",
       "50%      4.945000e+07\n",
       "75%      1.076550e+08\n",
       "max      2.312950e+10\n",
       "Name: totals.transactionRevenue, dtype: float64"
      ]
     },
     "execution_count": 161,
     "metadata": {},
     "output_type": "execute_result"
    }
   ],
   "source": [
    "train_df['totals.transactionRevenue'].describe()"
   ]
  },
  {
   "cell_type": "code",
   "execution_count": 162,
   "metadata": {},
   "outputs": [
    {
     "data": {
      "text/plain": [
       "array([       nan, 3.7860e+07, 3.0667e+08, ..., 3.3526e+08, 3.0750e+07,\n",
       "       6.9390e+07])"
      ]
     },
     "execution_count": 162,
     "metadata": {},
     "output_type": "execute_result"
    }
   ],
   "source": [
    "train_df['totals.transactionRevenue'].unique()"
   ]
  },
  {
   "cell_type": "markdown",
   "metadata": {},
   "source": [
    "> Cột này thể hiện tổng giá trị giao dịch trong phiên nên ta chỉ cần \n",
    "> thay các giá trị `NaN` bằng `0`."
   ]
  },
  {
   "cell_type": "markdown",
   "metadata": {},
   "source": [
    "Điền giá trị `0` vào các entry bị trống"
   ]
  },
  {
   "cell_type": "code",
   "execution_count": 163,
   "metadata": {},
   "outputs": [],
   "source": [
    "train_df['totals.transactionRevenue'].fillna(0, inplace=True)"
   ]
  },
  {
   "cell_type": "markdown",
   "metadata": {},
   "source": [
    "* Các cột bị thiếu nhiều dữ liệu"
   ]
  },
  {
   "cell_type": "markdown",
   "metadata": {},
   "source": [
    "Các thuộc tính bị thiếu quá nhiều dữ liệu (trừ giá trị mục tiêu) thường không quá hữu ích khi dùng trong phân tích. Với từng tập dữ liệu khác nhau thì ngưỡng đặt ra cũng khác nhau. Thông thường, nếu 1 cột có hơn `75%` dữ liệu bị thiếu thì đây cột này được xem là thiếu dữ liệu trầm trọng ta sẽ ưu tiên loại bỏ nó khỏi tập dữ liệu."
   ]
  },
  {
   "cell_type": "code",
   "execution_count": 164,
   "metadata": {},
   "outputs": [],
   "source": [
    "def drop_missing_features(df: pd.DataFrame, missing_lst: dict, threshold: float = 75.0) -> pd.DataFrame:\n",
    "    \"\"\"Drop missing features from Pandas dataframe base on given threshold.\n",
    "\n",
    "    Args:\n",
    "        df (pd.DataFrame): Input dataframe for processing.\n",
    "        missing_lst (dict, optional): Dict missing value rate which calculated from previous stage. Defaults to dict(num_col_info_df.iloc[0]).\n",
    "        threshold (float, optional): User threshold for dropping. Defaults to 75.0.\n",
    "\n",
    "    Returns:\n",
    "        pd.DataFrame: Updated dataframe\n",
    "    \"\"\"\n",
    "    # YOUR CODE HERE\n",
    "    # raise NotImplementedError()\n",
    "    if (df is None) or (missing_lst is None) or (threshold is None):\n",
    "        print(f\"[LOG] Invalid.\")\n",
    "        raise ValueError\n",
    "    \n",
    "    # Create a copy of the dataframe to avoid changing the original\n",
    "    df_cp = df.copy()\n",
    "    \n",
    "    # List to maintain the columns to drop\n",
    "    cols_to_trim = []\n",
    "    \n",
    "    for key, value in missing_lst.items():\n",
    "        if float(value) > threshold:\n",
    "            cols_to_trim.append(key)\n",
    "            \n",
    "    if len(cols_to_trim) > 0:\n",
    "        # drop the columns identified using the dataframe drop() method\n",
    "        df_cp = df_cp.drop(columns=cols_to_trim)\n",
    "        print(\"[LOG] Dropped column(s): \" + \"\\n + \".join([\"\"]+cols_to_trim))\n",
    "    else:\n",
    "        print(\"[LOG] Have no column(s) to trim.\")\n",
    "        \n",
    "    return df_cp"
   ]
  },
  {
   "cell_type": "code",
   "execution_count": 165,
   "metadata": {},
   "outputs": [
    {
     "data": {
      "text/plain": [
       "(903653, 31)"
      ]
     },
     "execution_count": 165,
     "metadata": {},
     "output_type": "execute_result"
    }
   ],
   "source": [
    "train_df.shape"
   ]
  },
  {
   "cell_type": "code",
   "execution_count": 166,
   "metadata": {},
   "outputs": [
    {
     "name": "stdout",
     "output_type": "stream",
     "text": [
      "[LOG] Dropped column(s): \n",
      " + trafficSource.adContent\n",
      " + totals.transactionRevenue\n",
      " + trafficSource.adwordsClickInfo.page\n",
      " + trafficSource.adwordsClickInfo.slot\n",
      " + trafficSource.adwordsClickInfo.adNetworkType\n",
      " + trafficSource.adwordsClickInfo.gclId\n"
     ]
    }
   ],
   "source": [
    "train_df = drop_missing_features(\n",
    "    train_df, \n",
    "    {col_name: percent_missing\n",
    "     for col_name, percent_missing in zip(missing_value_df['column_name'],\n",
    "                                          missing_value_df['percent_missing'])}\n",
    ")"
   ]
  },
  {
   "cell_type": "code",
   "execution_count": 167,
   "metadata": {},
   "outputs": [
    {
     "data": {
      "text/plain": [
       "(903653, 25)"
      ]
     },
     "execution_count": 167,
     "metadata": {},
     "output_type": "execute_result"
    }
   ],
   "source": [
    "train_df.shape"
   ]
  },
  {
   "cell_type": "markdown",
   "metadata": {},
   "source": [
    "> Sau khi loại bỏ các cột bị thiếu nhiều giá trị, dữ liệu của chúng ta chỉ còn 25 cột."
   ]
  },
  {
   "cell_type": "code",
   "execution_count": 168,
   "metadata": {},
   "outputs": [
    {
     "data": {
      "text/html": [
       "<div>\n",
       "<style scoped>\n",
       "    .dataframe tbody tr th:only-of-type {\n",
       "        vertical-align: middle;\n",
       "    }\n",
       "\n",
       "    .dataframe tbody tr th {\n",
       "        vertical-align: top;\n",
       "    }\n",
       "\n",
       "    .dataframe thead th {\n",
       "        text-align: right;\n",
       "    }\n",
       "</style>\n",
       "<table border=\"1\" class=\"dataframe\">\n",
       "  <thead>\n",
       "    <tr style=\"text-align: right;\">\n",
       "      <th></th>\n",
       "      <th>column_name</th>\n",
       "      <th>percent_missing</th>\n",
       "    </tr>\n",
       "  </thead>\n",
       "  <tbody>\n",
       "    <tr>\n",
       "      <th>24</th>\n",
       "      <td>trafficSource.referralPath</td>\n",
       "      <td>63.377425</td>\n",
       "    </tr>\n",
       "    <tr>\n",
       "      <th>23</th>\n",
       "      <td>trafficSource.keyword</td>\n",
       "      <td>55.655102</td>\n",
       "    </tr>\n",
       "    <tr>\n",
       "      <th>19</th>\n",
       "      <td>totals.pageviews</td>\n",
       "      <td>0.011066</td>\n",
       "    </tr>\n",
       "    <tr>\n",
       "      <th>1</th>\n",
       "      <td>date</td>\n",
       "      <td>0.000000</td>\n",
       "    </tr>\n",
       "    <tr>\n",
       "      <th>4</th>\n",
       "      <td>visitId</td>\n",
       "      <td>0.000000</td>\n",
       "    </tr>\n",
       "    <tr>\n",
       "      <th>5</th>\n",
       "      <td>visitNumber</td>\n",
       "      <td>0.000000</td>\n",
       "    </tr>\n",
       "    <tr>\n",
       "      <th>2</th>\n",
       "      <td>fullVisitorId</td>\n",
       "      <td>0.000000</td>\n",
       "    </tr>\n",
       "    <tr>\n",
       "      <th>3</th>\n",
       "      <td>sessionId</td>\n",
       "      <td>0.000000</td>\n",
       "    </tr>\n",
       "    <tr>\n",
       "      <th>0</th>\n",
       "      <td>channelGrouping</td>\n",
       "      <td>0.000000</td>\n",
       "    </tr>\n",
       "    <tr>\n",
       "      <th>8</th>\n",
       "      <td>device.operatingSystem</td>\n",
       "      <td>0.000000</td>\n",
       "    </tr>\n",
       "    <tr>\n",
       "      <th>7</th>\n",
       "      <td>device.browser</td>\n",
       "      <td>0.000000</td>\n",
       "    </tr>\n",
       "    <tr>\n",
       "      <th>6</th>\n",
       "      <td>visitStartTime</td>\n",
       "      <td>0.000000</td>\n",
       "    </tr>\n",
       "    <tr>\n",
       "      <th>9</th>\n",
       "      <td>device.isMobile</td>\n",
       "      <td>0.000000</td>\n",
       "    </tr>\n",
       "    <tr>\n",
       "      <th>13</th>\n",
       "      <td>geoNetwork.country</td>\n",
       "      <td>0.000000</td>\n",
       "    </tr>\n",
       "    <tr>\n",
       "      <th>10</th>\n",
       "      <td>device.deviceCategory</td>\n",
       "      <td>0.000000</td>\n",
       "    </tr>\n",
       "    <tr>\n",
       "      <th>11</th>\n",
       "      <td>geoNetwork.continent</td>\n",
       "      <td>0.000000</td>\n",
       "    </tr>\n",
       "    <tr>\n",
       "      <th>12</th>\n",
       "      <td>geoNetwork.subContinent</td>\n",
       "      <td>0.000000</td>\n",
       "    </tr>\n",
       "    <tr>\n",
       "      <th>16</th>\n",
       "      <td>geoNetwork.city</td>\n",
       "      <td>0.000000</td>\n",
       "    </tr>\n",
       "    <tr>\n",
       "      <th>15</th>\n",
       "      <td>geoNetwork.metro</td>\n",
       "      <td>0.000000</td>\n",
       "    </tr>\n",
       "    <tr>\n",
       "      <th>14</th>\n",
       "      <td>geoNetwork.region</td>\n",
       "      <td>0.000000</td>\n",
       "    </tr>\n",
       "    <tr>\n",
       "      <th>17</th>\n",
       "      <td>geoNetwork.networkDomain</td>\n",
       "      <td>0.000000</td>\n",
       "    </tr>\n",
       "    <tr>\n",
       "      <th>20</th>\n",
       "      <td>trafficSource.campaign</td>\n",
       "      <td>0.000000</td>\n",
       "    </tr>\n",
       "    <tr>\n",
       "      <th>18</th>\n",
       "      <td>totals.hits</td>\n",
       "      <td>0.000000</td>\n",
       "    </tr>\n",
       "    <tr>\n",
       "      <th>22</th>\n",
       "      <td>trafficSource.medium</td>\n",
       "      <td>0.000000</td>\n",
       "    </tr>\n",
       "    <tr>\n",
       "      <th>21</th>\n",
       "      <td>trafficSource.source</td>\n",
       "      <td>0.000000</td>\n",
       "    </tr>\n",
       "  </tbody>\n",
       "</table>\n",
       "</div>"
      ],
      "text/plain": [
       "                   column_name  percent_missing\n",
       "24  trafficSource.referralPath        63.377425\n",
       "23       trafficSource.keyword        55.655102\n",
       "19            totals.pageviews         0.011066\n",
       "1                         date         0.000000\n",
       "4                      visitId         0.000000\n",
       "5                  visitNumber         0.000000\n",
       "2                fullVisitorId         0.000000\n",
       "3                    sessionId         0.000000\n",
       "0              channelGrouping         0.000000\n",
       "8       device.operatingSystem         0.000000\n",
       "7               device.browser         0.000000\n",
       "6               visitStartTime         0.000000\n",
       "9              device.isMobile         0.000000\n",
       "13          geoNetwork.country         0.000000\n",
       "10       device.deviceCategory         0.000000\n",
       "11        geoNetwork.continent         0.000000\n",
       "12     geoNetwork.subContinent         0.000000\n",
       "16             geoNetwork.city         0.000000\n",
       "15            geoNetwork.metro         0.000000\n",
       "14           geoNetwork.region         0.000000\n",
       "17    geoNetwork.networkDomain         0.000000\n",
       "20      trafficSource.campaign         0.000000\n",
       "18                 totals.hits         0.000000\n",
       "22        trafficSource.medium         0.000000\n",
       "21        trafficSource.source         0.000000"
      ]
     },
     "execution_count": 168,
     "metadata": {},
     "output_type": "execute_result"
    }
   ],
   "source": [
    "missing_value_df = _create_missing_value_df(train_df)\n",
    "missing_value_df"
   ]
  },
  {
   "cell_type": "markdown",
   "metadata": {},
   "source": [
    "#### 🔍 Ta quan sát các cột còn bị thiếu giá trị"
   ]
  },
  {
   "cell_type": "markdown",
   "metadata": {},
   "source": [
    "##### ⁂ `trafficSource.referralPath`"
   ]
  },
  {
   "cell_type": "markdown",
   "metadata": {},
   "source": [
    "Ta quan sát một vài giá trị trong cột này"
   ]
  },
  {
   "cell_type": "code",
   "execution_count": 169,
   "metadata": {},
   "outputs": [
    {
     "data": {
      "text/plain": [
       "trafficSource.referralPath\n",
       "NaN                                                                                                                                                                                                                 572712\n",
       "/                                                                                                                                                                                                                    75523\n",
       "/yt/about/                                                                                                                                                                                                           71036\n",
       "/analytics/web/                                                                                                                                                                                                      14620\n",
       "/yt/about/tr/                                                                                                                                                                                                        14599\n",
       "                                                                                                                                                                                                                     ...  \n",
       "/ads/richmedia/studio/pv2/45679610/dirty/index.html                                                                                                                                                                      1\n",
       "/ads/richmedia/studio/pv2/45529016/dirty/index.html                                                                                                                                                                      1\n",
       "/from=1015785e/bd_page_type=1/ssid=0/uid=0/pu=usm%402%2Csz%401320_2001%2Cta%40iphone_1_9.3_3_601/baiduid=39801B0966F60CD0C5500E77C58B1AE1/w=0_10_google+store/t=iphone/l=3/tc                                            1\n",
       "/from=2001a/bd_page_type=1/ssid=a7666b796e6b616e6779696e696e67b903/uid=0/pu=usm%400%2Csz%401320_1003%2Cta%40iphone_2_6.0_1_11.0/baiduid=835BE70DC9630E6554653F182F315509/w=0_10_google+app+store/t=iphone/l=3/tc         1\n",
       "/class_sections/14064/modules/9450/activities/99087                                                                                                                                                                      1\n",
       "Name: count, Length: 1476, dtype: int64"
      ]
     },
     "execution_count": 169,
     "metadata": {},
     "output_type": "execute_result"
    }
   ],
   "source": [
    "train_df['trafficSource.referralPath'].value_counts(dropna=False)"
   ]
  },
  {
   "cell_type": "markdown",
   "metadata": {},
   "source": [
    "> * [Referral Path](https://neilpatel.com/blog/referral-paths-in-google-analytics/) đề cập\n",
    "> đến đường dẫn hoặc chuỗi các trang web mà người dùng đã truy cập để đến trang web hiện tại.\n",
    ">\n",
    "> * Trong Google Analytics, `Referral Path` cho phép chúng ta xem các trang web khác đã \n",
    "> giới thiệu người dùng đến trang web của mình.\n",
    ">\n",
    "> * Thuộc tính này có hơn `60%` dữ liệu bị thiếu và ta có \n",
    "> thể gom chúng lại thành 1 nhóm."
   ]
  },
  {
   "cell_type": "code",
   "execution_count": 171,
   "metadata": {},
   "outputs": [],
   "source": [
    "# np.unique(train_df['trafficSource.referralPath'], return_counts=True)\n",
    "# train_df['trafficSource.referralPath'].fillna('Others')"
   ]
  },
  {
   "cell_type": "markdown",
   "metadata": {},
   "source": [
    "##### ⁂ `trafficSource.keyword`"
   ]
  },
  {
   "cell_type": "code",
   "execution_count": 172,
   "metadata": {},
   "outputs": [],
   "source": [
    "# TODO:"
   ]
  },
  {
   "cell_type": "markdown",
   "metadata": {},
   "source": [
    "##### ⁂ `totals.pageviews`"
   ]
  },
  {
   "cell_type": "code",
   "execution_count": 173,
   "metadata": {},
   "outputs": [],
   "source": [
    "# TODO:"
   ]
  },
  {
   "cell_type": "markdown",
   "metadata": {},
   "source": [
    "#### 🔍 Ta quan sát các cột không thiếu giá trị"
   ]
  },
  {
   "cell_type": "markdown",
   "metadata": {},
   "source": [
    "##### ⁂ `date`"
   ]
  },
  {
   "cell_type": "code",
   "execution_count": 174,
   "metadata": {},
   "outputs": [],
   "source": [
    "# TODO:"
   ]
  },
  {
   "cell_type": "markdown",
   "metadata": {},
   "source": [
    "##### ⁂ `visitId`"
   ]
  },
  {
   "cell_type": "code",
   "execution_count": 175,
   "metadata": {},
   "outputs": [],
   "source": [
    "# TODO:"
   ]
  },
  {
   "cell_type": "markdown",
   "metadata": {},
   "source": [
    "##### ⁂ `visitNumber`"
   ]
  },
  {
   "cell_type": "code",
   "execution_count": 176,
   "metadata": {},
   "outputs": [],
   "source": [
    "# TODO:"
   ]
  },
  {
   "cell_type": "markdown",
   "metadata": {},
   "source": [
    "##### ⁂ `fullVisitorId`"
   ]
  },
  {
   "cell_type": "code",
   "execution_count": 177,
   "metadata": {},
   "outputs": [],
   "source": [
    "# TODO:"
   ]
  },
  {
   "cell_type": "markdown",
   "metadata": {},
   "source": [
    "##### ⁂ `sessionId`"
   ]
  },
  {
   "cell_type": "code",
   "execution_count": 178,
   "metadata": {},
   "outputs": [],
   "source": [
    "# TODO:"
   ]
  },
  {
   "cell_type": "markdown",
   "metadata": {},
   "source": [
    "##### `channelGrouping` ✅"
   ]
  },
  {
   "cell_type": "markdown",
   "metadata": {},
   "source": [
    "✍ Phân loại `channelGrouping`:"
   ]
  },
  {
   "cell_type": "code",
   "execution_count": 179,
   "metadata": {},
   "outputs": [
    {
     "data": {
      "text/plain": [
       "channelGrouping\n",
       "Organic Search    381561\n",
       "Social            226117\n",
       "Direct            143026\n",
       "Referral          104838\n",
       "Paid Search        25326\n",
       "Affiliates         16403\n",
       "Display             6262\n",
       "(Other)              120\n",
       "Name: count, dtype: int64"
      ]
     },
     "execution_count": 179,
     "metadata": {},
     "output_type": "execute_result"
    }
   ],
   "source": [
    "train_df[\"channelGrouping\"].value_counts(dropna=False)"
   ]
  },
  {
   "cell_type": "markdown",
   "metadata": {},
   "source": [
    "> 💡 <u>*Quan sát*</u>: Thuộc tính này không bị thiếu dữ liệu và tất cả giá trị đều không cần chỉnh sửa."
   ]
  },
  {
   "cell_type": "markdown",
   "metadata": {},
   "source": [
    "##### ⌘ `device.operatingSystem`"
   ]
  },
  {
   "cell_type": "markdown",
   "metadata": {},
   "source": [
    "❓ Có bao nhiêu loại *hệ điều hành* được người dùng sử dụng và số lượng của từng loại?"
   ]
  },
  {
   "cell_type": "code",
   "execution_count": 180,
   "metadata": {},
   "outputs": [
    {
     "data": {
      "text/plain": [
       "device.operatingSystem\n",
       "Windows          350072\n",
       "Macintosh        253938\n",
       "Android          123892\n",
       "iOS              107665\n",
       "Linux             35034\n",
       "Chrome OS         26337\n",
       "(not set)          4695\n",
       "Windows Phone      1216\n",
       "Samsung             280\n",
       "BlackBerry          218\n",
       "Nintendo Wii        100\n",
       "Firefox OS           89\n",
       "Xbox                 66\n",
       "Nintendo WiiU        35\n",
       "FreeBSD               9\n",
       "Nokia                 2\n",
       "OpenBSD               2\n",
       "NTT DoCoMo            1\n",
       "Nintendo 3DS          1\n",
       "SunOS                 1\n",
       "Name: count, dtype: int64"
      ]
     },
     "execution_count": 180,
     "metadata": {},
     "output_type": "execute_result"
    }
   ],
   "source": [
    "train_df[\"device.operatingSystem\"].value_counts(dropna=False)"
   ]
  },
  {
   "cell_type": "code",
   "execution_count": 181,
   "metadata": {},
   "outputs": [
    {
     "data": {
      "image/png": "[encoded data removed]",
      "text/plain": [
       "<Figure size 640x480 with 1 Axes>"
      ]
     },
     "metadata": {},
     "output_type": "display_data"
    }
   ],
   "source": [
    "device_os = train_df[\"device.operatingSystem\"].value_counts()\n",
    "plt.pie(device_os, radius=1.2, labels=device_os.index, \n",
    "        autopct='%1.0f%%', explode=[0.01]*device_os.size);"
   ]
  },
  {
   "cell_type": "markdown",
   "metadata": {},
   "source": [
    "> 💡 <u>*Quan sát*</u>: \n",
    "> * Ta có thể kể tên một vài hệ điều hành được sử dụng phổ biến là: Windows, Macintosh, Android, v.v. \n",
    "> * Đối với các hệ điều hành không được cung cấp thông tin (not set) hoặc ít được sử dụng thì ta sẽ gom chúng thành 1 nhóm để dữ liệu ít phân tán hơn."
   ]
  },
  {
   "cell_type": "markdown",
   "metadata": {},
   "source": [
    "🔨 Gom các hệ điều hành không được cung cấp thông tin và ít được sử dụng thành 1 nhóm"
   ]
  },
  {
   "cell_type": "code",
   "execution_count": 182,
   "metadata": {},
   "outputs": [
    {
     "data": {
      "text/plain": [
       "device.operatingSystem\n",
       "Windows      350072\n",
       "Macintosh    253938\n",
       "Android      123892\n",
       "iOS          107665\n",
       "Linux         35034\n",
       "Chrome OS     26337\n",
       "Others         6715\n",
       "Name: count, dtype: int64"
      ]
     },
     "execution_count": 182,
     "metadata": {},
     "output_type": "execute_result"
    }
   ],
   "source": [
    "# List of frequent operating systems\n",
    "freq_os = ['Windows', 'Macintosh', 'Android', 'iOS', 'Linux', 'Chrome OS']\n",
    "\n",
    "# Replace the operating systems other than the frequent ones with 'Others'\n",
    "train_df.loc[\n",
    "    ~train_df['device.operatingSystem'].isin(freq_os),\n",
    "    'device.operatingSystem'\n",
    "] = 'Others'\n",
    "\n",
    "# Check the result\n",
    "train_df['device.operatingSystem'].value_counts(dropna=False)"
   ]
  },
  {
   "cell_type": "markdown",
   "metadata": {},
   "source": [
    "##### ⁂ `device.browser`"
   ]
  },
  {
   "cell_type": "code",
   "execution_count": 183,
   "metadata": {},
   "outputs": [],
   "source": [
    "# TODO:"
   ]
  },
  {
   "cell_type": "markdown",
   "metadata": {},
   "source": [
    "##### ⁂ `visitStartTime`"
   ]
  },
  {
   "cell_type": "code",
   "execution_count": 184,
   "metadata": {},
   "outputs": [],
   "source": [
    "# TODO:"
   ]
  },
  {
   "cell_type": "markdown",
   "metadata": {},
   "source": [
    "##### ⁂ `device.isMobile`"
   ]
  },
  {
   "cell_type": "code",
   "execution_count": 185,
   "metadata": {},
   "outputs": [],
   "source": [
    "# TODO:"
   ]
  },
  {
   "cell_type": "markdown",
   "metadata": {},
   "source": [
    "##### ⁂ `geoNetwork.country`"
   ]
  },
  {
   "cell_type": "code",
   "execution_count": 186,
   "metadata": {},
   "outputs": [],
   "source": [
    "# TODO:"
   ]
  },
  {
   "cell_type": "markdown",
   "metadata": {},
   "source": [
    "##### `device.deviceCategory` ✅"
   ]
  },
  {
   "cell_type": "markdown",
   "metadata": {},
   "source": [
    "✍ Phân loại `device.deviceCategory`:"
   ]
  },
  {
   "cell_type": "code",
   "execution_count": 187,
   "metadata": {},
   "outputs": [
    {
     "data": {
      "text/plain": [
       "device.deviceCategory\n",
       "desktop    664479\n",
       "mobile     208725\n",
       "tablet      30449\n",
       "Name: count, dtype: int64"
      ]
     },
     "execution_count": 187,
     "metadata": {},
     "output_type": "execute_result"
    }
   ],
   "source": [
    "train_df[\"device.deviceCategory\"].value_counts(dropna=False)"
   ]
  },
  {
   "cell_type": "markdown",
   "metadata": {},
   "source": [
    "> 💡 <u>*Quan sát*</u>: Thuộc tính này không bị thiếu dữ liệu và tất cả giá trị đều \"dễ hiểu\" nên ta không cần chỉnh sửa."
   ]
  },
  {
   "cell_type": "markdown",
   "metadata": {},
   "source": [
    "##### ⁂ `geoNetwork.continent`"
   ]
  },
  {
   "cell_type": "code",
   "execution_count": 188,
   "metadata": {},
   "outputs": [],
   "source": [
    "# TODO:"
   ]
  },
  {
   "cell_type": "markdown",
   "metadata": {},
   "source": [
    "##### ⁂ `geoNetwork.subContinent`"
   ]
  },
  {
   "cell_type": "code",
   "execution_count": 189,
   "metadata": {},
   "outputs": [],
   "source": [
    "# TODO:"
   ]
  },
  {
   "cell_type": "markdown",
   "metadata": {},
   "source": [
    "##### ⁂ `geoNetwork.city`"
   ]
  },
  {
   "cell_type": "code",
   "execution_count": 190,
   "metadata": {},
   "outputs": [],
   "source": [
    "# TODO:"
   ]
  },
  {
   "cell_type": "markdown",
   "metadata": {},
   "source": [
    "##### 🤔 `geoNetwork.metro`"
   ]
  },
  {
   "cell_type": "markdown",
   "metadata": {},
   "source": [
    "🎨 Quan sát các giá trị (phân loại) khác nhau và tỉ trọng của chúng "
   ]
  },
  {
   "cell_type": "code",
   "execution_count": 219,
   "metadata": {},
   "outputs": [
    {
     "data": {
      "image/png": "[encoded data removed]",
      "text/plain": [
       "<Figure size 640x480 with 1 Axes>"
      ]
     },
     "metadata": {},
     "output_type": "display_data"
    }
   ],
   "source": [
    "train_df[\"geoNetwork.metro\"].value_counts(dropna=False)\\\n",
    "    .plot.pie(radius=1.2, autopct='%1.0f%%',\n",
    "              ylabel='');"
   ]
  },
  {
   "cell_type": "markdown",
   "metadata": {},
   "source": [
    "> 📝 <u>*Nhận xét:*</u>\n",
    "> * Hai giá trị xuất hiện nhiều nhất là `not available in demo dataset` và `(not set)`. Trên lý thuyết thì cả hai giá trị này đều không đóng góp quá nhiều vào việc giúp ta hiểu hơn về dữ liệu.\n",
    ">\n",
    "> * Hơn thế nữa, tổng tỉ trọng của 2 giá trị trên chiếm khoảng *78%* giá trị trong thuộc tính ta đang xem xét, đây là con số khá lớn. \n",
    ">\n",
    "> * Với việc có khoảng 80% giá trị của một cột không có quá nhiều ý nghĩa thì ta có thể <u>***cân nhắc***</u> việc bỏ cột này khỏi tập dữ liệu."
   ]
  },
  {
   "cell_type": "code",
   "execution_count": 191,
   "metadata": {},
   "outputs": [],
   "source": [
    "# TODO:"
   ]
  },
  {
   "cell_type": "markdown",
   "metadata": {},
   "source": [
    "##### ⁂ `geoNetwork.region`"
   ]
  },
  {
   "cell_type": "code",
   "execution_count": 192,
   "metadata": {},
   "outputs": [],
   "source": [
    "# TODO:"
   ]
  },
  {
   "cell_type": "markdown",
   "metadata": {},
   "source": [
    "##### ⁂ `geoNetwork.networkDomain`"
   ]
  },
  {
   "cell_type": "code",
   "execution_count": 193,
   "metadata": {},
   "outputs": [],
   "source": [
    "# TODO:"
   ]
  },
  {
   "cell_type": "markdown",
   "metadata": {},
   "source": [
    "##### ⁂ `trafficSource.campaign`"
   ]
  },
  {
   "cell_type": "code",
   "execution_count": 194,
   "metadata": {},
   "outputs": [],
   "source": [
    "# TODO:"
   ]
  },
  {
   "cell_type": "markdown",
   "metadata": {},
   "source": [
    "##### ⁂ `totals.hits`"
   ]
  },
  {
   "cell_type": "code",
   "execution_count": 195,
   "metadata": {},
   "outputs": [],
   "source": [
    "# TODO:"
   ]
  },
  {
   "cell_type": "markdown",
   "metadata": {},
   "source": [
    "##### ⌘ `trafficSource.medium`"
   ]
  },
  {
   "cell_type": "markdown",
   "metadata": {},
   "source": [
    "✍ Phân loại `trafficSource.medium`:"
   ]
  },
  {
   "cell_type": "code",
   "execution_count": 196,
   "metadata": {},
   "outputs": [
    {
     "data": {
      "text/plain": [
       "trafficSource.medium\n",
       "organic      381561\n",
       "referral     330955\n",
       "(none)       143026\n",
       "cpc           25326\n",
       "affiliate     16403\n",
       "cpm            6262\n",
       "(not set)       120\n",
       "Name: count, dtype: int64"
      ]
     },
     "execution_count": 196,
     "metadata": {},
     "output_type": "execute_result"
    }
   ],
   "source": [
    "train_df[\"trafficSource.medium\"].value_counts(dropna=False)"
   ]
  },
  {
   "cell_type": "markdown",
   "metadata": {},
   "source": [
    "> 💡 <u>Quan sát</u>:\n",
    "> * Ban đầu ta sẽ nghĩ `(none)` và `(not set)` là giống nhau, nhưng theo bài viết [Direct/None Traffic in Google Analytics 4](https://www.optizent.com/blog/direct-none-traffic-in-google-analytics-4-understanding-the-different-types/): \n",
    ">   * \"None/Direct web traffic\" là thuật ngữ chỉ lượng truy cập của người dùng vào một trang web mà không qua bất kỳ website trung gian (referral source) nào. \"Direct traffic\" gồm 2 hình thức phổ biến nhất là: nhập URL vào thanh tìm kiếm và dùng bookmarks, và một vài hình thức khác.\n",
    ">   * Theo một [bài viết khác](https://social.colostate.edu/best-practices/understanding-traffic-source-and-medium-in-google-analytics/#:~:text=If%20Google%20Analytics%20is%20unable%20to%20bucket%20your%20traffic%20into%20any%20of%20the%20above%2Dmentioned%20media%2C%20it%20will%20be%20categorized%20as%20Direct%20traffic.%20SEO%20research%20over%20the%20years%20has%20indicated%20that%20up%20to%2060%25%20of%20the%20traffic%20reported%20as%20Direct%20could%20actually%20be%20organic%20traffic.), có tới 60% lưu lượng truy cập được phân loại \"Direct\" thì thực sự là \"organic\". Nhưng trong bài tập này ta chỉ (đơn giản) xem chúng là 2 nhóm khác nhau. \n",
    ">\n",
    "> * Như vậy, ta sẽ đổi giá trị `(none)` trong cột này sang một cái tên có ý nghĩa hơn là `direct` và đổi giá trị `(not set)` thành `others`."
   ]
  },
  {
   "cell_type": "markdown",
   "metadata": {},
   "source": [
    "🔨 Chuyển giá trị `(none)` $\\to$ `direct` và `(not set)` $\\to$ `others`"
   ]
  },
  {
   "cell_type": "code",
   "execution_count": 197,
   "metadata": {},
   "outputs": [],
   "source": [
    "# Change some trafficSource.medium column's names\n",
    "train_df[\"trafficSource.medium\"].replace({\n",
    "    \"(none)\": \"direct\",\n",
    "    \"(not set)\": \"others\"\n",
    "}, inplace=True)"
   ]
  },
  {
   "cell_type": "code",
   "execution_count": 239,
   "metadata": {},
   "outputs": [
    {
     "data": {
      "image/png": "[encoded data removed]",
      "text/plain": [
       "<Figure size 640x480 with 1 Axes>"
      ]
     },
     "metadata": {},
     "output_type": "display_data"
    }
   ],
   "source": [
    "train_df[\"trafficSource.medium\"].value_counts(dropna=False)\\\n",
    "    .plot.pie(radius=1.2, autopct='%1.0f%%', ylabel='', pctdistance=0.8,\n",
    "              explode=[0.01]*train_df[\"trafficSource.medium\"].nunique());"
   ]
  },
  {
   "cell_type": "markdown",
   "metadata": {},
   "source": [
    "##### ⁂ `trafficSource.source`"
   ]
  },
  {
   "cell_type": "code",
   "execution_count": 199,
   "metadata": {},
   "outputs": [],
   "source": [
    "# TODO:"
   ]
  },
  {
   "cell_type": "markdown",
   "metadata": {},
   "source": [
    "# --- BREAK ---"
   ]
  },
  {
   "cell_type": "code",
   "execution_count": 201,
   "metadata": {},
   "outputs": [
    {
     "data": {
      "text/plain": [
       "Index(['channelGrouping', 'date', 'fullVisitorId', 'sessionId', 'visitId',\n",
       "       'visitNumber', 'visitStartTime', 'device.browser',\n",
       "       'device.operatingSystem', 'device.isMobile', 'device.deviceCategory',\n",
       "       'geoNetwork.continent', 'geoNetwork.subContinent', 'geoNetwork.country',\n",
       "       'geoNetwork.region', 'geoNetwork.metro', 'geoNetwork.city',\n",
       "       'geoNetwork.networkDomain', 'totals.hits', 'totals.pageviews',\n",
       "       'trafficSource.campaign', 'trafficSource.source',\n",
       "       'trafficSource.medium', 'trafficSource.keyword',\n",
       "       'trafficSource.referralPath'],\n",
       "      dtype='object')"
      ]
     },
     "execution_count": 201,
     "metadata": {},
     "output_type": "execute_result"
    }
   ],
   "source": [
    "train_df.columns"
   ]
  },
  {
   "cell_type": "code",
   "execution_count": 258,
   "metadata": {},
   "outputs": [
    {
     "data": {
      "text/plain": [
       "trafficSource.campaign\n",
       "(not set)                                          865347\n",
       "Data Share Promo                                    16403\n",
       "AW - Dynamic Search Ads Whole Site                  14244\n",
       "AW - Accessories                                     7070\n",
       "test-liyuhz                                           392\n",
       "AW - Electronics                                       96\n",
       "Retail (DO NOT EDIT owners nophakun and tianyu)        50\n",
       "AW - Apparel                                           46\n",
       "All Products                                            4\n",
       "Data Share                                              1\n",
       "Name: count, dtype: int64"
      ]
     },
     "execution_count": 258,
     "metadata": {},
     "output_type": "execute_result"
    }
   ],
   "source": [
    "# print()\n",
    "\n",
    "# display all rows\n",
    "pd.set_option('display.max_rows', None)\n",
    "train_df[\"trafficSource.campaign\"].value_counts(dropna=False)"
   ]
  },
  {
   "cell_type": "code",
   "execution_count": 259,
   "metadata": {},
   "outputs": [
    {
     "data": {
      "image/png": "[encoded data removed]",
      "text/plain": [
       "<Figure size 640x480 with 1 Axes>"
      ]
     },
     "metadata": {},
     "output_type": "display_data"
    }
   ],
   "source": [
    "train_df[\"trafficSource.campaign\"].value_counts(dropna=False)\\\n",
    "    .plot.pie(radius=2., autopct='%1.00f%%', ylabel='',\n",
    "              pctdistance=0.8,\n",
    "              explode=[0.01]*train_df[\"trafficSource.campaign\"].nunique());"
   ]
  }
 ],
 "metadata": {
  "kernelspec": {
   "display_name": "min_ds-env",
   "language": "python",
   "name": "python3"
  },
  "language_info": {
   "codemirror_mode": {
    "name": "ipython",
    "version": 3
   },
   "file_extension": ".py",
   "mimetype": "text/x-python",
   "name": "python",
   "nbconvert_exporter": "python",
   "pygments_lexer": "ipython3",
   "version": "3.11.6"
  }
 },
 "nbformat": 4,
 "nbformat_minor": 2
}
