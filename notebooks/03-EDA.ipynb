{
 "cells": [
  {
   "cell_type": "markdown",
   "metadata": {},
   "source": [
    "<link rel=\"stylesheet\" href=\"https://fonts.googleapis.com/css?family=Sofia\">\n",
    "<style>\n",
    "  @import url('https://fonts.googleapis.com/css2?family=Concert+One&display=swap');\n",
    "  .topic {\n",
    "    text-align: center;\n",
    "    font-weight: 900;\n",
    "    font-size: 50px;\n",
    "    text-shadow: 3px 3px 3px #ababab;\n",
    "    font-family: 'Concert One', sans-serif;\n",
    "  }\n",
    "  @import url('https://fonts.googleapis.com/css2?family=Lobster&display=swap');\n",
    "  .info {\n",
    "    text-align: center;\n",
    "    font-weight: 800;\n",
    "    font-size: 40px;\n",
    "    font-family: 'Lobster', sans-serif;\n",
    "  }\n",
    "</style>\n",
    "\n",
    "<h1 class=topic>Google Analytics Customer Revenue Prediction</h1>\n",
    "<h2 class=info>Vũ Minh Phát - 21127739</h2>\n",
    "\n",
    "___"
   ]
  },
  {
   "cell_type": "code",
   "execution_count": null,
   "metadata": {},
   "outputs": [],
   "source": []
  }
 ],
 "metadata": {
  "language_info": {
   "name": "python"
  }
 },
 "nbformat": 4,
 "nbformat_minor": 2
}
